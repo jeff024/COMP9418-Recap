{
 "cells": [
  {
   "cell_type": "markdown",
   "source": [
    "[![Open In Colab](https://colab.research.google.com/assets/colab-badge.svg)](https://colab.research.google.com/github/UNSW-COMP9418/Week01/blob/main/COMP9418_W01_Graph_Representation_Traversal_MST.ipynb)\r\n",
    "\r\n",
    "# Graph Representation, Traversal and MST\r\n",
    "\r\n",
    "**COMP9418-21T3, W01 Tutorial**\r\n",
    "\r\n",
    "- Instructor: Gustavo Batista\r\n",
    "- School of Computer Science and Engineering, UNSW Sydney\r\n",
    "- Notebook designed by Gustavo Batista and Jeremy Gillen\r\n",
    "- Last Update 18th August 2021"
   ],
   "metadata": {}
  },
  {
   "cell_type": "markdown",
   "source": [
    "In this week's tutorial, we will review some concepts an algorithms for graph representation, traversal and Minimum Spanning Trees (MST) that will be useful during the course.\r\n",
    "\r\n",
    "## Technical prerequisites\r\n",
    "\r\n",
    "We will use Jupyter Notebooks in the practical part of the tutorials. There are three main ways to run these notebooks:\r\n",
    "\r\n",
    "1. *Google Colab*. The links available in WebCMS will open the course notebooks in [Google Colab](https://colab.research.google.com/). Google Colab has all the packages necessary to run these notebooks, so no installation is required. **This is our prefered approach**.\r\n",
    "\r\n",
    "2. *CSE VLAB*. We have installed the necessary packages in the CSE computers. You have to copy the notebook to your CSE account in VLAB to execute them. There are two possibilities to access VLAB. The most recommended is installing a [VNC software](https://taggi.cse.unsw.edu.au/FAQ/Really_quick_guide_to_VLAB/) in your computer. Alternatively, you can access these computers through a web interface using [CSE VLAB Gateway](https://vlabgateway.cse.unsw.edu.au/).\r\n",
    "\r\n",
    "3. *Your computer*. If you do not have Jupyter installed in your computer, we recommend installing [Anaconda](https://www.anaconda.com/distribution). Anaconda conveniently installs Python, the Jupyter Notebook, and other commonly used packages for scientific computing and data science. To render a graphical visualization of some graphs in this notebook, you also need to [install Graphviz](http://www.graphviz.org/download). If you have conda installed in your computer, you can try the command ```conda install python-graphviz``` directly. From our experience, Graphviz is a little troublesome to install in some systems. For instance, ```conda install python-graphviz``` often does not work on Linux systems and we did not have any success using ```pip3 install graphviz``` on most systems, so do *not* use ```pip3```.\r\n",
    "\r\n",
    "Once we have done all that, we import Graphviz, and heapq modules for later use."
   ],
   "metadata": {}
  },
  {
   "cell_type": "code",
   "execution_count": 1,
   "source": [
    "# Visualise our graph\r\n",
    "import graphviz\r\n",
    "# Priority queue for Prim algorithm\r\n",
    "import heapq as pq"
   ],
   "outputs": [],
   "metadata": {
    "scrolled": true
   }
  },
  {
   "cell_type": "markdown",
   "source": [
    "## Representing graphs\r\n",
    "\r\n",
    "We will not use any particular library for representing graphs in Python. Instead, we will represent a graph structure as a dictionary whose keys are the nodes of the graph. For each key, the corresponding value is a list. The list contains the nodes that are directly connected to this node.\r\n",
    "\r\n",
    "For instance, the following graph:\r\n",
    "\r\n",
    "![Graph example](img/example_graph.png \"Graph example\")\r\n",
    "\r\n",
    "can be represented as\r\n",
    "\r\n",
    "```\r\n",
    "graph = {\r\n",
    "    0: [2],\r\n",
    "    1: [0],\r\n",
    "    2: [1],\r\n",
    "    3: [1, 2],\r\n",
    "}\r\n",
    "```\r\n",
    "\r\n",
    "This representation is an adjacency list. If you'd like to read more about this style of graphs, there is more\r\n",
    "[information on the python website](https://www.python.org/doc/essays/graphs/)."
   ],
   "metadata": {}
  },
  {
   "cell_type": "markdown",
   "source": [
    "### Exercise\n",
    "\n",
    "Now, it is your turn. Represent the following directed graph using the suggested adjacency list representation.\n",
    "\n",
    "![Graph exercise](img/exercise_graph.png \"Graph exercise\")"
   ],
   "metadata": {}
  },
  {
   "cell_type": "code",
   "execution_count": 2,
   "source": [
    "graph = {\r\n",
    "    0: [3],\r\n",
    "    1: [0,4],\r\n",
    "    2: [1,4],\r\n",
    "    3: [1],\r\n",
    "    4: [3],\r\n",
    "    5: [2,4],\r\n",
    "}"
   ],
   "outputs": [],
   "metadata": {}
  },
  {
   "cell_type": "markdown",
   "source": [
    "## Graphviz\n",
    "\n",
    "We can use the Graphviz library to inspect our graphs visually. \n",
    "\n",
    "The following code will convert your digraph to a Graphviz object and render it."
   ],
   "metadata": {}
  },
  {
   "cell_type": "code",
   "execution_count": 3,
   "source": [
    "dot = graphviz.Digraph(engine=\"neato\", comment='Direct graph example')\r\n",
    "dot.attr(overlap=\"false\", splines=\"true\")\r\n",
    "\r\n",
    "# List of positions for each node\r\n",
    "# We use node positions to replicate the previous figure\r\n",
    "# This can be removed if the nodes do not need to be presented in a specific order\r\n",
    "pos = {\r\n",
    "    0: '0,1!',\r\n",
    "    1: '1,1!',\r\n",
    "    2: '2,1!',\r\n",
    "    3: '0,0!',\r\n",
    "    4: '1,0!',\r\n",
    "    5: '2,0!',\r\n",
    "}\r\n",
    "\r\n",
    "for v in graph.keys():\r\n",
    "    dot.node(str(v), pos=pos[v])\r\n",
    "    # dot.node(str(v))              # Use this line instead of the previous one to position the nodes in random order\r\n",
    "\r\n",
    "for v in graph.keys():\r\n",
    "    for w in graph[v]:\r\n",
    "        dot.edge(str(v), str(w))\r\n",
    "\r\n",
    "dot"
   ],
   "outputs": [
    {
     "output_type": "execute_result",
     "data": {
      "image/svg+xml": "<?xml version=\"1.0\" encoding=\"UTF-8\" standalone=\"no\"?>\r\n<!DOCTYPE svg PUBLIC \"-//W3C//DTD SVG 1.1//EN\"\r\n \"http://www.w3.org/Graphics/SVG/1.1/DTD/svg11.dtd\">\r\n<!-- Generated by graphviz version 2.38.0 (20140413.2041)\r\n -->\r\n<!-- Title: %3 Pages: 1 -->\r\n<svg width=\"186pt\" height=\"106pt\"\r\n viewBox=\"0.00 0.00 186.01 106.01\" xmlns=\"http://www.w3.org/2000/svg\" xmlns:xlink=\"http://www.w3.org/1999/xlink\">\r\n<g id=\"graph0\" class=\"graph\" transform=\"scale(1 1) rotate(0) translate(93.0062 53.0031)\">\r\n<title>%3</title>\r\n<polygon fill=\"white\" stroke=\"none\" points=\"-93.0062,53.0031 -93.0062,-53.0031 93.0062,-53.0031 93.0062,53.0031 -93.0062,53.0031\"/>\r\n<!-- 0 -->\r\n<g id=\"node1\" class=\"node\"><title>0</title>\r\n<ellipse fill=\"none\" stroke=\"black\" cx=\"-62.0062\" cy=\"-31.0031\" rx=\"27\" ry=\"18\"/>\r\n<text text-anchor=\"middle\" x=\"-62.0062\" y=\"-27.3031\" font-family=\"Times New Roman,serif\" font-size=\"14.00\">0</text>\r\n</g>\r\n<!-- 3 -->\r\n<g id=\"node4\" class=\"node\"><title>3</title>\r\n<ellipse fill=\"none\" stroke=\"black\" cx=\"-62.0062\" cy=\"31.0031\" rx=\"27\" ry=\"18\"/>\r\n<text text-anchor=\"middle\" x=\"-62.0062\" y=\"34.7031\" font-family=\"Times New Roman,serif\" font-size=\"14.00\">3</text>\r\n</g>\r\n<!-- 0&#45;&gt;3 -->\r\n<g id=\"edge1\" class=\"edge\"><title>0&#45;&gt;3</title>\r\n<path fill=\"none\" stroke=\"black\" d=\"M-62.0062,-12.7346C-62.0062,-7.98337 -62.0062,-2.74924 -62.0062,2.39634\"/>\r\n<polygon fill=\"black\" stroke=\"black\" points=\"-58.5061,2.6509 -62.0062,12.6509 -65.5061,2.65084 -58.5061,2.6509\"/>\r\n</g>\r\n<!-- 1 -->\r\n<g id=\"node2\" class=\"node\"><title>1</title>\r\n<ellipse fill=\"none\" stroke=\"black\" cx=\"0\" cy=\"-31.0031\" rx=\"27\" ry=\"18\"/>\r\n<text text-anchor=\"middle\" x=\"0\" y=\"-27.3031\" font-family=\"Times New Roman,serif\" font-size=\"14.00\">1</text>\r\n</g>\r\n<!-- 1&#45;&gt;0 -->\r\n<g id=\"edge2\" class=\"edge\"><title>1&#45;&gt;0</title>\r\n<path fill=\"none\" stroke=\"black\" d=\"M-27.0164,-31.0031C-27.1796,-31.0031 -27.343,-31.0031 -27.5064,-31.0031\"/>\r\n<polygon fill=\"black\" stroke=\"black\" points=\"-24.8883,-27.5032 -34.8883,-31.0031 -24.8884,-34.5032 -24.8883,-27.5032\"/>\r\n</g>\r\n<!-- 4 -->\r\n<g id=\"node5\" class=\"node\"><title>4</title>\r\n<ellipse fill=\"none\" stroke=\"black\" cx=\"0\" cy=\"31.0031\" rx=\"27\" ry=\"18\"/>\r\n<text text-anchor=\"middle\" x=\"0\" y=\"34.7031\" font-family=\"Times New Roman,serif\" font-size=\"14.00\">4</text>\r\n</g>\r\n<!-- 1&#45;&gt;4 -->\r\n<g id=\"edge3\" class=\"edge\"><title>1&#45;&gt;4</title>\r\n<path fill=\"none\" stroke=\"black\" d=\"M0,-12.7346C0,-7.98337 0,-2.74924 0,2.39634\"/>\r\n<polygon fill=\"black\" stroke=\"black\" points=\"3.5001,2.6509 0,12.6509 -3.4999,2.65084 3.5001,2.6509\"/>\r\n</g>\r\n<!-- 2 -->\r\n<g id=\"node3\" class=\"node\"><title>2</title>\r\n<ellipse fill=\"none\" stroke=\"black\" cx=\"62.0062\" cy=\"-31.0031\" rx=\"27\" ry=\"18\"/>\r\n<text text-anchor=\"middle\" x=\"62.0062\" y=\"-27.3031\" font-family=\"Times New Roman,serif\" font-size=\"14.00\">2</text>\r\n</g>\r\n<!-- 2&#45;&gt;1 -->\r\n<g id=\"edge4\" class=\"edge\"><title>2&#45;&gt;1</title>\r\n<path fill=\"none\" stroke=\"black\" d=\"M34.9898,-31.0031C34.8266,-31.0031 34.6632,-31.0031 34.4998,-31.0031\"/>\r\n<polygon fill=\"black\" stroke=\"black\" points=\"37.1179,-27.5032 27.1179,-31.0031 37.1178,-34.5032 37.1179,-27.5032\"/>\r\n</g>\r\n<!-- 2&#45;&gt;4 -->\r\n<g id=\"edge5\" class=\"edge\"><title>2&#45;&gt;4</title>\r\n<path fill=\"none\" stroke=\"black\" d=\"M46.9962,-15.9931C39.642,-8.63888 30.6344,0.36872 22.4798,8.52335\"/>\r\n<polygon fill=\"black\" stroke=\"black\" points=\"24.8485,11.1044 15.3025,15.7006 19.8987,6.15461 24.8485,11.1044\"/>\r\n</g>\r\n<!-- 3&#45;&gt;1 -->\r\n<g id=\"edge6\" class=\"edge\"><title>3&#45;&gt;1</title>\r\n<path fill=\"none\" stroke=\"black\" d=\"M-46.9962,15.9931C-39.642,8.63888 -30.6344,-0.36872 -22.4798,-8.52335\"/>\r\n<polygon fill=\"black\" stroke=\"black\" points=\"-24.8485,-11.1044 -15.3025,-15.7006 -19.8987,-6.15461 -24.8485,-11.1044\"/>\r\n</g>\r\n<!-- 4&#45;&gt;3 -->\r\n<g id=\"edge7\" class=\"edge\"><title>4&#45;&gt;3</title>\r\n<path fill=\"none\" stroke=\"black\" d=\"M-27.0164,31.0031C-27.1796,31.0031 -27.343,31.0031 -27.5064,31.0031\"/>\r\n<polygon fill=\"black\" stroke=\"black\" points=\"-24.8883,34.503 -34.8883,31.0031 -24.8884,27.503 -24.8883,34.503\"/>\r\n</g>\r\n<!-- 5 -->\r\n<g id=\"node6\" class=\"node\"><title>5</title>\r\n<ellipse fill=\"none\" stroke=\"black\" cx=\"62.0062\" cy=\"31.0031\" rx=\"27\" ry=\"18\"/>\r\n<text text-anchor=\"middle\" x=\"62.0062\" y=\"34.7031\" font-family=\"Times New Roman,serif\" font-size=\"14.00\">5</text>\r\n</g>\r\n<!-- 5&#45;&gt;2 -->\r\n<g id=\"edge8\" class=\"edge\"><title>5&#45;&gt;2</title>\r\n<path fill=\"none\" stroke=\"black\" d=\"M62.0062,12.7346C62.0062,7.98337 62.0062,2.74924 62.0062,-2.39634\"/>\r\n<polygon fill=\"black\" stroke=\"black\" points=\"58.5063,-2.65084 62.0062,-12.6509 65.5063,-2.6509 58.5063,-2.65084\"/>\r\n</g>\r\n<!-- 5&#45;&gt;4 -->\r\n<g id=\"edge9\" class=\"edge\"><title>5&#45;&gt;4</title>\r\n<path fill=\"none\" stroke=\"black\" d=\"M34.9898,31.0031C34.8266,31.0031 34.6632,31.0031 34.4998,31.0031\"/>\r\n<polygon fill=\"black\" stroke=\"black\" points=\"37.1179,34.503 27.1179,31.0031 37.1178,27.503 37.1179,34.503\"/>\r\n</g>\r\n</g>\r\n</svg>\r\n",
      "text/plain": [
       "<graphviz.dot.Digraph at 0x1fda1766348>"
      ]
     },
     "metadata": {},
     "execution_count": 3
    }
   ],
   "metadata": {}
  },
  {
   "cell_type": "markdown",
   "source": [
    "## Graph class\n",
    "\n",
    "To keep our code clean and put all of the graph related functions in one place,\n",
    "we can wrap this graph data structure in a class."
   ],
   "metadata": {}
  },
  {
   "cell_type": "code",
   "execution_count": 4,
   "source": [
    "class Graph:\r\n",
    "    def __init__(self, adj_list=None):\r\n",
    "        self.adj_list = dict()\r\n",
    "        if adj_list is not None:\r\n",
    "            self.adj_list = adj_list.copy() # dict with graph's adjacency list\r\n",
    "        self.colour = dict()"
   ],
   "outputs": [],
   "metadata": {}
  },
  {
   "cell_type": "code",
   "execution_count": 5,
   "source": [
    "class Graph(Graph):\r\n",
    "    def show(self, directed=True, positions=None):\r\n",
    "        \"\"\"\r\n",
    "        Prints a graphical visualisation of the graph usign GraphViz\r\n",
    "        arguments:\r\n",
    "            `directed`, True if the graph is directed, False if the graph is undirected\r\n",
    "            `pos: dictionary`, with nodes as keys and positions as values\r\n",
    "        return:\r\n",
    "            GraphViz object\r\n",
    "        \"\"\"\r\n",
    "        if directed:\r\n",
    "            dot = graphviz.Digraph(engine=\"neato\", comment='Directed graph')\r\n",
    "        else:\r\n",
    "            dot = graphviz.Graph(engine=\"neato\", comment='Undirected graph', strict=True)        \r\n",
    "        dot.attr(overlap=\"false\", splines=\"true\")\r\n",
    "        for v in self.adj_list:\r\n",
    "            if positions is not None:\r\n",
    "                dot.node(str(v), pos=positions[v])\r\n",
    "            else:\r\n",
    "                dot.node(str(v))\r\n",
    "        for v in self.adj_list:\r\n",
    "            for w in self.adj_list[v]:\r\n",
    "                dot.edge(str(v), str(w))\r\n",
    "\r\n",
    "        return dot"
   ],
   "outputs": [],
   "metadata": {}
  },
  {
   "cell_type": "code",
   "execution_count": 6,
   "source": [
    "G = Graph(graph)\r\n",
    "G.show(positions=pos)"
   ],
   "outputs": [
    {
     "output_type": "execute_result",
     "data": {
      "image/svg+xml": "<?xml version=\"1.0\" encoding=\"UTF-8\" standalone=\"no\"?>\r\n<!DOCTYPE svg PUBLIC \"-//W3C//DTD SVG 1.1//EN\"\r\n \"http://www.w3.org/Graphics/SVG/1.1/DTD/svg11.dtd\">\r\n<!-- Generated by graphviz version 2.38.0 (20140413.2041)\r\n -->\r\n<!-- Title: %3 Pages: 1 -->\r\n<svg width=\"186pt\" height=\"106pt\"\r\n viewBox=\"0.00 0.00 186.01 106.01\" xmlns=\"http://www.w3.org/2000/svg\" xmlns:xlink=\"http://www.w3.org/1999/xlink\">\r\n<g id=\"graph0\" class=\"graph\" transform=\"scale(1 1) rotate(0) translate(93.0062 53.0031)\">\r\n<title>%3</title>\r\n<polygon fill=\"white\" stroke=\"none\" points=\"-93.0062,53.0031 -93.0062,-53.0031 93.0062,-53.0031 93.0062,53.0031 -93.0062,53.0031\"/>\r\n<!-- 0 -->\r\n<g id=\"node1\" class=\"node\"><title>0</title>\r\n<ellipse fill=\"none\" stroke=\"black\" cx=\"-62.0062\" cy=\"-31.0031\" rx=\"27\" ry=\"18\"/>\r\n<text text-anchor=\"middle\" x=\"-62.0062\" y=\"-27.3031\" font-family=\"Times New Roman,serif\" font-size=\"14.00\">0</text>\r\n</g>\r\n<!-- 3 -->\r\n<g id=\"node4\" class=\"node\"><title>3</title>\r\n<ellipse fill=\"none\" stroke=\"black\" cx=\"-62.0062\" cy=\"31.0031\" rx=\"27\" ry=\"18\"/>\r\n<text text-anchor=\"middle\" x=\"-62.0062\" y=\"34.7031\" font-family=\"Times New Roman,serif\" font-size=\"14.00\">3</text>\r\n</g>\r\n<!-- 0&#45;&gt;3 -->\r\n<g id=\"edge1\" class=\"edge\"><title>0&#45;&gt;3</title>\r\n<path fill=\"none\" stroke=\"black\" d=\"M-62.0062,-12.7346C-62.0062,-7.98337 -62.0062,-2.74924 -62.0062,2.39634\"/>\r\n<polygon fill=\"black\" stroke=\"black\" points=\"-58.5061,2.6509 -62.0062,12.6509 -65.5061,2.65084 -58.5061,2.6509\"/>\r\n</g>\r\n<!-- 1 -->\r\n<g id=\"node2\" class=\"node\"><title>1</title>\r\n<ellipse fill=\"none\" stroke=\"black\" cx=\"0\" cy=\"-31.0031\" rx=\"27\" ry=\"18\"/>\r\n<text text-anchor=\"middle\" x=\"0\" y=\"-27.3031\" font-family=\"Times New Roman,serif\" font-size=\"14.00\">1</text>\r\n</g>\r\n<!-- 1&#45;&gt;0 -->\r\n<g id=\"edge2\" class=\"edge\"><title>1&#45;&gt;0</title>\r\n<path fill=\"none\" stroke=\"black\" d=\"M-27.0164,-31.0031C-27.1796,-31.0031 -27.343,-31.0031 -27.5064,-31.0031\"/>\r\n<polygon fill=\"black\" stroke=\"black\" points=\"-24.8883,-27.5032 -34.8883,-31.0031 -24.8884,-34.5032 -24.8883,-27.5032\"/>\r\n</g>\r\n<!-- 4 -->\r\n<g id=\"node5\" class=\"node\"><title>4</title>\r\n<ellipse fill=\"none\" stroke=\"black\" cx=\"0\" cy=\"31.0031\" rx=\"27\" ry=\"18\"/>\r\n<text text-anchor=\"middle\" x=\"0\" y=\"34.7031\" font-family=\"Times New Roman,serif\" font-size=\"14.00\">4</text>\r\n</g>\r\n<!-- 1&#45;&gt;4 -->\r\n<g id=\"edge3\" class=\"edge\"><title>1&#45;&gt;4</title>\r\n<path fill=\"none\" stroke=\"black\" d=\"M0,-12.7346C0,-7.98337 0,-2.74924 0,2.39634\"/>\r\n<polygon fill=\"black\" stroke=\"black\" points=\"3.5001,2.6509 0,12.6509 -3.4999,2.65084 3.5001,2.6509\"/>\r\n</g>\r\n<!-- 2 -->\r\n<g id=\"node3\" class=\"node\"><title>2</title>\r\n<ellipse fill=\"none\" stroke=\"black\" cx=\"62.0062\" cy=\"-31.0031\" rx=\"27\" ry=\"18\"/>\r\n<text text-anchor=\"middle\" x=\"62.0062\" y=\"-27.3031\" font-family=\"Times New Roman,serif\" font-size=\"14.00\">2</text>\r\n</g>\r\n<!-- 2&#45;&gt;1 -->\r\n<g id=\"edge4\" class=\"edge\"><title>2&#45;&gt;1</title>\r\n<path fill=\"none\" stroke=\"black\" d=\"M34.9898,-31.0031C34.8266,-31.0031 34.6632,-31.0031 34.4998,-31.0031\"/>\r\n<polygon fill=\"black\" stroke=\"black\" points=\"37.1179,-27.5032 27.1179,-31.0031 37.1178,-34.5032 37.1179,-27.5032\"/>\r\n</g>\r\n<!-- 2&#45;&gt;4 -->\r\n<g id=\"edge5\" class=\"edge\"><title>2&#45;&gt;4</title>\r\n<path fill=\"none\" stroke=\"black\" d=\"M46.9962,-15.9931C39.642,-8.63888 30.6344,0.36872 22.4798,8.52335\"/>\r\n<polygon fill=\"black\" stroke=\"black\" points=\"24.8485,11.1044 15.3025,15.7006 19.8987,6.15461 24.8485,11.1044\"/>\r\n</g>\r\n<!-- 3&#45;&gt;1 -->\r\n<g id=\"edge6\" class=\"edge\"><title>3&#45;&gt;1</title>\r\n<path fill=\"none\" stroke=\"black\" d=\"M-46.9962,15.9931C-39.642,8.63888 -30.6344,-0.36872 -22.4798,-8.52335\"/>\r\n<polygon fill=\"black\" stroke=\"black\" points=\"-24.8485,-11.1044 -15.3025,-15.7006 -19.8987,-6.15461 -24.8485,-11.1044\"/>\r\n</g>\r\n<!-- 4&#45;&gt;3 -->\r\n<g id=\"edge7\" class=\"edge\"><title>4&#45;&gt;3</title>\r\n<path fill=\"none\" stroke=\"black\" d=\"M-27.0164,31.0031C-27.1796,31.0031 -27.343,31.0031 -27.5064,31.0031\"/>\r\n<polygon fill=\"black\" stroke=\"black\" points=\"-24.8883,34.503 -34.8883,31.0031 -24.8884,27.503 -24.8883,34.503\"/>\r\n</g>\r\n<!-- 5 -->\r\n<g id=\"node6\" class=\"node\"><title>5</title>\r\n<ellipse fill=\"none\" stroke=\"black\" cx=\"62.0062\" cy=\"31.0031\" rx=\"27\" ry=\"18\"/>\r\n<text text-anchor=\"middle\" x=\"62.0062\" y=\"34.7031\" font-family=\"Times New Roman,serif\" font-size=\"14.00\">5</text>\r\n</g>\r\n<!-- 5&#45;&gt;2 -->\r\n<g id=\"edge8\" class=\"edge\"><title>5&#45;&gt;2</title>\r\n<path fill=\"none\" stroke=\"black\" d=\"M62.0062,12.7346C62.0062,7.98337 62.0062,2.74924 62.0062,-2.39634\"/>\r\n<polygon fill=\"black\" stroke=\"black\" points=\"58.5063,-2.65084 62.0062,-12.6509 65.5063,-2.6509 58.5063,-2.65084\"/>\r\n</g>\r\n<!-- 5&#45;&gt;4 -->\r\n<g id=\"edge9\" class=\"edge\"><title>5&#45;&gt;4</title>\r\n<path fill=\"none\" stroke=\"black\" d=\"M34.9898,31.0031C34.8266,31.0031 34.6632,31.0031 34.4998,31.0031\"/>\r\n<polygon fill=\"black\" stroke=\"black\" points=\"37.1179,34.503 27.1179,31.0031 37.1178,27.503 37.1179,34.503\"/>\r\n</g>\r\n</g>\r\n</svg>\r\n",
      "text/plain": [
       "<graphviz.dot.Digraph at 0x1fda1766ac8>"
      ]
     },
     "metadata": {},
     "execution_count": 6
    }
   ],
   "metadata": {}
  },
  {
   "cell_type": "markdown",
   "source": [
    "## Depth-first search\n",
    "\n",
    "Let's implement the DFS search. We will provide the code for you. Later on, you will extend it to implement other algorithms. We will use a colouring scheme for nodes. \n",
    "\n",
    "Initially, all nodes are \"white\" indicating they are not processed yet. When we first visit a node, we recolour it as \"grey\". Finally, the node becomes \"black\" when we have processed all its outgoing edges, and we are ready to backtrack to the previous node."
   ],
   "metadata": {}
  },
  {
   "cell_type": "code",
   "execution_count": 7,
   "source": [
    "class Graph(Graph):\r\n",
    "    def _dfs_r(self, v): # This is the main DFS recursive function\r\n",
    "        \"\"\"\r\n",
    "        argument \r\n",
    "        `v`, next vertex to be visited\r\n",
    "        `colour`, dictionary with the colour of each node\r\n",
    "        \"\"\"\r\n",
    "        print('Visiting: ', v)\r\n",
    "        self.colour[v] = 'grey' # Visited vertices are coloured 'grey'\r\n",
    "        for w in self.adj_list[v]: # Let's visit all outgoing edges from v\r\n",
    "            if self.colour[w] == 'white': # To avoid loops, we check if the next vertex hasn't been visited yet\r\n",
    "                self._dfs_r(w)\r\n",
    "        self.colour[v] = 'black' # When we finish the for loop, we know we have visited all nodes from v. It is time to turn it 'black'\r\n",
    "\r\n",
    "    def dfs(self, start): # This is an auxiliary DFS function to create and initialize the colour dictionary\r\n",
    "        \"\"\"\r\n",
    "        argument \r\n",
    "        `start`, starting vertex\r\n",
    "        \"\"\"    \r\n",
    "        self.colour = {node: 'white' for node in self.adj_list.keys()} # Create a dictionary with keys as node numbers and values equal to 'white'\r\n",
    "        self._dfs_r(start)\r\n",
    "        return self.colour # We can return colour dictionary. It is useful for some operations, such as detecting connected components"
   ],
   "outputs": [],
   "metadata": {}
  },
  {
   "cell_type": "markdown",
   "source": [
    "We can now test your graph representation. If you represented the graph correctly, a DFS starting at node 0 should visit all vertices but nodes 2 and 5. Notice, there is no path between node 0 and nodes 2 and 5."
   ],
   "metadata": {}
  },
  {
   "cell_type": "code",
   "execution_count": 8,
   "source": [
    "G = Graph(graph)\r\n",
    "G.dfs(0)"
   ],
   "outputs": [
    {
     "output_type": "stream",
     "name": "stdout",
     "text": [
      "Visiting:  0\n",
      "Visiting:  3\n",
      "Visiting:  1\n",
      "Visiting:  4\n"
     ]
    },
    {
     "output_type": "execute_result",
     "data": {
      "text/plain": [
       "{0: 'black', 1: 'black', 2: 'white', 3: 'black', 4: 'black', 5: 'white'}"
      ]
     },
     "metadata": {},
     "execution_count": 8
    }
   ],
   "metadata": {}
  },
  {
   "cell_type": "markdown",
   "source": [
    "A modification of the algorithm can make sure it searches all nodes, even if they are disconnected from other nodes. The idea is to re-start the recursive DFS search for each white node until all nodes become black."
   ],
   "metadata": {}
  },
  {
   "cell_type": "code",
   "execution_count": 9,
   "source": [
    "class Graph(Graph):\r\n",
    "    def dfs_all(self): # This is an auxiliary DFS function to create and initialize the colour dictionary\r\n",
    "        \"\"\"\r\n",
    "        argument \r\n",
    "        `start`, starting vertex\r\n",
    "        \"\"\"    \r\n",
    "        self.colour = {node: 'white' for node in self.adj_list.keys()} # Create a dictionary with keys as node numbers and values equal to 'white'\r\n",
    "        for start in self.colour.keys():\r\n",
    "            if self.colour[start] == 'white':\r\n",
    "                self._dfs_r(start)"
   ],
   "outputs": [],
   "metadata": {}
  },
  {
   "cell_type": "code",
   "execution_count": 10,
   "source": [
    "G = Graph(graph)\r\n",
    "G.dfs_all()"
   ],
   "outputs": [
    {
     "output_type": "stream",
     "name": "stdout",
     "text": [
      "Visiting:  0\n",
      "Visiting:  3\n",
      "Visiting:  1\n",
      "Visiting:  4\n",
      "Visiting:  2\n",
      "Visiting:  5\n"
     ]
    }
   ],
   "metadata": {}
  },
  {
   "cell_type": "markdown",
   "source": [
    "## Finding Cycles in Directed Graphs\n",
    "\n",
    "Our second task is to determine if a graph has cycles. During a DFS, a cycle can be found by testing if we have reached a grey node. Usually, we stop when we first observe a cycle. Therefore, we need to modify the DFS procedure to return a boolean.\n",
    "\n",
    "### Exercise\n",
    "\n",
    "Now, it is your turn, modify the code bellow to detect cycles in directed graphs."
   ],
   "metadata": {}
  },
  {
   "cell_type": "code",
   "execution_count": 11,
   "source": [
    "class Graph(Graph):\r\n",
    "    # This is the main recursive function\r\n",
    "    def _find_cycle_r(self, v):\r\n",
    "        \"\"\"\r\n",
    "        argument \r\n",
    "        `v`, next vertex to be visited\r\n",
    "        \"\"\"      \r\n",
    "        print('Visiting: ', v)\r\n",
    "        \r\n",
    "        # insert your code here\r\n",
    "        # print a debug message such as\r\n",
    "        # print(v, w, 'Cycle detected')\r\n",
    "        # when you detect a cycle. \r\n",
    "\r\n",
    "        self.colour[v] = 'grey' # Visited vertices are coloured 'grey'\r\n",
    "        for w in self.adj_list[v]: # Let's visit all outgoing edges from v\r\n",
    "            \r\n",
    "            if self.colour[w] == 'grey': # To avoid loops, we check if the next vertex hasn't been visited yet\r\n",
    "                print(f\"{v} {w} Cycle detected\")\r\n",
    "                return True\r\n",
    "            if self.colour[w] == 'white': \r\n",
    "                if self._find_cycle_r(w):\r\n",
    "                    return True\r\n",
    "        self.colour[v] = 'black'\r\n",
    "\r\n",
    "        return False\r\n",
    "\r\n",
    "    # This is an auxiliary function to create and initialize the colour dictionary    \r\n",
    "    def find_cycle(self):\r\n",
    "        \"\"\"\r\n",
    "        argument \r\n",
    "        `v`, starting vertex\r\n",
    "        \"\"\"        \r\n",
    "        self.colour = dict([(node, 'white') for node in self.adj_list.keys()])\r\n",
    "        for start in self.colour.keys():\r\n",
    "            if self.colour[start] == 'white':\r\n",
    "                if self._find_cycle_r(start):\r\n",
    "                    return True\r\n",
    "                else:\r\n",
    "                    return self._find_cycle_r(start)\r\n",
    "\r\n",
    "#######################################\r\n",
    "# Test code\r\n",
    "#######################################\r\n",
    "test_graph1 = {\r\n",
    "    0: [1],\r\n",
    "    1: [2],\r\n",
    "    2: [3],\r\n",
    "    3: [4],\r\n",
    "    4: [5],\r\n",
    "    5: [0],\r\n",
    "}\r\n",
    "\r\n",
    "test_graph2 = {\r\n",
    "    0: [1,4],\r\n",
    "    1: [2],\r\n",
    "    2: [4],\r\n",
    "    3: [],\r\n",
    "    4: [5],\r\n",
    "    5: [3],\r\n",
    "}\r\n",
    "\r\n",
    "print ('Test graph 1')\r\n",
    "G1 = Graph(test_graph1)\r\n",
    "G1.find_cycle()\r\n",
    "print ('Test graph 2')\r\n",
    "G2 = Graph(test_graph2)\r\n",
    "G2.find_cycle()"
   ],
   "outputs": [
    {
     "output_type": "stream",
     "name": "stdout",
     "text": [
      "Test graph 1\n",
      "Visiting:  0\n",
      "Visiting:  1\n",
      "Visiting:  2\n",
      "Visiting:  3\n",
      "Visiting:  4\n",
      "Visiting:  5\n",
      "5 0 Cycle detected\n",
      "Test graph 2\n",
      "Visiting:  0\n",
      "Visiting:  1\n",
      "Visiting:  2\n",
      "Visiting:  4\n",
      "Visiting:  5\n",
      "Visiting:  3\n",
      "Visiting:  0\n"
     ]
    },
    {
     "output_type": "execute_result",
     "data": {
      "text/plain": [
       "False"
      ]
     },
     "metadata": {},
     "execution_count": 11
    }
   ],
   "metadata": {}
  },
  {
   "cell_type": "markdown",
   "source": [
    "If your implementation is correct and you included a message when the cycle is detected, then you should see the following output:\r\n",
    "\r\n",
    "```\r\n",
    "Test graph 1\r\n",
    "Visiting:  0\r\n",
    "Visiting:  1\r\n",
    "Visiting:  2\r\n",
    "Visiting:  3\r\n",
    "Visiting:  4\r\n",
    "Visiting:  5\r\n",
    "5 0 Cycle detected\r\n",
    "Test graph 2\r\n",
    "Visiting:  0\r\n",
    "Visiting:  1\r\n",
    "Visiting:  2\r\n",
    "Visiting:  4\r\n",
    "Visiting:  5\r\n",
    "Visiting:  3\r\n",
    "Visiting:  0\r\n",
    "False\r\n",
    "```"
   ],
   "metadata": {}
  },
  {
   "cell_type": "markdown",
   "source": [
    "We can now test your implementation in the exercise graph."
   ],
   "metadata": {}
  },
  {
   "cell_type": "code",
   "execution_count": 12,
   "source": [
    "G = Graph(graph)\r\n",
    "G.find_cycle()"
   ],
   "outputs": [
    {
     "output_type": "stream",
     "name": "stdout",
     "text": [
      "Visiting:  0\n",
      "Visiting:  3\n",
      "Visiting:  1\n",
      "1 0 Cycle detected\n"
     ]
    },
    {
     "output_type": "execute_result",
     "data": {
      "text/plain": [
       "True"
      ]
     },
     "metadata": {},
     "execution_count": 12
    }
   ],
   "metadata": {}
  },
  {
   "cell_type": "markdown",
   "source": [
    "It should show one of the following cycles: 0-3-1 or 1-4-2, depending on the order you entered the node numbers in the adjacency list."
   ],
   "metadata": {}
  },
  {
   "cell_type": "markdown",
   "source": [
    "# Topological Sort\n",
    "\n",
    "The topological sort can be obtained by merely inserting the nodes into a stack when they become black. We use the stack to reverse the order of the nodes when printing the result. By doing so, the edges are directed from left to right.\n",
    "\n",
    "## Exercise\n",
    "\n",
    "Let's implement the topological sort. It is an almost trivial modification of your DFS procedure. We have started the code for you creating a stack to store the sorted nodes."
   ],
   "metadata": {}
  },
  {
   "cell_type": "code",
   "execution_count": 13,
   "source": [
    "class Graph(Graph):\r\n",
    "    # This is the recursive function that visits the nodes according to depth-first search and appends the black nodes \r\n",
    "    # to the end of a `stack` list.\r\n",
    "    def _topological_sort_r(self, v):\r\n",
    "        \"\"\"\r\n",
    "        argument \r\n",
    "        `v`, current vertex\r\n",
    "        \"\"\"\r\n",
    "        \r\n",
    "        # TODO: Fill in this function\r\n",
    "        ...\r\n",
    "        \r\n",
    "        \r\n",
    "    # This is main function that prepares for the recursive function. It first colours all nodes as 'white' and call the\r\n",
    "    # recursive function for an arbitrary node. When the recursive function returns, if we have any remaining 'white'\r\n",
    "    # nodes, we call the recursive function again for these nodes.\r\n",
    "    def topological_sort(self):\r\n",
    "        \"\"\"\r\n",
    "        argument \r\n",
    "        `G`, an adjacency list representation of a graph\r\n",
    "        return a list with the topological order of the graph G\r\n",
    "        \"\"\"\r\n",
    "        # We start with an empty stack\r\n",
    "        self.stack = []\r\n",
    "        # Colour is dictionary that associates node keys to colours. The colours are 'white', 'grey' and 'black'.\r\n",
    "        self.colour = {node: 'white' for node in self.adj_list.keys()}\r\n",
    "        # We call the recursive function to visit a first node. When the function returns, if there are any white \r\n",
    "        # nodes remaining, we call the function again for these white nodes\r\n",
    "        for start in self.adj_list.keys():\r\n",
    "            # If the node is 'white' we call the recursive function to vists the nodes connected to it in DFS order\r\n",
    "            if self.colour[start] == 'white':\r\n",
    "                # This is a call to topologicalSort_r\r\n",
    "                self._topological_sort_r(start)\r\n",
    "        # We need to reverse the list, we use a little trick with list slice\r\n",
    "        return self.stack[::-1]\r\n",
    "\r\n",
    "\r\n",
    "#######################################\r\n",
    "# Test code\r\n",
    "#######################################\r\n",
    "        \r\n",
    "test_graph2 = {\r\n",
    "    0: [1,4],\r\n",
    "    1: [2],\r\n",
    "    2: [4],\r\n",
    "    3: [],\r\n",
    "    4: [5],\r\n",
    "    5: [3],    \r\n",
    "}\r\n",
    "\r\n",
    "G2 = Graph(test_graph2)\r\n",
    "print(\"Topological sort:\")\r\n",
    "print(G2.topological_sort())"
   ],
   "outputs": [
    {
     "output_type": "stream",
     "name": "stdout",
     "text": [
      "Topological sort:\n",
      "[]\n"
     ]
    }
   ],
   "metadata": {}
  },
  {
   "cell_type": "markdown",
   "source": [
    "If your implementation is correct, then you should see the following output:\n",
    "\n",
    "```\n",
    "Topological sort: \n",
    "[0, 1, 2, 4, 5, 3]\n",
    "```"
   ],
   "metadata": {}
  },
  {
   "cell_type": "markdown",
   "source": [
    "Now, let's execute your code. First, we need a new DAG, since our example has cycles and the topological ordering only makes sense for acyclic graphs."
   ],
   "metadata": {}
  },
  {
   "cell_type": "code",
   "execution_count": 14,
   "source": [
    "graph = {\r\n",
    "    0: [1, 4],\r\n",
    "    1: [2, 4],\r\n",
    "    2: [5],\r\n",
    "    3: [0, 4],\r\n",
    "    4: [5],\r\n",
    "    5: [],\r\n",
    "}\r\n",
    "\r\n",
    "G = Graph(graph)\r\n",
    "G.topological_sort()"
   ],
   "outputs": [
    {
     "output_type": "execute_result",
     "data": {
      "text/plain": [
       "[]"
      ]
     },
     "metadata": {},
     "execution_count": 14
    }
   ],
   "metadata": {}
  },
  {
   "cell_type": "markdown",
   "source": [
    "Let's visualise the test graph again, just to remember its topology."
   ],
   "metadata": {}
  },
  {
   "cell_type": "code",
   "execution_count": 15,
   "source": [
    "G.show(positions=pos)"
   ],
   "outputs": [
    {
     "output_type": "execute_result",
     "data": {
      "image/svg+xml": "<?xml version=\"1.0\" encoding=\"UTF-8\" standalone=\"no\"?>\r\n<!DOCTYPE svg PUBLIC \"-//W3C//DTD SVG 1.1//EN\"\r\n \"http://www.w3.org/Graphics/SVG/1.1/DTD/svg11.dtd\">\r\n<!-- Generated by graphviz version 2.38.0 (20140413.2041)\r\n -->\r\n<!-- Title: %3 Pages: 1 -->\r\n<svg width=\"186pt\" height=\"106pt\"\r\n viewBox=\"0.00 0.00 186.01 106.01\" xmlns=\"http://www.w3.org/2000/svg\" xmlns:xlink=\"http://www.w3.org/1999/xlink\">\r\n<g id=\"graph0\" class=\"graph\" transform=\"scale(1 1) rotate(0) translate(93.0062 53.0031)\">\r\n<title>%3</title>\r\n<polygon fill=\"white\" stroke=\"none\" points=\"-93.0062,53.0031 -93.0062,-53.0031 93.0062,-53.0031 93.0062,53.0031 -93.0062,53.0031\"/>\r\n<!-- 0 -->\r\n<g id=\"node1\" class=\"node\"><title>0</title>\r\n<ellipse fill=\"none\" stroke=\"black\" cx=\"-62.0062\" cy=\"-31.0031\" rx=\"27\" ry=\"18\"/>\r\n<text text-anchor=\"middle\" x=\"-62.0062\" y=\"-27.3031\" font-family=\"Times New Roman,serif\" font-size=\"14.00\">0</text>\r\n</g>\r\n<!-- 1 -->\r\n<g id=\"node2\" class=\"node\"><title>1</title>\r\n<ellipse fill=\"none\" stroke=\"black\" cx=\"0\" cy=\"-31.0031\" rx=\"27\" ry=\"18\"/>\r\n<text text-anchor=\"middle\" x=\"0\" y=\"-27.3031\" font-family=\"Times New Roman,serif\" font-size=\"14.00\">1</text>\r\n</g>\r\n<!-- 0&#45;&gt;1 -->\r\n<g id=\"edge1\" class=\"edge\"><title>0&#45;&gt;1</title>\r\n<path fill=\"none\" stroke=\"black\" d=\"M-34.9898,-31.0031C-34.8266,-31.0031 -34.6632,-31.0031 -34.4998,-31.0031\"/>\r\n<polygon fill=\"black\" stroke=\"black\" points=\"-37.1178,-34.5032 -27.1179,-31.0031 -37.1179,-27.5032 -37.1178,-34.5032\"/>\r\n</g>\r\n<!-- 4 -->\r\n<g id=\"node5\" class=\"node\"><title>4</title>\r\n<ellipse fill=\"none\" stroke=\"black\" cx=\"0\" cy=\"31.0031\" rx=\"27\" ry=\"18\"/>\r\n<text text-anchor=\"middle\" x=\"0\" y=\"34.7031\" font-family=\"Times New Roman,serif\" font-size=\"14.00\">4</text>\r\n</g>\r\n<!-- 0&#45;&gt;4 -->\r\n<g id=\"edge2\" class=\"edge\"><title>0&#45;&gt;4</title>\r\n<path fill=\"none\" stroke=\"black\" d=\"M-46.9962,-15.9931C-39.642,-8.63888 -30.6344,0.36872 -22.4798,8.52335\"/>\r\n<polygon fill=\"black\" stroke=\"black\" points=\"-19.8987,6.15461 -15.3025,15.7006 -24.8485,11.1044 -19.8987,6.15461\"/>\r\n</g>\r\n<!-- 2 -->\r\n<g id=\"node3\" class=\"node\"><title>2</title>\r\n<ellipse fill=\"none\" stroke=\"black\" cx=\"62.0062\" cy=\"-31.0031\" rx=\"27\" ry=\"18\"/>\r\n<text text-anchor=\"middle\" x=\"62.0062\" y=\"-27.3031\" font-family=\"Times New Roman,serif\" font-size=\"14.00\">2</text>\r\n</g>\r\n<!-- 1&#45;&gt;2 -->\r\n<g id=\"edge3\" class=\"edge\"><title>1&#45;&gt;2</title>\r\n<path fill=\"none\" stroke=\"black\" d=\"M27.0164,-31.0031C27.1796,-31.0031 27.343,-31.0031 27.5064,-31.0031\"/>\r\n<polygon fill=\"black\" stroke=\"black\" points=\"24.8884,-34.5032 34.8883,-31.0031 24.8883,-27.5032 24.8884,-34.5032\"/>\r\n</g>\r\n<!-- 1&#45;&gt;4 -->\r\n<g id=\"edge4\" class=\"edge\"><title>1&#45;&gt;4</title>\r\n<path fill=\"none\" stroke=\"black\" d=\"M0,-12.7346C0,-7.98337 0,-2.74924 0,2.39634\"/>\r\n<polygon fill=\"black\" stroke=\"black\" points=\"3.5001,2.6509 0,12.6509 -3.4999,2.65084 3.5001,2.6509\"/>\r\n</g>\r\n<!-- 5 -->\r\n<g id=\"node6\" class=\"node\"><title>5</title>\r\n<ellipse fill=\"none\" stroke=\"black\" cx=\"62.0062\" cy=\"31.0031\" rx=\"27\" ry=\"18\"/>\r\n<text text-anchor=\"middle\" x=\"62.0062\" y=\"34.7031\" font-family=\"Times New Roman,serif\" font-size=\"14.00\">5</text>\r\n</g>\r\n<!-- 2&#45;&gt;5 -->\r\n<g id=\"edge5\" class=\"edge\"><title>2&#45;&gt;5</title>\r\n<path fill=\"none\" stroke=\"black\" d=\"M62.0062,-12.7346C62.0062,-7.98337 62.0062,-2.74924 62.0062,2.39634\"/>\r\n<polygon fill=\"black\" stroke=\"black\" points=\"65.5063,2.6509 62.0062,12.6509 58.5063,2.65084 65.5063,2.6509\"/>\r\n</g>\r\n<!-- 3 -->\r\n<g id=\"node4\" class=\"node\"><title>3</title>\r\n<ellipse fill=\"none\" stroke=\"black\" cx=\"-62.0062\" cy=\"31.0031\" rx=\"27\" ry=\"18\"/>\r\n<text text-anchor=\"middle\" x=\"-62.0062\" y=\"34.7031\" font-family=\"Times New Roman,serif\" font-size=\"14.00\">3</text>\r\n</g>\r\n<!-- 3&#45;&gt;0 -->\r\n<g id=\"edge6\" class=\"edge\"><title>3&#45;&gt;0</title>\r\n<path fill=\"none\" stroke=\"black\" d=\"M-62.0062,12.7346C-62.0062,7.98337 -62.0062,2.74924 -62.0062,-2.39634\"/>\r\n<polygon fill=\"black\" stroke=\"black\" points=\"-65.5061,-2.65084 -62.0062,-12.6509 -58.5061,-2.6509 -65.5061,-2.65084\"/>\r\n</g>\r\n<!-- 3&#45;&gt;4 -->\r\n<g id=\"edge7\" class=\"edge\"><title>3&#45;&gt;4</title>\r\n<path fill=\"none\" stroke=\"black\" d=\"M-34.9898,31.0031C-34.8266,31.0031 -34.6632,31.0031 -34.4998,31.0031\"/>\r\n<polygon fill=\"black\" stroke=\"black\" points=\"-37.1178,27.503 -27.1179,31.0031 -37.1179,34.503 -37.1178,27.503\"/>\r\n</g>\r\n<!-- 4&#45;&gt;5 -->\r\n<g id=\"edge8\" class=\"edge\"><title>4&#45;&gt;5</title>\r\n<path fill=\"none\" stroke=\"black\" d=\"M27.0164,31.0031C27.1796,31.0031 27.343,31.0031 27.5064,31.0031\"/>\r\n<polygon fill=\"black\" stroke=\"black\" points=\"24.8884,27.503 34.8883,31.0031 24.8883,34.503 24.8884,27.503\"/>\r\n</g>\r\n</g>\r\n</svg>\r\n",
      "text/plain": [
       "<graphviz.dot.Digraph at 0x1fda1748808>"
      ]
     },
     "metadata": {},
     "execution_count": 15
    }
   ],
   "metadata": {
    "scrolled": false
   }
  },
  {
   "cell_type": "markdown",
   "source": [
    "We can use graphViz to visualize the topological sort output graphically to confirm our code is correct. "
   ],
   "metadata": {}
  },
  {
   "cell_type": "code",
   "execution_count": 16,
   "source": [
    "# We use the neato engine since it allow to position the nodes\r\n",
    "dot = graphviz.Digraph(engine=\"neato\", comment='Topological sort')\r\n",
    "# This line will avoid the edges to cross over the nodes\r\n",
    "dot.attr(overlap=\"false\", splines=\"true\")\r\n",
    "\r\n",
    "s = G.topological_sort()\r\n",
    "\r\n",
    "# Create nodes in sequence positions determined by the stack s\r\n",
    "for i, v in enumerate(s, 1):\r\n",
    "    dot.node(str(v), pos=str(i)+',0!')\r\n",
    "\r\n",
    "# Create edges\r\n",
    "for v in s:\r\n",
    "    for w in graph[v]:\r\n",
    "        dot.edge(str(v), str(w))\r\n",
    "\r\n",
    "dot"
   ],
   "outputs": [
    {
     "output_type": "execute_result",
     "data": {
      "image/svg+xml": "<?xml version=\"1.0\" encoding=\"UTF-8\" standalone=\"no\"?>\r\n<!DOCTYPE svg PUBLIC \"-//W3C//DTD SVG 1.1//EN\"\r\n \"http://www.w3.org/Graphics/SVG/1.1/DTD/svg11.dtd\">\r\n<!-- Generated by graphviz version 2.38.0 (20140413.2041)\r\n -->\r\n<!-- Title: %3 Pages: 1 -->\r\n<svg width=\"8pt\" height=\"8pt\"\r\n viewBox=\"0.00 0.00 8.00 8.00\" xmlns=\"http://www.w3.org/2000/svg\" xmlns:xlink=\"http://www.w3.org/1999/xlink\">\r\n<g id=\"graph0\" class=\"graph\" transform=\"scale(1 1) rotate(0) translate(4 4)\">\r\n<title>%3</title>\r\n<polygon fill=\"white\" stroke=\"none\" points=\"-4,4 -4,-4 4,-4 4,4 -4,4\"/>\r\n</g>\r\n</svg>\r\n",
      "text/plain": [
       "<graphviz.dot.Digraph at 0x1fda1781188>"
      ]
     },
     "metadata": {},
     "execution_count": 16
    }
   ],
   "metadata": {}
  },
  {
   "cell_type": "markdown",
   "source": [
    "# Transpose Graph\n",
    "\n",
    "Transposition is an operation over a directed graph $G$ that results in another directed graph on the same set of vertices with all of the edges reversed. The following figure illustrates this process, with a graph $G$ on the left side and its transpose $G^T$ on the right side:\n",
    "\n",
    "![Transpose graph](img/Transpose_graph.png \"Transpose Graph\")\n",
    "\n",
    "\n",
    "## Exercise\n",
    "\n",
    "Implement the transpose operation over our graph representation. Take a graph as input and produce its transpose as output."
   ],
   "metadata": {}
  },
  {
   "cell_type": "code",
   "execution_count": 17,
   "source": [
    "class Graph(Graph):\r\n",
    "    def transpose(self):\r\n",
    "        \"\"\"\r\n",
    "        argument \r\n",
    "        `G`, an adjacency list representation of a graph\r\n",
    "        \"\"\"      \r\n",
    "        gt = dict((v, []) for v in self.adj_list)\r\n",
    "        # TODO\r\n",
    "        ...\r\n",
    "        return Graph(gt)"
   ],
   "outputs": [],
   "metadata": {}
  },
  {
   "cell_type": "markdown",
   "source": [
    "Let's write some code for testing. First, we define the same test graph as the figure above. We will call our transpose_graph routine and use the Graphviz library to plot the transposed graph. We have done the code for you below. You can compare the output with the figure above to check if your code is correct."
   ],
   "metadata": {}
  },
  {
   "cell_type": "code",
   "execution_count": 18,
   "source": [
    "#######################################\r\n",
    "# Test code\r\n",
    "#######################################\r\n",
    "\r\n",
    "test_graph = {\r\n",
    "    0: [3],\r\n",
    "    1: [0, 4],\r\n",
    "    2: [1, 4],\r\n",
    "    3: [1],\r\n",
    "    4: [3, 5],\r\n",
    "    5: [2],\r\n",
    "}\r\n",
    "\r\n",
    "pos = {\r\n",
    "    0: '0,1!',\r\n",
    "    1: '1,1!',\r\n",
    "    2: '2,1!',\r\n",
    "    3: '0,0!',\r\n",
    "    4: '1,0!',\r\n",
    "    5: '2,0!',\r\n",
    "}\r\n",
    "\r\n",
    "G = Graph(test_graph)\r\n",
    "GT = G.transpose()\r\n",
    "GT.show(positions=pos)"
   ],
   "outputs": [
    {
     "output_type": "execute_result",
     "data": {
      "image/svg+xml": "<?xml version=\"1.0\" encoding=\"UTF-8\" standalone=\"no\"?>\r\n<!DOCTYPE svg PUBLIC \"-//W3C//DTD SVG 1.1//EN\"\r\n \"http://www.w3.org/Graphics/SVG/1.1/DTD/svg11.dtd\">\r\n<!-- Generated by graphviz version 2.38.0 (20140413.2041)\r\n -->\r\n<!-- Title: %3 Pages: 1 -->\r\n<svg width=\"186pt\" height=\"106pt\"\r\n viewBox=\"0.00 0.00 186.01 106.01\" xmlns=\"http://www.w3.org/2000/svg\" xmlns:xlink=\"http://www.w3.org/1999/xlink\">\r\n<g id=\"graph0\" class=\"graph\" transform=\"scale(1 1) rotate(0) translate(93.0062 53.0031)\">\r\n<title>%3</title>\r\n<polygon fill=\"white\" stroke=\"none\" points=\"-93.0062,53.0031 -93.0062,-53.0031 93.0062,-53.0031 93.0062,53.0031 -93.0062,53.0031\"/>\r\n<!-- 0 -->\r\n<g id=\"node1\" class=\"node\"><title>0</title>\r\n<ellipse fill=\"none\" stroke=\"black\" cx=\"-62.0062\" cy=\"-31.0031\" rx=\"27\" ry=\"18\"/>\r\n<text text-anchor=\"middle\" x=\"-62.0062\" y=\"-27.3031\" font-family=\"Times New Roman,serif\" font-size=\"14.00\">0</text>\r\n</g>\r\n<!-- 1 -->\r\n<g id=\"node2\" class=\"node\"><title>1</title>\r\n<ellipse fill=\"none\" stroke=\"black\" cx=\"0\" cy=\"-31.0031\" rx=\"27\" ry=\"18\"/>\r\n<text text-anchor=\"middle\" x=\"0\" y=\"-27.3031\" font-family=\"Times New Roman,serif\" font-size=\"14.00\">1</text>\r\n</g>\r\n<!-- 2 -->\r\n<g id=\"node3\" class=\"node\"><title>2</title>\r\n<ellipse fill=\"none\" stroke=\"black\" cx=\"62.0062\" cy=\"-31.0031\" rx=\"27\" ry=\"18\"/>\r\n<text text-anchor=\"middle\" x=\"62.0062\" y=\"-27.3031\" font-family=\"Times New Roman,serif\" font-size=\"14.00\">2</text>\r\n</g>\r\n<!-- 3 -->\r\n<g id=\"node4\" class=\"node\"><title>3</title>\r\n<ellipse fill=\"none\" stroke=\"black\" cx=\"-62.0062\" cy=\"31.0031\" rx=\"27\" ry=\"18\"/>\r\n<text text-anchor=\"middle\" x=\"-62.0062\" y=\"34.7031\" font-family=\"Times New Roman,serif\" font-size=\"14.00\">3</text>\r\n</g>\r\n<!-- 4 -->\r\n<g id=\"node5\" class=\"node\"><title>4</title>\r\n<ellipse fill=\"none\" stroke=\"black\" cx=\"0\" cy=\"31.0031\" rx=\"27\" ry=\"18\"/>\r\n<text text-anchor=\"middle\" x=\"0\" y=\"34.7031\" font-family=\"Times New Roman,serif\" font-size=\"14.00\">4</text>\r\n</g>\r\n<!-- 5 -->\r\n<g id=\"node6\" class=\"node\"><title>5</title>\r\n<ellipse fill=\"none\" stroke=\"black\" cx=\"62.0062\" cy=\"31.0031\" rx=\"27\" ry=\"18\"/>\r\n<text text-anchor=\"middle\" x=\"62.0062\" y=\"34.7031\" font-family=\"Times New Roman,serif\" font-size=\"14.00\">5</text>\r\n</g>\r\n</g>\r\n</svg>\r\n",
      "text/plain": [
       "<graphviz.dot.Digraph at 0x1fda177e388>"
      ]
     },
     "metadata": {},
     "execution_count": 18
    }
   ],
   "metadata": {}
  },
  {
   "cell_type": "markdown",
   "source": [
    "# Minimum Spanning Trees\r\n",
    "\r\n",
    "Minimum spanning tree (MST) is an operation on weighted undirected graphs. We receive a graph $G=(V,E)$ and we should return the spanning tree of $G$ that has a minimum cost.\r\n",
    "\r\n",
    "A spanning tree is a graph with the same set of vertices $V$ of $G$, but with potentially fewer edges. A spanning tree is a graph with no cycles. If $G$ has $n$ edges, its spanning tree must have $n-1$ edges.\r\n",
    "\r\n",
    "The minimum spanning tree is the spanning tree whose sum of edge weights is the smallest among all spanning trees.\r\n",
    "\r\n",
    "The next figure shows a weighted undirect graph is its corresponding MST.\r\n",
    "\r\n",
    "![MST](img/spanning_tree.png \"MST\")"
   ],
   "metadata": {}
  },
  {
   "cell_type": "markdown",
   "source": [
    "Let's start by augmenting our graph representation to allow weighted edges, and adding methods to allow us to easily add nodes and edges to the graph. For later convenience, we will also add functions to remove nodes, iterate over all nodes, and get the children of a node. "
   ],
   "metadata": {}
  },
  {
   "cell_type": "code",
   "execution_count": 19,
   "source": [
    "class Graph(Graph):\r\n",
    "    def __init__(self, adj_list=None):\r\n",
    "        self.adj_list = dict()\r\n",
    "        if adj_list is not None:\r\n",
    "            self.adj_list = adj_list.copy() # dict with graph's adjacency list\r\n",
    "        self.colour = dict()\r\n",
    "        self.edge_weights = dict() # maps a tuple (node1, node2) to a number\r\n",
    "\r\n",
    "    def __len__(self):\r\n",
    "        '''\r\n",
    "        return the number of nodes in the graph\r\n",
    "        '''\r\n",
    "        return len(self.adj_list.keys())\r\n",
    "\r\n",
    "    def __iter__(self):\r\n",
    "        '''\r\n",
    "        Let a user iterate over the nodes of the graph, like:\r\n",
    "        for node in graph:\r\n",
    "            print(node)\r\n",
    "        '''\r\n",
    "        return iter(self.adj_list.keys())\r\n",
    "    \r\n",
    "    def children(self, node):\r\n",
    "        '''\r\n",
    "        Return a list of children of a node\r\n",
    "        '''\r\n",
    "        return self.adj_list[node]\r\n",
    "\r\n",
    "    def add_node(self, name):\r\n",
    "        '''\r\n",
    "        This method adds a node to the graph.\r\n",
    "        '''\r\n",
    "        if name not in self.adj_list:\r\n",
    "            self.adj_list[name] = []\r\n",
    "\r\n",
    "    def remove_node(self, name):\r\n",
    "        '''\r\n",
    "        This method removes a node, and any edges to or from the node\r\n",
    "        '''\r\n",
    "        for node in self.adj_list.keys():\r\n",
    "            if name in self.adj_list[node]:\r\n",
    "                self.adj_list[node].remove(name)\r\n",
    "        del self.adj_list[name]\r\n",
    "\r\n",
    "    def add_edge(self, node1, node2, weight=1, directed=True):\r\n",
    "        '''\r\n",
    "        This function adds an edge. If directed is false, it adds an edge in both directions\r\n",
    "        '''\r\n",
    "        # in case they don't already exist, add these nodes to the graph\r\n",
    "        self.add_node(node1)\r\n",
    "        self.add_node(node2)\r\n",
    "        \r\n",
    "        self.adj_list[node1].append(node2)\r\n",
    "        self.edge_weights[(node1,node2)] = weight\r\n",
    "        \r\n",
    "        if not directed:\r\n",
    "            self.adj_list[node2].append(node1)\r\n",
    "            self.edge_weights[(node2,node1)] = weight\r\n",
    "\r\n",
    "# Reinitialise graph G\r\n",
    "G = Graph(graph)\r\n",
    "\r\n",
    "### Example usage\r\n",
    "print(f\"The number of nodes in the graph is {len(G)}\")\r\n",
    "\r\n",
    "print(\"List of all nodes in the graph:\")\r\n",
    "for node in G:\r\n",
    "    print(node)\r\n",
    "    \r\n",
    "# check if 0 is a child of 1\r\n",
    "if 0 in G.children(1):\r\n",
    "    print(\"0 is child of 1\")\r\n",
    "else:\r\n",
    "    print(\"0 is not child of 1\")\r\n",
    "\r\n",
    "print(f\"Children of 1 are {G.children(1)}\")\r\n"
   ],
   "outputs": [
    {
     "output_type": "stream",
     "name": "stdout",
     "text": [
      "The number of nodes in the graph is 6\n",
      "List of all nodes in the graph:\n",
      "0\n",
      "1\n",
      "2\n",
      "3\n",
      "4\n",
      "5\n",
      "0 is not child of 1\n",
      "Children of 1 are [2, 4]\n"
     ]
    }
   ],
   "metadata": {}
  },
  {
   "cell_type": "markdown",
   "source": [
    "\n",
    "## Exercise\n",
    "\n",
    "Represent the graph on the left side of the previous figure using the proposed augmented representation. We have started and completed the first row."
   ],
   "metadata": {}
  },
  {
   "cell_type": "code",
   "execution_count": 20,
   "source": [
    "g = Graph()\r\n",
    "g.add_edge(0,2,weight=4,directed=False)\r\n",
    "g.add_edge(0,1,weight=24,directed=False)\r\n",
    "g.add_edge(2,3,weight=6,directed=False)\r\n",
    "g.add_edge(2,6,weight=16,directed=False)\r\n",
    "g.add_edge(3,6,weight=8,directed=False)\r\n",
    "g.add_edge(3,5,weight=5,directed=False)\r\n",
    "g.add_edge(3,1,weight=23,directed=False)\r\n",
    "# TODO: add the rest of the edges\r\n",
    "...\r\n",
    "\r\n",
    "#######################################\r\n",
    "# Test code\r\n",
    "#######################################\r\n",
    "pos = {\r\n",
    "    0: '1,3!',\r\n",
    "    1: '4,3!',\r\n",
    "    2: '0,2!',\r\n",
    "    3: '1,1!',\r\n",
    "    4: '3,1!',\r\n",
    "    5: '2,1!',\r\n",
    "    6: '0,0!',\r\n",
    "    7: '4,0!',    \r\n",
    "}\r\n",
    "g.show(directed=False, positions=pos)"
   ],
   "outputs": [
    {
     "output_type": "execute_result",
     "data": {
      "image/svg+xml": "<?xml version=\"1.0\" encoding=\"UTF-8\" standalone=\"no\"?>\r\n<!DOCTYPE svg PUBLIC \"-//W3C//DTD SVG 1.1//EN\"\r\n \"http://www.w3.org/Graphics/SVG/1.1/DTD/svg11.dtd\">\r\n<!-- Generated by graphviz version 2.38.0 (20140413.2041)\r\n -->\r\n<!-- Title: %3 Pages: 1 -->\r\n<svg width=\"310pt\" height=\"230pt\"\r\n viewBox=\"0.00 0.00 310.02 230.02\" xmlns=\"http://www.w3.org/2000/svg\" xmlns:xlink=\"http://www.w3.org/1999/xlink\">\r\n<g id=\"graph0\" class=\"graph\" transform=\"scale(1 1) rotate(0) translate(113.675 104.675)\">\r\n<title>%3</title>\r\n<polygon fill=\"white\" stroke=\"none\" points=\"-113.675,125.344 -113.675,-104.675 196.35,-104.675 196.35,125.344 -113.675,125.344\"/>\r\n<!-- 0 -->\r\n<g id=\"node1\" class=\"node\"><title>0</title>\r\n<ellipse fill=\"none\" stroke=\"black\" cx=\"-20.6687\" cy=\"-82.6749\" rx=\"27\" ry=\"18\"/>\r\n<text text-anchor=\"middle\" x=\"-20.6687\" y=\"-78.9749\" font-family=\"Times New Roman,serif\" font-size=\"14.00\">0</text>\r\n</g>\r\n<!-- 2 -->\r\n<g id=\"node2\" class=\"node\"><title>2</title>\r\n<ellipse fill=\"none\" stroke=\"black\" cx=\"-82.6749\" cy=\"-20.6687\" rx=\"27\" ry=\"18\"/>\r\n<text text-anchor=\"middle\" x=\"-82.6749\" y=\"-16.9687\" font-family=\"Times New Roman,serif\" font-size=\"14.00\">2</text>\r\n</g>\r\n<!-- 0&#45;&#45;2 -->\r\n<g id=\"edge1\" class=\"edge\"><title>0&#45;&#45;2</title>\r\n<path fill=\"none\" stroke=\"black\" d=\"M-35.6787,-67.665C-45.2843,-58.0594 -57.7103,-45.6333 -67.3724,-35.9712\"/>\r\n</g>\r\n<!-- 1 -->\r\n<g id=\"node3\" class=\"node\"><title>1</title>\r\n<ellipse fill=\"none\" stroke=\"black\" cx=\"165.35\" cy=\"-82.6749\" rx=\"27\" ry=\"18\"/>\r\n<text text-anchor=\"middle\" x=\"165.35\" y=\"-78.9749\" font-family=\"Times New Roman,serif\" font-size=\"14.00\">1</text>\r\n</g>\r\n<!-- 0&#45;&#45;1 -->\r\n<g id=\"edge2\" class=\"edge\"><title>0&#45;&#45;1</title>\r\n<path fill=\"none\" stroke=\"black\" d=\"M6.37997,-82.6749C41.6478,-82.6749 102.985,-82.6749 138.269,-82.6749\"/>\r\n</g>\r\n<!-- 3 -->\r\n<g id=\"node4\" class=\"node\"><title>3</title>\r\n<ellipse fill=\"none\" stroke=\"black\" cx=\"-20.6687\" cy=\"41.3375\" rx=\"27\" ry=\"18\"/>\r\n<text text-anchor=\"middle\" x=\"-20.6687\" y=\"45.0375\" font-family=\"Times New Roman,serif\" font-size=\"14.00\">3</text>\r\n</g>\r\n<!-- 2&#45;&#45;3 -->\r\n<g id=\"edge3\" class=\"edge\"><title>2&#45;&#45;3</title>\r\n<path fill=\"none\" stroke=\"black\" d=\"M-67.665,-5.65876C-58.0594,3.94679 -45.6333,16.3729 -35.9712,26.035\"/>\r\n</g>\r\n<!-- 6 -->\r\n<g id=\"node5\" class=\"node\"><title>6</title>\r\n<ellipse fill=\"none\" stroke=\"black\" cx=\"-82.6749\" cy=\"103.344\" rx=\"27\" ry=\"18\"/>\r\n<text text-anchor=\"middle\" x=\"-82.6749\" y=\"107.044\" font-family=\"Times New Roman,serif\" font-size=\"14.00\">6</text>\r\n</g>\r\n<!-- 2&#45;&#45;6 -->\r\n<g id=\"edge4\" class=\"edge\"><title>2&#45;&#45;6</title>\r\n<path fill=\"none\" stroke=\"black\" d=\"M-82.6749,-2.63627C-82.6749,20.8756 -82.6749,61.7668 -82.6749,85.2894\"/>\r\n</g>\r\n<!-- 1&#45;&#45;3 -->\r\n<g id=\"edge5\" class=\"edge\"><title>1&#45;&#45;3</title>\r\n<path fill=\"none\" stroke=\"black\" d=\"M146.143,-69.8705C110.405,-46.0449 34.0926,4.82993 -1.56659,28.6027\"/>\r\n</g>\r\n<!-- 3&#45;&#45;6 -->\r\n<g id=\"edge6\" class=\"edge\"><title>3&#45;&#45;6</title>\r\n<path fill=\"none\" stroke=\"black\" d=\"M-35.6787,56.3474C-45.2843,65.953 -57.7103,78.3791 -67.3724,88.0412\"/>\r\n</g>\r\n<!-- 5 -->\r\n<g id=\"node6\" class=\"node\"><title>5</title>\r\n<ellipse fill=\"none\" stroke=\"black\" cx=\"41.3375\" cy=\"41.3375\" rx=\"27\" ry=\"18\"/>\r\n<text text-anchor=\"middle\" x=\"41.3375\" y=\"45.0375\" font-family=\"Times New Roman,serif\" font-size=\"14.00\">5</text>\r\n</g>\r\n<!-- 3&#45;&#45;5 -->\r\n<g id=\"edge7\" class=\"edge\"><title>3&#45;&#45;5</title>\r\n<path fill=\"none\" stroke=\"black\" d=\"M6.34771,41.3375C8.95855,41.3375 11.6078,41.3375 14.2196,41.3375\"/>\r\n</g>\r\n</g>\r\n</svg>\r\n",
      "text/plain": [
       "<graphviz.dot.Graph at 0x1fda177af88>"
      ]
     },
     "metadata": {},
     "execution_count": 20
    }
   ],
   "metadata": {}
  },
  {
   "cell_type": "markdown",
   "source": [
    "## Exercise\r\n",
    "\r\n",
    "Now, let's implement the Prim algorithm. The general idea is to start the search from a node `s`. Initially, only nodes directly connected to `s` are considered. We use a priority queue to sort these nodes according to the edge weight. The priority queue is implementated with a binary heap data structure using Python's [heapq](https://docs.python.org/3/library/heapq.html) module. The node `u` with the smallest cost connecting to `s` is removed from the priority queue and inserted into the MST. The search expands to include the vertices that directly connect to `u`. These nodes are inserted into the priority queue, and the procedure repeats according to the following algorithm:\r\n",
    "\r\n",
    "![Prim](img/Prim.png)\r\n",
    "\r\n",
    "Notice that `S` maintains the nodes currently in the MST. It is crucial to avoid inserting the same node twice since it would create a cycle. \r\n",
    "\r\n",
    "We have created a stub for you. You need to complete the gaps where there is an ellipsis."
   ],
   "metadata": {}
  },
  {
   "cell_type": "code",
   "execution_count": 21,
   "source": [
    "class Graph(Graph):\r\n",
    "    def prim(self, start):\r\n",
    "        \"\"\"\r\n",
    "        argument \r\n",
    "        `start`, start vertex\r\n",
    "        \"\"\"      \r\n",
    "        # Intialise set 'visited' with vertex s\r\n",
    "        visited = ...\r\n",
    "        # Initialise priority queue Q with an empty list\r\n",
    "        Q = ...\r\n",
    "        # Initilise list tree with empty Graph object. This object will have the MST at the end of the execution\r\n",
    "        tree = ...\r\n",
    "        # Initialise the priority queue Q with outgoing edges from s\r\n",
    "        for e in self.adj_list[start]:\r\n",
    "            # There is a trick here. Python prioriy queues accept tuples but the first entry of the tuple must be the priority value\r\n",
    "            pq.heappush(Q, ...)\r\n",
    "        while len(Q) > 0:\r\n",
    "            # Remove element from Q with the smallest weight\r\n",
    "            weight, v, u = pq.heappop(Q)\r\n",
    "            # If the node is already in 'visited' we cannot include it in the MST since it would create a cycle\r\n",
    "            if u not in visited:\r\n",
    "                # Let's grow the MST by inserting the vertex in visited\r\n",
    "                ...\r\n",
    "                # Also we insert the edge in tree\r\n",
    "                ...\r\n",
    "                # We iterate over all outgoing edges of u\r\n",
    "                for e in self.adj_list[u]:\r\n",
    "                    # We are interested in edges that connect to vertices not in 'visited' and with smaller weight than known values stored in a\r\n",
    "                    if e not in visited:\r\n",
    "                        # Edge e is of interest, let's store in the priority queue for future analysis\r\n",
    "                        pq.heappush(Q, ...)        \r\n",
    "        return tree\r\n",
    "        \r\n",
    "#######################################\r\n",
    "# Test code\r\n",
    "#######################################\r\n",
    "g = Graph()\r\n",
    "g.add_edge(0,2,weight=4,directed=False)\r\n",
    "g.add_edge(0,1,weight=24,directed=False)\r\n",
    "g.add_edge(2,3,weight=6,directed=False)\r\n",
    "g.add_edge(2,6,weight=16,directed=False)\r\n",
    "g.add_edge(3,6,weight=8,directed=False)\r\n",
    "g.add_edge(3,5,weight=5,directed=False)\r\n",
    "g.add_edge(3,1,weight=23,directed=False)\r\n",
    "# TODO: copy the rest of the edges from above\r\n",
    "...\r\n",
    "\r\n",
    "tree = g.prim(0)\r\n",
    "print(tree.edge_weights)\r\n",
    "tree.show()"
   ],
   "outputs": [
    {
     "output_type": "error",
     "ename": "TypeError",
     "evalue": "heap argument must be a list",
     "traceback": [
      "\u001b[1;31m---------------------------------------------------------------------------\u001b[0m",
      "\u001b[1;31mTypeError\u001b[0m                                 Traceback (most recent call last)",
      "\u001b[1;32m<ipython-input-21-cc8a181392e2>\u001b[0m in \u001b[0;36m<module>\u001b[1;34m\u001b[0m\n\u001b[0;32m     46\u001b[0m \u001b[1;33m...\u001b[0m\u001b[1;33m\u001b[0m\u001b[1;33m\u001b[0m\u001b[0m\n\u001b[0;32m     47\u001b[0m \u001b[1;33m\u001b[0m\u001b[0m\n\u001b[1;32m---> 48\u001b[1;33m \u001b[0mtree\u001b[0m \u001b[1;33m=\u001b[0m \u001b[0mg\u001b[0m\u001b[1;33m.\u001b[0m\u001b[0mprim\u001b[0m\u001b[1;33m(\u001b[0m\u001b[1;36m0\u001b[0m\u001b[1;33m)\u001b[0m\u001b[1;33m\u001b[0m\u001b[1;33m\u001b[0m\u001b[0m\n\u001b[0m\u001b[0;32m     49\u001b[0m \u001b[0mprint\u001b[0m\u001b[1;33m(\u001b[0m\u001b[0mtree\u001b[0m\u001b[1;33m.\u001b[0m\u001b[0medge_weights\u001b[0m\u001b[1;33m)\u001b[0m\u001b[1;33m\u001b[0m\u001b[1;33m\u001b[0m\u001b[0m\n\u001b[0;32m     50\u001b[0m \u001b[0mtree\u001b[0m\u001b[1;33m.\u001b[0m\u001b[0mshow\u001b[0m\u001b[1;33m(\u001b[0m\u001b[1;33m)\u001b[0m\u001b[1;33m\u001b[0m\u001b[1;33m\u001b[0m\u001b[0m\n",
      "\u001b[1;32m<ipython-input-21-cc8a181392e2>\u001b[0m in \u001b[0;36mprim\u001b[1;34m(self, start)\u001b[0m\n\u001b[0;32m     14\u001b[0m         \u001b[1;32mfor\u001b[0m \u001b[0me\u001b[0m \u001b[1;32min\u001b[0m \u001b[0mself\u001b[0m\u001b[1;33m.\u001b[0m\u001b[0madj_list\u001b[0m\u001b[1;33m[\u001b[0m\u001b[0mstart\u001b[0m\u001b[1;33m]\u001b[0m\u001b[1;33m:\u001b[0m\u001b[1;33m\u001b[0m\u001b[1;33m\u001b[0m\u001b[0m\n\u001b[0;32m     15\u001b[0m             \u001b[1;31m# There is a trick here. Python prioriy queues accept tuples but the first entry of the tuple must be the priority value\u001b[0m\u001b[1;33m\u001b[0m\u001b[1;33m\u001b[0m\u001b[1;33m\u001b[0m\u001b[0m\n\u001b[1;32m---> 16\u001b[1;33m             \u001b[0mpq\u001b[0m\u001b[1;33m.\u001b[0m\u001b[0mheappush\u001b[0m\u001b[1;33m(\u001b[0m\u001b[0mQ\u001b[0m\u001b[1;33m,\u001b[0m \u001b[1;33m...\u001b[0m\u001b[1;33m)\u001b[0m\u001b[1;33m\u001b[0m\u001b[1;33m\u001b[0m\u001b[0m\n\u001b[0m\u001b[0;32m     17\u001b[0m         \u001b[1;32mwhile\u001b[0m \u001b[0mlen\u001b[0m\u001b[1;33m(\u001b[0m\u001b[0mQ\u001b[0m\u001b[1;33m)\u001b[0m \u001b[1;33m>\u001b[0m \u001b[1;36m0\u001b[0m\u001b[1;33m:\u001b[0m\u001b[1;33m\u001b[0m\u001b[1;33m\u001b[0m\u001b[0m\n\u001b[0;32m     18\u001b[0m             \u001b[1;31m# Remove element from Q with the smallest weight\u001b[0m\u001b[1;33m\u001b[0m\u001b[1;33m\u001b[0m\u001b[1;33m\u001b[0m\u001b[0m\n",
      "\u001b[1;31mTypeError\u001b[0m: heap argument must be a list"
     ]
    }
   ],
   "metadata": {}
  },
  {
   "cell_type": "markdown",
   "source": [
    "If your algorithm is correct, you should see the following output:\n",
    "```\n",
    "{(0, 2): 4, (2, 3): 6, (3, 5): 5, (3, 6): 8, (5, 4): 11, (4, 7): 7, (4, 1): 9}\n",
    "```\n",
    "\n",
    "You can compare it to the figure to confirm it is correct."
   ],
   "metadata": {}
  },
  {
   "cell_type": "markdown",
   "source": [
    "## Final Task\n",
    "\n",
    "Create a python file called Graph.py containing the Graph class we implemented above. This will be used in future tutorials."
   ],
   "metadata": {}
  },
  {
   "cell_type": "markdown",
   "source": [
    "# Extensions\n",
    "\n",
    "We could implement some additional functions such as:\n",
    "1. Use the graph transpose routine to implement the Kosaraju's algorithm as we discussed in the theory part of this tutorial. \n",
    "\n",
    "2. Change the Prim algorithm to find the *Maximal* Spanning Tree. Such implementation could be achieved by replacing the min-heap by a max-heap.\n",
    "\n",
    "That is all for today. Next week we will develop some code to store and manipulate probability tables."
   ],
   "metadata": {}
  }
 ],
 "metadata": {
  "interpreter": {
   "hash": "2785b17f9196f22234bf58afb060d0b1852a8d3b4231ff22db401df2abff400e"
  },
  "kernelspec": {
   "name": "python3",
   "display_name": "Python 3.8.8 64-bit ('vision': conda)"
  },
  "language_info": {
   "codemirror_mode": {
    "name": "ipython",
    "version": 3
   },
   "file_extension": ".py",
   "mimetype": "text/x-python",
   "name": "python",
   "nbconvert_exporter": "python",
   "pygments_lexer": "ipython3",
   "version": "3.8.8"
  },
  "toc": {
   "colors": {
    "hover_highlight": "#DAA520",
    "navigate_num": "#000000",
    "navigate_text": "#333333",
    "running_highlight": "#FF0000",
    "selected_highlight": "#FFD700",
    "sidebar_border": "#EEEEEE",
    "wrapper_background": "#FFFFFF"
   },
   "moveMenuLeft": true,
   "nav_menu": {
    "height": "198px",
    "width": "252px"
   },
   "navigate_menu": true,
   "number_sections": true,
   "sideBar": true,
   "threshold": 4,
   "toc_cell": false,
   "toc_position": {
    "height": "625px",
    "left": "0px",
    "right": "1067.67px",
    "top": "107px",
    "width": "212px"
   },
   "toc_section_display": "block",
   "toc_window_display": true,
   "widenNotebook": false
  }
 },
 "nbformat": 4,
 "nbformat_minor": 2
}