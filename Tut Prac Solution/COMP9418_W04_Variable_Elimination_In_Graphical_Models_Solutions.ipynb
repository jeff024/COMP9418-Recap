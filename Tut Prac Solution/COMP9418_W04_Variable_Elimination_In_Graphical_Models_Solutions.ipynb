{
  "cells": [
    {
      "cell_type": "markdown",
      "metadata": {
        "id": "14TTRkByxCVJ"
      },
      "source": [
        "# Variable Elimination in Graphical Models\n",
        "\n",
        "**COMP9418-19T3, W04 Tutorial**\n",
        "\n",
        "- Instructor: Gustavo Batista\n",
        "- School of Computer Science and Engineering, UNSW Sydney\n",
        "- Notebook designed by Gustavo Batista and Jeremy Gillen\n",
        "- Last Update 18 August 2021\n",
        "$$\n",
        "% macros\n",
        "\\newcommand{\\indep}{\\perp \\!\\!\\!\\perp}\n",
        "$$"
      ]
    },
    {
      "cell_type": "markdown",
      "metadata": {
        "id": "dHS39FeZxCVP"
      },
      "source": [
        "In this week's tutorial, we will implement and investigate the efficiency of the Variable Elimination (VE) algorithm and the min-degree heuristic for finding a good elimination order."
      ]
    },
    {
      "cell_type": "markdown",
      "metadata": {
        "id": "0MIhoSJ8xCVQ"
      },
      "source": [
        "## Technical prerequisites\n",
        "\n",
        "You will need certain packages installed to run this notebook.\n",
        "\n",
        "If you are using Google Colab or ``conda``'s default [full installation](https://conda.io/docs/install/full.html), these requirements should all be satisfied already.\n",
        "\n",
        "If you are using ``virtualenv`` or other native package management, you may need to run this command:\n",
        "\n",
        "```python\n",
        "pip3 install matplotlib\n",
        "```\n",
        "\n",
        "To render a visualization of some graphical models, you also need to install Graphviz [download page](http://www.graphviz.org/download). We have already used this library in Tutorial 1, thus, you should have it installed.\n",
        "\n",
        "Once we have done all that, we import some useful modules for later use."
      ]
    },
    {
      "cell_type": "code",
      "execution_count": 27,
      "metadata": {
        "id": "LAL7eYuoxCVR"
      },
      "outputs": [],
      "source": [
        "# combinatorics\n",
        "from itertools import product, combinations, permutations\n",
        "# visualise plots\n",
        "import matplotlib.pyplot as plt\n",
        "# math library to get access to math.inf\n",
        "import math"
      ]
    },
    {
      "cell_type": "markdown",
      "metadata": {
        "id": "KF7wkH2ZxCVT"
      },
      "source": [
        "Import classes from `DiscreteFactors.py`, `Graph.py` and `BayesNet.py` developed in previous tutorials. If you are using Colab, upload the files by clicking the \"files\" ![File](https://github.com/UNSW-COMP9418/Week04/blob/main/img/file.png?raw=1) button on the left side of the page, then the \"upload files\" ![Upload](https://github.com/UNSW-COMP9418/Week04/blob/main/img/upload.png?raw=1)\n",
        "button. Then select the relevant python files."
      ]
    },
    {
      "cell_type": "code",
      "execution_count": 28,
      "metadata": {
        "id": "HcLtUw6KxCVT"
      },
      "outputs": [],
      "source": [
        "from DiscreteFactors import Factor\n",
        "from Graph import Graph\n",
        "from BayesNet import BayesNet"
      ]
    },
    {
      "cell_type": "markdown",
      "metadata": {
        "id": "bnZdcWqJxCVU"
      },
      "source": [
        "## The ICU network\n",
        "\n",
        "Once again we will use a subset of the ICU-Alarm network. You should remember this Bayesian Network from Week 3 tutorial. In any case, this is a graphical representation of the nine nodes we will use in this tutorial.\n",
        "\n",
        "![ICU Graph](img/ICU_graph.png \"Graph exercise\")"
      ]
    },
    {
      "cell_type": "markdown",
      "metadata": {
        "id": "czj0X5ztxCVV"
      },
      "source": [
        "In the Week 3 Tutorial, we learned the ICU Alarm network parameters from data. This week, we will simplify the code and provide the conditional probability tables (CPTs) directly. We defined a BayesNet named `ICU_Net` with the CPTs of the nine variables in the subset of the ICU-Alarm network.\n",
        "\n",
        "The `ICU_Net.factors` dictionary associates a key, in this case, the name of the child node, to each factor. Initially, each factor is a CPT. However, as we multiply factors, we will generate tables of different formats. Some of these factors will not be probability distributions. Therefore, we use the name \"factor\" to designate a generalization of the idea of a CPT.\n",
        "\n",
        "As we work with factors, our code will be equally prepared to work with Bayesian and Markov networks we will see in a future lecture.\n",
        "\n",
        "Let's start defining the Bayes Net for ICU-Alarm network. Instead of learning the parameters from data, we will define them directly."
      ]
    },
    {
      "cell_type": "code",
      "execution_count": 29,
      "metadata": {
        "id": "GgQhjY92xCVW"
      },
      "outputs": [],
      "source": [
        "# define Bayes Net Graph\n",
        "graph = Graph({\n",
        "    'L': ['S', 'V'],\n",
        "    'H': ['S', 'V'],\n",
        "    'S': ['O'],\n",
        "    'V': ['C', 'O'],\n",
        "    'O': ['B'],\n",
        "    'A': ['T'],\n",
        "    'T': ['B'],\n",
        "    'C': [],\n",
        "    'B': [],\n",
        "})\n",
        "# Define outcome space of each random variable\n",
        "outcomeSpace = dict(\n",
        "    H=(0,1),\n",
        "    L=(0,1),\n",
        "    A=(0,1),\n",
        "    V=(0,1),\n",
        "    S=(0,1),\n",
        "    T=(0,1),\n",
        "    C=(0,1,2),\n",
        "    O=(0,1,2),\n",
        "    B=(0,1,2),\n",
        ")\n",
        "# Initialize Bayesian Network object\n",
        "ICU_Net = BayesNet(graph, outcomeSpace)\n",
        "\n",
        "# Add each factor one by one to the ICU_Net object\n",
        "h = Factor(('H',), outcomeSpace)\n",
        "h[0] = 0.8\n",
        "h[1] = 0.2\n",
        "ICU_Net.factors['H'] = h\n",
        "\n",
        "v = Factor(('L', 'H', 'V'), outcomeSpace)\n",
        "v[0, 0, 0] = 0.05\n",
        "v[0, 0, 1] = 0.95\n",
        "v[0, 1, 0] = 0.99\n",
        "v[0, 1, 1] = 0.01\n",
        "v[1, 0, 0] = 0\n",
        "v[1, 0, 1] = 1\n",
        "v[1, 1, 0] = 1\n",
        "v[1, 1, 1] = 0\n",
        "ICU_Net.factors['V'] = v\n",
        "\n",
        "c = Factor(('V', 'C'), outcomeSpace)\n",
        "c[0, 0] = 0.94\n",
        "c[0, 1] = 0.04\n",
        "c[0, 2] = 0.02\n",
        "c[1, 0] = 0.02\n",
        "c[1, 1] = 0.26\n",
        "c[1, 2] = 0.72\n",
        "ICU_Net.factors['C'] = c\n",
        "\n",
        "l = Factor(('L',), outcomeSpace)\n",
        "l[0] = 0.95\n",
        "l[1] = 0.05\n",
        "ICU_Net.factors['L'] = l\n",
        "\n",
        "s = Factor(('L','H','S'), outcomeSpace)\n",
        "s[0, 0, 0] = 0.04\n",
        "s[0, 0, 1] = 0.96\n",
        "s[0, 1, 0] = 0.48\n",
        "s[0, 1, 1] = 0.52\n",
        "s[1, 0, 0] = 0.95\n",
        "s[1, 0, 1] = 0.05\n",
        "s[1, 1, 0] = 0\n",
        "s[1, 1, 1] = 1\n",
        "ICU_Net.factors['S'] = s\n",
        "\n",
        "o = Factor(('S', 'V', 'O'), outcomeSpace)\n",
        "o[0, 0, 0] = 0.97\n",
        "o[0, 0, 1] = 0.01\n",
        "o[0, 0, 2] = 0.02\n",
        "o[0, 1, 0] = 0.78\n",
        "o[0, 1, 1] = 0.19\n",
        "o[0, 1, 2] = 0.03\n",
        "o[1, 0, 0] = 0.22\n",
        "o[1, 0, 1] = 0.76\n",
        "o[1, 0, 2] = 0.02\n",
        "o[1, 1, 0] = 0.01\n",
        "o[1, 1, 1] = 0.01\n",
        "o[1, 1, 2] = 0.98  \n",
        "ICU_Net.factors['O'] = o\n",
        "\n",
        "t = Factor(('A','T'), outcomeSpace)\n",
        "t[0, 0] = 0.30\n",
        "t[0, 1] = 0.70\n",
        "t[1, 0] = 1\n",
        "t[1, 1] = 0\n",
        "ICU_Net.factors['T'] = t\n",
        "\n",
        "b = Factor(('O', 'T', 'B'), outcomeSpace)\n",
        "b[0, 0, 0] = 1\n",
        "b[0, 0, 1] = 0\n",
        "b[0, 0, 2] = 0\n",
        "b[0, 1, 0] = 0.30\n",
        "b[0, 1, 1] = 0.62\n",
        "b[0, 1, 2] = 0.08\n",
        "b[1, 0, 0] = 0.93\n",
        "b[1, 0, 1] = 0.07\n",
        "b[1, 0, 2] = 0\n",
        "b[1, 1, 0] = 0.02\n",
        "b[1, 1, 1] = 0.49\n",
        "b[1, 1, 2] = 0.49\n",
        "b[2, 0, 0] = 0.90\n",
        "b[2, 0, 1] = 0.08\n",
        "b[2, 0, 2] = 0.02\n",
        "b[2, 1, 0] = 0.01\n",
        "b[2, 1, 1] = 0.08\n",
        "b[2, 1, 2] = 0.91 \n",
        "ICU_Net.factors['B'] = b\n",
        "\n",
        "a = Factor(('A',), outcomeSpace)\n",
        "a[0] = 0.99\n",
        "a[1] = 0.01\n",
        "ICU_Net.factors['A'] = a\n"
      ]
    },
    {
      "cell_type": "markdown",
      "metadata": {
        "id": "iMfApxdxxCVX"
      },
      "source": [
        "## Elimination Order Width\n",
        "\n",
        "Let's start our code with a straightforward function that will help us to build more complex ones. An essential concept in variable elimination is the `width` of an elimination order. It is defined as the number of variables (after summation) of the largest factor created during the execution of the Variable Elimination (VE) algorithm.\n",
        "\n",
        "The `width` of an elimination order is a measure of its quality. Elimination orders with small `width` tend to be more efficient than the ones with larger `width`.\n",
        "\n",
        "We can efficiently compute the `width` of an elimination order by simulating the VE algorithm. The idea is that we will keep track of the factor domains, but we will not perform the multiplication and summation of factors. \n",
        "\n",
        "### Exercise\n",
        "\n",
        "We will implement our first function `width` that returns the width of an elimination order. \n",
        "This function will take an elimination order (list of variable names), and go through the motions of Variable Elimination to find the width of this order."
      ]
    },
    {
      "cell_type": "code",
      "execution_count": 30,
      "metadata": {
        "id": "_Cd-YP8YxCVZ",
        "outputId": "383dbc01-fc15-4310-9ec8-2e58278fd6d5"
      },
      "outputs": [
        {
          "name": "stdout",
          "output_type": "stream",
          "text": [
            "Elimination order width: 5\n"
          ]
        }
      ],
      "source": [
        "# Answer\n",
        "\n",
        "class BayesNet(BayesNet):\n",
        "    def width(self, order):\n",
        "        \"\"\"\n",
        "        argument \n",
        "        `order`, a list of variable names specifying an elimination order.\n",
        "\n",
        "        Returns the width of the elimination order, i.e., the number of variables of the largest factor\n",
        "        \"\"\"   \n",
        "        # Initialize w, a variable that has a width of the elimination order\n",
        "        w = 0\n",
        "        # Let's make a list of tuples, where each tuple is a factor domain. Create one tuple for each factor in the BN\n",
        "        factorList = [f.domain for f in self.factors.values()]\n",
        "        # We process the factor in elimination order\n",
        "        for var in order:\n",
        "            # This is the domain of the new factor. We use sets as it is handy to eliminate duplicate variables\n",
        "            newFactorDom = set()\n",
        "            # A list to keep track of all the factors we will keep for the next iteration (all factors not containing `var`)\n",
        "            updatedFactorsList = list()            \n",
        "\n",
        "            # Lets iterate over all factors\n",
        "            for f_dom in factorList:\n",
        "                # and select the ones that have the variable to be eliminated\n",
        "                if var in f_dom:\n",
        "                    # Merge the newFactorDomain list with the selected domain, since we are combining these ones\n",
        "                    newFactorDom.update(f_dom)\n",
        "                else:\n",
        "                    # otherwise, we add the factor to the list to be processed in the next iteration\n",
        "                    updatedFactorsList.append(f_dom)\n",
        "\n",
        "            # Now, we need to remove var from the domain of the new factor. We are simulating a summation\n",
        "            newFactorDom.remove(var)            # Remove var from the list new_dom by calling the method remove(). 1 line\n",
        "            # Let's check if we have found a new largest factor\n",
        "            if len(newFactorDom) > w:\n",
        "                w = len(newFactorDom)\n",
        "            # add the new combined factor domain to the list\n",
        "            updatedFactorsList.append(newFactorDom)\n",
        "            # replace factor list with updated factor list (getting rid of all factors containing var)\n",
        "            factorList = updatedFactorsList\n",
        "\n",
        "        return w\n",
        "\n",
        "# reinitialise ICU_net so that it has width function\n",
        "ICU_Net = BayesNet(ICU_Net.graph, ICU_Net.outcomeSpace, ICU_Net.factors)\n",
        "\n",
        "######################\n",
        "# Test code\n",
        "\n",
        "print(\"Elimination order width: %d\" % ICU_Net.width(['V', 'H', 'S', 'L', 'O', 'A', 'T', 'B', 'C']))"
      ]
    },
    {
      "cell_type": "markdown",
      "metadata": {
        "id": "7hGw0UT8xCVZ"
      },
      "source": [
        "If you implemented your code correctly, you should see the following output:\n",
        "\n",
        "```\n",
        "Elimination order width: 5\n",
        "```\n",
        "\n",
        "There are several observations about the `width` function:\n",
        "\n",
        "1. Each iteration eliminates one variable in the list `order`.\n",
        "2. The elimination is achieved by scanning `factors` and finding all factors whose domain has the elimination variable.\n",
        "3. We simulate the join operation by creating a list with all variables present in factors that contain the elimination variable.\n",
        "4. We remove the elimination variable before we compute the `width`. Therefore, we obtain the value according to the definition.\n",
        "5. We simulate the creation of a new factor and insert this dummy factor in the dictionary of factors."
      ]
    },
    {
      "cell_type": "markdown",
      "metadata": {
        "id": "ZejQNOPAxCVa"
      },
      "source": [
        "## Variable Elimination (VE) Algorithm\n",
        "\n",
        "Let's use the previous function to implement the first version of our VE algorithm. We will need the join and marginalize operations implemented in the earlier tutorials in the Factor class. \n"
      ]
    },
    {
      "cell_type": "markdown",
      "metadata": {
        "id": "tlyDlIiPxCVb"
      },
      "source": [
        "### Exercise\n",
        "\n",
        "Now we are in the position to implement the function `VE` that will execute the Variable Elimination algorithm for a given variable order. The code is very similar to the `width` function, except instead of only keeping track of the factor domains, we will keep track of the whole factor objects. \n",
        "\n",
        "As part of this exercise, we will use global variables `muls` and `adds` to count the number of multiplications and additions that will during the join and marginalize operations. We will use this to measure the efficiency of the algorithm. Do this part of the algorithm after getting the function working. For this exercise, it may be useful to know that if `f` is a factor object, you can use `f.table.size` to get the number of elements in the table that makes up that factor. This is useful when working out how many multiplications occured in a join operation, and how many additions happened in a marginalize operation."
      ]
    },
    {
      "cell_type": "code",
      "execution_count": 31,
      "metadata": {
        "id": "6GMtVMikxCVb",
        "outputId": "a388fd39-d3f5-427d-e62b-3080b5f35308"
      },
      "outputs": [
        {
          "name": "stdout",
          "output_type": "stream",
          "text": [
            "╒═════╤══════════╕\n",
            "│   C │       Pr │\n",
            "╞═════╪══════════╡\n",
            "│   0 │ 0.237212 │\n",
            "├─────┼──────────┤\n",
            "│   1 │ 0.208058 │\n",
            "├─────┼──────────┤\n",
            "│   2 │ 0.55473  │\n",
            "╘═════╧══════════╛\n",
            "\n",
            "Number of additions: 355\n",
            "Number of multiplications: 342\n"
          ]
        }
      ],
      "source": [
        "# Answer\n",
        "\n",
        "class BayesNet(BayesNet):\n",
        "    def VE(self, order):\n",
        "        \"\"\"\n",
        "        argument \n",
        "        `order`, a list of variable names specifying an elimination order.\n",
        "\n",
        "        Returns a single factor, the which remains after eliminating all other factors\n",
        "        \"\"\"   \n",
        "        global muls, adds\n",
        "        # Let's make a copy of factors, so we can freely modify it without destroying the original dictionary\n",
        "        factorList = [f for f in self.factors.values()]\n",
        "        # We process the factors in elimination order\n",
        "        for var in order:\n",
        "            # We create an empty factor as an accumulator\n",
        "            newFactor = Factor(tuple(), self.outcomeSpace)\n",
        "            first = True\n",
        "            # A list to keep track of all the factors we will keep for the next step\n",
        "            updatedFactorsList = list()            \n",
        "\n",
        "            # Lets iterate over all factors\n",
        "            for f in factorList:\n",
        "                # and select the ones that have the variable to be eliminated\n",
        "                if var in f.domain:\n",
        "                    # Merge the newFactorDomain list with the selected domain, since we are combining these ones\n",
        "                    newFactor = newFactor*f\n",
        "                    if not first:\n",
        "                        muls += newFactor.table.size\n",
        "                    first = False\n",
        "                        \n",
        "                else:\n",
        "                    # otherwise, we leave the factor for the next iteration\n",
        "                    updatedFactorsList.append(f)\n",
        "\n",
        "            # Now, we need to remove var from the domain of the new factor.\n",
        "            adds += newFactor.table.size\n",
        "            newFactor = newFactor.marginalize(var)\n",
        "            # add the new combined factor domain to the list\n",
        "            updatedFactorsList.append(newFactor)\n",
        "            # replace factorList with the new factor list, ready for the next iteration\n",
        "            factorList = updatedFactorsList\n",
        "        # for the final step, we join all remaining factors (usually there will only be one factor remaining)\n",
        "        returnFactor = Factor(tuple(), self.outcomeSpace)\n",
        "        for f in factorList:\n",
        "            returnFactor = returnFactor*f\n",
        "        return returnFactor\n",
        "\n",
        "\n",
        "######################\n",
        "# Test code\n",
        "\n",
        "# reinitialise ICU_net so that it has VE function\n",
        "ICU_Net = BayesNet(ICU_Net.graph, ICU_Net.outcomeSpace, ICU_Net.factors)\n",
        "\n",
        "adds = 0\n",
        "muls = 0\n",
        "\n",
        "print(ICU_Net.VE(['V', 'H', 'S', 'L', 'O', 'A', 'T', 'B']))\n",
        "print(\"Number of additions: %d\" %adds)\n",
        "print(\"Number of multiplications: %d\" %muls)"
      ]
    },
    {
      "cell_type": "markdown",
      "metadata": {
        "id": "F4MYde4axCVc"
      },
      "source": [
        "If you implemented your code correctly, you should see the following output:\n",
        "\n",
        "```\n",
        "╒═════╤══════════╕\n",
        "│   C │       Pr │\n",
        "╞═════╪══════════╡\n",
        "│   0 │ 0.237212 │\n",
        "├─────┼──────────┤\n",
        "│   1 │ 0.208058 │\n",
        "├─────┼──────────┤\n",
        "│   2 │ 0.55473  │\n",
        "╘═════╧══════════╛\n",
        "\n",
        "Number of additions: 355\n",
        "Number of multiplications: 342\n",
        "```"
      ]
    },
    {
      "cell_type": "markdown",
      "metadata": {
        "id": "2ZLrHKdZxCVc"
      },
      "source": [
        "## Inference by Enumeration\n",
        "\n",
        "It is unclear how good these numbers of additions and multiplications are. We need to compare them with other elimination orders. However, we will first compute the number of operations required by inference by enumeration. Inference by enumeration will provide an upper-bound of the number of operations as well as an idea of the VE efficiency.\n",
        "\n",
        "Reminder that inference by enumeration is the algorithm that joins all factors before eliminating any variables. We implemented this algorithm last week, this time we will count `adds` and `muls`.\n",
        "\n",
        "## Exercise\n",
        "\n",
        "Implement the `inferenceByEnum` function by changing the order of the operations. Join all factors first and then eliminate the variables in `order`."
      ]
    },
    {
      "cell_type": "code",
      "execution_count": 32,
      "metadata": {
        "id": "A0rghk9FxCVe",
        "outputId": "c4f82dd6-b19f-4fd8-f0ed-2963459446c9"
      },
      "outputs": [
        {
          "name": "stdout",
          "output_type": "stream",
          "text": [
            "╒═════╤══════════╕\n",
            "│   C │       Pr │\n",
            "╞═════╪══════════╡\n",
            "│   0 │ 0.237212 │\n",
            "├─────┼──────────┤\n",
            "│   1 │ 0.208058 │\n",
            "├─────┼──────────┤\n",
            "│   2 │ 0.55473  │\n",
            "╘═════╧══════════╛\n",
            "\n",
            "Number of additions: 3411\n",
            "Number of multiplications: 4280\n"
          ]
        }
      ],
      "source": [
        "# Answer\n",
        "class BayesNet(BayesNet):\n",
        "    def inferenceByEnum(self, order):\n",
        "        global muls, adds\n",
        "        # Let's make a list of factors\n",
        "        factorList = list(self.factors.values())\n",
        "        \n",
        "        # Create an empty factor as accumulator \n",
        "        newFactor = Factor(tuple(), self.outcomeSpace)\n",
        "\n",
        "        first = True\n",
        "        # Lets iterate over all factors\n",
        "        for f in factorList:\n",
        "            # Merge the newFactorDomain list with the selected domain, since we are combining these ones\n",
        "            newFactor = newFactor*f\n",
        "            if not first:\n",
        "                muls += newFactor.table.size\n",
        "            first = False\n",
        "            \n",
        "        for var in order:\n",
        "            # Now, we need to remove var from the domain of the new factor. \n",
        "            adds += newFactor.table.size\n",
        "            newFactor = newFactor.marginalize(var)\n",
        "\n",
        "        return newFactor\n",
        "\n",
        "\n",
        "######################\n",
        "# Test code\n",
        "\n",
        "# reinitialise ICU_net so that it has VE function\n",
        "ICU_Net = BayesNet(ICU_Net.graph, ICU_Net.outcomeSpace, ICU_Net.factors)\n",
        "\n",
        "adds = 0\n",
        "muls = 0\n",
        "print(ICU_Net.inferenceByEnum(['V', 'H', 'S', 'L', 'O', 'A', 'T', 'B']))\n",
        "print(\"Number of additions: %d\" %adds)\n",
        "print(\"Number of multiplications: %d\" %muls)        "
      ]
    },
    {
      "cell_type": "markdown",
      "metadata": {
        "id": "xu7fs2XFxCVf"
      },
      "source": [
        "If you implemented your code correctly, you should see the following output:\n",
        "\n",
        "```\n",
        "╒═════╤══════════╕\n",
        "│   C │       Pr │\n",
        "╞═════╪══════════╡\n",
        "│   0 │ 0.237212 │\n",
        "├─────┼──────────┤\n",
        "│   1 │ 0.208058 │\n",
        "├─────┼──────────┤\n",
        "│   2 │ 0.55473  │\n",
        "╘═════╧══════════╛\n",
        "\n",
        "Number of additions: 3411\n",
        "Number of multiplications: 4280\n",
        "```"
      ]
    },
    {
      "cell_type": "markdown",
      "metadata": {
        "id": "W-q-Tf6XxCVf"
      },
      "source": [
        "## Width and Number of Operations\n",
        "\n",
        "An interesting question is how the width measure correlates with the actual number of addition and multiplication operations. We can plot these two measures of inference efficiency.\n",
        "\n",
        "### Exercise\n",
        "\n",
        "Compare the number of multiplications with the width of the elimination order. We have created a piece of code that does part of the work for you. The idea is to generate all possible permutations of the elimination list and measure the width and number of multiplications. We will work with only seven variables since the number of permutations grows exponentially with the number of variables."
      ]
    },
    {
      "cell_type": "code",
      "execution_count": 33,
      "metadata": {
        "id": "B0PdAfd5xCVh",
        "outputId": "6366ab11-dacb-48a7-9685-bbb0f5ed7634"
      },
      "outputs": [
        {
          "name": "stdout",
          "output_type": "stream",
          "text": [
            "     0      5 342.000000\n",
            "   100      5 347.000000\n",
            "   200      5 442.000000\n",
            "   300      5 558.000000\n",
            "   400      6 874.000000\n",
            "   500      5 333.000000\n",
            "   600      5 374.000000\n",
            "   700      5 428.000000\n",
            "   800      4 298.000000\n",
            "   900      4 250.000000\n",
            "  1000      3 111.000000\n",
            "  1100      5 498.000000\n",
            "  1200      4 226.000000\n",
            "  1300      4 280.000000\n",
            "  1400      4 258.000000\n",
            "  1500      5 490.000000\n",
            "  1600      4 159.000000\n",
            "  1700      4 314.000000\n",
            "  1800      5 490.000000\n",
            "  1900      5 582.000000\n",
            "  2000      5 330.000000\n",
            "  2100      4 314.000000\n",
            "  2200      4 199.000000\n",
            "  2300      4 266.000000\n",
            "  2400      3 178.000000\n",
            "  2500      3 183.000000\n",
            "  2600      4 186.000000\n",
            "  2700      4 250.000000\n",
            "  2800      4 212.000000\n",
            "  2900      6 770.000000\n",
            "  3000      5 370.000000\n",
            "  3100      5 402.000000\n",
            "  3200      5 306.000000\n",
            "  3300      4 274.000000\n",
            "  3400      4 180.000000\n",
            "  3500      6 702.000000\n",
            "  3600      5 342.000000\n",
            "  3700      5 396.000000\n",
            "  3800      4 226.000000\n",
            "  3900      4 282.000000\n",
            "  4000      4 180.000000\n",
            "  4100      6 658.000000\n",
            "  4200      5 315.000000\n",
            "  4300      5 342.000000\n",
            "  4400      6 906.000000\n",
            "  4500      4 242.000000\n",
            "  4600      4 266.000000\n",
            "  4700      4 231.000000\n",
            "  4800      6 626.000000\n",
            "  4900      5 416.000000\n",
            "  5000      3 143.000000\n"
          ]
        },
        {
          "data": {
            "image/png": "[encoded data removed]",
            "text/plain": [
              "<Figure size 432x288 with 1 Axes>"
            ]
          },
          "metadata": {
            "needs_background": "light"
          },
          "output_type": "display_data"
        }
      ],
      "source": [
        "# List with width of all permutations of the elimination list ('V', 'H', 'S', 'L', 'O', 'A', 'T')\n",
        "widthList = []\n",
        "# List with number of multiplications ofr the same permutations\n",
        "mulList = []\n",
        "for i, perm in enumerate(permutations(('V', 'H', 'S', 'L', 'O', 'A', 'T'))):\n",
        "    # Call the width function for the permutation in p\n",
        "    w = ICU_Net.width(perm)\n",
        "    widthList.append(w)\n",
        "    # Initialize muls\n",
        "    muls = 0    \n",
        "    # Call the VE function to copermte the number of multpermications\n",
        "    ICU_Net.VE(perm)\n",
        "    mulList.append(muls)\n",
        "    # Print some information since it may take some time to finish\n",
        "    if (i % 100 == 0):\n",
        "        print(\"%6d %6d %1.6f\" % (i, w, muls))\n",
        "# Generate plots\n",
        "plt.plot(widthList, mulList, 'ro')\n",
        "plt.xlabel(\"Width\")\n",
        "plt.ylabel(\"Number of muls\")\n",
        "plt.show()"
      ]
    },
    {
      "cell_type": "markdown",
      "metadata": {
        "id": "EZxHVXWSxCVi"
      },
      "source": [
        "We can see that width correlates well with the number of multiplications. More importantly, small widths have a small variance that indicates a good performance independently of a specific order. The plot appears to grow exponentially.\n",
        "\n",
        "## Min-degree heuristic\n",
        "\n",
        "Having a good ordering is central to VE algorithm performance. However, it is known that finding the best order is an NP-hard problem.\n",
        "\n",
        "For a small number of variables, we can use the `width` function to test all possible orderings. The next cell implements such an approach for all nine variables."
      ]
    },
    {
      "cell_type": "code",
      "execution_count": 34,
      "metadata": {
        "id": "2HUb2HSExCVi",
        "outputId": "8a3b5626-6068-428f-cb9d-87b987c14bb7"
      },
      "outputs": [
        {
          "name": "stdout",
          "output_type": "stream",
          "text": [
            "Order with minimal width 3: \n",
            "('H', 'S', 'V', 'L', 'O', 'A', 'T', 'B', 'C')\n"
          ]
        }
      ],
      "source": [
        "minW = math.inf\n",
        "for perm in permutations(['V', 'H', 'S', 'L', 'O', 'A', 'T', 'B', 'C']):\n",
        "    # Call the width function for the permutation in p\n",
        "    w = ICU_Net.width(perm)\n",
        "    if (w < minW):\n",
        "        minP = perm\n",
        "        minW = w\n",
        "print(\"Order with minimal width %d: \" % minW)\n",
        "\n",
        "print(minP)"
      ]
    },
    {
      "cell_type": "markdown",
      "metadata": {
        "id": "AxracD3AxCVk"
      },
      "source": [
        "### Exercise\n",
        "\n",
        "For larger networks, we will need to use a heuristic approach. One of the simplest is known as min-degree. Min-degree and several other ordering heuristics operate over an undirected graph known as an *interaction graph*.\n",
        "\n",
        "The interaction graph is simply a graph in which the nodes are variables, and the edges connect variables that appear in the domain of the same factor. \n",
        "\n",
        "We will start implementing `interactionGraph` a function that receives a dictionary of factors and returns an interaction graph. We use the same adjacency list representation of the first tutorial."
      ]
    },
    {
      "cell_type": "code",
      "execution_count": 35,
      "metadata": {
        "id": "D9EBmd-rxCVl",
        "outputId": "402491d4-bc47-410d-cf1b-d79d5c6b2d7f"
      },
      "outputs": [
        {
          "data": {
            "image/svg+xml": "<?xml version=\"1.0\" encoding=\"UTF-8\" standalone=\"no\"?>\r\n<!DOCTYPE svg PUBLIC \"-//W3C//DTD SVG 1.1//EN\"\r\n \"http://www.w3.org/Graphics/SVG/1.1/DTD/svg11.dtd\">\r\n<!-- Generated by graphviz version 2.38.0 (20140413.2041)\r\n -->\r\n<!-- Title: %3 Pages: 1 -->\r\n<svg width=\"186pt\" height=\"230pt\"\r\n viewBox=\"0.00 0.00 186.01 230.02\" xmlns=\"http://www.w3.org/2000/svg\" xmlns:xlink=\"http://www.w3.org/1999/xlink\">\r\n<g id=\"graph0\" class=\"graph\" transform=\"scale(1 1) rotate(0) translate(86.1166 104.675)\">\r\n<title>%3</title>\r\n<polygon fill=\"white\" stroke=\"none\" points=\"-86.1166,125.344 -86.1166,-104.675 99.8958,-104.675 99.8958,125.344 -86.1166,125.344\"/>\r\n<!-- H -->\r\n<g id=\"node1\" class=\"node\"><title>H</title>\r\n<ellipse fill=\"none\" stroke=\"black\" cx=\"6.88958\" cy=\"-82.6749\" rx=\"27\" ry=\"18\"/>\r\n<text text-anchor=\"middle\" x=\"6.88958\" y=\"-78.9749\" font-family=\"Times New Roman,serif\" font-size=\"14.00\">H</text>\r\n</g>\r\n<!-- V -->\r\n<g id=\"node2\" class=\"node\"><title>V</title>\r\n<ellipse fill=\"none\" stroke=\"black\" cx=\"6.88958\" cy=\"-20.6687\" rx=\"27\" ry=\"18\"/>\r\n<text text-anchor=\"middle\" x=\"6.88958\" y=\"-16.9687\" font-family=\"Times New Roman,serif\" font-size=\"14.00\">V</text>\r\n</g>\r\n<!-- H&#45;&#45;V -->\r\n<g id=\"edge2\" class=\"edge\"><title>H&#45;&#45;V</title>\r\n<path fill=\"none\" stroke=\"black\" d=\"M13.0447,-65.0723C13.8297,-56.7657 13.8378,-46.8699 13.0689,-38.5307\"/>\r\n</g>\r\n<!-- L -->\r\n<g id=\"node4\" class=\"node\"><title>L</title>\r\n<ellipse fill=\"none\" stroke=\"black\" cx=\"-55.1166\" cy=\"-82.6749\" rx=\"27\" ry=\"18\"/>\r\n<text text-anchor=\"middle\" x=\"-55.1166\" y=\"-78.9749\" font-family=\"Times New Roman,serif\" font-size=\"14.00\">L</text>\r\n</g>\r\n<!-- H&#45;&#45;L -->\r\n<g id=\"edge1\" class=\"edge\"><title>H&#45;&#45;L</title>\r\n<path fill=\"none\" stroke=\"black\" d=\"M-18.3307,-76.0304C-22.0859,-75.892 -25.9585,-75.8898 -29.7174,-76.0239\"/>\r\n</g>\r\n<!-- S -->\r\n<g id=\"node5\" class=\"node\"><title>S</title>\r\n<ellipse fill=\"none\" stroke=\"black\" cx=\"-55.1166\" cy=\"-20.6687\" rx=\"27\" ry=\"18\"/>\r\n<text text-anchor=\"middle\" x=\"-55.1166\" y=\"-16.9687\" font-family=\"Times New Roman,serif\" font-size=\"14.00\">S</text>\r\n</g>\r\n<!-- H&#45;&#45;S -->\r\n<g id=\"edge3\" class=\"edge\"><title>H&#45;&#45;S</title>\r\n<path fill=\"none\" stroke=\"black\" d=\"M-2.2751,-65.5398C-10.8509,-55.061 -23.7007,-42.0321 -34.6424,-32.6355\"/>\r\n</g>\r\n<!-- V&#45;&#45;H -->\r\n<g id=\"edge5\" class=\"edge\"><title>V&#45;&#45;H</title>\r\n<path fill=\"none\" stroke=\"black\" d=\"M0.734487,-38.2714C-0.0505715,-46.5779 -0.0586416,-56.4737 0.710277,-64.813\"/>\r\n</g>\r\n<!-- C -->\r\n<g id=\"node3\" class=\"node\"><title>C</title>\r\n<ellipse fill=\"none\" stroke=\"black\" cx=\"6.88958\" cy=\"41.3375\" rx=\"27\" ry=\"18\"/>\r\n<text text-anchor=\"middle\" x=\"6.88958\" y=\"45.0375\" font-family=\"Times New Roman,serif\" font-size=\"14.00\">C</text>\r\n</g>\r\n<!-- V&#45;&#45;C -->\r\n<g id=\"edge6\" class=\"edge\"><title>V&#45;&#45;C</title>\r\n<path fill=\"none\" stroke=\"black\" d=\"M13.0447,-3.0661C13.8297,5.24047 13.8378,15.1363 13.0689,23.4755\"/>\r\n</g>\r\n<!-- V&#45;&#45;L -->\r\n<g id=\"edge4\" class=\"edge\"><title>V&#45;&#45;L</title>\r\n<path fill=\"none\" stroke=\"black\" d=\"M-13.6609,-32.701C-24.6204,-42.1222 -37.477,-55.1674 -46.0329,-65.6387\"/>\r\n</g>\r\n<!-- V&#45;&#45;S -->\r\n<g id=\"edge7\" class=\"edge\"><title>V&#45;&#45;S</title>\r\n<path fill=\"none\" stroke=\"black\" d=\"M-18.3307,-14.0242C-22.0859,-13.8858 -25.9585,-13.8836 -29.7174,-14.0177\"/>\r\n</g>\r\n<!-- O -->\r\n<g id=\"node6\" class=\"node\"><title>O</title>\r\n<ellipse fill=\"none\" stroke=\"black\" cx=\"-55.1166\" cy=\"41.3375\" rx=\"27\" ry=\"18\"/>\r\n<text text-anchor=\"middle\" x=\"-55.1166\" y=\"45.0375\" font-family=\"Times New Roman,serif\" font-size=\"14.00\">O</text>\r\n</g>\r\n<!-- V&#45;&#45;O -->\r\n<g id=\"edge8\" class=\"edge\"><title>V&#45;&#45;O</title>\r\n<path fill=\"none\" stroke=\"black\" d=\"M-2.2751,-3.53357C-10.8509,6.94523 -23.7007,19.9741 -34.6424,29.3707\"/>\r\n</g>\r\n<!-- C&#45;&#45;V -->\r\n<g id=\"edge9\" class=\"edge\"><title>C&#45;&#45;V</title>\r\n<path fill=\"none\" stroke=\"black\" d=\"M0.734487,23.7348C-0.0505715,15.4283 -0.0586416,5.53248 0.710277,-2.80677\"/>\r\n</g>\r\n<!-- L&#45;&#45;H -->\r\n<g id=\"edge10\" class=\"edge\"><title>L&#45;&#45;H</title>\r\n<path fill=\"none\" stroke=\"black\" d=\"M-29.8963,-89.3195C-26.1411,-89.4579 -22.2685,-89.4601 -18.5096,-89.326\"/>\r\n</g>\r\n<!-- L&#45;&#45;V -->\r\n<g id=\"edge11\" class=\"edge\"><title>L&#45;&#45;V</title>\r\n<path fill=\"none\" stroke=\"black\" d=\"M-34.5661,-70.6426C-23.6066,-61.2214 -10.75,-48.1763 -2.19416,-37.7049\"/>\r\n</g>\r\n<!-- L&#45;&#45;S -->\r\n<g id=\"edge12\" class=\"edge\"><title>L&#45;&#45;S</title>\r\n<path fill=\"none\" stroke=\"black\" d=\"M-48.9615,-65.0723C-48.1765,-56.7657 -48.1684,-46.8699 -48.9373,-38.5307\"/>\r\n</g>\r\n<!-- S&#45;&#45;H -->\r\n<g id=\"edge14\" class=\"edge\"><title>S&#45;&#45;H</title>\r\n<path fill=\"none\" stroke=\"black\" d=\"M-45.9519,-37.8039C-37.3762,-48.2827 -24.5263,-61.3116 -13.5847,-70.7081\"/>\r\n</g>\r\n<!-- S&#45;&#45;V -->\r\n<g id=\"edge15\" class=\"edge\"><title>S&#45;&#45;V</title>\r\n<path fill=\"none\" stroke=\"black\" d=\"M-29.8963,-27.3133C-26.1411,-27.4517 -22.2685,-27.4539 -18.5096,-27.3198\"/>\r\n</g>\r\n<!-- S&#45;&#45;L -->\r\n<g id=\"edge13\" class=\"edge\"><title>S&#45;&#45;L</title>\r\n<path fill=\"none\" stroke=\"black\" d=\"M-61.2717,-38.2714C-62.0568,-46.5779 -62.0648,-56.4737 -61.2959,-64.813\"/>\r\n</g>\r\n<!-- S&#45;&#45;O -->\r\n<g id=\"edge16\" class=\"edge\"><title>S&#45;&#45;O</title>\r\n<path fill=\"none\" stroke=\"black\" d=\"M-48.9615,-3.0661C-48.1765,5.24047 -48.1684,15.1363 -48.9373,23.4755\"/>\r\n</g>\r\n<!-- O&#45;&#45;V -->\r\n<g id=\"edge18\" class=\"edge\"><title>O&#45;&#45;V</title>\r\n<path fill=\"none\" stroke=\"black\" d=\"M-45.9519,24.2023C-37.3762,13.7235 -24.5263,0.694631 -13.5847,-8.70193\"/>\r\n</g>\r\n<!-- O&#45;&#45;S -->\r\n<g id=\"edge17\" class=\"edge\"><title>O&#45;&#45;S</title>\r\n<path fill=\"none\" stroke=\"black\" d=\"M-61.2717,23.7348C-62.0568,15.4283 -62.0648,5.53248 -61.2959,-2.80677\"/>\r\n</g>\r\n<!-- T -->\r\n<g id=\"node7\" class=\"node\"><title>T</title>\r\n<ellipse fill=\"none\" stroke=\"black\" cx=\"68.8958\" cy=\"41.3375\" rx=\"27\" ry=\"18\"/>\r\n<text text-anchor=\"middle\" x=\"68.8958\" y=\"45.0375\" font-family=\"Times New Roman,serif\" font-size=\"14.00\">T</text>\r\n</g>\r\n<!-- O&#45;&#45;T -->\r\n<g id=\"edge19\" class=\"edge\"><title>O&#45;&#45;T</title>\r\n<path fill=\"none\" stroke=\"black\" d=\"M-36.2221,54.544C-35.7477,54.7513 -35.2722,54.9472 -34.7966,55.1301 -17.3139,61.8521 -11.7398,62.2455 6.94486,60.9374 20.3158,60.0014 34.6224,55.709 46.1057,51.3829\"/>\r\n</g>\r\n<!-- B -->\r\n<g id=\"node8\" class=\"node\"><title>B</title>\r\n<ellipse fill=\"none\" stroke=\"black\" cx=\"6.88958\" cy=\"103.344\" rx=\"27\" ry=\"18\"/>\r\n<text text-anchor=\"middle\" x=\"6.88958\" y=\"107.044\" font-family=\"Times New Roman,serif\" font-size=\"14.00\">B</text>\r\n</g>\r\n<!-- O&#45;&#45;B -->\r\n<g id=\"edge20\" class=\"edge\"><title>O&#45;&#45;B</title>\r\n<path fill=\"none\" stroke=\"black\" d=\"M-34.5661,53.3698C-23.6066,62.791 -10.75,75.8361 -2.19416,86.3075\"/>\r\n</g>\r\n<!-- T&#45;&#45;O -->\r\n<g id=\"edge22\" class=\"edge\"><title>T&#45;&#45;O</title>\r\n<path fill=\"none\" stroke=\"black\" d=\"M48.848,53.4306C42.7766,56.7668 35.9902,60.1822 29.4982,62.7819 20.093,66.5481 17.6135,68.3325 7.48965,68.7192 -12.5291,69.484 -19.1714,69.853 -36.7985,60.3334 -37.923,59.7262 -39.4291,58.4793 -41.096,56.9018\"/>\r\n</g>\r\n<!-- T&#45;&#45;B -->\r\n<g id=\"edge23\" class=\"edge\"><title>T&#45;&#45;B</title>\r\n<path fill=\"none\" stroke=\"black\" d=\"M59.7311,58.4726C51.1554,68.9514 38.3055,81.9803 27.3638,91.3769\"/>\r\n</g>\r\n<!-- A -->\r\n<g id=\"node9\" class=\"node\"><title>A</title>\r\n<ellipse fill=\"none\" stroke=\"black\" cx=\"68.8958\" cy=\"-20.6687\" rx=\"27\" ry=\"18\"/>\r\n<text text-anchor=\"middle\" x=\"68.8958\" y=\"-16.9687\" font-family=\"Times New Roman,serif\" font-size=\"14.00\">A</text>\r\n</g>\r\n<!-- T&#45;&#45;A -->\r\n<g id=\"edge21\" class=\"edge\"><title>T&#45;&#45;A</title>\r\n<path fill=\"none\" stroke=\"black\" d=\"M62.7407,23.7348C61.9556,15.4283 61.9476,5.53248 62.7165,-2.80677\"/>\r\n</g>\r\n<!-- B&#45;&#45;O -->\r\n<g id=\"edge24\" class=\"edge\"><title>B&#45;&#45;O</title>\r\n<path fill=\"none\" stroke=\"black\" d=\"M-13.6609,91.3113C-24.6204,81.8902 -37.477,68.845 -46.0329,58.3737\"/>\r\n</g>\r\n<!-- B&#45;&#45;T -->\r\n<g id=\"edge25\" class=\"edge\"><title>B&#45;&#45;T</title>\r\n<path fill=\"none\" stroke=\"black\" d=\"M16.0543,86.2085C24.63,75.7297 37.4799,62.7008 48.4215,53.3043\"/>\r\n</g>\r\n<!-- A&#45;&#45;T -->\r\n<g id=\"edge26\" class=\"edge\"><title>A&#45;&#45;T</title>\r\n<path fill=\"none\" stroke=\"black\" d=\"M75.0509,-3.0661C75.8359,5.24047 75.844,15.1363 75.0751,23.4755\"/>\r\n</g>\r\n</g>\r\n</svg>\r\n",
            "text/plain": [
              "<graphviz.dot.Graph at 0x1fb49511848>"
            ]
          },
          "execution_count": 35,
          "metadata": {},
          "output_type": "execute_result"
        }
      ],
      "source": [
        "# Answer\n",
        "\n",
        "# add a function to BayesNet to get interaction graph\n",
        "class BayesNet(BayesNet):\n",
        "    def interactionGraph(self):\n",
        "        '''\n",
        "        Returns the interaction graph for this network.\n",
        "        There are two ways to implement this function:\n",
        "        - Iterate over factors and check which vars are in the same factors\n",
        "        - Start with the directed graph, make it undirected and moralise it\n",
        "        '''\n",
        "        # Initialise an empty graph\n",
        "        g = Graph()\n",
        "        for var in self.factors.keys():\n",
        "            g.add_node(var)\n",
        "        for factor in self.factors.values():\n",
        "            # for every pair of vars in the domain\n",
        "            for var1 in factor.domain:\n",
        "                for var2 in factor.domain:\n",
        "                    # check if connection already exists\n",
        "                    if var1 != var2 and var1 not in g.children(var2):\n",
        "                        # add an *undirected* connection\n",
        "                        g.add_edge(var1, var2, directed=False)\n",
        "        return g\n",
        "\n",
        "\n",
        "##############\n",
        "# Test code\n",
        "\n",
        "# reinitialise ICU_net so that it has interactionGraph function\n",
        "ICU_Net = BayesNet(ICU_Net.graph, ICU_Net.outcomeSpace, ICU_Net.factors)\n",
        "\n",
        "# List of positions for each node\n",
        "# We use node positions to replicate the previous figure\n",
        "# This can be removed if the nodes do not need to be presented in a specific order\n",
        "pos = {\n",
        "    'B': '1,0!',\n",
        "    'O': '0,1!',\n",
        "    'C': '1,1!',\n",
        "    'T': '2,1!',\n",
        "    'S': '0,2!',\n",
        "    'V': '1,2!',\n",
        "    'A': '2,2!',\n",
        "    'L': '0,3!',\n",
        "    'H': '1,3!',\n",
        "}\n",
        "ig = ICU_Net.interactionGraph()\n",
        "ig.show(directed=False, positions=pos)"
      ]
    },
    {
      "cell_type": "markdown",
      "metadata": {
        "id": "a-iwv7xGxCVl"
      },
      "source": [
        "If your code is correct, you should see the following induced graph:\n",
        "\n",
        "![IG Graph](img/IG.png \"Graph exercise\")\n",
        "\n",
        "Also, this is the ICU network graph for reference:\n",
        "\n",
        "![ICU Graph](img/ICU_graph.png \"Graph exercise\")\n",
        "\n",
        "From this representation, we can see that a min-degree heuristic should start eliminating variables such as `A` and `C`.\n",
        "\n",
        "### Exercise\n",
        "\n",
        "Now, let's implement the `minDegree` function that receives an induced graph and returns a list with a variable elimination order.\n",
        "\n",
        "This function will suggest the nodes with the smallest degree first. Remember that the degree of a node is the number of edges connected to that node. Every time we select a node as the next to be eliminated, we need to remove that node from the graph. This operation will reduce the degree of the nodes directly connected to the removed one."
      ]
    },
    {
      "cell_type": "code",
      "execution_count": 36,
      "metadata": {
        "id": "V3oQmQdVxCVm",
        "outputId": "700210a4-981f-4eca-b233-562737744e90"
      },
      "outputs": [
        {
          "name": "stdout",
          "output_type": "stream",
          "text": [
            "['C', 'A', 'T', 'B', 'O', 'H', 'V', 'L', 'S']\n"
          ]
        }
      ],
      "source": [
        "# Answer\n",
        "\n",
        "class BayesNet(BayesNet):\n",
        "    def minDegree(self):\n",
        "\n",
        "        ig = self.interactionGraph()\n",
        "        # Initialize order with empty list. This variable will have the answer in the end of the execution\n",
        "        order = []\n",
        "        # While the induced graph has nodes to be eliminated\n",
        "        while len(ig) > 0:\n",
        "            # Initialize minDegree with a large number: math.inf\n",
        "            minDegree = math.inf\n",
        "            for var in ig:\n",
        "                # Test if var has a degree smaller than minDegree\n",
        "                if len(ig.children(var)) < minDegree:\n",
        "                    # We have found a new candidate to be the next eliminated variable. Let's save its degree and name\n",
        "                    minDegree = len(ig.children(var))\n",
        "                    minVar = var\n",
        "            # We need to connect the neighbours of minVar, let us start using combinations function to find all pairs of minVar's neighbours\n",
        "            for var1, var2 in combinations(ig.children(minVar), 2):\n",
        "                # We need to check if these neighbour are not already connected by an edge\n",
        "                if var1 not in ig.children(var2):\n",
        "                    ig.add_edge(var1, var2, directed=False)\n",
        "            # Insert in order the variable in minVar\n",
        "            order.append(minVar)\n",
        "            # Now, we need to remove minVar from the adjacency list of every node\n",
        "            ig.remove_node(minVar)\n",
        "        return order\n",
        "\n",
        "\n",
        "####################\n",
        "# Test code\n",
        "\n",
        "# reinitialise ICU_net so that it has minDegree function\n",
        "ICU_Net = BayesNet(ICU_Net.graph, ICU_Net.outcomeSpace, ICU_Net.factors)\n",
        "\n",
        "print(ICU_Net.minDegree())"
      ]
    },
    {
      "cell_type": "markdown",
      "metadata": {
        "id": "Me4HzE3uxCVn"
      },
      "source": [
        "If your code is correct, you should see the following output:\n",
        "\n",
        "```\n",
        "['A', 'C', 'T', 'B', 'O', 'H', 'L', 'V', 'S']\n",
        "```\n",
        "or\n",
        "```\n",
        "['C', 'A', 'T', 'B', 'O', 'H', 'V', 'L', 'S']\n",
        "```\n",
        "We can compare the width of the ordering provided by the min-degree heuristic to some other order:"
      ]
    },
    {
      "cell_type": "code",
      "execution_count": 37,
      "metadata": {
        "id": "UmyJbeiexCVn",
        "outputId": "2ae9c143-4d51-442a-d8d7-4127ac1eae0e"
      },
      "outputs": [
        {
          "name": "stdout",
          "output_type": "stream",
          "text": [
            "5\n",
            "3\n"
          ]
        }
      ],
      "source": [
        "print(ICU_Net.width(('V', 'H', 'S', 'L', 'O', 'A', 'T', 'B', 'C')))\n",
        "order = ICU_Net.minDegree()\n",
        "print(ICU_Net.width(order))"
      ]
    },
    {
      "cell_type": "markdown",
      "metadata": {
        "id": "h2Wy9qHnxCVn"
      },
      "source": [
        "Similarly, we can compare the number of additions and multiplications:"
      ]
    },
    {
      "cell_type": "code",
      "execution_count": 38,
      "metadata": {
        "id": "SgjWV1L9xCVo",
        "outputId": "4aaf68fe-987e-48c5-c0dd-983372bc4627"
      },
      "outputs": [
        {
          "name": "stdout",
          "output_type": "stream",
          "text": [
            "358\n",
            "342\n",
            "79\n",
            "74\n"
          ]
        }
      ],
      "source": [
        "adds = 0\n",
        "muls = 0\n",
        "ICU_Net.VE(('V', 'H', 'S', 'L', 'O', 'A', 'T', 'B', 'C'))\n",
        "print(adds)\n",
        "print(muls)\n",
        "\n",
        "adds = 0\n",
        "muls = 0\n",
        "ICU_Net.VE(ICU_Net.minDegree())\n",
        "print(adds)\n",
        "print(muls)"
      ]
    },
    {
      "cell_type": "markdown",
      "metadata": {
        "id": "CaqBSmaTxCVo"
      },
      "source": [
        "## Answering Queries\n"
      ]
    },
    {
      "cell_type": "markdown",
      "metadata": {
        "id": "QOKse3taxCVo"
      },
      "source": [
        "### Exercise\n",
        "\n",
        "Now it's your turn to implement a function `query` that receives as arguments:\n",
        "\n",
        "1. a list of query variables \n",
        "2. and a list of evidence \n",
        "\n",
        "and returns $P(variables|evidence)$.\n",
        "\n",
        "Before you start, some important observations:\n",
        "\n",
        "* You will need to change some of the factors in the `factors` dict to set evidence on them. For this reason, we created a backup and we restore the `factors` dict after the operation.\n",
        "* Remove the query variables from the elimination order list.\n",
        "* It is up to you if you want to remove the evidence variables from the elimination list.\n",
        "* A final normalization step will answer queries in the format P(Q|e)."
      ]
    },
    {
      "cell_type": "code",
      "execution_count": 39,
      "metadata": {
        "id": "IKU1yhfjxCVp",
        "outputId": "69c3e3c1-7389-4202-fceb-6ad58d00e778"
      },
      "outputs": [
        {
          "name": "stdout",
          "output_type": "stream",
          "text": [
            "╒═════╤═══════════╕\n",
            "│   L │        Pr │\n",
            "╞═════╪═══════════╡\n",
            "│   0 │ 0.947722  │\n",
            "├─────┼───────────┤\n",
            "│   1 │ 0.0522777 │\n",
            "╘═════╧═══════════╛\n",
            "\n"
          ]
        }
      ],
      "source": [
        "# Answer\n",
        "\n",
        "import copy\n",
        "class BayesNet(BayesNet):\n",
        "    def query(self, q_vars, **q_evi):\n",
        "        '''\n",
        "        A faster VE-based query function\n",
        "        Returns a factor P(q_vars| q_evi)\n",
        "        '''\n",
        "        # backup factors dict\n",
        "        backup_factors = copy.deepcopy(self.factors)\n",
        "        # set evidence on all relevant factors \n",
        "        for key, factor in self.factors.items():\n",
        "            self.factors[key] = factor.evidence(**q_evi)\n",
        "\n",
        "        # get minDegree order if order is None\n",
        "        order = self.minDegree()\n",
        "\n",
        "        # remove any q_vars from order\n",
        "        for var in q_vars:\n",
        "            order.remove(var)\n",
        "\n",
        "        # run VE\n",
        "        factor = self.VE(order)\n",
        "\n",
        "        # marginalise out any vars not in q_vars\n",
        "        for var in factor.domain:                                \n",
        "            if var not in q_vars:\n",
        "                factor = factor.marginalize(var)\n",
        "\n",
        "        self.factors = backup_factors\n",
        "\n",
        "        return factor.normalize()\n",
        "\n",
        "#########################\n",
        "# Test code\n",
        "#########################\n",
        "\n",
        "# reinitialise ICU_net so that it has the new query function\n",
        "ICU_Net = BayesNet(ICU_Net.graph, ICU_Net.outcomeSpace, ICU_Net.factors)\n",
        "\n",
        "print(ICU_Net.query('L', C=2))"
      ]
    },
    {
      "cell_type": "markdown",
      "metadata": {
        "id": "rJgxpG_zxCVq"
      },
      "source": [
        "If your implementation is correct then you should see the following output:\n",
        "\n",
        "```\n",
        "╒═════╤═══════════╕\n",
        "│   L │        Pr │\n",
        "╞═════╪═══════════╡\n",
        "│   0 │ 0.947722  │\n",
        "├─────┼───────────┤\n",
        "│   1 │ 0.0522777 │\n",
        "╘═════╧═══════════╛\n",
        "```"
      ]
    },
    {
      "cell_type": "markdown",
      "metadata": {
        "id": "CjG0nfQ3xCVq"
      },
      "source": [
        "## Final Step\n",
        "Go back through the notebook, and copy your solutions into your BayesNet.py file for future use. Your VE function won't need to keep track of additions and multiplications in future, so you can delete these computations."
      ]
    },
    {
      "cell_type": "markdown",
      "metadata": {
        "id": "P_L8Sb_ixCVq"
      },
      "source": [
        "## Challenge Exercise\n",
        "\n",
        "The Variable Elimination function implemented above loops over every variable in the elimination order, and has an inner loop over all factors to find the factors to be eliminated in each step. This algorithm takes $O(n^2)$ where $n$ is the size of the graph (ignoring the cost of joining and marginalizing factors, which is usually the main cost). \n",
        "\n",
        "Use an additional data structure to improve your VE implementation to be $O(n)$."
      ]
    },
    {
      "cell_type": "markdown",
      "metadata": {
        "id": "Qb8sEYPjxCVq"
      },
      "source": [
        "That is all for today. See you next week!"
      ]
    }
  ],
  "metadata": {
    "colab": {
      "name": "COMP9418_W04_Variable_Elimination_In_Graphical_Models_Solutions.ipynb",
      "provenance": []
    },
    "interpreter": {
      "hash": "6714646c7badaf138256cae83466294356a604d5a9644f8ff87d802670eeaa68"
    },
    "kernelspec": {
      "display_name": "Python 3.7.10 64-bit ('vision': conda)",
      "name": "python3"
    },
    "language_info": {
      "codemirror_mode": {
        "name": "ipython",
        "version": 3
      },
      "file_extension": ".py",
      "mimetype": "text/x-python",
      "name": "python",
      "nbconvert_exporter": "python",
      "pygments_lexer": "ipython3",
      "version": "3.7.10"
    },
    "toc": {
      "colors": {
        "hover_highlight": "#DAA520",
        "navigate_num": "#000000",
        "navigate_text": "#333333",
        "running_highlight": "#FF0000",
        "selected_highlight": "#FFD700",
        "sidebar_border": "#EEEEEE",
        "wrapper_background": "#FFFFFF"
      },
      "moveMenuLeft": true,
      "nav_menu": {
        "height": "198px",
        "width": "252px"
      },
      "navigate_menu": true,
      "number_sections": true,
      "sideBar": true,
      "threshold": 4,
      "toc_cell": false,
      "toc_position": {
        "height": "783px",
        "left": "0px",
        "right": "1346.87px",
        "top": "108px",
        "width": "212px"
      },
      "toc_section_display": "block",
      "toc_window_display": true,
      "widenNotebook": false
    }
  },
  "nbformat": 4,
  "nbformat_minor": 2
}
