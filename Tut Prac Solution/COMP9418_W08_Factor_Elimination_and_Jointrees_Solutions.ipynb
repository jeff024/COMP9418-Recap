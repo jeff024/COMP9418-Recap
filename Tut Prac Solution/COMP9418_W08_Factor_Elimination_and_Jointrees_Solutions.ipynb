{
  "nbformat": 4,
  "nbformat_minor": 0,
  "metadata": {
    "interpreter": {
      "hash": "31f2aee4e71d21fbe5cf8b01ff0e069b9275f58929596ceb00d14d90e3e16cd6"
    },
    "kernelspec": {
      "display_name": "Python 3",
      "language": "python",
      "name": "python3"
    },
    "language_info": {
      "codemirror_mode": {
        "name": "ipython",
        "version": 3
      },
      "file_extension": ".py",
      "mimetype": "text/x-python",
      "name": "python",
      "nbconvert_exporter": "python",
      "pygments_lexer": "ipython3",
      "version": "3.8.10"
    },
    "toc": {
      "colors": {
        "hover_highlight": "#DAA520",
        "navigate_num": "#000000",
        "navigate_text": "#333333",
        "running_highlight": "#FF0000",
        "selected_highlight": "#FFD700",
        "sidebar_border": "#EEEEEE",
        "wrapper_background": "#FFFFFF"
      },
      "moveMenuLeft": true,
      "nav_menu": {
        "height": "198px",
        "width": "252px"
      },
      "navigate_menu": true,
      "number_sections": true,
      "sideBar": true,
      "threshold": 4,
      "toc_cell": false,
      "toc_position": {
        "height": "783px",
        "left": "0px",
        "right": "1346.87px",
        "top": "108px",
        "width": "212px"
      },
      "toc_section_display": "block",
      "toc_window_display": true,
      "widenNotebook": false
    },
    "colab": {
      "name": "COMP9418_W08_Factor_Elimination_and_Jointrees_Solutions.ipynb",
      "provenance": []
    }
  },
  "cells": [
    {
      "cell_type": "markdown",
      "metadata": {
        "id": "OLDDIEylwT4Q"
      },
      "source": [
        "# Factor Elimination and Jointrees\n",
        "\n",
        "**COMP9418-19T3, W08 Tutorial**\n",
        "\n",
        "- Instructor: Gustavo Batista\n",
        "- School of Computer Science and Engineering, UNSW Sydney\n",
        "- Notebook designed by Gustavo Batista and Jeremy Gillen\n",
        "- Last Update 18th August 2021"
      ]
    },
    {
      "cell_type": "markdown",
      "metadata": {
        "id": "Sc66TAFLwT4T"
      },
      "source": [
        "In this week's tutorial, we will implement the Factor Elimination (FE) algorithm using elimination tree and jointrees. This algorithm will allow us to answer queries about cluster marginals for all clusters in the elimination tree with the same time complexity of the Variable Elimination algorithm."
      ]
    },
    {
      "cell_type": "markdown",
      "metadata": {
        "id": "lpHqi3n2wT4U"
      },
      "source": [
        "## Technical prerequisites\n",
        "\n",
        "You will need certain packages installed to run this notebook.\n",
        "\n",
        "If you are using ``conda``'s default\n",
        "[full installation](https://conda.io/docs/install/full.html),\n",
        "these requirements should all be satisfied already.\n",
        "\n",
        "To render a visualization of some graphical models, you also need to install Graphviz [download page](http://www.graphviz.org/download). We have already used this library in Tutorial 1, thus, you should have it installed. If you do not have it and use the conda installation, then use the command ```conda install python-graphviz```. "
      ]
    },
    {
      "cell_type": "markdown",
      "metadata": {
        "id": "IPOLrsJwwT4V"
      },
      "source": [
        "Once we have done all that, we\n",
        "import some useful modules for later use."
      ]
    },
    {
      "cell_type": "code",
      "metadata": {
        "id": "I1RwxVPwwT4V"
      },
      "source": [
        "# visualise graphs\n",
        "import graphviz\n",
        "# visualise plots\n",
        "import copy"
      ],
      "execution_count": null,
      "outputs": []
    },
    {
      "cell_type": "code",
      "metadata": {
        "id": "EFZRHT3VwT4W"
      },
      "source": [
        "from DiscreteFactors import Factor\n",
        "from Graph import Graph\n",
        "from BayesNet import BayesNet"
      ],
      "execution_count": null,
      "outputs": []
    },
    {
      "cell_type": "markdown",
      "metadata": {
        "id": "znBkCvMfwT4X"
      },
      "source": [
        "## The ICU network\n",
        "\n",
        "Once again we will use a subset of the ICU-Alarm network as a benchmark. However, our code will run for any network. We include here a graphical representation so that you can remember the variables and the dependencies between them.\n",
        "\n",
        "![ICU Graph](img/ICU_graph.png \"Graph exercise\")"
      ]
    },
    {
      "cell_type": "markdown",
      "metadata": {
        "id": "Bnzgra2UwT4X"
      },
      "source": [
        "We first include all the factors that represent the CPTs of the nine variables in the subset of the ICU-Alarm network. We put them all in a dictionary for later. We also define the outcomeSpace of each variable."
      ]
    },
    {
      "cell_type": "code",
      "metadata": {
        "id": "2sZ-sNdLwT4Y"
      },
      "source": [
        "# Outcome space of each random variable\n",
        "outcomeSpace = dict(\n",
        "    H=(0,1),\n",
        "    L=(0,1),\n",
        "    A=(0,1),\n",
        "    V=(0,1),\n",
        "    S=(0,1),\n",
        "    T=(0,1),\n",
        "    C=(0,1,2),\n",
        "    O=(0,1,2),\n",
        "    B=(0,1,2),\n",
        ")\n",
        "factor_dict = {}\n",
        "\n",
        "# Factors for each one of the ICU_Net object\n",
        "h = Factor(('H',), outcomeSpace)\n",
        "h[0] = 0.8\n",
        "h[1] = 0.2\n",
        "factor_dict['H'] = h\n",
        "\n",
        "v = Factor(('L', 'H', 'V'), outcomeSpace)\n",
        "v[0, 0, 0] = 0.05\n",
        "v[0, 0, 1] = 0.95\n",
        "v[0, 1, 0] = 0.99\n",
        "v[0, 1, 1] = 0.01\n",
        "v[1, 0, 0] = 0\n",
        "v[1, 0, 1] = 1\n",
        "v[1, 1, 0] = 1\n",
        "v[1, 1, 1] = 0\n",
        "factor_dict['V'] = v\n",
        "\n",
        "c = Factor(('V', 'C'), outcomeSpace)\n",
        "c[0, 0] = 0.94\n",
        "c[0, 1] = 0.04\n",
        "c[0, 2] = 0.02\n",
        "c[1, 0] = 0.02\n",
        "c[1, 1] = 0.26\n",
        "c[1, 2] = 0.72\n",
        "factor_dict['C'] = c\n",
        "\n",
        "l = Factor(('L',), outcomeSpace)\n",
        "l[0] = 0.95\n",
        "l[1] = 0.05\n",
        "factor_dict['L'] = l\n",
        "\n",
        "s = Factor(('L','H','S'), outcomeSpace)\n",
        "s[0, 0, 0] = 0.04\n",
        "s[0, 0, 1] = 0.96\n",
        "s[0, 1, 0] = 0.48\n",
        "s[0, 1, 1] = 0.52\n",
        "s[1, 0, 0] = 0.95\n",
        "s[1, 0, 1] = 0.05\n",
        "s[1, 1, 0] = 0\n",
        "s[1, 1, 1] = 1\n",
        "factor_dict['S'] = s\n",
        "\n",
        "o = Factor(('S', 'V', 'O'), outcomeSpace)\n",
        "o[0, 0, 0] = 0.97\n",
        "o[0, 0, 1] = 0.01\n",
        "o[0, 0, 2] = 0.02\n",
        "o[0, 1, 0] = 0.78\n",
        "o[0, 1, 1] = 0.19\n",
        "o[0, 1, 2] = 0.03\n",
        "o[1, 0, 0] = 0.22\n",
        "o[1, 0, 1] = 0.76\n",
        "o[1, 0, 2] = 0.02\n",
        "o[1, 1, 0] = 0.01\n",
        "o[1, 1, 1] = 0.01\n",
        "o[1, 1, 2] = 0.98  \n",
        "factor_dict['O'] = o\n",
        "\n",
        "t = Factor(('A','T'), outcomeSpace)\n",
        "t[0, 0] = 0.30\n",
        "t[0, 1] = 0.70\n",
        "t[1, 0] = 1\n",
        "t[1, 1] = 0\n",
        "factor_dict['T'] = t\n",
        "\n",
        "b = Factor(('O', 'T', 'B'), outcomeSpace)\n",
        "b[0, 0, 0] = 1\n",
        "b[0, 0, 1] = 0\n",
        "b[0, 0, 2] = 0\n",
        "b[0, 1, 0] = 0.30\n",
        "b[0, 1, 1] = 0.62\n",
        "b[0, 1, 2] = 0.08\n",
        "b[1, 0, 0] = 0.93\n",
        "b[1, 0, 1] = 0.07\n",
        "b[1, 0, 2] = 0\n",
        "b[1, 1, 0] = 0.02\n",
        "b[1, 1, 1] = 0.49\n",
        "b[1, 1, 2] = 0.49\n",
        "b[2, 0, 0] = 0.90\n",
        "b[2, 0, 1] = 0.08\n",
        "b[2, 0, 2] = 0.02\n",
        "b[2, 1, 0] = 0.01\n",
        "b[2, 1, 1] = 0.08\n",
        "b[2, 1, 2] = 0.91 \n",
        "factor_dict['B'] = b\n",
        "\n",
        "a = Factor(('A',), outcomeSpace)\n",
        "a[0] = 0.99\n",
        "a[1] = 0.01\n",
        "factor_dict['A'] = a"
      ],
      "execution_count": null,
      "outputs": []
    },
    {
      "cell_type": "markdown",
      "metadata": {
        "id": "NQE_PPnnwT4Z"
      },
      "source": [
        "## Elimination Tree\n",
        "\n",
        "Elimination tree is a data structure that informs the order we will eliminate the factors. We will define an elimination tree and provide it as input to the FE algorithm. \n",
        "\n",
        "In an elimination tree, each node of the tree corresponds to one or more factors in the network, although one network factor per node is the most common. In the figure below, we copy the nodes of the ICU Alarm network. We linked the nodes, intending to keep the cluster sizes small. Remember that the width of the elimination tree is defined as the size of the largest cluster minus one.\n",
        "\n",
        "![Elimination Tree](img/elimination_tree.png \"Elimination Tree\")"
      ]
    },
    {
      "cell_type": "markdown",
      "metadata": {
        "id": "HYNm09X8wT4a"
      },
      "source": [
        "Let's start constructing an EliminationTree class. Similar to a BayesNet, the two required data structures are a graph and the required factors."
      ]
    },
    {
      "cell_type": "code",
      "metadata": {
        "id": "xaUqCRSTwT4a"
      },
      "source": [
        "class EliminationTree():\n",
        "    def __init__(self, graph, outcomeSpace, factor_dict=None):\n",
        "        self.graph = graph\n",
        "        self.factors = copy.deepcopy(factor_dict)\n",
        "        self.outcomeSpace = outcomeSpace"
      ],
      "execution_count": null,
      "outputs": []
    },
    {
      "cell_type": "markdown",
      "metadata": {
        "id": "PPL6w-yfwT4b"
      },
      "source": [
        "### Exercise\n",
        "\n",
        "In the next cell, declare the elimination tree specified in the figure above. Remember the tree is an undirected graph."
      ]
    },
    {
      "cell_type": "code",
      "metadata": {
        "id": "8LxUcOwswT4b",
        "outputId": "da4c5e73-248b-436b-b76c-16afd151d4de"
      },
      "source": [
        "g = Graph(dict(\n",
        "    L= ('S',),\n",
        "    H= ('S',),\n",
        "    ... # TODO\n",
        "))\n",
        "\n",
        "eTree = EliminationTree(g, outcomeSpace, factor_dict)\n",
        "\n",
        "\n",
        "##############\n",
        "# Test code\n",
        "\n",
        "pos = {\n",
        "    'B': '1,0!',\n",
        "    'O': '0,1!',\n",
        "    'C': '1,1!',\n",
        "    'T': '2,1!',\n",
        "    'S': '0,2!',\n",
        "    'V': '1,2!',\n",
        "    'A': '2,2!',\n",
        "    'L': '0,3!',\n",
        "    'H': '1,3!',\n",
        "}\n",
        "eTree.graph.show(directed=False, positions=pos)\n"
      ],
      "execution_count": null,
      "outputs": [
        {
          "ename": "SyntaxError",
          "evalue": "positional argument follows keyword argument (<ipython-input-5-6efb7818477c>, line 4)",
          "output_type": "error",
          "traceback": [
            "\u001b[0;36m  File \u001b[0;32m\"<ipython-input-5-6efb7818477c>\"\u001b[0;36m, line \u001b[0;32m4\u001b[0m\n\u001b[0;31m    ... # TODO\u001b[0m\n\u001b[0m    ^\u001b[0m\n\u001b[0;31mSyntaxError\u001b[0m\u001b[0;31m:\u001b[0m positional argument follows keyword argument\n"
          ]
        }
      ]
    },
    {
      "cell_type": "code",
      "metadata": {
        "id": "dS8ObpDlwT4c",
        "outputId": "a641938a-4dc7-4066-8172-bb14949385f6"
      },
      "source": [
        "# Answer\n",
        "\n",
        "g = Graph(dict(\n",
        "    L= ('S',),\n",
        "    H= ('S',),\n",
        "    C= ('V',),\n",
        "    V= ('C', 'S'),\n",
        "    S= ('L', 'H', 'V', 'O'),\n",
        "    O= ('S', 'B'),\n",
        "    B= ('O', 'T'),\n",
        "    T= ('B', 'A'),\n",
        "    A= ('T',)\n",
        "))\n",
        "\n",
        "eTree = EliminationTree(g, outcomeSpace, factor_dict)\n",
        "\n",
        "\n",
        "##############\n",
        "# Test code\n",
        "\n",
        "pos = {\n",
        "    'B': '1,0!',\n",
        "    'O': '0,1!',\n",
        "    'C': '1,1!',\n",
        "    'T': '2,1!',\n",
        "    'S': '0,2!',\n",
        "    'V': '1,2!',\n",
        "    'A': '2,2!',\n",
        "    'L': '0,3!',\n",
        "    'H': '1,3!',\n",
        "}\n",
        "eTree.graph.show(directed=False, positions=pos)"
      ],
      "execution_count": null,
      "outputs": [
        {
          "data": {
            "image/svg+xml": [
              "<?xml version=\"1.0\" encoding=\"UTF-8\" standalone=\"no\"?>\n",
              "<!DOCTYPE svg PUBLIC \"-//W3C//DTD SVG 1.1//EN\"\n",
              " \"http://www.w3.org/Graphics/SVG/1.1/DTD/svg11.dtd\">\n",
              "<!-- Generated by graphviz version 2.43.0 (0)\n",
              " -->\n",
              "<!-- Title: %3 Pages: 1 -->\n",
              "<svg width=\"186pt\" height=\"230pt\"\n",
              " viewBox=\"0.00 0.00 186.01 230.02\" xmlns=\"http://www.w3.org/2000/svg\" xmlns:xlink=\"http://www.w3.org/1999/xlink\">\n",
              "<g id=\"graph0\" class=\"graph\" transform=\"scale(1 1) rotate(0) translate(4 226.02)\">\n",
              "<title>%3</title>\n",
              "<polygon fill=\"white\" stroke=\"transparent\" points=\"-4,4 -4,-226.02 182.01,-226.02 182.01,4 -4,4\"/>\n",
              "<!-- L -->\n",
              "<g id=\"node1\" class=\"node\">\n",
              "<title>L</title>\n",
              "<ellipse fill=\"none\" stroke=\"black\" cx=\"27\" cy=\"-204.02\" rx=\"27\" ry=\"18\"/>\n",
              "<text text-anchor=\"middle\" x=\"27\" y=\"-200.32\" font-family=\"Times,serif\" font-size=\"14.00\">L</text>\n",
              "</g>\n",
              "<!-- S -->\n",
              "<g id=\"node5\" class=\"node\">\n",
              "<title>S</title>\n",
              "<ellipse fill=\"none\" stroke=\"black\" cx=\"27\" cy=\"-142.01\" rx=\"27\" ry=\"18\"/>\n",
              "<text text-anchor=\"middle\" x=\"27\" y=\"-138.31\" font-family=\"Times,serif\" font-size=\"14.00\">S</text>\n",
              "</g>\n",
              "<!-- L&#45;&#45;S -->\n",
              "<g id=\"edge1\" class=\"edge\">\n",
              "<title>L&#45;&#45;S</title>\n",
              "<path fill=\"none\" stroke=\"black\" d=\"M27,-185.75C27,-177.75 27,-168.38 27,-160.36\"/>\n",
              "</g>\n",
              "<!-- H -->\n",
              "<g id=\"node2\" class=\"node\">\n",
              "<title>H</title>\n",
              "<ellipse fill=\"none\" stroke=\"black\" cx=\"89.01\" cy=\"-204.02\" rx=\"27\" ry=\"18\"/>\n",
              "<text text-anchor=\"middle\" x=\"89.01\" y=\"-200.32\" font-family=\"Times,serif\" font-size=\"14.00\">H</text>\n",
              "</g>\n",
              "<!-- H&#45;&#45;S -->\n",
              "<g id=\"edge2\" class=\"edge\">\n",
              "<title>H&#45;&#45;S</title>\n",
              "<path fill=\"none\" stroke=\"black\" d=\"M74,-189.01C64.39,-179.4 51.96,-166.98 42.3,-157.31\"/>\n",
              "</g>\n",
              "<!-- C -->\n",
              "<g id=\"node3\" class=\"node\">\n",
              "<title>C</title>\n",
              "<ellipse fill=\"none\" stroke=\"black\" cx=\"89.01\" cy=\"-80.01\" rx=\"27\" ry=\"18\"/>\n",
              "<text text-anchor=\"middle\" x=\"89.01\" y=\"-76.31\" font-family=\"Times,serif\" font-size=\"14.00\">C</text>\n",
              "</g>\n",
              "<!-- V -->\n",
              "<g id=\"node4\" class=\"node\">\n",
              "<title>V</title>\n",
              "<ellipse fill=\"none\" stroke=\"black\" cx=\"89.01\" cy=\"-142.01\" rx=\"27\" ry=\"18\"/>\n",
              "<text text-anchor=\"middle\" x=\"89.01\" y=\"-138.31\" font-family=\"Times,serif\" font-size=\"14.00\">V</text>\n",
              "</g>\n",
              "<!-- C&#45;&#45;V -->\n",
              "<g id=\"edge3\" class=\"edge\">\n",
              "<title>C&#45;&#45;V</title>\n",
              "<path fill=\"none\" stroke=\"black\" d=\"M89.01,-98.27C89.01,-106.28 89.01,-115.65 89.01,-123.66\"/>\n",
              "</g>\n",
              "<!-- V&#45;&#45;S -->\n",
              "<g id=\"edge4\" class=\"edge\">\n",
              "<title>V&#45;&#45;S</title>\n",
              "<path fill=\"none\" stroke=\"black\" d=\"M61.99,-142.01C59.38,-142.01 56.73,-142.01 54.12,-142.01\"/>\n",
              "</g>\n",
              "<!-- O -->\n",
              "<g id=\"node6\" class=\"node\">\n",
              "<title>O</title>\n",
              "<ellipse fill=\"none\" stroke=\"black\" cx=\"27\" cy=\"-80.01\" rx=\"27\" ry=\"18\"/>\n",
              "<text text-anchor=\"middle\" x=\"27\" y=\"-76.31\" font-family=\"Times,serif\" font-size=\"14.00\">O</text>\n",
              "</g>\n",
              "<!-- S&#45;&#45;O -->\n",
              "<g id=\"edge5\" class=\"edge\">\n",
              "<title>S&#45;&#45;O</title>\n",
              "<path fill=\"none\" stroke=\"black\" d=\"M27,-123.74C27,-115.74 27,-106.37 27,-98.36\"/>\n",
              "</g>\n",
              "<!-- B -->\n",
              "<g id=\"node7\" class=\"node\">\n",
              "<title>B</title>\n",
              "<ellipse fill=\"none\" stroke=\"black\" cx=\"89.01\" cy=\"-18\" rx=\"27\" ry=\"18\"/>\n",
              "<text text-anchor=\"middle\" x=\"89.01\" y=\"-14.3\" font-family=\"Times,serif\" font-size=\"14.00\">B</text>\n",
              "</g>\n",
              "<!-- O&#45;&#45;B -->\n",
              "<g id=\"edge6\" class=\"edge\">\n",
              "<title>O&#45;&#45;B</title>\n",
              "<path fill=\"none\" stroke=\"black\" d=\"M42.01,-65C51.62,-55.39 64.04,-42.96 73.7,-33.3\"/>\n",
              "</g>\n",
              "<!-- T -->\n",
              "<g id=\"node8\" class=\"node\">\n",
              "<title>T</title>\n",
              "<ellipse fill=\"none\" stroke=\"black\" cx=\"151.01\" cy=\"-80.01\" rx=\"27\" ry=\"18\"/>\n",
              "<text text-anchor=\"middle\" x=\"151.01\" y=\"-76.31\" font-family=\"Times,serif\" font-size=\"14.00\">T</text>\n",
              "</g>\n",
              "<!-- B&#45;&#45;T -->\n",
              "<g id=\"edge7\" class=\"edge\">\n",
              "<title>B&#45;&#45;T</title>\n",
              "<path fill=\"none\" stroke=\"black\" d=\"M104.02,-33.01C113.62,-42.62 126.05,-55.04 135.71,-64.7\"/>\n",
              "</g>\n",
              "<!-- A -->\n",
              "<g id=\"node9\" class=\"node\">\n",
              "<title>A</title>\n",
              "<ellipse fill=\"none\" stroke=\"black\" cx=\"151.01\" cy=\"-142.01\" rx=\"27\" ry=\"18\"/>\n",
              "<text text-anchor=\"middle\" x=\"151.01\" y=\"-138.31\" font-family=\"Times,serif\" font-size=\"14.00\">A</text>\n",
              "</g>\n",
              "<!-- T&#45;&#45;A -->\n",
              "<g id=\"edge8\" class=\"edge\">\n",
              "<title>T&#45;&#45;A</title>\n",
              "<path fill=\"none\" stroke=\"black\" d=\"M151.01,-98.27C151.01,-106.28 151.01,-115.65 151.01,-123.66\"/>\n",
              "</g>\n",
              "</g>\n",
              "</svg>\n"
            ],
            "text/plain": [
              "<graphviz.dot.Graph at 0x7f8a3bf714f0>"
            ]
          },
          "execution_count": 6,
          "metadata": {},
          "output_type": "execute_result"
        }
      ]
    },
    {
      "cell_type": "markdown",
      "metadata": {
        "id": "5GHpfoy1wT4c"
      },
      "source": [
        "Now we'll extend the class to store separators, and display them when showing the tree."
      ]
    },
    {
      "cell_type": "code",
      "metadata": {
        "id": "hf74TDnbwT4c"
      },
      "source": [
        "class EliminationTree():\n",
        "    def __init__(self, graph, separators, outcomeSpace, factor_dict=None):\n",
        "        self.graph = graph\n",
        "        self.separators = separators # dict mapping each edge (node1, node2) -> tuple of separator vars\n",
        "        self.factors = copy.deepcopy(factor_dict)\n",
        "        self.outcomeSpace = outcomeSpace\n",
        "\n",
        "    def show(self, positions=None):\n",
        "        '''\n",
        "        A specialised function to show Elimination Trees, including the separators\n",
        "        '''\n",
        "        dot = graphviz.Graph(engine=\"neato\", comment='Undirected graph', strict=True)        \n",
        "        dot.attr(overlap=\"false\", splines=\"true\")\n",
        "        for v in self.graph:\n",
        "            if positions is not None:\n",
        "                dot.node(str(v), pos=positions[v])\n",
        "            else:\n",
        "                dot.node(str(v))\n",
        "        for v in self.graph:\n",
        "            for w in self.graph.children(v):\n",
        "                if v < w:\n",
        "                    dot.edge(str(v), str(w), ','.join(self.separators[str(v)+str(w)]))\n",
        "\n",
        "        return dot"
      ],
      "execution_count": null,
      "outputs": []
    },
    {
      "cell_type": "markdown",
      "metadata": {
        "id": "FhYCO5HrwT4d"
      },
      "source": [
        "An important piece of information in the elimination tree is the separator. Separators are associated with edges of the elimination tree. In an $i-j$ edge, the separator is defined as $S_{ij} = vars(i) \\cap vars(j)$, where $vars(k)$ are the variables that appear in the factors in the $k$ side of the edge. \n",
        "\n",
        "Separators are relevant because they inform us which variables can be eliminated. In other words, the message associated with an edge $i-j$ is guaranteed to be over the separator $S_{ij}$. Therefore, we need to eliminate all other variables not present in $S_{ij}$ before sending the message.\n",
        "\n",
        "We need to have quick access to separators, so let's declare them in a Python dictionary. Since $S_{ij} = S_{ji}$, we can adopt a canonical form and maintain just one of them. We have added a separators variable to the EliminationTree class, and a new `show` function to better show the graph (including clusters and separators).\n"
      ]
    },
    {
      "cell_type": "markdown",
      "metadata": {
        "id": "WOKzry6mwT4d"
      },
      "source": [
        "## Exercise \n",
        "\n",
        "Declare a dictionary with separators for each edge. For an edge $i-j$ declare only $S_{ij}$ such that $i$ precedes $j$ in alphabetical order."
      ]
    },
    {
      "cell_type": "code",
      "metadata": {
        "id": "EwfCSxXOwT4d",
        "outputId": "25fc0ab0-63f4-4179-ae9d-7e281dea2102"
      },
      "source": [
        "# Notice we declare LS = ('L'). You do not need to declare SL = ('L'). The code only checks for separators declared in lexical order\n",
        "s = dict(\n",
        "    LS= ('L',),\n",
        "    HS= ('H',),\n",
        "    CV= ...,  # TODO\n",
        "    SV= ...,\n",
        "    OS= ...,\n",
        "    BO= ...,\n",
        "    BT= ...,\n",
        "    AT= ...,\n",
        ")\n",
        "\n",
        "eTree = EliminationTree(g, s, outcomeSpace, factor_dict)\n",
        "\n",
        "\n",
        "##############\n",
        "# Test code\n",
        "\n",
        "\n",
        "pos = {\n",
        "    'B': '1,0!',\n",
        "    'O': '0,1!',\n",
        "    'C': '1,1!',\n",
        "    'T': '2,1!',\n",
        "    'S': '0,2!',\n",
        "    'V': '1,2!',\n",
        "    'A': '2,2!',\n",
        "    'L': '0,3!',\n",
        "    'H': '1,3!',\n",
        "}\n",
        "\n",
        "eTree.show(pos)\n"
      ],
      "execution_count": null,
      "outputs": [
        {
          "ename": "TypeError",
          "evalue": "can only join an iterable",
          "output_type": "error",
          "traceback": [
            "\u001b[0;31m---------------------------------------------------------------------------\u001b[0m",
            "\u001b[0;31mTypeError\u001b[0m                                 Traceback (most recent call last)",
            "\u001b[0;32m<ipython-input-8-178f925daed4>\u001b[0m in \u001b[0;36m<module>\u001b[0;34m\u001b[0m\n\u001b[1;32m     30\u001b[0m }\n\u001b[1;32m     31\u001b[0m \u001b[0;34m\u001b[0m\u001b[0m\n\u001b[0;32m---> 32\u001b[0;31m \u001b[0meTree\u001b[0m\u001b[0;34m.\u001b[0m\u001b[0mshow\u001b[0m\u001b[0;34m(\u001b[0m\u001b[0mpos\u001b[0m\u001b[0;34m)\u001b[0m\u001b[0;34m\u001b[0m\u001b[0;34m\u001b[0m\u001b[0m\n\u001b[0m",
            "\u001b[0;32m<ipython-input-7-61da802be383>\u001b[0m in \u001b[0;36mshow\u001b[0;34m(self, positions)\u001b[0m\n\u001b[1;32m     20\u001b[0m             \u001b[0;32mfor\u001b[0m \u001b[0mw\u001b[0m \u001b[0;32min\u001b[0m \u001b[0mself\u001b[0m\u001b[0;34m.\u001b[0m\u001b[0mgraph\u001b[0m\u001b[0;34m.\u001b[0m\u001b[0mchildren\u001b[0m\u001b[0;34m(\u001b[0m\u001b[0mv\u001b[0m\u001b[0;34m)\u001b[0m\u001b[0;34m:\u001b[0m\u001b[0;34m\u001b[0m\u001b[0;34m\u001b[0m\u001b[0m\n\u001b[1;32m     21\u001b[0m                 \u001b[0;32mif\u001b[0m \u001b[0mv\u001b[0m \u001b[0;34m<\u001b[0m \u001b[0mw\u001b[0m\u001b[0;34m:\u001b[0m\u001b[0;34m\u001b[0m\u001b[0;34m\u001b[0m\u001b[0m\n\u001b[0;32m---> 22\u001b[0;31m                     \u001b[0mdot\u001b[0m\u001b[0;34m.\u001b[0m\u001b[0medge\u001b[0m\u001b[0;34m(\u001b[0m\u001b[0mstr\u001b[0m\u001b[0;34m(\u001b[0m\u001b[0mv\u001b[0m\u001b[0;34m)\u001b[0m\u001b[0;34m,\u001b[0m \u001b[0mstr\u001b[0m\u001b[0;34m(\u001b[0m\u001b[0mw\u001b[0m\u001b[0;34m)\u001b[0m\u001b[0;34m,\u001b[0m \u001b[0;34m','\u001b[0m\u001b[0;34m.\u001b[0m\u001b[0mjoin\u001b[0m\u001b[0;34m(\u001b[0m\u001b[0mself\u001b[0m\u001b[0;34m.\u001b[0m\u001b[0mseparators\u001b[0m\u001b[0;34m[\u001b[0m\u001b[0mstr\u001b[0m\u001b[0;34m(\u001b[0m\u001b[0mv\u001b[0m\u001b[0;34m)\u001b[0m\u001b[0;34m+\u001b[0m\u001b[0mstr\u001b[0m\u001b[0;34m(\u001b[0m\u001b[0mw\u001b[0m\u001b[0;34m)\u001b[0m\u001b[0;34m]\u001b[0m\u001b[0;34m)\u001b[0m\u001b[0;34m)\u001b[0m\u001b[0;34m\u001b[0m\u001b[0;34m\u001b[0m\u001b[0m\n\u001b[0m\u001b[1;32m     23\u001b[0m \u001b[0;34m\u001b[0m\u001b[0m\n\u001b[1;32m     24\u001b[0m         \u001b[0;32mreturn\u001b[0m \u001b[0mdot\u001b[0m\u001b[0;34m\u001b[0m\u001b[0;34m\u001b[0m\u001b[0m\n",
            "\u001b[0;31mTypeError\u001b[0m: can only join an iterable"
          ]
        }
      ]
    },
    {
      "cell_type": "code",
      "metadata": {
        "id": "WBoQuMCiwT4e",
        "outputId": "c1b76009-f255-40ea-8aaa-c0fd46dbded5"
      },
      "source": [
        "# Answer\n",
        "\n",
        "# Notice we declare LS = ('L'). You do not need to declare SL = ('L'). The code only checks for separators declared in lexical order\n",
        "\n",
        "s = dict(\n",
        "    LS= ('L',),\n",
        "    HS= ('H',),\n",
        "    CV= ('V',),\n",
        "    SV= ('L','H','V'),\n",
        "    OS= ('V','S'),\n",
        "    BO= ('O',),\n",
        "    BT= ('T',),\n",
        "    AT= ('A',)\n",
        ")\n",
        "\n",
        "eTree = EliminationTree(g, s, outcomeSpace, factor_dict)\n",
        "\n",
        "\n",
        "##############\n",
        "# Test code\n",
        "\n",
        "\n",
        "pos = {\n",
        "    'B': '1,0!',\n",
        "    'O': '0,1!',\n",
        "    'C': '1,1!',\n",
        "    'T': '2,1!',\n",
        "    'S': '0,2!',\n",
        "    'V': '1,2!',\n",
        "    'A': '2,2!',\n",
        "    'L': '0,3!',\n",
        "    'H': '1,3!',\n",
        "}\n",
        "\n",
        "eTree.show(pos)"
      ],
      "execution_count": null,
      "outputs": [
        {
          "data": {
            "image/svg+xml": [
              "<?xml version=\"1.0\" encoding=\"UTF-8\" standalone=\"no\"?>\n",
              "<!DOCTYPE svg PUBLIC \"-//W3C//DTD SVG 1.1//EN\"\n",
              " \"http://www.w3.org/Graphics/SVG/1.1/DTD/svg11.dtd\">\n",
              "<!-- Generated by graphviz version 2.43.0 (0)\n",
              " -->\n",
              "<!-- Title: %3 Pages: 1 -->\n",
              "<svg width=\"186pt\" height=\"230pt\"\n",
              " viewBox=\"0.00 0.00 186.01 230.02\" xmlns=\"http://www.w3.org/2000/svg\" xmlns:xlink=\"http://www.w3.org/1999/xlink\">\n",
              "<g id=\"graph0\" class=\"graph\" transform=\"scale(1 1) rotate(0) translate(4 226.02)\">\n",
              "<title>%3</title>\n",
              "<polygon fill=\"white\" stroke=\"transparent\" points=\"-4,4 -4,-226.02 182.01,-226.02 182.01,4 -4,4\"/>\n",
              "<!-- L -->\n",
              "<g id=\"node1\" class=\"node\">\n",
              "<title>L</title>\n",
              "<ellipse fill=\"none\" stroke=\"black\" cx=\"27\" cy=\"-204.02\" rx=\"27\" ry=\"18\"/>\n",
              "<text text-anchor=\"middle\" x=\"27\" y=\"-200.32\" font-family=\"Times,serif\" font-size=\"14.00\">L</text>\n",
              "</g>\n",
              "<!-- S -->\n",
              "<g id=\"node5\" class=\"node\">\n",
              "<title>S</title>\n",
              "<ellipse fill=\"none\" stroke=\"black\" cx=\"27\" cy=\"-142.01\" rx=\"27\" ry=\"18\"/>\n",
              "<text text-anchor=\"middle\" x=\"27\" y=\"-138.31\" font-family=\"Times,serif\" font-size=\"14.00\">S</text>\n",
              "</g>\n",
              "<!-- L&#45;&#45;S -->\n",
              "<g id=\"edge1\" class=\"edge\">\n",
              "<title>L&#45;&#45;S</title>\n",
              "<path fill=\"none\" stroke=\"black\" d=\"M27,-185.75C27,-177.75 27,-168.38 27,-160.36\"/>\n",
              "<text text-anchor=\"middle\" x=\"22\" y=\"-176.86\" font-family=\"Times,serif\" font-size=\"14.00\">L</text>\n",
              "</g>\n",
              "<!-- H -->\n",
              "<g id=\"node2\" class=\"node\">\n",
              "<title>H</title>\n",
              "<ellipse fill=\"none\" stroke=\"black\" cx=\"89.01\" cy=\"-204.02\" rx=\"27\" ry=\"18\"/>\n",
              "<text text-anchor=\"middle\" x=\"89.01\" y=\"-200.32\" font-family=\"Times,serif\" font-size=\"14.00\">H</text>\n",
              "</g>\n",
              "<!-- H&#45;&#45;S -->\n",
              "<g id=\"edge2\" class=\"edge\">\n",
              "<title>H&#45;&#45;S</title>\n",
              "<path fill=\"none\" stroke=\"black\" d=\"M74,-189.01C64.39,-179.4 51.96,-166.98 42.3,-157.31\"/>\n",
              "<text text-anchor=\"middle\" x=\"58.17\" y=\"-161.98\" font-family=\"Times,serif\" font-size=\"14.00\">H</text>\n",
              "</g>\n",
              "<!-- C -->\n",
              "<g id=\"node3\" class=\"node\">\n",
              "<title>C</title>\n",
              "<ellipse fill=\"none\" stroke=\"black\" cx=\"89.01\" cy=\"-80.01\" rx=\"27\" ry=\"18\"/>\n",
              "<text text-anchor=\"middle\" x=\"89.01\" y=\"-76.31\" font-family=\"Times,serif\" font-size=\"14.00\">C</text>\n",
              "</g>\n",
              "<!-- V -->\n",
              "<g id=\"node4\" class=\"node\">\n",
              "<title>V</title>\n",
              "<ellipse fill=\"none\" stroke=\"black\" cx=\"89.01\" cy=\"-142.01\" rx=\"27\" ry=\"18\"/>\n",
              "<text text-anchor=\"middle\" x=\"89.01\" y=\"-138.31\" font-family=\"Times,serif\" font-size=\"14.00\">V</text>\n",
              "</g>\n",
              "<!-- C&#45;&#45;V -->\n",
              "<g id=\"edge3\" class=\"edge\">\n",
              "<title>C&#45;&#45;V</title>\n",
              "<path fill=\"none\" stroke=\"black\" d=\"M89.01,-98.27C89.01,-106.28 89.01,-115.65 89.01,-123.66\"/>\n",
              "<text text-anchor=\"middle\" x=\"84.01\" y=\"-114.76\" font-family=\"Times,serif\" font-size=\"14.00\">V</text>\n",
              "</g>\n",
              "<!-- S&#45;&#45;V -->\n",
              "<g id=\"edge4\" class=\"edge\">\n",
              "<title>S&#45;&#45;V</title>\n",
              "<path fill=\"none\" stroke=\"black\" d=\"M54.02,-142.01C56.63,-142.01 59.28,-142.01 61.89,-142.01\"/>\n",
              "<text text-anchor=\"middle\" x=\"57.95\" y=\"-130.81\" font-family=\"Times,serif\" font-size=\"14.00\">L,H,V</text>\n",
              "</g>\n",
              "<!-- O -->\n",
              "<g id=\"node6\" class=\"node\">\n",
              "<title>O</title>\n",
              "<ellipse fill=\"none\" stroke=\"black\" cx=\"27\" cy=\"-80.01\" rx=\"27\" ry=\"18\"/>\n",
              "<text text-anchor=\"middle\" x=\"27\" y=\"-76.31\" font-family=\"Times,serif\" font-size=\"14.00\">O</text>\n",
              "</g>\n",
              "<!-- O&#45;&#45;S -->\n",
              "<g id=\"edge5\" class=\"edge\">\n",
              "<title>O&#45;&#45;S</title>\n",
              "<path fill=\"none\" stroke=\"black\" d=\"M27,-98.27C27,-106.28 27,-115.65 27,-123.66\"/>\n",
              "<text text-anchor=\"middle\" x=\"16\" y=\"-114.76\" font-family=\"Times,serif\" font-size=\"14.00\">V,S</text>\n",
              "</g>\n",
              "<!-- B -->\n",
              "<g id=\"node7\" class=\"node\">\n",
              "<title>B</title>\n",
              "<ellipse fill=\"none\" stroke=\"black\" cx=\"89.01\" cy=\"-18\" rx=\"27\" ry=\"18\"/>\n",
              "<text text-anchor=\"middle\" x=\"89.01\" y=\"-14.3\" font-family=\"Times,serif\" font-size=\"14.00\">B</text>\n",
              "</g>\n",
              "<!-- B&#45;&#45;O -->\n",
              "<g id=\"edge6\" class=\"edge\">\n",
              "<title>B&#45;&#45;O</title>\n",
              "<path fill=\"none\" stroke=\"black\" d=\"M74,-33.01C64.39,-42.62 51.96,-55.04 42.3,-64.7\"/>\n",
              "<text text-anchor=\"middle\" x=\"52.17\" y=\"-37.64\" font-family=\"Times,serif\" font-size=\"14.00\">O</text>\n",
              "</g>\n",
              "<!-- T -->\n",
              "<g id=\"node8\" class=\"node\">\n",
              "<title>T</title>\n",
              "<ellipse fill=\"none\" stroke=\"black\" cx=\"151.01\" cy=\"-80.01\" rx=\"27\" ry=\"18\"/>\n",
              "<text text-anchor=\"middle\" x=\"151.01\" y=\"-76.31\" font-family=\"Times,serif\" font-size=\"14.00\">T</text>\n",
              "</g>\n",
              "<!-- B&#45;&#45;T -->\n",
              "<g id=\"edge7\" class=\"edge\">\n",
              "<title>B&#45;&#45;T</title>\n",
              "<path fill=\"none\" stroke=\"black\" d=\"M104.02,-33.01C113.62,-42.62 126.05,-55.04 135.71,-64.7\"/>\n",
              "<text text-anchor=\"middle\" x=\"124.84\" y=\"-37.64\" font-family=\"Times,serif\" font-size=\"14.00\">T</text>\n",
              "</g>\n",
              "<!-- A -->\n",
              "<g id=\"node9\" class=\"node\">\n",
              "<title>A</title>\n",
              "<ellipse fill=\"none\" stroke=\"black\" cx=\"151.01\" cy=\"-142.01\" rx=\"27\" ry=\"18\"/>\n",
              "<text text-anchor=\"middle\" x=\"151.01\" y=\"-138.31\" font-family=\"Times,serif\" font-size=\"14.00\">A</text>\n",
              "</g>\n",
              "<!-- A&#45;&#45;T -->\n",
              "<g id=\"edge8\" class=\"edge\">\n",
              "<title>A&#45;&#45;T</title>\n",
              "<path fill=\"none\" stroke=\"black\" d=\"M151.01,-123.74C151.01,-115.74 151.01,-106.37 151.01,-98.36\"/>\n",
              "<text text-anchor=\"middle\" x=\"146.01\" y=\"-114.85\" font-family=\"Times,serif\" font-size=\"14.00\">A</text>\n",
              "</g>\n",
              "</g>\n",
              "</svg>\n"
            ],
            "text/plain": [
              "<graphviz.dot.Graph at 0x7f8a3bd1c9d0>"
            ]
          },
          "execution_count": 9,
          "metadata": {},
          "output_type": "execute_result"
        }
      ]
    },
    {
      "cell_type": "markdown",
      "metadata": {
        "id": "JfIuOEhnwT4e"
      },
      "source": [
        "## Propagating Messages\n",
        "\n",
        "We will now implement the code to propagate the messages over the elimination tree. The main steps in the algorithm are the following:\n",
        "\n",
        "1. Choose a root node $r$ in the tree $T$\n",
        "2. Pull/collect messages towards root $r$\n",
        "3. Push/distribute messages away from root $r$\n",
        "5. return $\\phi_i \\prod_k M_{ki}$ for each node $i$ in tree $T$\n",
        "\n",
        "We can implement the pull step using a depth-first search. The general idea is to use the \"backtracking\" step of the recursion to calculate the messages. In other words, we start a depth-first search from the root $r$ until be find a dead-end. Such a dead-end is a node with only one neighbour. Therefore, we can calculate the message and associate to the edge between the dead-end node and its neighbour. This message is guaranteed to be towards the root.\n",
        "\n",
        "When we finish the pull step, we can also use a depth-first search to implement push step. In this case, we calculate a message every time we traverse an edge. Differently from the pull step, we will use the \"forward\" part of the recursion, so we guarantee the message is directed away from the root.\n",
        "\n",
        "One final, and important detail. The messages are calculated according to the following equation:\n",
        "\n",
        "$M_{ij} = project(\\phi_i \\prod_{k \\neq j} M_{ki},S_{ij})$\n",
        "\n",
        "where $project(\\phi, S_{ij})$ is an operation that removes (by marginalization) all variables in $\\phi_i$ but the ones in $S_{ij}$.\n",
        "\n",
        "The critical detail here is that when we compute a message from node $i$ to $j$ we multiply all incoming messages to $i$ except for the message from $j$. \n"
      ]
    },
    {
      "cell_type": "markdown",
      "metadata": {
        "id": "2ABHsxxzwT4e"
      },
      "source": [
        "### Exercise\n",
        "\n",
        "We will implement the code to compute messages for all edges in the elimination tree. For each undirected edge there will be two messages: one $M_{ij}$ and the other $M_{ji}$. The messages are stored in a dictionary, so we can easily retrieve them later. Similarly to separators, we use as key the concatenation of the names of the nodes.\n",
        "\n",
        "Let's start with the function `getMessage` that calls two auxiliary functions: `pull` and `push`."
      ]
    },
    {
      "cell_type": "code",
      "metadata": {
        "id": "ZM1msDlDwT4f"
      },
      "source": [
        "class EliminationTree(EliminationTree):\n",
        "    def __init__(self, graph, separators, outcomeSpace, factor_dict=None):\n",
        "        self.graph = graph\n",
        "        self.separators = separators # dict mapping each edge (node1, node2) -> tuple of separator vars\n",
        "        self.factors = copy.deepcopy(factor_dict)\n",
        "        self.outcomeSpace = outcomeSpace\n",
        "\n",
        "        self.messages = None\n",
        "\n",
        "    def getMessages(self):\n",
        "        '''\n",
        "        Propagate messages around the tree\n",
        "        '''\n",
        "        \n",
        "        # it doesn't matter which node we choose as the root node\n",
        "        root = ... # TODO\n",
        "\n",
        "        # Initialize dictionary to store messages. The message key will be concatenation of nodes names\n",
        "        self.messages = dict()\n",
        "        # For each neighbouring node of root, we start a depth-first search\n",
        "        for v in self.graph.children(root):\n",
        "            # Call pull and store the resulting message in messages[v+root]\n",
        "            self.messages[v+root] = ... # TODO\n",
        "\n",
        "        # Call push to recursively push messages out from the root. To start it off, set the previous node to '' or None.                 \n",
        "        ... # TODO\n",
        "        \n",
        "        return self.messages\n",
        "\n",
        "    def pull(self, curr, previous):\n",
        "        \"\"\"\n",
        "        argument \n",
        "        `curr`, current node.\n",
        "        `previous`, node we came from in the search.\n",
        "        \n",
        "        Returns a factor fx with a message from node previous to root\n",
        "        \"\"\"\n",
        "        # fx is an auxiliary factor. Initialize fx with the factor associated with the curr node (use the copy method to copy it)\n",
        "        fx = ... # TODO\n",
        "        # Depth-first search\n",
        "        for v in self.graph.children(curr):\n",
        "            # This is an important step: avoid returning using the edge we came from\n",
        "            if not v == previous:\n",
        "                # Call pull recursively since root is not an edge with a single neighbour\n",
        "                self.messages[v+curr] = ... # TODO\n",
        "                # Here, we returned from the recursive call. \n",
        "                # We need to join the received message with fx\n",
        "                fx = ... # TODO\n",
        "        # fx has all incoming messages multiplied by the node factor. It is time to marginalize the variables not is S_{ij}\n",
        "        for v in fx.domain:\n",
        "            if not v in self.separators[''.join(sorted([previous,curr]))]:\n",
        "                # Call marginalize to remove variable v from fx's domain\n",
        "                fx = ... # TODO\n",
        "        return fx\n",
        "\n",
        "    def push(self, curr, previous):\n",
        "        \"\"\"\n",
        "        argument \n",
        "        `curr`, current node.\n",
        "        `previous`, previous node.\n",
        "        \"\"\"    \n",
        "        for v in self.graph.children(curr):\n",
        "            # This is an important step: avoid returning using the edge we came from        \n",
        "            if not v == previous:\n",
        "                # Initialize messages[curr+v] with the factor associated with the curr node (make sure to copy it)\n",
        "                self.messages[curr+v] = ... # TODO\n",
        "                for w in self.graph.children(curr):\n",
        "                    # This is an important step: do not consider the incoming message from v when computing the outgoing message to v\n",
        "                    if not v == w:\n",
        "                        # Join messages coming from w into messages[curr+v]\n",
        "                        self.messages[curr+v] = ... # TODO\n",
        "\n",
        "                # messages[curr+v] has all incoming messages multiplied by the node factor. It is time to marginalize the variables not is S_{ij}\n",
        "                for w in self.messages[curr+v].domain:\n",
        "                    if not w in self.separators[''.join(sorted([v,curr]))]:\n",
        "                        # Call marginalize to remove variable v from messages[curr+v] domain\n",
        "                        self.messages[curr+v] = ... # TODO\n",
        "                # Call push recursively and go to the next node v\n",
        "                self.push(v, curr)"
      ],
      "execution_count": null,
      "outputs": []
    },
    {
      "cell_type": "code",
      "metadata": {
        "id": "hUvOemqTwT4f"
      },
      "source": [
        "# Answer\n",
        "\n",
        "class EliminationTree(EliminationTree):\n",
        "    def __init__(self, graph, separators, outcomeSpace, factor_dict=None):\n",
        "        self.graph = graph\n",
        "        self.separators = separators # dict mapping each edge (node1, node2) -> tuple of separator vars\n",
        "        self.factors = copy.deepcopy(factor_dict)\n",
        "        self.outcomeSpace = outcomeSpace\n",
        "\n",
        "        self.messages = None\n",
        "\n",
        "    def getMessages(self):\n",
        "        '''\n",
        "        Propagate messages around the tree\n",
        "        '''\n",
        "        root = list(self.graph)[0] # it doesn't matter which node we choose as the root node\n",
        "\n",
        "        # Initialize dictionary to store messages. The message key will be concatenation of nodes names\n",
        "        self.messages = dict()\n",
        "        # For each neighbouring node of root, we start a depth-first search\n",
        "        for v in self.graph.children(root):\n",
        "            # Call pull and store the resulting message in messages[v+root]\n",
        "            self.messages[v+root] = self.pull(v, root)\n",
        "\n",
        "        # Call push to recursively push messages out from the root. To start it off, set the previous node to '' or None.                 \n",
        "        self.push(root, '')\n",
        "        \n",
        "        return self.messages\n",
        "\n",
        "    def pull(self, curr, previous):\n",
        "        \"\"\"\n",
        "        argument \n",
        "        `curr`, current node.\n",
        "        `previous`, node we came from in the search.\n",
        "        \n",
        "        Returns a factor fx with a message from node previous to root\n",
        "        \"\"\"\n",
        "        # fx is an auxiliary factor. Initialize fx with the factor associated with the curr node\n",
        "        fx = self.factors[curr].copy()\n",
        "        # Depth-first search\n",
        "        for v in self.graph.children(curr):\n",
        "            # This is an important step: avoid returning using the edge we came from\n",
        "            if not v == previous:\n",
        "                # Call pull recursively since root is not an edge with a single neighbour\n",
        "                self.messages[v+curr] = self.pull(v, curr)\n",
        "                # Here, we returned from the recursive call. \n",
        "                # We need to join the received message with fx\n",
        "                fx = fx*self.messages[v+curr]\n",
        "        # fx has all incoming messages multiplied by the node factor. It is time to marginalize the variables not is S_{ij}\n",
        "        for v in fx.domain:\n",
        "            if not v in self.separators[''.join(sorted([previous,curr]))]:\n",
        "                # Call marginalize to remove variable v from fx's domain\n",
        "                fx = fx.marginalize(v)\n",
        "        return fx\n",
        "\n",
        "    def push(self, curr, previous):\n",
        "        \"\"\"\n",
        "        argument \n",
        "        `curr`, current node.\n",
        "        `previous`, previous node.\n",
        "        \"\"\"    \n",
        "        for v in self.graph.children(curr):\n",
        "            # This is an important step: avoid returning using the edge we came from        \n",
        "            if not v == previous:\n",
        "                # Initialize messages[curr+v] with the factor associated with the curr node\n",
        "                self.messages[curr+v] = self.factors[curr].copy()\n",
        "                for w in self.graph.children(curr):\n",
        "                    # This is an important step: do not consider the incoming message from v when computing the outgoing message to v\n",
        "                    if not v == w:\n",
        "                        # Join messages coming from w into messages[curr+v]\n",
        "                        self.messages[curr+v] = self.messages[curr+v]*self.messages[w+curr]\n",
        "\n",
        "                # messages[curr+v] has all incoming messages multiplied by the node factor. It is time to marginalize the variables not is S_{ij}\n",
        "                for w in self.messages[curr+v].domain:\n",
        "                    if not w in self.separators[''.join(sorted([v,curr]))]:\n",
        "                        # Call marginalize to remove variable v from messages[curr+v] domain\n",
        "                        self.messages[curr+v] = self.messages[curr+v].marginalize(w)\n",
        "                # Call push recursively and go to the next node v\n",
        "                self.push(v, curr)"
      ],
      "execution_count": null,
      "outputs": []
    },
    {
      "cell_type": "code",
      "metadata": {
        "id": "X2j_WkuPwT4f",
        "outputId": "fd6115c3-0c1a-4294-e8db-2d46a3f642d4"
      },
      "source": [
        "################\n",
        "# Test code\n",
        "\n",
        "eTree = EliminationTree(g, s, outcomeSpace, factor_dict)\n",
        "m = eTree.getMessages()\n",
        "print(m['TB'])\n",
        "print(m['BT'])"
      ],
      "execution_count": null,
      "outputs": [
        {
          "name": "stdout",
          "output_type": "stream",
          "text": [
            "╒═════╤═══════╕\n",
            "│   T │    Pr │\n",
            "╞═════╪═══════╡\n",
            "│   0 │ 0.307 │\n",
            "├─────┼───────┤\n",
            "│   1 │ 0.693 │\n",
            "╘═════╧═══════╛\n",
            "\n",
            "╒═════╤══════╕\n",
            "│   T │   Pr │\n",
            "╞═════╪══════╡\n",
            "│   0 │    1 │\n",
            "├─────┼──────┤\n",
            "│   1 │    1 │\n",
            "╘═════╧══════╛\n",
            "\n"
          ]
        }
      ]
    },
    {
      "cell_type": "markdown",
      "metadata": {
        "id": "g9uxWOqSwT4g"
      },
      "source": [
        "If your code is correct, you should see the following output:\n",
        "\n",
        "```\n",
        "╒═════╤═══════╕\n",
        "│   T │    Pr │\n",
        "╞═════╪═══════╡\n",
        "│   0 │ 0.307 │\n",
        "├─────┼───────┤\n",
        "│   1 │ 0.693 │\n",
        "╘═════╧═══════╛\n",
        "\n",
        "╒═════╤══════╕\n",
        "│   T │   Pr │\n",
        "╞═════╪══════╡\n",
        "│   0 │    1 │\n",
        "├─────┼──────┤\n",
        "│   1 │    1 │\n",
        "╘═════╧══════╛\n",
        "```"
      ]
    },
    {
      "cell_type": "markdown",
      "metadata": {
        "id": "94Up662WwT4g"
      },
      "source": [
        "## Querying Cluster Marginals\n",
        "\n",
        "We can now compute the marginals for one or more variables inside the same cluster. We implement a function `queryCluster`. \n",
        "\n",
        "`queryCluster` takes as input a node and a query, among other arguments. The query is a list of variable names. All variables must be in the node cluster. The function returns the marginal distribution for those variables. For now, we are not conditioning to any piece of evidence. We will do it in the next section."
      ]
    },
    {
      "cell_type": "code",
      "metadata": {
        "id": "2a0FtALowT4g",
        "outputId": "23a2dad3-bdef-43cd-908e-4483862ad3f0"
      },
      "source": [
        "class EliminationTree(EliminationTree):\n",
        "    def queryCluster(self, node, query):\n",
        "        \"\"\"\n",
        "        `node`, a node in the elimination tree whose cluster contain the query variables.\n",
        "        `query`, a list with query variables\n",
        "        \n",
        "        Returns factor with the marginal for the query variables\n",
        "        \"\"\" \n",
        "        if self.messages is None:\n",
        "            self.messages = self.getMessages()\n",
        "        # fx is an auxiliary factor. Initialize fx with a *copy* of the factor associated with `node`    \n",
        "        fx = ... # TODO\n",
        "        for v in self.graph.children(node):\n",
        "            # Call join to multiply the incoming messages from all neighbouring nodes to v        \n",
        "            fx = ... # TODO\n",
        "        for v in fx.domain:\n",
        "            if v not in query:\n",
        "                # Call marginalize to remove variable v from fx domain            \n",
        "                fx = ... # TODO\n",
        "        return fx\n",
        "        \n",
        "##################\n",
        "# Test code\n",
        "\n",
        "eTree = EliminationTree(g, s, outcomeSpace, factor_dict)\n",
        "print(eTree.queryCluster('S', ('L','H')))\n"
      ],
      "execution_count": null,
      "outputs": [
        {
          "ename": "AttributeError",
          "evalue": "'ellipsis' object has no attribute 'domain'",
          "output_type": "error",
          "traceback": [
            "\u001b[0;31m---------------------------------------------------------------------------\u001b[0m",
            "\u001b[0;31mAttributeError\u001b[0m                            Traceback (most recent call last)",
            "\u001b[0;32m<ipython-input-13-7829d20e8074>\u001b[0m in \u001b[0;36m<module>\u001b[0;34m\u001b[0m\n\u001b[1;32m     24\u001b[0m \u001b[0;34m\u001b[0m\u001b[0m\n\u001b[1;32m     25\u001b[0m \u001b[0meTree\u001b[0m \u001b[0;34m=\u001b[0m \u001b[0mEliminationTree\u001b[0m\u001b[0;34m(\u001b[0m\u001b[0mg\u001b[0m\u001b[0;34m,\u001b[0m \u001b[0ms\u001b[0m\u001b[0;34m,\u001b[0m \u001b[0moutcomeSpace\u001b[0m\u001b[0;34m,\u001b[0m \u001b[0mfactor_dict\u001b[0m\u001b[0;34m)\u001b[0m\u001b[0;34m\u001b[0m\u001b[0;34m\u001b[0m\u001b[0m\n\u001b[0;32m---> 26\u001b[0;31m \u001b[0mprint\u001b[0m\u001b[0;34m(\u001b[0m\u001b[0meTree\u001b[0m\u001b[0;34m.\u001b[0m\u001b[0mqueryCluster\u001b[0m\u001b[0;34m(\u001b[0m\u001b[0;34m'S'\u001b[0m\u001b[0;34m,\u001b[0m \u001b[0;34m(\u001b[0m\u001b[0;34m'L'\u001b[0m\u001b[0;34m,\u001b[0m\u001b[0;34m'H'\u001b[0m\u001b[0;34m)\u001b[0m\u001b[0;34m)\u001b[0m\u001b[0;34m)\u001b[0m\u001b[0;34m\u001b[0m\u001b[0;34m\u001b[0m\u001b[0m\n\u001b[0m",
            "\u001b[0;32m<ipython-input-13-7829d20e8074>\u001b[0m in \u001b[0;36mqueryCluster\u001b[0;34m(self, node, query)\u001b[0m\n\u001b[1;32m     14\u001b[0m             \u001b[0;31m# Call join to multiply the incoming messages from all neighbouring nodes to v\u001b[0m\u001b[0;34m\u001b[0m\u001b[0;34m\u001b[0m\u001b[0;34m\u001b[0m\u001b[0m\n\u001b[1;32m     15\u001b[0m             \u001b[0mfx\u001b[0m \u001b[0;34m=\u001b[0m \u001b[0;34m...\u001b[0m \u001b[0;31m# TODO\u001b[0m\u001b[0;34m\u001b[0m\u001b[0;34m\u001b[0m\u001b[0m\n\u001b[0;32m---> 16\u001b[0;31m         \u001b[0;32mfor\u001b[0m \u001b[0mv\u001b[0m \u001b[0;32min\u001b[0m \u001b[0mfx\u001b[0m\u001b[0;34m.\u001b[0m\u001b[0mdomain\u001b[0m\u001b[0;34m:\u001b[0m\u001b[0;34m\u001b[0m\u001b[0;34m\u001b[0m\u001b[0m\n\u001b[0m\u001b[1;32m     17\u001b[0m             \u001b[0;32mif\u001b[0m \u001b[0mv\u001b[0m \u001b[0;32mnot\u001b[0m \u001b[0;32min\u001b[0m \u001b[0mquery\u001b[0m\u001b[0;34m:\u001b[0m\u001b[0;34m\u001b[0m\u001b[0;34m\u001b[0m\u001b[0m\n\u001b[1;32m     18\u001b[0m                 \u001b[0;31m# Call marginalize to remove variable v from fx domain\u001b[0m\u001b[0;34m\u001b[0m\u001b[0;34m\u001b[0m\u001b[0;34m\u001b[0m\u001b[0m\n",
            "\u001b[0;31mAttributeError\u001b[0m: 'ellipsis' object has no attribute 'domain'"
          ]
        }
      ]
    },
    {
      "cell_type": "code",
      "metadata": {
        "id": "7c9dOwOswT4g",
        "outputId": "6831a3bd-f1fb-4bc6-9a16-fec42c722c83"
      },
      "source": [
        "# Answer\n",
        "\n",
        "class EliminationTree(EliminationTree):\n",
        "    def queryCluster(self, node, query):\n",
        "        \"\"\"\n",
        "        `node`, a node in the elimination tree whose cluster contain the query variables.\n",
        "        `query`, a list with query variables\n",
        "        \n",
        "        Returns factor with the marginal for the query variables\n",
        "        \"\"\" \n",
        "        if self.messages is None:\n",
        "            self.messages = self.getMessages()\n",
        "        # fx is an auxiliary factor. Initialize fx with a *copy* of the factor associated with `node`    \n",
        "        fx = self.factors[node].copy()\n",
        "        for v in self.graph.children(node):\n",
        "            # Call join to multiply the incoming messages from all neighbouring nodes to v        \n",
        "            fx = fx*self.messages[v+node]\n",
        "        for v in fx.domain:\n",
        "            if v not in query:\n",
        "                # Call marginalize to remove variable v from fx domain            \n",
        "                fx = fx.marginalize(v)\n",
        "        return fx\n",
        "        \n",
        "##################\n",
        "# Test code\n",
        "\n",
        "eTree = EliminationTree(g, s, outcomeSpace, factor_dict)\n",
        "print(eTree.queryCluster('S', ('L','H')))\n"
      ],
      "execution_count": null,
      "outputs": [
        {
          "name": "stdout",
          "output_type": "stream",
          "text": [
            "╒═════╤═════╤══════╕\n",
            "│   L │   H │   Pr │\n",
            "╞═════╪═════╪══════╡\n",
            "│   0 │   0 │ 0.76 │\n",
            "├─────┼─────┼──────┤\n",
            "│   0 │   1 │ 0.19 │\n",
            "├─────┼─────┼──────┤\n",
            "│   1 │   0 │ 0.04 │\n",
            "├─────┼─────┼──────┤\n",
            "│   1 │   1 │ 0.01 │\n",
            "╘═════╧═════╧══════╛\n",
            "\n"
          ]
        }
      ]
    },
    {
      "cell_type": "markdown",
      "metadata": {
        "id": "iKNt37WhwT4h"
      },
      "source": [
        "If you implemented you code correctly, you should see the following output:\n",
        "\n",
        "```\n",
        "╒═════╤═════╤══════╕\n",
        "│   L │   H │   Pr │\n",
        "╞═════╪═════╪══════╡\n",
        "│   0 │   0 │ 0.76 │\n",
        "├─────┼─────┼──────┤\n",
        "│   0 │   1 │ 0.19 │\n",
        "├─────┼─────┼──────┤\n",
        "│   1 │   0 │ 0.04 │\n",
        "├─────┼─────┼──────┤\n",
        "│   1 │   1 │ 0.01 │\n",
        "╘═════╧═════╧══════╛\n",
        "````"
      ]
    },
    {
      "cell_type": "markdown",
      "metadata": {
        "id": "RY08L3m2wT4h"
      },
      "source": [
        "It is interesting to note that the same marginals can be obtained from different node clusters. For instance, variables $L$ and $H$ are also present in the cluster of node 'V'. Therefore, the query:"
      ]
    },
    {
      "cell_type": "code",
      "metadata": {
        "id": "E_2UAafOwT4h",
        "outputId": "07522dbf-19b5-46a8-9466-be17abde0a14"
      },
      "source": [
        "print(eTree.queryCluster('V', ('L','H')))"
      ],
      "execution_count": null,
      "outputs": [
        {
          "name": "stdout",
          "output_type": "stream",
          "text": [
            "╒═════╤═════╤══════╕\n",
            "│   L │   H │   Pr │\n",
            "╞═════╪═════╪══════╡\n",
            "│   0 │   0 │ 0.76 │\n",
            "├─────┼─────┼──────┤\n",
            "│   0 │   1 │ 0.19 │\n",
            "├─────┼─────┼──────┤\n",
            "│   1 │   0 │ 0.04 │\n",
            "├─────┼─────┼──────┤\n",
            "│   1 │   1 │ 0.01 │\n",
            "╘═════╧═════╧══════╛\n",
            "\n"
          ]
        }
      ]
    },
    {
      "cell_type": "markdown",
      "metadata": {
        "id": "eysxCxBCwT4h"
      },
      "source": [
        "Provides the same output.\n",
        "\n",
        "## Including Evidence\n",
        "\n",
        "The inclusion of evidence allows us to answer queries of the form $P(X, e)$ and, after normalization, $P(X|e)$. There are two main ways to include evidence:\n",
        "\n",
        "1. Eliminate the rows of the factors that do not match the evidence.\n",
        "2. Create a new factor, known as evidence indicator, that associates a value 1 to the evidence and 0 otherwise.\n",
        "\n",
        "For instance, if we want to specify the evidence $B=False$, we can create a factor $\\lambda_B$:\n",
        "\n",
        "| $B$  | $\\lambda_B$ |\n",
        "|:-|:-|\n",
        "| true | 0           |\n",
        "| false | 1          | \n",
        "\n",
        "Then, we include this factor in any node that has a cluster that contains the variable $B$.\n",
        "\n",
        "So far, we have used the technique described in (1) to include evidence. So, in the next cells, we will observe evidence using evidence indicators."
      ]
    },
    {
      "cell_type": "markdown",
      "metadata": {
        "id": "xZ4Koa5ywT4h"
      },
      "source": [
        "### Exercise\n",
        "\n",
        "Let's implement the function `evidence`. For each evidence variable, this function will create a new \"lambda\" factor, then join it into one of the factors in the `factors` dict. Since this function modifies the EliminationTree, we also have a `reset` function to return the EliminationTree to it's previous evidence-free state."
      ]
    },
    {
      "cell_type": "code",
      "metadata": {
        "id": "knUdUh2RwT4i",
        "outputId": "e00b38dd-cc79-4df2-ff82-72a114eaba49"
      },
      "source": [
        "class EliminationTree(EliminationTree):\n",
        "    def evidence(self, **q_evi):\n",
        "        \"\"\"\n",
        "        `q_evi`, dictionary of evidence in the form of variables names and values\n",
        "        \n",
        "        Returns dictionary with evidence factors \n",
        "        \"\"\"     \n",
        "        # backup factors dict (so we can restore it later)\n",
        "        self.backup_factors = self.factors.copy()\n",
        "        # Create an empty dictionary\n",
        "        lambdas = dict()\n",
        "        for var, evi in q_evi.items():\n",
        "            # create lambda factor\n",
        "            lambdas[var] = ... # TODO\n",
        "            # Set probability table for the evidence indicator \n",
        "            for outcome in self.outcomeSpace[var]:\n",
        "                if outcome == evi:\n",
        "                    ... # TODO\n",
        "                else:\n",
        "                    ... # TODO\n",
        "            \n",
        "            # join factor with lambda\n",
        "            for node, factor in self.factors.items():\n",
        "                if var in factor.domain:\n",
        "                    self.factors[node] *= ... # TODO\n",
        "                    break\n",
        "\n",
        "        return lambdas\n",
        "\n",
        "    def reset(self):\n",
        "        self.factors = self.backup_factors\n",
        "\n",
        "        \n",
        "########################\n",
        "# Test code\n",
        "\n",
        "eTree = EliminationTree(g, s, outcomeSpace, factor_dict)\n",
        "\n",
        "l = eTree.evidence(H=0,V=1)\n",
        "print(l['H'])\n",
        "print(l['V'])"
      ],
      "execution_count": null,
      "outputs": [
        {
          "ename": "AttributeError",
          "evalue": "'ellipsis' object has no attribute 'domain'",
          "output_type": "error",
          "traceback": [
            "\u001b[0;31m---------------------------------------------------------------------------\u001b[0m",
            "\u001b[0;31mAttributeError\u001b[0m                            Traceback (most recent call last)",
            "\u001b[0;32m<ipython-input-16-273b3d507216>\u001b[0m in \u001b[0;36m<module>\u001b[0;34m\u001b[0m\n\u001b[1;32m     37\u001b[0m \u001b[0meTree\u001b[0m \u001b[0;34m=\u001b[0m \u001b[0mEliminationTree\u001b[0m\u001b[0;34m(\u001b[0m\u001b[0mg\u001b[0m\u001b[0;34m,\u001b[0m \u001b[0ms\u001b[0m\u001b[0;34m,\u001b[0m \u001b[0moutcomeSpace\u001b[0m\u001b[0;34m,\u001b[0m \u001b[0mfactor_dict\u001b[0m\u001b[0;34m)\u001b[0m\u001b[0;34m\u001b[0m\u001b[0;34m\u001b[0m\u001b[0m\n\u001b[1;32m     38\u001b[0m \u001b[0;34m\u001b[0m\u001b[0m\n\u001b[0;32m---> 39\u001b[0;31m \u001b[0ml\u001b[0m \u001b[0;34m=\u001b[0m \u001b[0meTree\u001b[0m\u001b[0;34m.\u001b[0m\u001b[0mevidence\u001b[0m\u001b[0;34m(\u001b[0m\u001b[0mH\u001b[0m\u001b[0;34m=\u001b[0m\u001b[0;36m0\u001b[0m\u001b[0;34m,\u001b[0m\u001b[0mV\u001b[0m\u001b[0;34m=\u001b[0m\u001b[0;36m1\u001b[0m\u001b[0;34m)\u001b[0m\u001b[0;34m\u001b[0m\u001b[0;34m\u001b[0m\u001b[0m\n\u001b[0m\u001b[1;32m     40\u001b[0m \u001b[0mprint\u001b[0m\u001b[0;34m(\u001b[0m\u001b[0ml\u001b[0m\u001b[0;34m[\u001b[0m\u001b[0;34m'H'\u001b[0m\u001b[0;34m]\u001b[0m\u001b[0;34m)\u001b[0m\u001b[0;34m\u001b[0m\u001b[0;34m\u001b[0m\u001b[0m\n\u001b[1;32m     41\u001b[0m \u001b[0mprint\u001b[0m\u001b[0;34m(\u001b[0m\u001b[0ml\u001b[0m\u001b[0;34m[\u001b[0m\u001b[0;34m'V'\u001b[0m\u001b[0;34m]\u001b[0m\u001b[0;34m)\u001b[0m\u001b[0;34m\u001b[0m\u001b[0;34m\u001b[0m\u001b[0m\n",
            "\u001b[0;32m<ipython-input-16-273b3d507216>\u001b[0m in \u001b[0;36mevidence\u001b[0;34m(self, **q_evi)\u001b[0m\n\u001b[1;32m     23\u001b[0m             \u001b[0;32mfor\u001b[0m \u001b[0mnode\u001b[0m\u001b[0;34m,\u001b[0m \u001b[0mfactor\u001b[0m \u001b[0;32min\u001b[0m \u001b[0mself\u001b[0m\u001b[0;34m.\u001b[0m\u001b[0mfactors\u001b[0m\u001b[0;34m.\u001b[0m\u001b[0mitems\u001b[0m\u001b[0;34m(\u001b[0m\u001b[0;34m)\u001b[0m\u001b[0;34m:\u001b[0m\u001b[0;34m\u001b[0m\u001b[0;34m\u001b[0m\u001b[0m\n\u001b[1;32m     24\u001b[0m                 \u001b[0;32mif\u001b[0m \u001b[0mvar\u001b[0m \u001b[0;32min\u001b[0m \u001b[0mfactor\u001b[0m\u001b[0;34m.\u001b[0m\u001b[0mdomain\u001b[0m\u001b[0;34m:\u001b[0m\u001b[0;34m\u001b[0m\u001b[0;34m\u001b[0m\u001b[0m\n\u001b[0;32m---> 25\u001b[0;31m                     \u001b[0mself\u001b[0m\u001b[0;34m.\u001b[0m\u001b[0mfactors\u001b[0m\u001b[0;34m[\u001b[0m\u001b[0mnode\u001b[0m\u001b[0;34m]\u001b[0m \u001b[0;34m*=\u001b[0m \u001b[0;34m...\u001b[0m \u001b[0;31m# TODO\u001b[0m\u001b[0;34m\u001b[0m\u001b[0;34m\u001b[0m\u001b[0m\n\u001b[0m\u001b[1;32m     26\u001b[0m                     \u001b[0;32mbreak\u001b[0m\u001b[0;34m\u001b[0m\u001b[0;34m\u001b[0m\u001b[0m\n\u001b[1;32m     27\u001b[0m \u001b[0;34m\u001b[0m\u001b[0m\n",
            "\u001b[0;32m~/Dropbox/Tutors (1)/Tutorials/Week08/Practice/DiscreteFactors.py\u001b[0m in \u001b[0;36m__mul__\u001b[0;34m(self, other)\u001b[0m\n\u001b[1;32m    184\u001b[0m         \u001b[0mOverride\u001b[0m \u001b[0mthe\u001b[0m \u001b[0;34m*\u001b[0m \u001b[0moperator\u001b[0m\u001b[0;34m,\u001b[0m \u001b[0mso\u001b[0m \u001b[0mthat\u001b[0m \u001b[0mit\u001b[0m \u001b[0mcan\u001b[0m \u001b[0mbe\u001b[0m \u001b[0mused\u001b[0m \u001b[0mto\u001b[0m \u001b[0mjoin\u001b[0m \u001b[0mfactors\u001b[0m\u001b[0;34m\u001b[0m\u001b[0;34m\u001b[0m\u001b[0m\n\u001b[1;32m    185\u001b[0m         '''\n\u001b[0;32m--> 186\u001b[0;31m         \u001b[0;32mreturn\u001b[0m \u001b[0mself\u001b[0m\u001b[0;34m.\u001b[0m\u001b[0mjoin\u001b[0m\u001b[0;34m(\u001b[0m\u001b[0mother\u001b[0m\u001b[0;34m)\u001b[0m\u001b[0;34m\u001b[0m\u001b[0;34m\u001b[0m\u001b[0m\n\u001b[0m\u001b[1;32m    187\u001b[0m \u001b[0;34m\u001b[0m\u001b[0m\n\u001b[1;32m    188\u001b[0m     \u001b[0;32mdef\u001b[0m \u001b[0m__str__\u001b[0m\u001b[0;34m(\u001b[0m\u001b[0mself\u001b[0m\u001b[0;34m)\u001b[0m\u001b[0;34m:\u001b[0m\u001b[0;34m\u001b[0m\u001b[0;34m\u001b[0m\u001b[0m\n",
            "\u001b[0;32m~/Dropbox/Tutors (1)/Tutorials/Week08/Practice/DiscreteFactors.py\u001b[0m in \u001b[0;36mjoin\u001b[0;34m(self, other)\u001b[0m\n\u001b[1;32m     67\u001b[0m         '''\n\u001b[1;32m     68\u001b[0m         \u001b[0;31m# confirm that any shared variables have the same outcomeSpace\u001b[0m\u001b[0;34m\u001b[0m\u001b[0;34m\u001b[0m\u001b[0;34m\u001b[0m\u001b[0m\n\u001b[0;32m---> 69\u001b[0;31m         \u001b[0;32mfor\u001b[0m \u001b[0mvar\u001b[0m \u001b[0;32min\u001b[0m \u001b[0mset\u001b[0m\u001b[0;34m(\u001b[0m\u001b[0mother\u001b[0m\u001b[0;34m.\u001b[0m\u001b[0mdomain\u001b[0m\u001b[0;34m)\u001b[0m\u001b[0;34m.\u001b[0m\u001b[0mintersection\u001b[0m\u001b[0;34m(\u001b[0m\u001b[0mset\u001b[0m\u001b[0;34m(\u001b[0m\u001b[0mself\u001b[0m\u001b[0;34m.\u001b[0m\u001b[0mdomain\u001b[0m\u001b[0;34m)\u001b[0m\u001b[0;34m)\u001b[0m\u001b[0;34m:\u001b[0m\u001b[0;34m\u001b[0m\u001b[0;34m\u001b[0m\u001b[0m\n\u001b[0m\u001b[1;32m     70\u001b[0m             \u001b[0;32mif\u001b[0m \u001b[0mself\u001b[0m\u001b[0;34m.\u001b[0m\u001b[0moutcomeSpace\u001b[0m\u001b[0;34m[\u001b[0m\u001b[0mvar\u001b[0m\u001b[0;34m]\u001b[0m \u001b[0;34m!=\u001b[0m \u001b[0mother\u001b[0m\u001b[0;34m.\u001b[0m\u001b[0moutcomeSpace\u001b[0m\u001b[0;34m[\u001b[0m\u001b[0mvar\u001b[0m\u001b[0;34m]\u001b[0m\u001b[0;34m:\u001b[0m\u001b[0;34m\u001b[0m\u001b[0;34m\u001b[0m\u001b[0m\n\u001b[1;32m     71\u001b[0m                 \u001b[0;32mraise\u001b[0m \u001b[0mIndexError\u001b[0m\u001b[0;34m(\u001b[0m\u001b[0;34m'Incompatible outcomeSpaces. Make sure you set the same evidence on all factors'\u001b[0m\u001b[0;34m)\u001b[0m\u001b[0;34m\u001b[0m\u001b[0;34m\u001b[0m\u001b[0m\n",
            "\u001b[0;31mAttributeError\u001b[0m: 'ellipsis' object has no attribute 'domain'"
          ]
        }
      ]
    },
    {
      "cell_type": "code",
      "metadata": {
        "id": "taI3trnmwT4i",
        "outputId": "20ab4bc2-13b1-4ce4-9d8e-731464a007a3"
      },
      "source": [
        "# Answer\n",
        "\n",
        "class EliminationTree(EliminationTree):\n",
        "    def evidence(self, **q_evi):\n",
        "        \"\"\"\n",
        "        `q_evi`, dictionary of evidence in the form of variables names and values\n",
        "        \n",
        "        Returns dictionary with evidence factors \n",
        "        \"\"\"     \n",
        "        # backup factors dict (so we can restore it later)\n",
        "        self.backup_factors = self.factors.copy()\n",
        "        # Create an empty dictionary\n",
        "        lambdas = dict()\n",
        "        for var, evi in q_evi.items():\n",
        "            # create lambda factor\n",
        "            lambdas[var] = Factor((var,), self.outcomeSpace)\n",
        "            # Set probability table for the evidence indicator \n",
        "            for outcome in self.outcomeSpace[var]:\n",
        "                if outcome == evi:\n",
        "                    lambdas[var][outcome] = 1.\n",
        "                else:\n",
        "                    lambdas[var][outcome] = 0.\n",
        "            \n",
        "            # join factor with lambda\n",
        "            for node, factor in self.factors.items():\n",
        "                if var in factor.domain:\n",
        "                    self.factors[node] *= lambdas[var]\n",
        "                    break\n",
        "\n",
        "        return lambdas\n",
        "\n",
        "    def reset(self):\n",
        "        self.factors = self.backup_factors\n",
        "\n",
        "        \n",
        "########################\n",
        "# Test code\n",
        "\n",
        "eTree = EliminationTree(g, s, outcomeSpace, factor_dict)\n",
        "\n",
        "l = eTree.evidence(H=0,V=1)\n",
        "print(l['H'])\n",
        "print(l['V'])"
      ],
      "execution_count": null,
      "outputs": [
        {
          "name": "stdout",
          "output_type": "stream",
          "text": [
            "╒═════╤══════╕\n",
            "│   H │   Pr │\n",
            "╞═════╪══════╡\n",
            "│   0 │    1 │\n",
            "├─────┼──────┤\n",
            "│   1 │    0 │\n",
            "╘═════╧══════╛\n",
            "\n",
            "╒═════╤══════╕\n",
            "│   V │   Pr │\n",
            "╞═════╪══════╡\n",
            "│   0 │    0 │\n",
            "├─────┼──────┤\n",
            "│   1 │    1 │\n",
            "╘═════╧══════╛\n",
            "\n"
          ]
        }
      ]
    },
    {
      "cell_type": "markdown",
      "metadata": {
        "id": "OA-rnYK5wT4i"
      },
      "source": [
        "If you implemented your code correctly, you should see the following output:\n",
        "\n",
        "```\n",
        "╒═════╤══════╕\n",
        "│   H │   Pr │\n",
        "╞═════╪══════╡\n",
        "│   0 │    1 │\n",
        "├─────┼──────┤\n",
        "│   1 │    0 │\n",
        "╘═════╧══════╛\n",
        "\n",
        "╒═════╤══════╕\n",
        "│   V │   Pr │\n",
        "╞═════╪══════╡\n",
        "│   0 │    0 │\n",
        "├─────┼──────┤\n",
        "│   1 │    1 │\n",
        "╘═════╧══════╛\n",
        "```"
      ]
    },
    {
      "cell_type": "code",
      "metadata": {
        "id": "3I6aSQNnwT4j",
        "outputId": "ebf2000e-b2e5-4dce-e7b3-b3f31c5c9a1c"
      },
      "source": [
        "#################\n",
        "# Test code\n",
        "\n",
        "eTree = EliminationTree(g, s, outcomeSpace, factor_dict)\n",
        "\n",
        "eTree.evidence(B=1)\n",
        "eTree.getMessages()\n",
        "print(eTree.queryCluster('A', ('A',)))"
      ],
      "execution_count": null,
      "outputs": [
        {
          "name": "stdout",
          "output_type": "stream",
          "text": [
            "╒═════╤═════════════╕\n",
            "│   A │          Pr │\n",
            "╞═════╪═════════════╡\n",
            "│   0 │ 0.179175    │\n",
            "├─────┼─────────────┤\n",
            "│   1 │ 0.000642448 │\n",
            "╘═════╧═════════════╛\n",
            "\n"
          ]
        }
      ]
    },
    {
      "cell_type": "markdown",
      "metadata": {
        "id": "9dUnd2UJwT4j"
      },
      "source": [
        "This is the expected output for $P(A, B=1)$. \n",
        "\n",
        "```\n",
        "╒═════╤═════════════╕\n",
        "│   A │          Pr │\n",
        "╞═════╪═════════════╡\n",
        "│   0 │ 0.179175    │\n",
        "├─────┼─────────────┤\n",
        "│   1 │ 0.000642448 │\n",
        "╘═════╧═════════════╛\n",
        "```\n",
        "\n",
        "Note that after normalization, we can get $P(A| B=1)$."
      ]
    },
    {
      "cell_type": "code",
      "metadata": {
        "id": "T5DYmpEOwT4j",
        "outputId": "b3c91482-d10c-4f85-8a46-c3c62305f6eb"
      },
      "source": [
        "print(eTree.queryCluster('A', ('A',)).normalize())"
      ],
      "execution_count": null,
      "outputs": [
        {
          "name": "stdout",
          "output_type": "stream",
          "text": [
            "╒═════╤════════════╕\n",
            "│   A │         Pr │\n",
            "╞═════╪════════════╡\n",
            "│   0 │ 0.996427   │\n",
            "├─────┼────────────┤\n",
            "│   1 │ 0.00357277 │\n",
            "╘═════╧════════════╛\n",
            "\n"
          ]
        }
      ]
    },
    {
      "cell_type": "markdown",
      "metadata": {
        "id": "kUZUvbVewT4j"
      },
      "source": [
        "# Jointrees\n",
        "\n",
        "We can reuse our code for elimination trees to implement a Shenoy-Shafer architecture for jointrees. We need first to define a jointree graph.\n",
        "\n",
        "In terms of implementation, the main difference between the jointree and an elimination tree are the following:\n",
        "\n",
        "1. Our implementation of elimination trees has assumed that we have one node per factor. Therefore, we named the elimination trees with the names of the variables associated with each factor. However, jointrees typically have clusters that involve several variables. For now on, we will use numbers to designate each jointree node.\n",
        "\n",
        "2. As our implementation of elimination trees has one node per factor, we did not have to associate factors to nodes. However, for jointrees, we may have more than one factor in the same node. We will need to distribute the factors according to the clusters.\n",
        "\n",
        "3. With jointrees, we may have nodes with no factor associated. Therefore, we will need to assign a trivial factor to those nodes.\n",
        "\n",
        "For the ICU network, we handcrafted the following jointree:\n",
        "\n",
        "![Jointree](img/jointree.png \"Jointree\")\n",
        "\n",
        "\n",
        "Let's start specifying the jointree graph, clusters and separators.\n",
        "\n",
        "## Exercise\n",
        "\n",
        "Specify the jointree graph, separators and clusters. We wrote the first line of each dictionary.\n",
        "\n",
        "Number the nodes as follows:\n",
        "```\n",
        "   5\n",
        "   4\n",
        "1  2  3\n",
        "```"
      ]
    },
    {
      "cell_type": "code",
      "metadata": {
        "id": "-KMjGbcWwT4j",
        "outputId": "e60d8b08-86b4-4845-bd75-20eff1ff674b"
      },
      "source": [
        "class JoinTree(EliminationTree):\n",
        "    def __init__(self, graph, clusters, separators):\n",
        "        self.graph = graph\n",
        "        self.separators = separators # dict mapping each edge (node1, node2) -> tuple of separator vars\n",
        "        self.clusters = clusters\n",
        "\n",
        "        self.messages = None\n",
        "\n",
        "    def show(self, positions=None):\n",
        "        '''\n",
        "        A specialised function to show JoinTrees, including the separators and clusters\n",
        "        '''\n",
        "        dot = graphviz.Graph(engine=\"neato\", comment='Undirected graph', strict=True)        \n",
        "        dot.attr(overlap=\"false\", splines=\"true\")\n",
        "        for v in self.graph:\n",
        "            if positions is not None:\n",
        "                dot.node(str(v), label=str(v)+'\\n'+','.join(self.clusters[v]), pos=positions[v])\n",
        "            else:\n",
        "                dot.node(str(v), label=str(v)+'\\n'+','.join(self.clusters[v]))\n",
        "        for v in self.graph:\n",
        "            for w in self.graph.children(v):\n",
        "                if v < w:\n",
        "                    dot.edge(str(v), str(w), ','.join(self.separators[str(v)+str(w)]))\n",
        "\n",
        "        return dot\n",
        "    \n",
        "\n",
        "\n",
        "G = Graph({\n",
        "    '1': ('2',),\n",
        "    '2': ('1', '3', '4'),\n",
        "    '3': ('2',),\n",
        "    '4': ('2', '5'),\n",
        "    '5': ('4',),\n",
        "})\n",
        "\n",
        "S = {\n",
        "    '12': ('S', 'V'),\n",
        "    ... # TODO 3 lines\n",
        "}\n",
        "\n",
        "C = {\n",
        "    '1': ('S', 'L', 'H', 'V'),\n",
        "    ... # TODO 4 lines\n",
        "}\n",
        "\n",
        "jt = JoinTree(G, C, S)\n",
        "\n",
        "##############\n",
        "# Test code\n",
        "\n",
        "pos = {\n",
        "    '1': '0,0!',\n",
        "    '2': '2,0!',\n",
        "    '3': '4,0!',\n",
        "    '4': '2,1.5!',\n",
        "    '5': '2,3!',\n",
        "}\n",
        "jt.show(positions=pos)"
      ],
      "execution_count": null,
      "outputs": [
        {
          "ename": "SyntaxError",
          "evalue": "invalid syntax (<ipython-input-20-28dac623239a>, line 40)",
          "output_type": "error",
          "traceback": [
            "\u001b[0;36m  File \u001b[0;32m\"<ipython-input-20-28dac623239a>\"\u001b[0;36m, line \u001b[0;32m40\u001b[0m\n\u001b[0;31m    }\u001b[0m\n\u001b[0m    ^\u001b[0m\n\u001b[0;31mSyntaxError\u001b[0m\u001b[0;31m:\u001b[0m invalid syntax\n"
          ]
        }
      ]
    },
    {
      "cell_type": "code",
      "metadata": {
        "id": "fgbsMisuwT4k",
        "outputId": "c62d3f7c-bb89-4bd4-e724-101e3bab2671"
      },
      "source": [
        "# Answer\n",
        "\n",
        "class JoinTree(EliminationTree):\n",
        "    def __init__(self, graph, clusters, separators):\n",
        "        self.graph = graph\n",
        "        self.separators = separators # dict mapping each edge (node1, node2) -> tuple of separator vars\n",
        "        self.clusters = clusters\n",
        "\n",
        "        self.messages = None\n",
        "\n",
        "    def show(self, positions=None):\n",
        "        '''\n",
        "        A specialised function to show JoinTrees, including the separators and clusters\n",
        "        '''\n",
        "        dot = graphviz.Graph(engine=\"neato\", comment='Undirected graph', strict=True)        \n",
        "        dot.attr(overlap=\"false\", splines=\"true\")\n",
        "        for v in self.graph:\n",
        "            if positions is not None:\n",
        "                dot.node(str(v), label=str(v)+'\\n'+','.join(self.clusters[v]), pos=positions[v])\n",
        "            else:\n",
        "                dot.node(str(v), label=str(v)+'\\n'+','.join(self.clusters[v]))\n",
        "        for v in self.graph:\n",
        "            for w in self.graph.children(v):\n",
        "                if v < w:\n",
        "                    dot.edge(str(v), str(w), ','.join(self.separators[str(v)+str(w)]))\n",
        "\n",
        "        return dot\n",
        "    \n",
        "\n",
        "\n",
        "G = Graph({\n",
        "    '1': ('2',),\n",
        "    '2': ('1', '3', '4'),\n",
        "    '3': ('2',),\n",
        "    '4': ('2', '5'),\n",
        "    '5': ('4',),\n",
        "})\n",
        "\n",
        "S = {\n",
        "    '12': ('S', 'V'),\n",
        "    '23': ('V',),\n",
        "    '24': ('O',),\n",
        "    '45': ('T',),\n",
        "}\n",
        "\n",
        "C = {\n",
        "    '1': ('S', 'L', 'H', 'V'),\n",
        "    '2': ('O', 'S', 'V'),\n",
        "    '3': ('C', 'V'),\n",
        "    '4': ('B', 'O', 'T'),\n",
        "    '5': ('A', 'T'),\n",
        "}\n",
        "\n",
        "jt = JoinTree(G, C, S)\n",
        "\n",
        "##############\n",
        "# Test code\n",
        "\n",
        "pos = {\n",
        "    '1': '0,0!',\n",
        "    '2': '2,0!',\n",
        "    '3': '4,0!',\n",
        "    '4': '2,1.5!',\n",
        "    '5': '2,3!',\n",
        "}\n",
        "jt.show(positions=pos)"
      ],
      "execution_count": null,
      "outputs": [
        {
          "data": {
            "image/svg+xml": [
              "<?xml version=\"1.0\" encoding=\"UTF-8\" standalone=\"no\"?>\n",
              "<!DOCTYPE svg PUBLIC \"-//W3C//DTD SVG 1.1//EN\"\n",
              " \"http://www.w3.org/Graphics/SVG/1.1/DTD/svg11.dtd\">\n",
              "<!-- Generated by graphviz version 2.43.0 (0)\n",
              " -->\n",
              "<!-- Title: %3 Pages: 1 -->\n",
              "<svg width=\"279pt\" height=\"206pt\"\n",
              " viewBox=\"0.00 0.00 279.28 206.34\" xmlns=\"http://www.w3.org/2000/svg\" xmlns:xlink=\"http://www.w3.org/1999/xlink\">\n",
              "<g id=\"graph0\" class=\"graph\" transform=\"scale(1 1) rotate(0) translate(4 202.34)\">\n",
              "<title>%3</title>\n",
              "<polygon fill=\"white\" stroke=\"transparent\" points=\"-4,4 -4,-202.34 275.28,-202.34 275.28,4 -4,4\"/>\n",
              "<!-- 1 -->\n",
              "<g id=\"node1\" class=\"node\">\n",
              "<title>1</title>\n",
              "<ellipse fill=\"none\" stroke=\"black\" cx=\"49.5\" cy=\"-26.87\" rx=\"49.49\" ry=\"26.74\"/>\n",
              "<text text-anchor=\"middle\" x=\"49.5\" y=\"-30.67\" font-family=\"Times,serif\" font-size=\"14.00\">1</text>\n",
              "<text text-anchor=\"middle\" x=\"49.5\" y=\"-15.67\" font-family=\"Times,serif\" font-size=\"14.00\">S,L,H,V</text>\n",
              "</g>\n",
              "<!-- 2 -->\n",
              "<g id=\"node2\" class=\"node\">\n",
              "<title>2</title>\n",
              "<ellipse fill=\"none\" stroke=\"black\" cx=\"145.9\" cy=\"-26.87\" rx=\"38.78\" ry=\"26.74\"/>\n",
              "<text text-anchor=\"middle\" x=\"145.9\" y=\"-30.67\" font-family=\"Times,serif\" font-size=\"14.00\">2</text>\n",
              "<text text-anchor=\"middle\" x=\"145.9\" y=\"-15.67\" font-family=\"Times,serif\" font-size=\"14.00\">O,S,V</text>\n",
              "</g>\n",
              "<!-- 1&#45;&#45;2 -->\n",
              "<g id=\"edge1\" class=\"edge\">\n",
              "<title>1&#45;&#45;2</title>\n",
              "<path fill=\"none\" stroke=\"black\" d=\"M99.11,-26.87C101.69,-26.87 104.27,-26.87 106.81,-26.87\"/>\n",
              "<text text-anchor=\"middle\" x=\"102.98\" y=\"-15.67\" font-family=\"Times,serif\" font-size=\"14.00\">S,V</text>\n",
              "</g>\n",
              "<!-- 3 -->\n",
              "<g id=\"node3\" class=\"node\">\n",
              "<title>3</title>\n",
              "<ellipse fill=\"none\" stroke=\"black\" cx=\"242.29\" cy=\"-26.87\" rx=\"28.98\" ry=\"26.74\"/>\n",
              "<text text-anchor=\"middle\" x=\"242.29\" y=\"-30.67\" font-family=\"Times,serif\" font-size=\"14.00\">3</text>\n",
              "<text text-anchor=\"middle\" x=\"242.29\" y=\"-15.67\" font-family=\"Times,serif\" font-size=\"14.00\">C,V</text>\n",
              "</g>\n",
              "<!-- 2&#45;&#45;3 -->\n",
              "<g id=\"edge2\" class=\"edge\">\n",
              "<title>2&#45;&#45;3</title>\n",
              "<path fill=\"none\" stroke=\"black\" d=\"M184.83,-26.87C194.34,-26.87 204.35,-26.87 213.3,-26.87\"/>\n",
              "<text text-anchor=\"middle\" x=\"194.27\" y=\"-30.67\" font-family=\"Times,serif\" font-size=\"14.00\">V</text>\n",
              "</g>\n",
              "<!-- 4 -->\n",
              "<g id=\"node4\" class=\"node\">\n",
              "<title>4</title>\n",
              "<ellipse fill=\"none\" stroke=\"black\" cx=\"145.9\" cy=\"-99.17\" rx=\"39.7\" ry=\"26.74\"/>\n",
              "<text text-anchor=\"middle\" x=\"145.9\" y=\"-102.97\" font-family=\"Times,serif\" font-size=\"14.00\">4</text>\n",
              "<text text-anchor=\"middle\" x=\"145.9\" y=\"-87.97\" font-family=\"Times,serif\" font-size=\"14.00\">B,O,T</text>\n",
              "</g>\n",
              "<!-- 2&#45;&#45;4 -->\n",
              "<g id=\"edge3\" class=\"edge\">\n",
              "<title>2&#45;&#45;4</title>\n",
              "<path fill=\"none\" stroke=\"black\" d=\"M145.9,-53.79C145.9,-59.73 145.9,-66.03 145.9,-71.98\"/>\n",
              "<text text-anchor=\"middle\" x=\"139.9\" y=\"-66.68\" font-family=\"Times,serif\" font-size=\"14.00\">O</text>\n",
              "</g>\n",
              "<!-- 5 -->\n",
              "<g id=\"node5\" class=\"node\">\n",
              "<title>5</title>\n",
              "<ellipse fill=\"none\" stroke=\"black\" cx=\"145.9\" cy=\"-171.47\" rx=\"28.07\" ry=\"26.74\"/>\n",
              "<text text-anchor=\"middle\" x=\"145.9\" y=\"-175.27\" font-family=\"Times,serif\" font-size=\"14.00\">5</text>\n",
              "<text text-anchor=\"middle\" x=\"145.9\" y=\"-160.27\" font-family=\"Times,serif\" font-size=\"14.00\">A,T</text>\n",
              "</g>\n",
              "<!-- 4&#45;&#45;5 -->\n",
              "<g id=\"edge4\" class=\"edge\">\n",
              "<title>4&#45;&#45;5</title>\n",
              "<path fill=\"none\" stroke=\"black\" d=\"M145.9,-126.09C145.9,-132.03 145.9,-138.33 145.9,-144.28\"/>\n",
              "<text text-anchor=\"middle\" x=\"140.9\" y=\"-138.98\" font-family=\"Times,serif\" font-size=\"14.00\">T</text>\n",
              "</g>\n",
              "</g>\n",
              "</svg>\n"
            ],
            "text/plain": [
              "<graphviz.dot.Graph at 0x7f8a3bc70f70>"
            ]
          },
          "execution_count": 21,
          "metadata": {},
          "output_type": "execute_result"
        }
      ]
    },
    {
      "cell_type": "markdown",
      "metadata": {
        "id": "nzqyajZTwT4k"
      },
      "source": [
        "Next we need to modify the `__init__` function so that it initializes a trivial factor for each cluster.\n",
        "\n",
        "The idea is that we will start with these trivial factors and design a function to assign network factors to clusters. If one factor ends with no assigned function, the trivial factor will be used to provide the correct computations.\n",
        "\n",
        "## Exercise\n",
        "\n",
        "Implement a function that creates one trivial factor for each jointree cluster."
      ]
    },
    {
      "cell_type": "code",
      "metadata": {
        "id": "gchPRbVvwT4k"
      },
      "source": [
        "class JoinTree(JoinTree):\n",
        "    def __init__(self, graph, clusters, separators, outcomeSpace):\n",
        "        self.graph = graph\n",
        "        self.separators = separators # dict mapping each edge node1+node2 -> tuple of separator vars\n",
        "        self.clusters = clusters\n",
        "        self.outcomeSpace = outcomeSpace\n",
        "\n",
        "        self.factors = {}\n",
        "        for node in self.graph:\n",
        "            # trivial factor over cluster (Factor's initialize to all 1's by default)\n",
        "            self.factors[node] = ... # TODO 1 line\n",
        "\n",
        "        self.messages = None"
      ],
      "execution_count": null,
      "outputs": []
    },
    {
      "cell_type": "code",
      "metadata": {
        "id": "i4B7kR3vwT4k"
      },
      "source": [
        "# Answer\n",
        "\n",
        "class JoinTree(JoinTree):\n",
        "    def __init__(self, graph, clusters, separators, outcomeSpace):\n",
        "        self.graph = graph\n",
        "        self.separators = separators # dict mapping each edge node1+node2 -> tuple of separator vars\n",
        "        self.clusters = clusters\n",
        "        self.outcomeSpace = outcomeSpace\n",
        "\n",
        "        self.factors = {}\n",
        "        for node in self.graph:\n",
        "            # trivial factor (Factor's initialize to all 1's by default)\n",
        "            self.factors[node] = Factor(self.clusters[node], outcomeSpace) \n",
        "\n",
        "        self.messages = None"
      ],
      "execution_count": null,
      "outputs": []
    },
    {
      "cell_type": "markdown",
      "metadata": {
        "id": "ivHjttzHwT4k"
      },
      "source": [
        "Now, we will implement the function that associates the network factors to jointree clusters. Each factor **must** be assigned to one cluster in the jointree. This property is called *family preservation*. If we cannot find a cluster that can have a network factor then our jointree is incorrect (see the jointree property 2 - \"Each factor in $G$ must appear in some cluster $\\textbf{C}_i$\". We raise an exception is this case.\n",
        "\n",
        "## Exercise\n",
        "\n",
        "Complete the implementation of the function ``distribute_factors``."
      ]
    },
    {
      "cell_type": "code",
      "metadata": {
        "id": "0L9t91SEwT4k",
        "outputId": "431953a5-7538-420e-9335-074c8979d11a"
      },
      "source": [
        "class JoinTree(JoinTree):\n",
        "    def distribute_factors(self, factor_list):\n",
        "        '''\n",
        "        Takes a list of factors and adds them one by one to the jointree\n",
        "        '''\n",
        "        for factor in factor_list:\n",
        "            for node in self.graph:\n",
        "                # We will find a match if the factor domain is a subset of the cluster domain\n",
        "                if ...: # TODO use python sets\n",
        "                    # Join factor into cluster\n",
        "                    ... # TODO 1 line\n",
        "                    break\n",
        "            else:\n",
        "                # This else clause will only be executed if the for loop reaches the end. Google \"python for/else\" for more info\n",
        "                raise NameError('FamilyPreservationError')\n",
        "\n",
        "###################\n",
        "# Test code\n",
        "\n",
        "jt = JoinTree(G, C, S, outcomeSpace)\n",
        "jt.distribute_factors(factor_dict.values())\n",
        "jt.evidence(B=1)\n",
        "jt.getMessages()\n",
        "print(jt.queryCluster('5', ('A',)))"
      ],
      "execution_count": null,
      "outputs": [
        {
          "ename": "AttributeError",
          "evalue": "'JoinTree' object has no attribute 'evidence'",
          "output_type": "error",
          "traceback": [
            "\u001b[0;31m---------------------------------------------------------------------------\u001b[0m",
            "\u001b[0;31mAttributeError\u001b[0m                            Traceback (most recent call last)",
            "\u001b[0;32m<ipython-input-11-e1f27d5d5de6>\u001b[0m in \u001b[0;36m<module>\u001b[0;34m\u001b[0m\n\u001b[1;32m     20\u001b[0m \u001b[0mjt\u001b[0m \u001b[0;34m=\u001b[0m \u001b[0mJoinTree\u001b[0m\u001b[0;34m(\u001b[0m\u001b[0mG\u001b[0m\u001b[0;34m,\u001b[0m \u001b[0mC\u001b[0m\u001b[0;34m,\u001b[0m \u001b[0mS\u001b[0m\u001b[0;34m,\u001b[0m \u001b[0moutcomeSpace\u001b[0m\u001b[0;34m)\u001b[0m\u001b[0;34m\u001b[0m\u001b[0;34m\u001b[0m\u001b[0m\n\u001b[1;32m     21\u001b[0m \u001b[0mjt\u001b[0m\u001b[0;34m.\u001b[0m\u001b[0mdistribute_factors\u001b[0m\u001b[0;34m(\u001b[0m\u001b[0mfactor_dict\u001b[0m\u001b[0;34m.\u001b[0m\u001b[0mvalues\u001b[0m\u001b[0;34m(\u001b[0m\u001b[0;34m)\u001b[0m\u001b[0;34m)\u001b[0m\u001b[0;34m\u001b[0m\u001b[0;34m\u001b[0m\u001b[0m\n\u001b[0;32m---> 22\u001b[0;31m \u001b[0mjt\u001b[0m\u001b[0;34m.\u001b[0m\u001b[0mevidence\u001b[0m\u001b[0;34m(\u001b[0m\u001b[0mB\u001b[0m\u001b[0;34m=\u001b[0m\u001b[0;36m1\u001b[0m\u001b[0;34m)\u001b[0m\u001b[0;34m\u001b[0m\u001b[0;34m\u001b[0m\u001b[0m\n\u001b[0m\u001b[1;32m     23\u001b[0m \u001b[0mjt\u001b[0m\u001b[0;34m.\u001b[0m\u001b[0mgetMessages\u001b[0m\u001b[0;34m(\u001b[0m\u001b[0;34m)\u001b[0m\u001b[0;34m\u001b[0m\u001b[0;34m\u001b[0m\u001b[0m\n\u001b[1;32m     24\u001b[0m \u001b[0mprint\u001b[0m\u001b[0;34m(\u001b[0m\u001b[0mjt\u001b[0m\u001b[0;34m.\u001b[0m\u001b[0mqueryCluster\u001b[0m\u001b[0;34m(\u001b[0m\u001b[0;34m'5'\u001b[0m\u001b[0;34m,\u001b[0m \u001b[0;34m(\u001b[0m\u001b[0;34m'A'\u001b[0m\u001b[0;34m,\u001b[0m\u001b[0;34m)\u001b[0m\u001b[0;34m)\u001b[0m\u001b[0;34m)\u001b[0m\u001b[0;34m\u001b[0m\u001b[0;34m\u001b[0m\u001b[0m\n",
            "\u001b[0;31mAttributeError\u001b[0m: 'JoinTree' object has no attribute 'evidence'"
          ]
        }
      ]
    },
    {
      "cell_type": "code",
      "metadata": {
        "scrolled": true,
        "id": "YkcfpzE0wT4l",
        "outputId": "8fd3005e-44a1-4a82-9606-d228949d2348"
      },
      "source": [
        "# Answer\n",
        "\n",
        "class JoinTree(JoinTree):\n",
        "    def distribute_factors(self, factor_list):\n",
        "        '''\n",
        "        Takes a list of factors and adds them one by one to the jointree\n",
        "        '''\n",
        "        for factor in factor_list:\n",
        "            for node in self.graph:\n",
        "                # We will find a match if the factor domain is a subset of the cluster (trivial factor) domain\n",
        "                if set(factor.domain).issubset(self.clusters[node]):\n",
        "                    self.factors[node] *= factor\n",
        "                    break\n",
        "            else:\n",
        "                # This else clause will only be executed if the for loop reaches the end. Google \"python for/else\" for more info\n",
        "                raise NameError('FamilyPreservationError')\n",
        "\n",
        "###################\n",
        "# Test code\n",
        "\n",
        "jt = JoinTree(G, C, S, outcomeSpace)\n",
        "jt.distribute_factors(factor_dict.values())\n",
        "jt.evidence(B=1)\n",
        "jt.getMessages()\n",
        "print(jt.queryCluster('5', ('A',)))"
      ],
      "execution_count": null,
      "outputs": [
        {
          "name": "stdout",
          "output_type": "stream",
          "text": [
            "╒═════╤═════════════╕\n",
            "│   A │          Pr │\n",
            "╞═════╪═════════════╡\n",
            "│   0 │ 0.179175    │\n",
            "├─────┼─────────────┤\n",
            "│   1 │ 0.000642448 │\n",
            "╘═════╧═════════════╛\n",
            "\n"
          ]
        }
      ]
    },
    {
      "cell_type": "markdown",
      "metadata": {
        "id": "y8X7GeDCwT4l"
      },
      "source": [
        "If your code is correct, the answer to the query should be:\n",
        "```\n",
        "╒═════╤═════════════╕\n",
        "│   A │          Pr │\n",
        "╞═════╪═════════════╡\n",
        "│   0 │ 0.179175    │\n",
        "├─────┼─────────────┤\n",
        "│   1 │ 0.000642448 │\n",
        "╘═════╧═════════════╛\n",
        "```\n"
      ]
    },
    {
      "cell_type": "markdown",
      "metadata": {
        "id": "zHpnMD3vwT4l"
      },
      "source": [
        "Great! We have reached the end of this tutorial.\n",
        "\n",
        "There are some extensions that we can work on, to make this code more complete.\n",
        "\n",
        "1. We need to design a smart way to recompute messages when we change the evidence. We do not have to recompute all messages as we discussed in the lectures.\n",
        "\n",
        "2. We could make the query more user-friendly if we could find the cluster that has the answer automatically. Also, we could generate an exception if no cluster has all the queries variables.\n",
        "\n",
        "3. We can implement the jointree operations to modify the jointree structure so that we can adjust the clusters to our query needs. The operations are add variable as well as merge, add and remove clusters.\n",
        "\n",
        "See you next week!"
      ]
    }
  ]
}