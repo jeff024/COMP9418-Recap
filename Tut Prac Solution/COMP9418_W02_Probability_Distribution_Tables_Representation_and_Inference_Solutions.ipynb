{
  "nbformat": 4,
  "nbformat_minor": 0,
  "metadata": {
    "interpreter": {
      "hash": "31f2aee4e71d21fbe5cf8b01ff0e069b9275f58929596ceb00d14d90e3e16cd6"
    },
    "kernelspec": {
      "display_name": "Python 3",
      "language": "python",
      "name": "python3"
    },
    "language_info": {
      "codemirror_mode": {
        "name": "ipython",
        "version": 3
      },
      "file_extension": ".py",
      "mimetype": "text/x-python",
      "name": "python",
      "nbconvert_exporter": "python",
      "pygments_lexer": "ipython3",
      "version": "3.8.10"
    },
    "toc": {
      "colors": {
        "hover_highlight": "#DAA520",
        "navigate_num": "#000000",
        "navigate_text": "#333333",
        "running_highlight": "#FF0000",
        "selected_highlight": "#FFD700",
        "sidebar_border": "#EEEEEE",
        "wrapper_background": "#FFFFFF"
      },
      "moveMenuLeft": true,
      "nav_menu": {
        "height": "198px",
        "width": "252px"
      },
      "navigate_menu": true,
      "number_sections": true,
      "sideBar": true,
      "threshold": 4,
      "toc_cell": false,
      "toc_position": {
        "height": "625px",
        "left": "0px",
        "right": "1067.67px",
        "top": "107px",
        "width": "212px"
      },
      "toc_section_display": "block",
      "toc_window_display": true,
      "widenNotebook": false
    },
    "colab": {
      "name": "COMP9418_W02_Probability_Distribution_Tables_Representation_and_Inference_Solutions.ipynb",
      "provenance": []
    }
  },
  "cells": [
    {
      "cell_type": "markdown",
      "metadata": {
        "id": "uTRu13DHxCK8"
      },
      "source": [
        "## Probability Distribution Tables Representation and Inference\n",
        "\n",
        "**COMP9418-19T3, W02 Tutorial**\n",
        "\n",
        "- Instructor: Gustavo Batista\n",
        "- School of Computer Science and Engineering, UNSW Sydney\n",
        "- Notebook designed by Gustavo Batista and Jeremy Gillen\n",
        "- Last update 18th August 2021"
      ]
    },
    {
      "cell_type": "markdown",
      "metadata": {
        "id": "e4eeSJ3LxCLA"
      },
      "source": [
        "In this week's tutorial, we will design a data structure for probability table representation and implement four operations over this representation. This code will be used in the next tutorials to perform inference and learning over graphical models."
      ]
    },
    {
      "cell_type": "markdown",
      "metadata": {
        "id": "Wlwhe-DdxCLB"
      },
      "source": [
        "## Technical prerequisites\n",
        "\n",
        "We will use Jupyter Notebooks in the practical part of the tutorials. There are three main ways to run these notebooks:\n",
        "\n",
        "1. *Google Colab*. The links available in WebCMS will open the course notebooks in [Google Colab](https://colab.research.google.com/). Google Colab has all the packages necessary to run these notebooks, so no installation is required. **This is our prefered approach**.\n",
        "\n",
        "2. *CSE VLAB*. We have installed the necessary packages in the CSE computers. You have to copy the notebook to your CSE account in VLAB to execute them. There are two possibilities to access VLAB. The most recommended is installing a [VNC software](https://taggi.cse.unsw.edu.au/FAQ/Really_quick_guide_to_VLAB/) in your computer. Alternatively, you can access these computers through a web interface using [CSE VLAB Gateway](https://vlabgateway.cse.unsw.edu.au/).\n",
        "\n",
        "3. *Your computer*. If you do not have Jupyter installed in your computer, we recommend installing [Anaconda](https://www.anaconda.com/distribution). Anaconda conveniently installs Python, the Jupyter Notebook, and other commonly used packages for scientific computing and data science. To render a graphical visualization of some graphs in this notebook, you also need to [install Graphviz](http://www.graphviz.org/download). If you have conda installed in your computer, you can try the command ```conda install python-graphviz``` directly. From our experience, Graphviz is a little troublesome to install in some systems. For instance, ```conda install python-graphviz``` often does not work on Linux systems and we did not have any success using ```pip3 install graphviz``` on most systems, so do *not* use ```pip3```.\n",
        "You will need specific packages installed to run this notebook.\n",
        "We will use the [tabulate](https://pypi.org/project/tabulate/) library to print probability tables for debugging. If you don't have it installed, use the command ```pip install tabulate```."
      ]
    },
    {
      "cell_type": "markdown",
      "metadata": {
        "id": "1yaygCc4xCLB"
      },
      "source": [
        "Let's import some useful modules for later use."
      ]
    },
    {
      "cell_type": "code",
      "metadata": {
        "scrolled": true,
        "id": "PxURfwFrxCLC"
      },
      "source": [
        "# combinatorics\n",
        "from itertools import product\n",
        "# table formating for screen output\n",
        "from tabulate import tabulate\n",
        "# numpy is used for n-dimensional arrays\n",
        "import numpy as np\n",
        "import copy"
      ],
      "execution_count": null,
      "outputs": []
    },
    {
      "cell_type": "markdown",
      "metadata": {
        "id": "vYsuoa5WxCLD"
      },
      "source": [
        "## Representing probability tables\n",
        "\n",
        "We will represent the distributions of discrete variables using probability tables. For example, here are 3 random variables, $X$, $Y$, and $Z$, each on $\\{0,1\\}$.\n",
        "\n",
        "  | X | Y | Z | p(X,Y,Z) |\n",
        "  |---|---|---|----------|\n",
        "  | 0 | 0 | 0 | 0 | \n",
        "  | 0 | 0 | 1 | 1/12 | \n",
        "  | 0 | 1 | 0 | 1/12 | \n",
        "  | 0 | 1 | 1 | 1/6 | \n",
        "  | 1 | 0 | 0 | 1/12 | \n",
        "  | 1 | 0 | 1 | 1/6 | \n",
        "  | 1 | 1 | 0 | 1/6 | \n",
        "  | 1 | 1 | 1 | 1/4 | \n",
        "\n",
        "Another example is a table that represents a conditional distribution for, say, $p(Z|X,Y)$.\n",
        "\n",
        "  | X | Y | Z | p(Z &#124; X,Y)        |\n",
        "  |---|---|---|---------------------------|\n",
        "  | 0 | 0 | 0 | 0 | \n",
        "  | 0 | 0 | 1 | 1 | \n",
        "  | 0 | 1 | 0 | 1/3 | \n",
        "  | 0 | 1 | 1 | 2/3 | \n",
        "  | 1 | 0 | 0 | 1/3 | \n",
        "  | 1 | 0 | 1 | 2/3 | \n",
        "  | 1 | 1 | 0 | 2/5 | \n",
        "  | 1 | 1 | 1 | 3/5 | \n",
        "\n",
        "We will use the term **factor** to denote a probability table, joint or conditional. \n",
        "\n",
        "The natural question is how we represent tables like these in Python. We should note that to define a factor table completely, we need to specify three pieces of information:\n",
        "\n",
        "1. The domain of the factor, i.e., which variables belong to the factor;\n",
        "\n",
        "2. The outcome space of each variable, i.e, the possible values of each random variable.\n",
        "\n",
        "3. The probabilities associated with each possible combination of variables values in the factor domain.\n",
        "\n",
        "We can create a python class to store this information, and create methods for getting and setting individual probabilities.\n",
        "\n",
        "We will use the methods `__getitem__` and `__setitem__` to access and set probabilities in this class. You can see more about these special methods [here](https://docs.python.org/3/reference/datamodel.html#emulating-container-types). These will allow us to use square brackets to access the probabilities of the factor, similar to how you access elements of a list or numpy array."
      ]
    },
    {
      "cell_type": "code",
      "metadata": {
        "id": "gN0Zxk0xxCLE"
      },
      "source": [
        "class Factor:\n",
        "    '''\n",
        "    Factors are a generalisation of discrete probability distributions over one or more random variables.\n",
        "    Each variable must have a name (which may be a string or integer).\n",
        "    The domain of the factor specifies which variables the factor operates over.\n",
        "    The outcomeSpace specifies the possible values of each random variable. \n",
        "    \n",
        "    \n",
        "    The probabilities are stored in a n-dimensional numpy array, using the domain and outcomeSpace\n",
        "    as dimension and row labels respectively.\n",
        "    '''\n",
        "    def __init__(self, domain, outcomeSpace, table=None):\n",
        "        '''\n",
        "        Inititalise a factor with a given domain and outcomeSpace. \n",
        "        All probabilities are set to zero by default.\n",
        "        '''\n",
        "        self.domain = tuple(domain) # tuple of variable names, each of which may be a string or integer.\n",
        "        \n",
        "        # Initialise the outcomeSpace, which is provided as a dictionary.\n",
        "        self.outcomeSpace = copy.copy(outcomeSpace)\n",
        "\n",
        "        if table is None:\n",
        "            # By default, intitialize with a uniform distribution\n",
        "            self.table = np.ones(shape=tuple(len(outcomeSpace[var]) for var in self.domain))\n",
        "            self.table = self.table/np.sum(self.table)\n",
        "        else:\n",
        "            self.table = table        \n",
        "    \n",
        "    def __getitem__(self, outcomes):\n",
        "        '''\n",
        "        This function allows direct access to individual probabilities.\n",
        "        E.g. if the factor represents a joint distribution over variables 'A','B','C','D', each with outcomeSpace [0,1,2],\n",
        "        then `factor[0,1,0,2]` will return the probability that the four variables are set to 0,1,0,2 respectively.\n",
        "        \n",
        "        The outcomes used for indexing may also be strings. If in the example above the outcomeSpace of each variable is\n",
        "        ['true','false'], then `factor['true','false','true','true']` will return the probability that \n",
        "        A='true', B='false', C='true' and D='true'. \n",
        "        \n",
        "        The order of the indicies is determined by the order of the variables in self.domain.\n",
        "        '''\n",
        "        \n",
        "        # check if only a single index was used.\n",
        "        if not isinstance(outcomes, tuple):\n",
        "            outcomes = (outcomes,)\n",
        "            \n",
        "        assert(len(outcomes) == len(self.domain)) # confirm there is a correct number of indicies\n",
        "        \n",
        "        # convert outcomes into array indicies\n",
        "        indicies = tuple(self.outcomeSpace[var].index(outcomes[i]) for i, var in enumerate(self.domain))\n",
        "        return self.table[indicies]\n",
        "    \n",
        "    def __setitem__(self, outcomes, new_value):\n",
        "        '''\n",
        "        This function is called when setting a probability. E.g. `factor[0,1,0,2] = 0.5`.        \n",
        "        '''\n",
        "        if not isinstance(outcomes, tuple):\n",
        "            outcomes = (outcomes,)\n",
        "        indicies = tuple(self.outcomeSpace[var].index(outcomes[i]) for i, var in enumerate(self.domain))\n",
        "        self.table[indicies] = new_value\n",
        "        \n",
        "    def __str__(self):\n",
        "        pass\n",
        "        \n",
        "    def join(self, other):\n",
        "        pass\n",
        "    \n",
        "    def evidence(self, **kwargs):\n",
        "        pass\n",
        "\n",
        "    def marginalize(self, var):\n",
        "        pass\n",
        "\n",
        "    def normalize(self):\n",
        "        pass\n",
        "    \n",
        "    def copy(self):\n",
        "        return copy.deepcopy(self)"
      ],
      "execution_count": null,
      "outputs": []
    },
    {
      "cell_type": "markdown",
      "metadata": {
        "id": "7O-WObaNxCLF"
      },
      "source": [
        "For instance, we can define 3 random variables ($S$, $T$ and $W$) with the following possible outcomes."
      ]
    },
    {
      "cell_type": "code",
      "metadata": {
        "id": "FsXxuBX7xCLG"
      },
      "source": [
        "outcomeSpace = {\n",
        "                'S':('summer','winter'),\n",
        "                'T':('hot','cold'),\n",
        "                'W':('sun','rain'),\n",
        "               }"
      ],
      "execution_count": null,
      "outputs": []
    },
    {
      "cell_type": "markdown",
      "metadata": {
        "id": "jZb4KDXsxCLG"
      },
      "source": [
        "Now we can represent the table:\n",
        "\n",
        "| S      | P(S)   |\n",
        "|:------:|:------:|\n",
        "| summer | 0.5    |\n",
        "| winter | 0.5    |\n",
        "\n",
        "with:"
      ]
    },
    {
      "cell_type": "code",
      "metadata": {
        "id": "Vct4zdO2xCLH"
      },
      "source": [
        "s_prob = Factor(('S',), outcomeSpace)\n",
        "s_prob['summer'] = 0.5\n",
        "s_prob['winter'] = 0.5"
      ],
      "execution_count": null,
      "outputs": []
    },
    {
      "cell_type": "markdown",
      "metadata": {
        "id": "71oF-kUjxCLH"
      },
      "source": [
        "Likewise, the table\n",
        "\n",
        "|   S    | T    | P(T&#124;S)    |\n",
        "|:------:|:----:|:---------:|\n",
        "| summer |  hot | 0.7       |\n",
        "| summer | cold | 0.3       |\n",
        "| winter | hot  | 0.3       |\n",
        "| winter | cold | 0.7       |\n",
        "\n",
        "is represented as:"
      ]
    },
    {
      "cell_type": "code",
      "metadata": {
        "id": "Xqr8QdcDxCLI"
      },
      "source": [
        "t_prob = Factor(('S','T'), outcomeSpace)\n",
        "t_prob['summer','hot']  = 0.7\n",
        "t_prob['summer','cold'] = 0.3\n",
        "t_prob['winter','hot']  = 0.3\n",
        "t_prob['winter','cold'] = 0.7"
      ],
      "execution_count": null,
      "outputs": []
    },
    {
      "cell_type": "markdown",
      "metadata": {
        "id": "yMY7Uw3VxCLI"
      },
      "source": [
        "### Exercise\n",
        "\n",
        "It is your turn, represent the table:\n",
        "\n",
        "|  S     |  T   |  W   | P(W&#124;S,T)   |\n",
        "|:------:|:----:|:----:|:----------:|\n",
        "| summer |  hot |  sun |   0.86     |\n",
        "| summer |  hot | rain |   0.14     |\n",
        "| summer | cold |  sun |   0.67     |\n",
        "| summer | cold | rain |   0.33     |\n",
        "| winter |  hot |  sun |   0.67     |\n",
        "| winter |  hot | rain |   0.33     |\n",
        "| winter | cold |  sun |   0.43     |\n",
        "| winter | cold | rain |   0.57     |\n"
      ]
    },
    {
      "cell_type": "code",
      "metadata": {
        "id": "i6hQD150xCLJ"
      },
      "source": [
        "w_prob = ...\n",
        "...\n",
        "..."
      ],
      "execution_count": null,
      "outputs": []
    },
    {
      "cell_type": "code",
      "metadata": {
        "id": "Aa5UNwkZxCLJ"
      },
      "source": [
        "#Answer\n",
        "\n",
        "w_prob = Factor(('S','T','W'), outcomeSpace)\n",
        "w_prob['summer','hot','sun']   = 0.86\n",
        "w_prob['summer','hot','rain']  = 0.14\n",
        "w_prob['summer','cold','sun']  = 0.67\n",
        "w_prob['summer','cold','rain'] = 0.33\n",
        "w_prob['winter','hot','sun']   = 0.67\n",
        "w_prob['winter','hot','rain']  = 0.33\n",
        "w_prob['winter','cold','sun']  = 0.43\n",
        "w_prob['winter','cold','rain'] = 0.57"
      ],
      "execution_count": null,
      "outputs": []
    },
    {
      "cell_type": "markdown",
      "metadata": {
        "id": "rCyQhtdixCLJ"
      },
      "source": [
        "Notice that the variables domain do not need to be restricted to two values. We can specify larger domains with more values. Often integers will be used to reduce the typing needed."
      ]
    },
    {
      "cell_type": "markdown",
      "metadata": {
        "id": "cvXuLNRjxCLK"
      },
      "source": [
        "We need to implement four basic operations over factors:\n",
        "    \n",
        "1. Factor join: given two factors $f_1$ and $f_2$ with at least one variable in common, join these factors, creating a new factor $f$. The domain of the new factor has all variables in $dom(f_1) \\cup dom(f_2)$.\n",
        "\n",
        "2. Factor marginalization: given a factor $f$ eliminate one variable $v \\in dom(f)$ by summing over all values of $v$.\n",
        "\n",
        "3. Evidence observation: given a variable $X$ and a value $x$, set the evidence $X=x$. This means that the variable $X$ has been observed as having the value $x$. Consequently, the join and marginalization operations will restrict themselves to $x$ and ignore the remaining values of $X$.\n",
        "\n",
        "4. Factor normalization: normalize the entries in a given factor so that all entries sum up to one."
      ]
    },
    {
      "cell_type": "markdown",
      "metadata": {
        "id": "8W-yiSQKxCLK"
      },
      "source": [
        "Before we start, let's define a function to print out factors nicely to the screen. This function will help us to debug our code. For this task, we will use the [tabulate library](https://pypi.org/project/tabulate/) and the [product iterator provided by itertools](https://docs.python.org/2/library/itertools.html).\n",
        "\n",
        "We will use the special method `__str__` to write this function, which will make it easy to print out a factor `f` using `print(f)`. You can read the documentation for special methods like this [here](https://docs.python.org/3/reference/datamodel.html#special-method-names)."
      ]
    },
    {
      "cell_type": "code",
      "metadata": {
        "id": "hRGI3Y78xCLK",
        "outputId": "6d6ef122-1aa2-4a37-edc1-eb40db541b4f"
      },
      "source": [
        "def __str__(self):\n",
        "    '''\n",
        "    This function determines the string representation of an object.\n",
        "    In this case, the function prints out a row for every possible instantiation \n",
        "    of the factor, along with the associated probability.\n",
        "    This function will be called whenever you print out this object, i.e.\n",
        "    a_prob = Factor(...)\n",
        "    print(a_prob)\n",
        "    '''\n",
        "    table = []\n",
        "    outcomeSpaces = [self.outcomeSpace[var] for var in self.domain]\n",
        "    for key in product(*outcomeSpaces):\n",
        "        row = list(key)\n",
        "        row.append(self[key])\n",
        "        table.append(row)\n",
        "    header = list(self.domain) + ['Pr']\n",
        "    return tabulate(table, headers=header, tablefmt='fancy_grid') + '\\n'\n",
        "\n",
        "# The following line is one way of defining a method outside of the class definition.\n",
        "# Usually we would put this function inside the Factor class definition\n",
        "Factor.__str__ = __str__ \n",
        "\n",
        "# Testing\n",
        "print(w_prob)"
      ],
      "execution_count": null,
      "outputs": [
        {
          "name": "stdout",
          "output_type": "stream",
          "text": [
            "╒════════╤══════╤══════╤══════╕\n",
            "│ S      │ T    │ W    │   Pr │\n",
            "╞════════╪══════╪══════╪══════╡\n",
            "│ summer │ hot  │ sun  │ 0.86 │\n",
            "├────────┼──────┼──────┼──────┤\n",
            "│ summer │ hot  │ rain │ 0.14 │\n",
            "├────────┼──────┼──────┼──────┤\n",
            "│ summer │ cold │ sun  │ 0.67 │\n",
            "├────────┼──────┼──────┼──────┤\n",
            "│ summer │ cold │ rain │ 0.33 │\n",
            "├────────┼──────┼──────┼──────┤\n",
            "│ winter │ hot  │ sun  │ 0.67 │\n",
            "├────────┼──────┼──────┼──────┤\n",
            "│ winter │ hot  │ rain │ 0.33 │\n",
            "├────────┼──────┼──────┼──────┤\n",
            "│ winter │ cold │ sun  │ 0.43 │\n",
            "├────────┼──────┼──────┼──────┤\n",
            "│ winter │ cold │ rain │ 0.57 │\n",
            "╘════════╧══════╧══════╧══════╛\n",
            "\n"
          ]
        }
      ]
    },
    {
      "cell_type": "markdown",
      "metadata": {
        "id": "ardmeuYYxCLM"
      },
      "source": [
        "\n",
        "### Exercise\n",
        "\n",
        "Print out the probability in the `w_prob` table corresponding to the row \"summer\", \"cold\", \"rain\"."
      ]
    },
    {
      "cell_type": "code",
      "metadata": {
        "id": "BTrXcodQxCLM",
        "outputId": "af61ecc0-5155-40ef-ace8-33643c8365e9"
      },
      "source": [
        "... # TODO"
      ],
      "execution_count": null,
      "outputs": [
        {
          "data": {
            "text/plain": [
              "Ellipsis"
            ]
          },
          "execution_count": 9,
          "metadata": {},
          "output_type": "execute_result"
        }
      ]
    },
    {
      "cell_type": "code",
      "metadata": {
        "id": "08Kp-o-1xCLM",
        "outputId": "80912d77-38cd-4532-b600-e8809df69a7d"
      },
      "source": [
        "#Answer\n",
        "\n",
        "print(w_prob['summer','cold','rain'])"
      ],
      "execution_count": null,
      "outputs": [
        {
          "name": "stdout",
          "output_type": "stream",
          "text": [
            "0.33\n"
          ]
        }
      ]
    },
    {
      "cell_type": "markdown",
      "metadata": {
        "id": "P01u1YY2xCLN"
      },
      "source": [
        "If you implemented the call correctly, you should see the following output:\n",
        "\n",
        "```\n",
        "0.33\n",
        "```"
      ]
    },
    {
      "cell_type": "markdown",
      "metadata": {
        "id": "M69kH84exCLN"
      },
      "source": [
        "## Observing Evidence\n",
        "\n",
        "Observing a value $x$ for a variable $X$ means that every row in the table that doesn't contain $x$ should have probability 0. We can also implement this by removing all those rows from the table.\n",
        "\n",
        "Implementing this function by removing all unnecessary rows is a little more efficient for some applications, but requires selecting the right portion of the n-dimensional numpy array using advanced numpy *slicing*. See [here](https://numpy.org/doc/stable/reference/arrays.indexing.html) for more information on slicing, or see the next cell for an example.\n"
      ]
    },
    {
      "cell_type": "code",
      "metadata": {
        "id": "Mhu8nCb1xCLN",
        "outputId": "cfc753f4-ab91-4652-d7b1-93b497789f1e"
      },
      "source": [
        "# We have the following table of shape (2,3).\n",
        "# We want to select the just the first column, which corresponds \n",
        "# to the first outcome of the second variable.\n",
        "# The new shape will be (2,1)\n",
        "table = np.array([[0.20,0.10,0.10],\n",
        "                  [0.05,0.15,0.50]])\n",
        "print(table)\n",
        "print()\n",
        "\n",
        "# The usual way to do this is:\n",
        "print(\"First method:\")\n",
        "new_table = table[:,0:1]\n",
        "print(new_table)\n",
        "\n",
        "# Another (equivalent) way of doing it, which makes it easier to \n",
        "# generate a slice programmatically\n",
        "print(\"Second method\")\n",
        "slice_tuple = (slice(None),slice(0,1))\n",
        "new_table = table[slice_tuple]\n",
        "print(new_table)"
      ],
      "execution_count": null,
      "outputs": [
        {
          "name": "stdout",
          "output_type": "stream",
          "text": [
            "[[0.2  0.1  0.1 ]\n",
            " [0.05 0.15 0.5 ]]\n",
            "\n",
            "First method:\n",
            "[[0.2 ]\n",
            " [0.05]]\n",
            "Second method\n",
            "[[0.2 ]\n",
            " [0.05]]\n"
          ]
        }
      ]
    },
    {
      "cell_type": "markdown",
      "metadata": {
        "id": "__-iEHAbxCLN"
      },
      "source": [
        "### Exercise\n",
        "\n",
        "It is your turn, use what you've learned about slicing to implement the evidence function."
      ]
    },
    {
      "cell_type": "code",
      "metadata": {
        "id": "wNdF48HSxCLO",
        "outputId": "2bfc7dd4-27b0-486f-cc69-cc4f742b7e37"
      },
      "source": [
        "def evidence(self, **kwargs):\n",
        "    '''\n",
        "    Sets evidence by modifying the outcomeSpace\n",
        "    This function must be used to set evidence on all factors before joining,\n",
        "    because it removes the irrelevant values from the factor. \n",
        "\n",
        "    Usage: fac.evidence(A='true',B='false')\n",
        "    This returns a factor which has set the variable 'A' to 'true' and 'B' to 'false'.\n",
        "    '''\n",
        "    f = self.copy()\n",
        "    evidence_dict = kwargs\n",
        "    for var, value in evidence_dict.items():\n",
        "        if var in f.domain:\n",
        "\n",
        "            # find the row index that corresponds to var = value (use f.outcomeSpace)\n",
        "            ... # TODO\n",
        "            \n",
        "            # create a tuple of \"slice\" objects, all of them `slice(None)` except\n",
        "            # for the one corresponding to the `var` axis.\n",
        "            ... # TODO (for loop or list comprehension required)\n",
        "\n",
        "            # use the tuple to select the required section of f.table\n",
        "            f.table = ... # TODO\n",
        "\n",
        "            # modify the outcomeSpace to correspond to the changes just made to self.table\n",
        "            f.outcomeSpace[var] = (value,)\n",
        "    return f\n",
        "\n",
        "Factor.evidence = evidence\n",
        "\n",
        "#####################################\n",
        "# Test code\n",
        "#####################################\n",
        "\n",
        "print(w_prob.evidence(S='summer'))\n",
        "print(w_prob.evidence(T='cold'))\n",
        "print(w_prob.evidence(W='rain',T='hot'))"
      ],
      "execution_count": null,
      "outputs": [
        {
          "ename": "TypeError",
          "evalue": "'ellipsis' object is not subscriptable",
          "output_type": "error",
          "traceback": [
            "\u001b[0;31m---------------------------------------------------------------------------\u001b[0m",
            "\u001b[0;31mTypeError\u001b[0m                                 Traceback (most recent call last)",
            "\u001b[0;32m<ipython-input-12-18003d977d5e>\u001b[0m in \u001b[0;36m<module>\u001b[0;34m\u001b[0m\n\u001b[1;32m     33\u001b[0m \u001b[0;31m#####################################\u001b[0m\u001b[0;34m\u001b[0m\u001b[0;34m\u001b[0m\u001b[0;34m\u001b[0m\u001b[0m\n\u001b[1;32m     34\u001b[0m \u001b[0;34m\u001b[0m\u001b[0m\n\u001b[0;32m---> 35\u001b[0;31m \u001b[0mprint\u001b[0m\u001b[0;34m(\u001b[0m\u001b[0mw_prob\u001b[0m\u001b[0;34m.\u001b[0m\u001b[0mevidence\u001b[0m\u001b[0;34m(\u001b[0m\u001b[0mS\u001b[0m\u001b[0;34m=\u001b[0m\u001b[0;34m'summer'\u001b[0m\u001b[0;34m)\u001b[0m\u001b[0;34m)\u001b[0m\u001b[0;34m\u001b[0m\u001b[0;34m\u001b[0m\u001b[0m\n\u001b[0m\u001b[1;32m     36\u001b[0m \u001b[0mprint\u001b[0m\u001b[0;34m(\u001b[0m\u001b[0mw_prob\u001b[0m\u001b[0;34m.\u001b[0m\u001b[0mevidence\u001b[0m\u001b[0;34m(\u001b[0m\u001b[0mT\u001b[0m\u001b[0;34m=\u001b[0m\u001b[0;34m'cold'\u001b[0m\u001b[0;34m)\u001b[0m\u001b[0;34m)\u001b[0m\u001b[0;34m\u001b[0m\u001b[0;34m\u001b[0m\u001b[0m\n\u001b[1;32m     37\u001b[0m \u001b[0mprint\u001b[0m\u001b[0;34m(\u001b[0m\u001b[0mw_prob\u001b[0m\u001b[0;34m.\u001b[0m\u001b[0mevidence\u001b[0m\u001b[0;34m(\u001b[0m\u001b[0mW\u001b[0m\u001b[0;34m=\u001b[0m\u001b[0;34m'rain'\u001b[0m\u001b[0;34m,\u001b[0m\u001b[0mT\u001b[0m\u001b[0;34m=\u001b[0m\u001b[0;34m'hot'\u001b[0m\u001b[0;34m)\u001b[0m\u001b[0;34m)\u001b[0m\u001b[0;34m\u001b[0m\u001b[0;34m\u001b[0m\u001b[0m\n",
            "\u001b[0;32m<ipython-input-8-c89eed2a0da2>\u001b[0m in \u001b[0;36m__str__\u001b[0;34m(self)\u001b[0m\n\u001b[1;32m     12\u001b[0m     \u001b[0;32mfor\u001b[0m \u001b[0mkey\u001b[0m \u001b[0;32min\u001b[0m \u001b[0mproduct\u001b[0m\u001b[0;34m(\u001b[0m\u001b[0;34m*\u001b[0m\u001b[0moutcomeSpaces\u001b[0m\u001b[0;34m)\u001b[0m\u001b[0;34m:\u001b[0m\u001b[0;34m\u001b[0m\u001b[0;34m\u001b[0m\u001b[0m\n\u001b[1;32m     13\u001b[0m         \u001b[0mrow\u001b[0m \u001b[0;34m=\u001b[0m \u001b[0mlist\u001b[0m\u001b[0;34m(\u001b[0m\u001b[0mkey\u001b[0m\u001b[0;34m)\u001b[0m\u001b[0;34m\u001b[0m\u001b[0;34m\u001b[0m\u001b[0m\n\u001b[0;32m---> 14\u001b[0;31m         \u001b[0mrow\u001b[0m\u001b[0;34m.\u001b[0m\u001b[0mappend\u001b[0m\u001b[0;34m(\u001b[0m\u001b[0mself\u001b[0m\u001b[0;34m[\u001b[0m\u001b[0mkey\u001b[0m\u001b[0;34m]\u001b[0m\u001b[0;34m)\u001b[0m\u001b[0;34m\u001b[0m\u001b[0;34m\u001b[0m\u001b[0m\n\u001b[0m\u001b[1;32m     15\u001b[0m         \u001b[0mtable\u001b[0m\u001b[0;34m.\u001b[0m\u001b[0mappend\u001b[0m\u001b[0;34m(\u001b[0m\u001b[0mrow\u001b[0m\u001b[0;34m)\u001b[0m\u001b[0;34m\u001b[0m\u001b[0;34m\u001b[0m\u001b[0m\n\u001b[1;32m     16\u001b[0m     \u001b[0mheader\u001b[0m \u001b[0;34m=\u001b[0m \u001b[0mlist\u001b[0m\u001b[0;34m(\u001b[0m\u001b[0mself\u001b[0m\u001b[0;34m.\u001b[0m\u001b[0mdomain\u001b[0m\u001b[0;34m)\u001b[0m \u001b[0;34m+\u001b[0m \u001b[0;34m[\u001b[0m\u001b[0;34m'Pr'\u001b[0m\u001b[0;34m]\u001b[0m\u001b[0;34m\u001b[0m\u001b[0;34m\u001b[0m\u001b[0m\n",
            "\u001b[0;32m<ipython-input-2-9b288676b430>\u001b[0m in \u001b[0;36m__getitem__\u001b[0;34m(self, outcomes)\u001b[0m\n\u001b[1;32m     48\u001b[0m         \u001b[0;31m# convert outcomes into array indicies\u001b[0m\u001b[0;34m\u001b[0m\u001b[0;34m\u001b[0m\u001b[0;34m\u001b[0m\u001b[0m\n\u001b[1;32m     49\u001b[0m         \u001b[0mindicies\u001b[0m \u001b[0;34m=\u001b[0m \u001b[0mtuple\u001b[0m\u001b[0;34m(\u001b[0m\u001b[0mself\u001b[0m\u001b[0;34m.\u001b[0m\u001b[0moutcomeSpace\u001b[0m\u001b[0;34m[\u001b[0m\u001b[0mvar\u001b[0m\u001b[0;34m]\u001b[0m\u001b[0;34m.\u001b[0m\u001b[0mindex\u001b[0m\u001b[0;34m(\u001b[0m\u001b[0moutcomes\u001b[0m\u001b[0;34m[\u001b[0m\u001b[0mi\u001b[0m\u001b[0;34m]\u001b[0m\u001b[0;34m)\u001b[0m \u001b[0;32mfor\u001b[0m \u001b[0mi\u001b[0m\u001b[0;34m,\u001b[0m \u001b[0mvar\u001b[0m \u001b[0;32min\u001b[0m \u001b[0menumerate\u001b[0m\u001b[0;34m(\u001b[0m\u001b[0mself\u001b[0m\u001b[0;34m.\u001b[0m\u001b[0mdomain\u001b[0m\u001b[0;34m)\u001b[0m\u001b[0;34m)\u001b[0m\u001b[0;34m\u001b[0m\u001b[0;34m\u001b[0m\u001b[0m\n\u001b[0;32m---> 50\u001b[0;31m         \u001b[0;32mreturn\u001b[0m \u001b[0mself\u001b[0m\u001b[0;34m.\u001b[0m\u001b[0mtable\u001b[0m\u001b[0;34m[\u001b[0m\u001b[0mindicies\u001b[0m\u001b[0;34m]\u001b[0m\u001b[0;34m\u001b[0m\u001b[0;34m\u001b[0m\u001b[0m\n\u001b[0m\u001b[1;32m     51\u001b[0m \u001b[0;34m\u001b[0m\u001b[0m\n\u001b[1;32m     52\u001b[0m     \u001b[0;32mdef\u001b[0m \u001b[0m__setitem__\u001b[0m\u001b[0;34m(\u001b[0m\u001b[0mself\u001b[0m\u001b[0;34m,\u001b[0m \u001b[0moutcomes\u001b[0m\u001b[0;34m,\u001b[0m \u001b[0mnew_value\u001b[0m\u001b[0;34m)\u001b[0m\u001b[0;34m:\u001b[0m\u001b[0;34m\u001b[0m\u001b[0;34m\u001b[0m\u001b[0m\n",
            "\u001b[0;31mTypeError\u001b[0m: 'ellipsis' object is not subscriptable"
          ]
        }
      ]
    },
    {
      "cell_type": "code",
      "metadata": {
        "id": "VItgq5nOxCLO",
        "outputId": "b845e590-c796-47e7-f00d-81c91a625616"
      },
      "source": [
        "# Answer\n",
        "\n",
        "def evidence(self, **kwargs):\n",
        "    '''\n",
        "    Sets evidence by modifying the outcomeSpace\n",
        "    This function must be used to set evidence on all factors before joining,\n",
        "    because it removes the relevant variable from the factor. \n",
        "\n",
        "    Usage: fac.evidence(A='true',B='false')\n",
        "    This returns a factor which has set the variable 'A' to 'true' and 'B' to 'false'.\n",
        "    '''\n",
        "    f = self.copy()\n",
        "    evidence_dict = kwargs\n",
        "    for var, value in evidence_dict.items():\n",
        "        if var in f.domain:\n",
        "\n",
        "            # find the row index that corresponds to var = value\n",
        "            index = f.outcomeSpace[var].index(value)\n",
        "\n",
        "            # find the `var` axis and select only the row that corresponds to `value`\n",
        "            # on all other axes, select every row\n",
        "            slice_tuple = tuple(slice(index,index+1) if v == var else slice(None) for v in f.domain)\n",
        "            f.table = f.table[slice_tuple]\n",
        "\n",
        "            # modify the outcomeSpace to correspond to the changes just made to self.table\n",
        "            f.outcomeSpace[var] = (value,)\n",
        "    return f\n",
        "\n",
        "Factor.evidence = evidence\n",
        "\n",
        "#####################################\n",
        "# Test code\n",
        "#####################################\n",
        "\n",
        "print(w_prob.evidence(S='summer'))\n",
        "print(w_prob.evidence(T='cold'))\n",
        "print(w_prob.evidence(W='rain',T='hot'))"
      ],
      "execution_count": null,
      "outputs": [
        {
          "name": "stdout",
          "output_type": "stream",
          "text": [
            "╒════════╤══════╤══════╤══════╕\n",
            "│ S      │ T    │ W    │   Pr │\n",
            "╞════════╪══════╪══════╪══════╡\n",
            "│ summer │ hot  │ sun  │ 0.86 │\n",
            "├────────┼──────┼──────┼──────┤\n",
            "│ summer │ hot  │ rain │ 0.14 │\n",
            "├────────┼──────┼──────┼──────┤\n",
            "│ summer │ cold │ sun  │ 0.67 │\n",
            "├────────┼──────┼──────┼──────┤\n",
            "│ summer │ cold │ rain │ 0.33 │\n",
            "╘════════╧══════╧══════╧══════╛\n",
            "\n",
            "╒════════╤══════╤══════╤══════╕\n",
            "│ S      │ T    │ W    │   Pr │\n",
            "╞════════╪══════╪══════╪══════╡\n",
            "│ summer │ cold │ sun  │ 0.67 │\n",
            "├────────┼──────┼──────┼──────┤\n",
            "│ summer │ cold │ rain │ 0.33 │\n",
            "├────────┼──────┼──────┼──────┤\n",
            "│ winter │ cold │ sun  │ 0.43 │\n",
            "├────────┼──────┼──────┼──────┤\n",
            "│ winter │ cold │ rain │ 0.57 │\n",
            "╘════════╧══════╧══════╧══════╛\n",
            "\n",
            "╒════════╤═════╤══════╤══════╕\n",
            "│ S      │ T   │ W    │   Pr │\n",
            "╞════════╪═════╪══════╪══════╡\n",
            "│ summer │ hot │ rain │ 0.14 │\n",
            "├────────┼─────┼──────┼──────┤\n",
            "│ winter │ hot │ rain │ 0.33 │\n",
            "╘════════╧═════╧══════╧══════╛\n",
            "\n"
          ]
        }
      ]
    },
    {
      "cell_type": "markdown",
      "metadata": {
        "id": "ce2dsfGaxCLO"
      },
      "source": [
        "If you implemented your code correctly, you should see the following output:\n",
        "\n",
        "```\n",
        "╒════════╤══════╤══════╤══════╕\n",
        "│ S      │ T    │ W    │   Pr │\n",
        "╞════════╪══════╪══════╪══════╡\n",
        "│ summer │ hot  │ sun  │ 0.86 │\n",
        "├────────┼──────┼──────┼──────┤\n",
        "│ summer │ hot  │ rain │ 0.14 │\n",
        "├────────┼──────┼──────┼──────┤\n",
        "│ summer │ cold │ sun  │ 0.67 │\n",
        "├────────┼──────┼──────┼──────┤\n",
        "│ summer │ cold │ rain │ 0.33 │\n",
        "╘════════╧══════╧══════╧══════╛\n",
        "\n",
        "╒════════╤══════╤══════╤══════╕\n",
        "│ S      │ T    │ W    │   Pr │\n",
        "╞════════╪══════╪══════╪══════╡\n",
        "│ summer │ cold │ sun  │ 0.67 │\n",
        "├────────┼──────┼──────┼──────┤\n",
        "│ summer │ cold │ rain │ 0.33 │\n",
        "├────────┼──────┼──────┼──────┤\n",
        "│ winter │ cold │ sun  │ 0.43 │\n",
        "├────────┼──────┼──────┼──────┤\n",
        "│ winter │ cold │ rain │ 0.57 │\n",
        "╘════════╧══════╧══════╧══════╛\n",
        "\n",
        "╒════════╤═════╤══════╤══════╕\n",
        "│ S      │ T   │ W    │   Pr │\n",
        "╞════════╪═════╪══════╪══════╡\n",
        "│ summer │ hot │ rain │ 0.14 │\n",
        "├────────┼─────┼──────┼──────┤\n",
        "│ winter │ hot │ rain │ 0.33 │\n",
        "╘════════╧═════╧══════╧══════╛\n",
        "\n",
        "```"
      ]
    },
    {
      "cell_type": "markdown",
      "metadata": {
        "id": "CI1tun3dxCLP"
      },
      "source": [
        "## Factor Join Operation\n",
        "\n",
        "The central operation of inference is the factor multiplication or join. This operation will collapse two factors into a single factor. This operation should carefully match the values of the variables to provide the correct output.\n",
        "\n",
        "The following cell demonstrates how to join two probability tables representing factors $P(A)$ and $P(B|A)$ into $P(A,B)$. This code takes advantage of [numpy broadcasting](https://numpy.org/doc/stable/user/basics.broadcasting.html) when multiplying tables of different shapes. Make sure you understand how broadcasting work is working in the example below before trying the question."
      ]
    },
    {
      "cell_type": "code",
      "metadata": {
        "id": "L-1R2gxkxCLP",
        "outputId": "848ab739-f141-4830-8bdc-6c22dde91bd8"
      },
      "source": [
        "print(\"P(A):\")\n",
        "A_table = np.array([0.3,0.1,0.6]) # shape (3) domain: [A]\n",
        "print(A_table)\n",
        "\n",
        "print(\"P(B|A):\")\n",
        "B_given_A_table = np.array([[0.2, 0.8],\n",
        "                         [0.1, 0.9],\n",
        "                         [0.1, 0.9]]) # shape (3,2), domain: [A,B]\n",
        "print(B_given_A_table)\n",
        "\n",
        "# first, reshape A so that it has the same number and order of dimensions\n",
        "A_table = np.expand_dims(A_table,-1) # insert new axis in the last position\n",
        "# A_table now has shape (3,1) and domain [A, B]\n",
        "\n",
        "print(\"P(B,A):\")\n",
        "# We can multiply the two arrays elementwise\n",
        "print(A_table*B_given_A_table)"
      ],
      "execution_count": null,
      "outputs": [
        {
          "name": "stdout",
          "output_type": "stream",
          "text": [
            "P(A):\n",
            "[0.3 0.1 0.6]\n",
            "P(B|A):\n",
            "[[0.2 0.8]\n",
            " [0.1 0.9]\n",
            " [0.1 0.9]]\n",
            "P(B,A):\n",
            "[[0.06 0.24]\n",
            " [0.01 0.09]\n",
            " [0.06 0.54]]\n"
          ]
        }
      ]
    },
    {
      "cell_type": "markdown",
      "metadata": {
        "id": "2N4HbfG1xCLQ"
      },
      "source": [
        "### Exercise\n",
        "\n",
        "Let's implement the function join. We will provide most of the code for you. You will need to fill in a few gaps to complete the implementation."
      ]
    },
    {
      "cell_type": "code",
      "metadata": {
        "id": "9LPZ0Zc5xCLQ",
        "outputId": "f0b6925b-8895-4bf9-b25d-934701bb1266"
      },
      "source": [
        "def join(self, other):\n",
        "    '''\n",
        "    This function multiplies two factors.\n",
        "    '''\n",
        "    # confirm that any shared variables have the same outcomeSpace\n",
        "    for var in set(other.domain).intersection(set(self.domain)):\n",
        "        if self.outcomeSpace[var] != other.outcomeSpace[var]:\n",
        "            raise IndexError('Incompatible outcomeSpaces. Make sure you set the same evidence on all factors')\n",
        "\n",
        "    # extend current domain with any new variables required\n",
        "    new_dom = list(self.domain) + list(set(other.domain) - set(self.domain)) \n",
        "\n",
        "    self_t = self.table\n",
        "    other_t = other.table\n",
        "    \n",
        "    # to prepare for multiplying arrays, we need to make sure both arrays have the correct number of axes\n",
        "    # We will do this by adding axes to the end of the shape of each array.\n",
        "    num_new_axes = len(set(other.domain) - set(self.domain))\n",
        "    for i in range(num_new_axes):\n",
        "        # add an axis to self_t. E.g. if shape is [3,5], new shape will be [3,5,1]\n",
        "        ... # TODO \n",
        "    num_new_axes = len(set(self.domain) - set(other.domain))\n",
        "    for i in range(num_new_axes):\n",
        "        # add an axis to other_t. E.g. if shape is [3,5], new shape will be [3,5,1]\n",
        "        ... # TODO \n",
        "\n",
        "    # And we need the new axes to be transposed to the correct location\n",
        "    old_order = list(other.domain) + list(set(self.domain) - set(other.domain)) \n",
        "    new_order = []\n",
        "    for v in new_dom:\n",
        "        new_order.append(old_order.index(v))\n",
        "    other_t = ... # TODO reorder the axes of other_t to new_order (look up np.transpose)\n",
        "\n",
        "    # Now that the arrays are all set up, we can rely on numpy broadcasting to work out which numbers need to be multiplied.\n",
        "    # https://numpy.org/doc/stable/user/basics.broadcasting.html\n",
        "    new_table = ... #TODO multiply the two arrays\n",
        "\n",
        "    # The final step is to create the new outcomeSpace\n",
        "    new_outcomeSpace = self.outcomeSpace.copy()\n",
        "    new_outcomeSpace.update(other.outcomeSpace)\n",
        "\n",
        "    # create a new factor out of the the new domain, outcomeSpace and table\n",
        "    # in the following line, `self.__class__` is the same as `Factor` (except it doesn't break things when subclassing)\n",
        "    return self.__class__(tuple(new_dom), new_outcomeSpace, table=new_table)\n",
        "\n",
        "Factor.join = join # add the method to the factor class\n",
        "\n",
        "#####################################\n",
        "# Test code\n",
        "#####################################\n",
        "\n",
        "# reorder the domain of t_prob to make sure it still works\n",
        "t_prob = Factor(('T','S'), outcomeSpace)\n",
        "t_prob['hot','summer']  = 0.7\n",
        "t_prob['cold','summer'] = 0.3\n",
        "t_prob['hot','winter']  = 0.3\n",
        "t_prob['cold','winter'] = 0.7\n",
        "\n",
        "print(s_prob.join(t_prob))\n",
        "s_prob_summer = s_prob.evidence(S='summer')\n",
        "t_prob_summer = t_prob.evidence(S='summer')\n",
        "print(s_prob_summer.join(t_prob_summer))\n",
        "\n",
        "# back to original order\n",
        "t_prob = Factor(('S','T'), outcomeSpace)\n",
        "t_prob['summer','hot']  = 0.7\n",
        "t_prob['summer','cold'] = 0.3\n",
        "t_prob['winter','hot']  = 0.3\n",
        "t_prob['winter','cold'] = 0.7\n",
        "\n",
        "print(t_prob.join(w_prob))\n",
        "print(w_prob.join(s_prob))"
      ],
      "execution_count": null,
      "outputs": [
        {
          "ename": "TypeError",
          "evalue": "'ellipsis' object is not subscriptable",
          "output_type": "error",
          "traceback": [
            "\u001b[0;31m---------------------------------------------------------------------------\u001b[0m",
            "\u001b[0;31mTypeError\u001b[0m                                 Traceback (most recent call last)",
            "\u001b[0;32m<ipython-input-15-f9b2cee5f92a>\u001b[0m in \u001b[0;36m<module>\u001b[0;34m\u001b[0m\n\u001b[1;32m     57\u001b[0m \u001b[0mt_prob\u001b[0m\u001b[0;34m[\u001b[0m\u001b[0;34m'cold'\u001b[0m\u001b[0;34m,\u001b[0m\u001b[0;34m'winter'\u001b[0m\u001b[0;34m]\u001b[0m \u001b[0;34m=\u001b[0m \u001b[0;36m0.7\u001b[0m\u001b[0;34m\u001b[0m\u001b[0;34m\u001b[0m\u001b[0m\n\u001b[1;32m     58\u001b[0m \u001b[0;34m\u001b[0m\u001b[0m\n\u001b[0;32m---> 59\u001b[0;31m \u001b[0mprint\u001b[0m\u001b[0;34m(\u001b[0m\u001b[0ms_prob\u001b[0m\u001b[0;34m.\u001b[0m\u001b[0mjoin\u001b[0m\u001b[0;34m(\u001b[0m\u001b[0mt_prob\u001b[0m\u001b[0;34m)\u001b[0m\u001b[0;34m)\u001b[0m\u001b[0;34m\u001b[0m\u001b[0;34m\u001b[0m\u001b[0m\n\u001b[0m\u001b[1;32m     60\u001b[0m \u001b[0ms_prob_summer\u001b[0m \u001b[0;34m=\u001b[0m \u001b[0ms_prob\u001b[0m\u001b[0;34m.\u001b[0m\u001b[0mevidence\u001b[0m\u001b[0;34m(\u001b[0m\u001b[0mS\u001b[0m\u001b[0;34m=\u001b[0m\u001b[0;34m'summer'\u001b[0m\u001b[0;34m)\u001b[0m\u001b[0;34m\u001b[0m\u001b[0;34m\u001b[0m\u001b[0m\n\u001b[1;32m     61\u001b[0m \u001b[0mt_prob_summer\u001b[0m \u001b[0;34m=\u001b[0m \u001b[0mt_prob\u001b[0m\u001b[0;34m.\u001b[0m\u001b[0mevidence\u001b[0m\u001b[0;34m(\u001b[0m\u001b[0mS\u001b[0m\u001b[0;34m=\u001b[0m\u001b[0;34m'summer'\u001b[0m\u001b[0;34m)\u001b[0m\u001b[0;34m\u001b[0m\u001b[0;34m\u001b[0m\u001b[0m\n",
            "\u001b[0;32m<ipython-input-8-c89eed2a0da2>\u001b[0m in \u001b[0;36m__str__\u001b[0;34m(self)\u001b[0m\n\u001b[1;32m     12\u001b[0m     \u001b[0;32mfor\u001b[0m \u001b[0mkey\u001b[0m \u001b[0;32min\u001b[0m \u001b[0mproduct\u001b[0m\u001b[0;34m(\u001b[0m\u001b[0;34m*\u001b[0m\u001b[0moutcomeSpaces\u001b[0m\u001b[0;34m)\u001b[0m\u001b[0;34m:\u001b[0m\u001b[0;34m\u001b[0m\u001b[0;34m\u001b[0m\u001b[0m\n\u001b[1;32m     13\u001b[0m         \u001b[0mrow\u001b[0m \u001b[0;34m=\u001b[0m \u001b[0mlist\u001b[0m\u001b[0;34m(\u001b[0m\u001b[0mkey\u001b[0m\u001b[0;34m)\u001b[0m\u001b[0;34m\u001b[0m\u001b[0;34m\u001b[0m\u001b[0m\n\u001b[0;32m---> 14\u001b[0;31m         \u001b[0mrow\u001b[0m\u001b[0;34m.\u001b[0m\u001b[0mappend\u001b[0m\u001b[0;34m(\u001b[0m\u001b[0mself\u001b[0m\u001b[0;34m[\u001b[0m\u001b[0mkey\u001b[0m\u001b[0;34m]\u001b[0m\u001b[0;34m)\u001b[0m\u001b[0;34m\u001b[0m\u001b[0;34m\u001b[0m\u001b[0m\n\u001b[0m\u001b[1;32m     15\u001b[0m         \u001b[0mtable\u001b[0m\u001b[0;34m.\u001b[0m\u001b[0mappend\u001b[0m\u001b[0;34m(\u001b[0m\u001b[0mrow\u001b[0m\u001b[0;34m)\u001b[0m\u001b[0;34m\u001b[0m\u001b[0;34m\u001b[0m\u001b[0m\n\u001b[1;32m     16\u001b[0m     \u001b[0mheader\u001b[0m \u001b[0;34m=\u001b[0m \u001b[0mlist\u001b[0m\u001b[0;34m(\u001b[0m\u001b[0mself\u001b[0m\u001b[0;34m.\u001b[0m\u001b[0mdomain\u001b[0m\u001b[0;34m)\u001b[0m \u001b[0;34m+\u001b[0m \u001b[0;34m[\u001b[0m\u001b[0;34m'Pr'\u001b[0m\u001b[0;34m]\u001b[0m\u001b[0;34m\u001b[0m\u001b[0;34m\u001b[0m\u001b[0m\n",
            "\u001b[0;32m<ipython-input-2-9b288676b430>\u001b[0m in \u001b[0;36m__getitem__\u001b[0;34m(self, outcomes)\u001b[0m\n\u001b[1;32m     48\u001b[0m         \u001b[0;31m# convert outcomes into array indicies\u001b[0m\u001b[0;34m\u001b[0m\u001b[0;34m\u001b[0m\u001b[0;34m\u001b[0m\u001b[0m\n\u001b[1;32m     49\u001b[0m         \u001b[0mindicies\u001b[0m \u001b[0;34m=\u001b[0m \u001b[0mtuple\u001b[0m\u001b[0;34m(\u001b[0m\u001b[0mself\u001b[0m\u001b[0;34m.\u001b[0m\u001b[0moutcomeSpace\u001b[0m\u001b[0;34m[\u001b[0m\u001b[0mvar\u001b[0m\u001b[0;34m]\u001b[0m\u001b[0;34m.\u001b[0m\u001b[0mindex\u001b[0m\u001b[0;34m(\u001b[0m\u001b[0moutcomes\u001b[0m\u001b[0;34m[\u001b[0m\u001b[0mi\u001b[0m\u001b[0;34m]\u001b[0m\u001b[0;34m)\u001b[0m \u001b[0;32mfor\u001b[0m \u001b[0mi\u001b[0m\u001b[0;34m,\u001b[0m \u001b[0mvar\u001b[0m \u001b[0;32min\u001b[0m \u001b[0menumerate\u001b[0m\u001b[0;34m(\u001b[0m\u001b[0mself\u001b[0m\u001b[0;34m.\u001b[0m\u001b[0mdomain\u001b[0m\u001b[0;34m)\u001b[0m\u001b[0;34m)\u001b[0m\u001b[0;34m\u001b[0m\u001b[0;34m\u001b[0m\u001b[0m\n\u001b[0;32m---> 50\u001b[0;31m         \u001b[0;32mreturn\u001b[0m \u001b[0mself\u001b[0m\u001b[0;34m.\u001b[0m\u001b[0mtable\u001b[0m\u001b[0;34m[\u001b[0m\u001b[0mindicies\u001b[0m\u001b[0;34m]\u001b[0m\u001b[0;34m\u001b[0m\u001b[0;34m\u001b[0m\u001b[0m\n\u001b[0m\u001b[1;32m     51\u001b[0m \u001b[0;34m\u001b[0m\u001b[0m\n\u001b[1;32m     52\u001b[0m     \u001b[0;32mdef\u001b[0m \u001b[0m__setitem__\u001b[0m\u001b[0;34m(\u001b[0m\u001b[0mself\u001b[0m\u001b[0;34m,\u001b[0m \u001b[0moutcomes\u001b[0m\u001b[0;34m,\u001b[0m \u001b[0mnew_value\u001b[0m\u001b[0;34m)\u001b[0m\u001b[0;34m:\u001b[0m\u001b[0;34m\u001b[0m\u001b[0;34m\u001b[0m\u001b[0m\n",
            "\u001b[0;31mTypeError\u001b[0m: 'ellipsis' object is not subscriptable"
          ]
        }
      ]
    },
    {
      "cell_type": "code",
      "metadata": {
        "id": "MfqOUi2XxCLR",
        "outputId": "a7fcbfad-ea8e-4ed7-c869-c4932c5e4ba6"
      },
      "source": [
        "# Answer\n",
        "\n",
        "def join(self, other):\n",
        "    '''\n",
        "    This function multiplies two factors.\n",
        "    '''\n",
        "    # confirm that any shared variables have the same outcomeSpace\n",
        "    for var in set(other.domain).intersection(set(self.domain)):\n",
        "        if self.outcomeSpace[var] != other.outcomeSpace[var]:\n",
        "            raise IndexError('Incompatible outcomeSpaces. Make sure you set the same evidence on all factors')\n",
        "\n",
        "    # extend current domain with any new variables required\n",
        "    new_dom = list(self.domain) + list(set(other.domain) - set(self.domain)) \n",
        "\n",
        "    self_t = self.table\n",
        "    other_t = other.table\n",
        "    \n",
        "    # to prepare for multiplying arrays, we need to make sure both arrays have the correct number of axes\n",
        "    # We will do this by adding dimensions of size 1 to the end of the shape of each array.\n",
        "    num_new_axes = len(set(other.domain) - set(self.domain))\n",
        "    for i in range(num_new_axes):\n",
        "        # add an axis to self_t. E.g. if shape is [3,5], new shape will be [3,5,1]\n",
        "        self_t = np.expand_dims(self_t,-1) \n",
        "    num_new_axes = len(set(self.domain) - set(other.domain))\n",
        "    for i in range(num_new_axes):\n",
        "        # add an axis to other_t. E.g. if shape is [3,5], new shape will be [3,5,1]\n",
        "        other_t = np.expand_dims(other_t,-1) \n",
        "\n",
        "    # And we need the new axes to be transposed to the correct location\n",
        "    old_order = list(other.domain) + list(set(self.domain) - set(other.domain)) \n",
        "    new_order = []\n",
        "    for v in new_dom:\n",
        "        new_order.append(old_order.index(v))\n",
        "    other_t = np.transpose(other_t, new_order)\n",
        "\n",
        "    # Now that the arrays are all set up, we can rely on numpy broadcasting to work out which numbers need to be multiplied.\n",
        "    # https://numpy.org/doc/stable/user/basics.broadcasting.html\n",
        "    new_table = self_t * other_t\n",
        "\n",
        "    # The final step is to create the new outcomeSpace\n",
        "    new_outcomeSpace = self.outcomeSpace.copy()\n",
        "    new_outcomeSpace.update(other.outcomeSpace)\n",
        "\n",
        "    # in the following line, `self.__class__` is the same as `Factor` (except it doesn't break things when subclassing)\n",
        "    return self.__class__(tuple(new_dom), new_outcomeSpace, table=new_table)\n",
        "\n",
        "Factor.join = join # add the method to the factor class\n",
        "\n",
        "#####################################\n",
        "# Test code\n",
        "#####################################\n",
        "\n",
        "# reorder the domain of t_prob to make sure it still works\n",
        "t_prob = Factor(('T','S'), outcomeSpace)\n",
        "t_prob['hot','summer']  = 0.7\n",
        "t_prob['cold','summer'] = 0.3\n",
        "t_prob['hot','winter']  = 0.3\n",
        "t_prob['cold','winter'] = 0.7\n",
        "\n",
        "print(s_prob.join(t_prob))\n",
        "s_prob_summer = s_prob.evidence(S='summer')\n",
        "t_prob_summer = t_prob.evidence(S='summer')\n",
        "print(s_prob_summer.join(t_prob_summer))\n",
        "\n",
        "# back to original order\n",
        "t_prob = Factor(('S','T'), outcomeSpace)\n",
        "t_prob['summer','hot']  = 0.7\n",
        "t_prob['summer','cold'] = 0.3\n",
        "t_prob['winter','hot']  = 0.3\n",
        "t_prob['winter','cold'] = 0.7\n",
        "\n",
        "print(t_prob.join(w_prob))\n",
        "print(w_prob.join(s_prob))"
      ],
      "execution_count": null,
      "outputs": [
        {
          "name": "stdout",
          "output_type": "stream",
          "text": [
            "╒════════╤══════╤══════╕\n",
            "│ S      │ T    │   Pr │\n",
            "╞════════╪══════╪══════╡\n",
            "│ summer │ hot  │ 0.35 │\n",
            "├────────┼──────┼──────┤\n",
            "│ summer │ cold │ 0.15 │\n",
            "├────────┼──────┼──────┤\n",
            "│ winter │ hot  │ 0.15 │\n",
            "├────────┼──────┼──────┤\n",
            "│ winter │ cold │ 0.35 │\n",
            "╘════════╧══════╧══════╛\n",
            "\n",
            "╒════════╤══════╤══════╕\n",
            "│ S      │ T    │   Pr │\n",
            "╞════════╪══════╪══════╡\n",
            "│ summer │ hot  │ 0.35 │\n",
            "├────────┼──────┼──────┤\n",
            "│ summer │ cold │ 0.15 │\n",
            "╘════════╧══════╧══════╛\n",
            "\n",
            "╒════════╤══════╤══════╤═══════╕\n",
            "│ S      │ T    │ W    │    Pr │\n",
            "╞════════╪══════╪══════╪═══════╡\n",
            "│ summer │ hot  │ sun  │ 0.602 │\n",
            "├────────┼──────┼──────┼───────┤\n",
            "│ summer │ hot  │ rain │ 0.098 │\n",
            "├────────┼──────┼──────┼───────┤\n",
            "│ summer │ cold │ sun  │ 0.201 │\n",
            "├────────┼──────┼──────┼───────┤\n",
            "│ summer │ cold │ rain │ 0.099 │\n",
            "├────────┼──────┼──────┼───────┤\n",
            "│ winter │ hot  │ sun  │ 0.201 │\n",
            "├────────┼──────┼──────┼───────┤\n",
            "│ winter │ hot  │ rain │ 0.099 │\n",
            "├────────┼──────┼──────┼───────┤\n",
            "│ winter │ cold │ sun  │ 0.301 │\n",
            "├────────┼──────┼──────┼───────┤\n",
            "│ winter │ cold │ rain │ 0.399 │\n",
            "╘════════╧══════╧══════╧═══════╛\n",
            "\n",
            "╒════════╤══════╤══════╤═══════╕\n",
            "│ S      │ T    │ W    │    Pr │\n",
            "╞════════╪══════╪══════╪═══════╡\n",
            "│ summer │ hot  │ sun  │ 0.43  │\n",
            "├────────┼──────┼──────┼───────┤\n",
            "│ summer │ hot  │ rain │ 0.07  │\n",
            "├────────┼──────┼──────┼───────┤\n",
            "│ summer │ cold │ sun  │ 0.335 │\n",
            "├────────┼──────┼──────┼───────┤\n",
            "│ summer │ cold │ rain │ 0.165 │\n",
            "├────────┼──────┼──────┼───────┤\n",
            "│ winter │ hot  │ sun  │ 0.335 │\n",
            "├────────┼──────┼──────┼───────┤\n",
            "│ winter │ hot  │ rain │ 0.165 │\n",
            "├────────┼──────┼──────┼───────┤\n",
            "│ winter │ cold │ sun  │ 0.215 │\n",
            "├────────┼──────┼──────┼───────┤\n",
            "│ winter │ cold │ rain │ 0.285 │\n",
            "╘════════╧══════╧══════╧═══════╛\n",
            "\n"
          ]
        }
      ]
    },
    {
      "cell_type": "markdown",
      "metadata": {
        "id": "FnomSSYFxCLS"
      },
      "source": [
        "If you implemented the join operation correctly, you should see the following output:\n",
        "\n",
        "```\n",
        "╒════════╤══════╤══════╕\n",
        "│ S      │ T    │   Pr │\n",
        "╞════════╪══════╪══════╡\n",
        "│ summer │ hot  │ 0.35 │\n",
        "├────────┼──────┼──────┤\n",
        "│ summer │ cold │ 0.15 │\n",
        "├────────┼──────┼──────┤\n",
        "│ winter │ hot  │ 0.15 │\n",
        "├────────┼──────┼──────┤\n",
        "│ winter │ cold │ 0.35 │\n",
        "╘════════╧══════╧══════╛\n",
        "\n",
        "╒════════╤══════╤══════╕\n",
        "│ S      │ T    │   Pr │\n",
        "╞════════╪══════╪══════╡\n",
        "│ summer │ hot  │ 0.35 │\n",
        "├────────┼──────┼──────┤\n",
        "│ summer │ cold │ 0.15 │\n",
        "╘════════╧══════╧══════╛\n",
        "\n",
        "╒════════╤══════╤══════╤═══════╕\n",
        "│ S      │ T    │ W    │    Pr │\n",
        "╞════════╪══════╪══════╪═══════╡\n",
        "│ summer │ hot  │ sun  │ 0.602 │\n",
        "├────────┼──────┼──────┼───────┤\n",
        "│ summer │ hot  │ rain │ 0.098 │\n",
        "├────────┼──────┼──────┼───────┤\n",
        "│ summer │ cold │ sun  │ 0.201 │\n",
        "├────────┼──────┼──────┼───────┤\n",
        "│ summer │ cold │ rain │ 0.099 │\n",
        "├────────┼──────┼──────┼───────┤\n",
        "│ winter │ hot  │ sun  │ 0.201 │\n",
        "├────────┼──────┼──────┼───────┤\n",
        "│ winter │ hot  │ rain │ 0.099 │\n",
        "├────────┼──────┼──────┼───────┤\n",
        "│ winter │ cold │ sun  │ 0.301 │\n",
        "├────────┼──────┼──────┼───────┤\n",
        "│ winter │ cold │ rain │ 0.399 │\n",
        "╘════════╧══════╧══════╧═══════╛\n",
        "\n",
        "╒════════╤══════╤══════╤═══════╕\n",
        "│ S      │ T    │ W    │    Pr │\n",
        "╞════════╪══════╪══════╪═══════╡\n",
        "│ summer │ hot  │ sun  │ 0.43  │\n",
        "├────────┼──────┼──────┼───────┤\n",
        "│ summer │ hot  │ rain │ 0.07  │\n",
        "├────────┼──────┼──────┼───────┤\n",
        "│ summer │ cold │ sun  │ 0.335 │\n",
        "├────────┼──────┼──────┼───────┤\n",
        "│ summer │ cold │ rain │ 0.165 │\n",
        "├────────┼──────┼──────┼───────┤\n",
        "│ winter │ hot  │ sun  │ 0.335 │\n",
        "├────────┼──────┼──────┼───────┤\n",
        "│ winter │ hot  │ rain │ 0.165 │\n",
        "├────────┼──────┼──────┼───────┤\n",
        "│ winter │ cold │ sun  │ 0.215 │\n",
        "├────────┼──────┼──────┼───────┤\n",
        "│ winter │ cold │ rain │ 0.285 │\n",
        "╘════════╧══════╧══════╧═══════╛\n",
        "\n",
        "```"
      ]
    },
    {
      "cell_type": "markdown",
      "metadata": {
        "id": "BV8n3K1bxCLS"
      },
      "source": [
        "## Factor Marginalization Operation\n",
        "\n",
        "Marginalization is the operation that eliminates a given variable $X$ from a factor $f$ by summing over all possible values of $X$ in $f$. The marginalize function will return a new factor $f'$ to avoid messing with existing factors. The new factor $f'$ will have the same domain as $f$, but with the elimination of the variable $X$ ($dom(f') = dom(f) - \\{X\\}$).\n",
        "\n",
        "In discrete probability distributions, we marginalize out a variable by summing over all the outcomes of that variable.\n",
        "\n",
        "### Exercise\n",
        "\n",
        "Let's implement the marginalize function. We will provide most of the code, and you will fill in a few gaps."
      ]
    },
    {
      "cell_type": "code",
      "metadata": {
        "id": "ehGcJjSKxCLT",
        "outputId": "9ac6cac3-2e2e-446e-da94-8c2cec754bd2"
      },
      "source": [
        "def marginalize(self, var):\n",
        "    '''\n",
        "    This function removes a variable from the domain, and sums over that variable in the table\n",
        "    '''\n",
        "\n",
        "    # create new domain\n",
        "    new_dom = list(self.domain)\n",
        "    new_dom.remove(var)\n",
        "\n",
        "    # remove an axis of the table by summing it out\n",
        "    axis = ... # TODO work out which axis to sum over\n",
        "    new_table = ... # TODO sum over that axis\n",
        "\n",
        "    # in the following line, `self.__class__` is the same as `Factor` (except it doesn't break things when subclassing)\n",
        "    return self.__class__(tuple(new_dom),self.outcomeSpace, new_table)\n",
        "\n",
        "Factor.marginalize = marginalize\n",
        "\n",
        "#####################################\n",
        "# Test code\n",
        "#####################################\n",
        "\n",
        "t_s_joint_prob = s_prob.join(t_prob)\n",
        "f = t_s_joint_prob.marginalize('S')\n",
        "print(f)"
      ],
      "execution_count": null,
      "outputs": [
        {
          "ename": "TypeError",
          "evalue": "'ellipsis' object is not subscriptable",
          "output_type": "error",
          "traceback": [
            "\u001b[0;31m---------------------------------------------------------------------------\u001b[0m",
            "\u001b[0;31mTypeError\u001b[0m                                 Traceback (most recent call last)",
            "\u001b[0;32m<ipython-input-60-a5b5d4cc8bad>\u001b[0m in \u001b[0;36m<module>\u001b[0;34m\u001b[0m\n\u001b[1;32m     23\u001b[0m \u001b[0mt_s_joint_prob\u001b[0m \u001b[0;34m=\u001b[0m \u001b[0ms_prob\u001b[0m\u001b[0;34m.\u001b[0m\u001b[0mjoin\u001b[0m\u001b[0;34m(\u001b[0m\u001b[0mt_prob\u001b[0m\u001b[0;34m)\u001b[0m\u001b[0;34m\u001b[0m\u001b[0;34m\u001b[0m\u001b[0m\n\u001b[1;32m     24\u001b[0m \u001b[0mf\u001b[0m \u001b[0;34m=\u001b[0m \u001b[0mt_s_joint_prob\u001b[0m\u001b[0;34m.\u001b[0m\u001b[0mmarginalize\u001b[0m\u001b[0;34m(\u001b[0m\u001b[0;34m'S'\u001b[0m\u001b[0;34m)\u001b[0m\u001b[0;34m\u001b[0m\u001b[0;34m\u001b[0m\u001b[0m\n\u001b[0;32m---> 25\u001b[0;31m \u001b[0mprint\u001b[0m\u001b[0;34m(\u001b[0m\u001b[0mf\u001b[0m\u001b[0;34m)\u001b[0m\u001b[0;34m\u001b[0m\u001b[0;34m\u001b[0m\u001b[0m\n\u001b[0m",
            "\u001b[0;32m<ipython-input-51-c89eed2a0da2>\u001b[0m in \u001b[0;36m__str__\u001b[0;34m(self)\u001b[0m\n\u001b[1;32m     12\u001b[0m     \u001b[0;32mfor\u001b[0m \u001b[0mkey\u001b[0m \u001b[0;32min\u001b[0m \u001b[0mproduct\u001b[0m\u001b[0;34m(\u001b[0m\u001b[0;34m*\u001b[0m\u001b[0moutcomeSpaces\u001b[0m\u001b[0;34m)\u001b[0m\u001b[0;34m:\u001b[0m\u001b[0;34m\u001b[0m\u001b[0;34m\u001b[0m\u001b[0m\n\u001b[1;32m     13\u001b[0m         \u001b[0mrow\u001b[0m \u001b[0;34m=\u001b[0m \u001b[0mlist\u001b[0m\u001b[0;34m(\u001b[0m\u001b[0mkey\u001b[0m\u001b[0;34m)\u001b[0m\u001b[0;34m\u001b[0m\u001b[0;34m\u001b[0m\u001b[0m\n\u001b[0;32m---> 14\u001b[0;31m         \u001b[0mrow\u001b[0m\u001b[0;34m.\u001b[0m\u001b[0mappend\u001b[0m\u001b[0;34m(\u001b[0m\u001b[0mself\u001b[0m\u001b[0;34m[\u001b[0m\u001b[0mkey\u001b[0m\u001b[0;34m]\u001b[0m\u001b[0;34m)\u001b[0m\u001b[0;34m\u001b[0m\u001b[0;34m\u001b[0m\u001b[0m\n\u001b[0m\u001b[1;32m     15\u001b[0m         \u001b[0mtable\u001b[0m\u001b[0;34m.\u001b[0m\u001b[0mappend\u001b[0m\u001b[0;34m(\u001b[0m\u001b[0mrow\u001b[0m\u001b[0;34m)\u001b[0m\u001b[0;34m\u001b[0m\u001b[0;34m\u001b[0m\u001b[0m\n\u001b[1;32m     16\u001b[0m     \u001b[0mheader\u001b[0m \u001b[0;34m=\u001b[0m \u001b[0mlist\u001b[0m\u001b[0;34m(\u001b[0m\u001b[0mself\u001b[0m\u001b[0;34m.\u001b[0m\u001b[0mdomain\u001b[0m\u001b[0;34m)\u001b[0m \u001b[0;34m+\u001b[0m \u001b[0;34m[\u001b[0m\u001b[0;34m'Pr'\u001b[0m\u001b[0;34m]\u001b[0m\u001b[0;34m\u001b[0m\u001b[0;34m\u001b[0m\u001b[0m\n",
            "\u001b[0;32m<ipython-input-43-1d6aa388491e>\u001b[0m in \u001b[0;36m__getitem__\u001b[0;34m(self, outcomes)\u001b[0m\n\u001b[1;32m     50\u001b[0m         \u001b[0;31m# convert outcomes into array indicies\u001b[0m\u001b[0;34m\u001b[0m\u001b[0;34m\u001b[0m\u001b[0;34m\u001b[0m\u001b[0m\n\u001b[1;32m     51\u001b[0m         \u001b[0mindicies\u001b[0m \u001b[0;34m=\u001b[0m \u001b[0mtuple\u001b[0m\u001b[0;34m(\u001b[0m\u001b[0mself\u001b[0m\u001b[0;34m.\u001b[0m\u001b[0moutcomeSpace\u001b[0m\u001b[0;34m[\u001b[0m\u001b[0mvar\u001b[0m\u001b[0;34m]\u001b[0m\u001b[0;34m.\u001b[0m\u001b[0mindex\u001b[0m\u001b[0;34m(\u001b[0m\u001b[0moutcomes\u001b[0m\u001b[0;34m[\u001b[0m\u001b[0mi\u001b[0m\u001b[0;34m]\u001b[0m\u001b[0;34m)\u001b[0m \u001b[0;32mfor\u001b[0m \u001b[0mi\u001b[0m\u001b[0;34m,\u001b[0m \u001b[0mvar\u001b[0m \u001b[0;32min\u001b[0m \u001b[0menumerate\u001b[0m\u001b[0;34m(\u001b[0m\u001b[0mself\u001b[0m\u001b[0;34m.\u001b[0m\u001b[0mdomain\u001b[0m\u001b[0;34m)\u001b[0m\u001b[0;34m)\u001b[0m\u001b[0;34m\u001b[0m\u001b[0;34m\u001b[0m\u001b[0m\n\u001b[0;32m---> 52\u001b[0;31m         \u001b[0;32mreturn\u001b[0m \u001b[0mself\u001b[0m\u001b[0;34m.\u001b[0m\u001b[0mtable\u001b[0m\u001b[0;34m[\u001b[0m\u001b[0mindicies\u001b[0m\u001b[0;34m]\u001b[0m\u001b[0;34m\u001b[0m\u001b[0;34m\u001b[0m\u001b[0m\n\u001b[0m\u001b[1;32m     53\u001b[0m \u001b[0;34m\u001b[0m\u001b[0m\n\u001b[1;32m     54\u001b[0m     \u001b[0;32mdef\u001b[0m \u001b[0m__setitem__\u001b[0m\u001b[0;34m(\u001b[0m\u001b[0mself\u001b[0m\u001b[0;34m,\u001b[0m \u001b[0moutcomes\u001b[0m\u001b[0;34m,\u001b[0m \u001b[0mnew_value\u001b[0m\u001b[0;34m)\u001b[0m\u001b[0;34m:\u001b[0m\u001b[0;34m\u001b[0m\u001b[0;34m\u001b[0m\u001b[0m\n",
            "\u001b[0;31mTypeError\u001b[0m: 'ellipsis' object is not subscriptable"
          ]
        }
      ]
    },
    {
      "cell_type": "code",
      "metadata": {
        "id": "D3P9xGCrxCLT",
        "outputId": "c71a0a3d-9e83-4097-9b97-f72157f3ff97"
      },
      "source": [
        "# Answer\n",
        "\n",
        "def marginalize(self, var):\n",
        "    '''\n",
        "    This function removes a variable from the domain, and sums over that variable in the table\n",
        "    '''\n",
        "\n",
        "    # create new domain\n",
        "    new_dom = list(self.domain)\n",
        "    new_dom.remove(var)\n",
        "\n",
        "    # remove an axis of the table by summing it out\n",
        "    axis = self.domain.index(var)\n",
        "    new_table = np.sum(self.table, axis=axis)\n",
        "\n",
        "    # in the following line, `self.__class__` is the same as `Factor` (except it doesn't break things when subclassing)\n",
        "    return self.__class__(tuple(new_dom),self.outcomeSpace, new_table)\n",
        "\n",
        "Factor.marginalize = marginalize\n",
        "\n",
        "#####################################\n",
        "# Test code\n",
        "#####################################\n",
        "\n",
        "t_s_joint_prob = s_prob.join(t_prob)\n",
        "f = t_s_joint_prob.marginalize('S')\n",
        "print(f)"
      ],
      "execution_count": null,
      "outputs": [
        {
          "name": "stdout",
          "output_type": "stream",
          "text": [
            "╒══════╤══════╕\n",
            "│ T    │   Pr │\n",
            "╞══════╪══════╡\n",
            "│ hot  │  0.5 │\n",
            "├──────┼──────┤\n",
            "│ cold │  0.5 │\n",
            "╘══════╧══════╛\n",
            "\n"
          ]
        }
      ]
    },
    {
      "cell_type": "markdown",
      "metadata": {
        "id": "ZOWDzRzBxCLT"
      },
      "source": [
        "If you implemented the join operation correctly, you should see the following output:\n",
        "\n",
        "```\n",
        "╒══════╤══════╕\n",
        "│ T    │   Pr │\n",
        "╞══════╪══════╡\n",
        "│ hot  │  0.5 │\n",
        "├──────┼──────┤\n",
        "│ cold │  0.5 │\n",
        "╘══════╧══════╛\n",
        "\n",
        "```"
      ]
    },
    {
      "cell_type": "markdown",
      "metadata": {
        "id": "JoPZPSgaxCLU"
      },
      "source": [
        "## Factor Normalization Operation\n",
        "\n",
        "Factor normalization is useful when we make inference using evidence, since the resulting factor may not sum to one. To renormalize the factor to make it represent a probability distribution. Normalization is a simple, operation: we need to sum over all entries resulting in the value $Z$, and divide each factor entry by $Z$.\n",
        "\n",
        "### Exercise\n",
        "\n",
        "It is your turn. This time you will code the normalization function entirely. We have provided a stub for you."
      ]
    },
    {
      "cell_type": "code",
      "metadata": {
        "id": "Saz-8QmjxCLU",
        "outputId": "fb37101f-b115-4397-d17d-6ed14740bcd8"
      },
      "source": [
        "def normalize(self):\n",
        "    '''\n",
        "    Normalise the factor so that all probabilities add up to 1\n",
        "    '''\n",
        "    self.table = ... # TODO divide all elements of table by sum of every element\n",
        "    return self\n",
        "\n",
        "Factor.normalize = normalize\n",
        "\n",
        "#####################################\n",
        "# Test code\n",
        "#####################################\n",
        "\n",
        "w_prob_sun = w_prob.evidence(W='rain')\n",
        "\n",
        "t_s_joint_prob = s_prob.join(t_prob)\n",
        "t_s_w_joint_prob = t_s_joint_prob.join(w_prob_sun)\n",
        "print(t_s_w_joint_prob.normalize())"
      ],
      "execution_count": null,
      "outputs": [
        {
          "ename": "TypeError",
          "evalue": "'ellipsis' object is not subscriptable",
          "output_type": "error",
          "traceback": [
            "\u001b[0;31m---------------------------------------------------------------------------\u001b[0m",
            "\u001b[0;31mTypeError\u001b[0m                                 Traceback (most recent call last)",
            "\u001b[0;32m<ipython-input-62-a64112abe45e>\u001b[0m in \u001b[0;36m<module>\u001b[0;34m\u001b[0m\n\u001b[1;32m     16\u001b[0m \u001b[0mt_s_joint_prob\u001b[0m \u001b[0;34m=\u001b[0m \u001b[0ms_prob\u001b[0m\u001b[0;34m.\u001b[0m\u001b[0mjoin\u001b[0m\u001b[0;34m(\u001b[0m\u001b[0mt_prob\u001b[0m\u001b[0;34m)\u001b[0m\u001b[0;34m\u001b[0m\u001b[0;34m\u001b[0m\u001b[0m\n\u001b[1;32m     17\u001b[0m \u001b[0mt_s_w_joint_prob\u001b[0m \u001b[0;34m=\u001b[0m \u001b[0mt_s_joint_prob\u001b[0m\u001b[0;34m.\u001b[0m\u001b[0mjoin\u001b[0m\u001b[0;34m(\u001b[0m\u001b[0mw_prob_sun\u001b[0m\u001b[0;34m)\u001b[0m\u001b[0;34m\u001b[0m\u001b[0;34m\u001b[0m\u001b[0m\n\u001b[0;32m---> 18\u001b[0;31m \u001b[0mprint\u001b[0m\u001b[0;34m(\u001b[0m\u001b[0mt_s_w_joint_prob\u001b[0m\u001b[0;34m.\u001b[0m\u001b[0mnormalize\u001b[0m\u001b[0;34m(\u001b[0m\u001b[0;34m)\u001b[0m\u001b[0;34m)\u001b[0m\u001b[0;34m\u001b[0m\u001b[0;34m\u001b[0m\u001b[0m\n\u001b[0m",
            "\u001b[0;32m<ipython-input-51-c89eed2a0da2>\u001b[0m in \u001b[0;36m__str__\u001b[0;34m(self)\u001b[0m\n\u001b[1;32m     12\u001b[0m     \u001b[0;32mfor\u001b[0m \u001b[0mkey\u001b[0m \u001b[0;32min\u001b[0m \u001b[0mproduct\u001b[0m\u001b[0;34m(\u001b[0m\u001b[0;34m*\u001b[0m\u001b[0moutcomeSpaces\u001b[0m\u001b[0;34m)\u001b[0m\u001b[0;34m:\u001b[0m\u001b[0;34m\u001b[0m\u001b[0;34m\u001b[0m\u001b[0m\n\u001b[1;32m     13\u001b[0m         \u001b[0mrow\u001b[0m \u001b[0;34m=\u001b[0m \u001b[0mlist\u001b[0m\u001b[0;34m(\u001b[0m\u001b[0mkey\u001b[0m\u001b[0;34m)\u001b[0m\u001b[0;34m\u001b[0m\u001b[0;34m\u001b[0m\u001b[0m\n\u001b[0;32m---> 14\u001b[0;31m         \u001b[0mrow\u001b[0m\u001b[0;34m.\u001b[0m\u001b[0mappend\u001b[0m\u001b[0;34m(\u001b[0m\u001b[0mself\u001b[0m\u001b[0;34m[\u001b[0m\u001b[0mkey\u001b[0m\u001b[0;34m]\u001b[0m\u001b[0;34m)\u001b[0m\u001b[0;34m\u001b[0m\u001b[0;34m\u001b[0m\u001b[0m\n\u001b[0m\u001b[1;32m     15\u001b[0m         \u001b[0mtable\u001b[0m\u001b[0;34m.\u001b[0m\u001b[0mappend\u001b[0m\u001b[0;34m(\u001b[0m\u001b[0mrow\u001b[0m\u001b[0;34m)\u001b[0m\u001b[0;34m\u001b[0m\u001b[0;34m\u001b[0m\u001b[0m\n\u001b[1;32m     16\u001b[0m     \u001b[0mheader\u001b[0m \u001b[0;34m=\u001b[0m \u001b[0mlist\u001b[0m\u001b[0;34m(\u001b[0m\u001b[0mself\u001b[0m\u001b[0;34m.\u001b[0m\u001b[0mdomain\u001b[0m\u001b[0;34m)\u001b[0m \u001b[0;34m+\u001b[0m \u001b[0;34m[\u001b[0m\u001b[0;34m'Pr'\u001b[0m\u001b[0;34m]\u001b[0m\u001b[0;34m\u001b[0m\u001b[0;34m\u001b[0m\u001b[0m\n",
            "\u001b[0;32m<ipython-input-43-1d6aa388491e>\u001b[0m in \u001b[0;36m__getitem__\u001b[0;34m(self, outcomes)\u001b[0m\n\u001b[1;32m     50\u001b[0m         \u001b[0;31m# convert outcomes into array indicies\u001b[0m\u001b[0;34m\u001b[0m\u001b[0;34m\u001b[0m\u001b[0;34m\u001b[0m\u001b[0m\n\u001b[1;32m     51\u001b[0m         \u001b[0mindicies\u001b[0m \u001b[0;34m=\u001b[0m \u001b[0mtuple\u001b[0m\u001b[0;34m(\u001b[0m\u001b[0mself\u001b[0m\u001b[0;34m.\u001b[0m\u001b[0moutcomeSpace\u001b[0m\u001b[0;34m[\u001b[0m\u001b[0mvar\u001b[0m\u001b[0;34m]\u001b[0m\u001b[0;34m.\u001b[0m\u001b[0mindex\u001b[0m\u001b[0;34m(\u001b[0m\u001b[0moutcomes\u001b[0m\u001b[0;34m[\u001b[0m\u001b[0mi\u001b[0m\u001b[0;34m]\u001b[0m\u001b[0;34m)\u001b[0m \u001b[0;32mfor\u001b[0m \u001b[0mi\u001b[0m\u001b[0;34m,\u001b[0m \u001b[0mvar\u001b[0m \u001b[0;32min\u001b[0m \u001b[0menumerate\u001b[0m\u001b[0;34m(\u001b[0m\u001b[0mself\u001b[0m\u001b[0;34m.\u001b[0m\u001b[0mdomain\u001b[0m\u001b[0;34m)\u001b[0m\u001b[0;34m)\u001b[0m\u001b[0;34m\u001b[0m\u001b[0;34m\u001b[0m\u001b[0m\n\u001b[0;32m---> 52\u001b[0;31m         \u001b[0;32mreturn\u001b[0m \u001b[0mself\u001b[0m\u001b[0;34m.\u001b[0m\u001b[0mtable\u001b[0m\u001b[0;34m[\u001b[0m\u001b[0mindicies\u001b[0m\u001b[0;34m]\u001b[0m\u001b[0;34m\u001b[0m\u001b[0;34m\u001b[0m\u001b[0m\n\u001b[0m\u001b[1;32m     53\u001b[0m \u001b[0;34m\u001b[0m\u001b[0m\n\u001b[1;32m     54\u001b[0m     \u001b[0;32mdef\u001b[0m \u001b[0m__setitem__\u001b[0m\u001b[0;34m(\u001b[0m\u001b[0mself\u001b[0m\u001b[0;34m,\u001b[0m \u001b[0moutcomes\u001b[0m\u001b[0;34m,\u001b[0m \u001b[0mnew_value\u001b[0m\u001b[0;34m)\u001b[0m\u001b[0;34m:\u001b[0m\u001b[0;34m\u001b[0m\u001b[0;34m\u001b[0m\u001b[0m\n",
            "\u001b[0;31mTypeError\u001b[0m: 'ellipsis' object is not subscriptable"
          ]
        }
      ]
    },
    {
      "cell_type": "code",
      "metadata": {
        "id": "cOUXtNrpxCLU",
        "outputId": "e1288680-d753-4828-e89a-0cca87ac0783"
      },
      "source": [
        "# Answer\n",
        "\n",
        "def normalize(self):\n",
        "    '''\n",
        "    Normalise the factor so that all probabilities add up to 1\n",
        "    '''\n",
        "    self.table = self.table/np.sum(self.table)\n",
        "    return self\n",
        "\n",
        "Factor.normalize = normalize\n",
        "\n",
        "#####################################\n",
        "# Test code\n",
        "#####################################\n",
        "\n",
        "w_prob_sun = w_prob.evidence(W='rain')\n",
        "\n",
        "t_s_joint_prob = s_prob.join(t_prob)\n",
        "t_s_w_joint_prob = t_s_joint_prob.join(w_prob_sun)\n",
        "print(t_s_w_joint_prob.normalize())"
      ],
      "execution_count": null,
      "outputs": [
        {
          "name": "stdout",
          "output_type": "stream",
          "text": [
            "╒════════╤══════╤══════╤══════════╕\n",
            "│ S      │ T    │ W    │       Pr │\n",
            "╞════════╪══════╪══════╪══════════╡\n",
            "│ summer │ hot  │ rain │ 0.141007 │\n",
            "├────────┼──────┼──────┼──────────┤\n",
            "│ summer │ cold │ rain │ 0.142446 │\n",
            "├────────┼──────┼──────┼──────────┤\n",
            "│ winter │ hot  │ rain │ 0.142446 │\n",
            "├────────┼──────┼──────┼──────────┤\n",
            "│ winter │ cold │ rain │ 0.574101 │\n",
            "╘════════╧══════╧══════╧══════════╛\n",
            "\n"
          ]
        }
      ]
    },
    {
      "cell_type": "markdown",
      "metadata": {
        "id": "pI9s0UuYxCLU"
      },
      "source": [
        "The expected output for the normalize function in the test case is the following:\n",
        "\n",
        "```\n",
        "╒════════╤══════╤══════╤══════════╕\n",
        "│ S      │ T    │ W    │       Pr │\n",
        "╞════════╪══════╪══════╪══════════╡\n",
        "│ summer │ hot  │ rain │ 0.141007 │\n",
        "├────────┼──────┼──────┼──────────┤\n",
        "│ summer │ cold │ rain │ 0.142446 │\n",
        "├────────┼──────┼──────┼──────────┤\n",
        "│ winter │ hot  │ rain │ 0.142446 │\n",
        "├────────┼──────┼──────┼──────────┤\n",
        "│ winter │ cold │ rain │ 0.574101 │\n",
        "╘════════╧══════╧══════╧══════════╛\n",
        "\n",
        "```"
      ]
    },
    {
      "cell_type": "markdown",
      "metadata": {
        "id": "lZufjMmsxCLV"
      },
      "source": [
        "# Entire factor class\n",
        "\n",
        "Here is the full code for the Factor class, containing all the functions in this tutorial."
      ]
    },
    {
      "cell_type": "code",
      "metadata": {
        "id": "Ez2cF3EKxCLV"
      },
      "source": [
        "from itertools import product\n",
        "from tabulate import tabulate\n",
        "import copy\n",
        "import numpy as np\n",
        "        \n",
        "class Factor:\n",
        "    '''\n",
        "    Factors are a generalisation of discrete probability distributions over one or more random variables.\n",
        "    Each variable must have a name (which may be a string or integer).\n",
        "    The domain of the factor specifies which variables the factor operates over.\n",
        "    The outcomeSpace specifies which \n",
        "    \n",
        "    \n",
        "    The probabilities are stored in a n-dimensional numpy array, using the domain and outcomeSpace\n",
        "    as dimension and row labels respectively.\n",
        "    '''\n",
        "    def __init__(self, domain, outcomeSpace, table=None):\n",
        "        '''\n",
        "        Inititalise a factor with a given domain and outcomeSpace. \n",
        "        All probabilities are set to zero by default.\n",
        "        '''\n",
        "        self.domain = tuple(domain) # tuple of variable names, which may be strings, integers, etc.\n",
        "        \n",
        "        if table is None:\n",
        "            # By default, intitialize with a uniform distribution\n",
        "            self.table = np.ones(shape=tuple(len(outcomeSpace[var]) for var in self.domain))\n",
        "            self.table = self.table/np.sum(self.table)\n",
        "        else:\n",
        "            self.table = table\n",
        "            \n",
        "        self.outcomeSpace = copy.copy(outcomeSpace)\n",
        "    \n",
        "    def __getitem__(self, outcomes):\n",
        "        '''\n",
        "        This function allows direct access to individual probabilities.\n",
        "        E.g. if the factor represents a joint distribution over variables 'A','B','C','D', each with outcomeSpace [0,1,2],\n",
        "        then `factor[0,1,0,2]` will return the probability that the four variables are set to 0,1,0,2 respectively.\n",
        "        \n",
        "        The outcomes used for indexing may also be strings. If in the example above the outcomeSpace of each variable is\n",
        "        ['true','false'], then `factor['true','false','true','true']` will return the probability that \n",
        "        A='true', B='false', C='true' and D='true'. \n",
        "        \n",
        "        The order of the indicies is determined by the order of the variables in self.domain.\n",
        "        '''\n",
        "        \n",
        "        # check if only a single index was used.\n",
        "        if not isinstance(outcomes, tuple):\n",
        "            outcomes = (outcomes,)\n",
        "            \n",
        "        # convert outcomes into array indicies\n",
        "        indicies = tuple(self.outcomeSpace[var].index(outcomes[i]) for i, var in enumerate(self.domain))\n",
        "        return self.table[indicies]\n",
        "    \n",
        "    def __setitem__(self, outcomes, new_value):\n",
        "        '''\n",
        "        This function is called when setting a probability. E.g. `factor[0,1,0,2] = 0.5`.        \n",
        "        '''\n",
        "        if not isinstance(outcomes, tuple):\n",
        "            outcomes = (outcomes,)\n",
        "        indicies = tuple(self.outcomeSpace[var].index(outcomes[i]) for i, var in enumerate(self.domain))\n",
        "        self.table[indicies] = new_value\n",
        "            \n",
        "    def join(self, other):\n",
        "        '''\n",
        "        This function multiplies two factors.\n",
        "        '''\n",
        "        # confirm that any shared variables have the same outcomeSpace\n",
        "        for var in set(other.domain).intersection(set(self.domain)):\n",
        "            if self.outcomeSpace[var] != other.outcomeSpace[var]:\n",
        "                raise IndexError('Incompatible outcomeSpaces. Make sure you set the same evidence on all factors')\n",
        "\n",
        "        # extend current domain with any new variables required\n",
        "        new_dom = list(self.domain) + list(set(other.domain) - set(self.domain)) \n",
        "        \n",
        "        # to prepare for multiplying arrays, we need to make sure both arrays have the correct number of axes\n",
        "        self_t = self.table\n",
        "        other_t = other.table\n",
        "        for _ in set(other.domain) - set(self.domain):\n",
        "            self_t = self_t[..., np.newaxis]     \n",
        "        for _ in set(self.domain) - set(other.domain):\n",
        "            other_t = other_t[..., np.newaxis]\n",
        "\n",
        "        # And we need the new axes to be transposed to the correct location\n",
        "        old_order = list(other.domain) + list(set(self.domain) - set(other.domain)) \n",
        "        new_order = []\n",
        "        for v in new_dom:\n",
        "            new_order.append(old_order.index(v))\n",
        "        other_t = np.transpose(other_t, new_order)\n",
        "        \n",
        "        # Now that the arrays are all set up, we can rely on numpy broadcasting to work out which numbers need to be multiplied.\n",
        "        # https://numpy.org/doc/stable/user/basics.broadcasting.html\n",
        "        new_table = self_t * other_t\n",
        "        \n",
        "        # The final step is to create the new outcomeSpace\n",
        "        new_outcomeSpace = self.outcomeSpace.copy()\n",
        "        new_outcomeSpace.update(other.outcomeSpace)\n",
        "\n",
        "        # in the following line, `self.__class__` is the same as `Factor` (except it doesn't break things when subclassing)\n",
        "        return self.__class__(tuple(new_dom), new_outcomeSpace, table=new_table)\n",
        "        \n",
        "    def evidence(self, **kwargs):\n",
        "        '''\n",
        "        Sets evidence by modifying the outcomeSpace\n",
        "        This function must be used to set evidence on all factors before joining,\n",
        "        because it removes the relevant variable from the factor. \n",
        "        \n",
        "        Usage: fac.evidence(A='true',B='false')\n",
        "        This returns a factor which has set the variable 'A' to 'true' and 'B' to 'false'.\n",
        "        '''\n",
        "        f = self.copy()\n",
        "        evidence_dict = kwargs\n",
        "        for var, value in evidence_dict.items():\n",
        "            if var in f.domain:\n",
        "                \n",
        "                # find the row index that corresponds to var = value\n",
        "                index = f.outcomeSpace[var].index(value)\n",
        "                \n",
        "                # find the `var` axis and select only the row that corresponds to `value`\n",
        "                # on all other axes, select every row\n",
        "                slice_tuple = tuple(slice(index,index+1) if v == var else slice(None) for v in f.domain)\n",
        "                f.table = f.table[slice_tuple]\n",
        "                \n",
        "                # modify the outcomeSpace to correspond to the changes just made to self.table\n",
        "                f.outcomeSpace[var] = (value,)\n",
        "        return f\n",
        "    \n",
        "    def marginalize(self, var):\n",
        "        '''\n",
        "        This function removes a variable from the domain, and sums over that variable in the table\n",
        "        '''\n",
        "        \n",
        "        # create new domain\n",
        "        new_dom = list(self.domain)\n",
        "        new_dom.remove(var) \n",
        "        \n",
        "        # remove an axis of the table by summing it out\n",
        "        axis = self.domain.index(var)\n",
        "        new_table = np.sum(self.table, axis=axis)\n",
        "        \n",
        "        # in the following line, `self.__class__` is the same as `Factor` (except it doesn't break things when subclassing)\n",
        "        return self.__class__(tuple(new_dom),self.outcomeSpace, new_table)\n",
        "    \n",
        "    def copy(self):\n",
        "        return copy.deepcopy(self)\n",
        "    \n",
        "    def normalize(self):\n",
        "        '''\n",
        "        Normalise the factor so that all probabilities add up to 1\n",
        "        '''\n",
        "        self.table = self.table/np.sum(self.table)\n",
        "        return self\n",
        "    \n",
        "    def __mul__(self, other):\n",
        "        '''\n",
        "        Override the * operator, so that it can be used to join factors\n",
        "        '''\n",
        "        return self.join(other)\n",
        "            \n",
        "    def __str__(self):\n",
        "        '''\n",
        "        This function determines the string representation of this object.\n",
        "        In this case, the function prints out a row for every possible instantiation \n",
        "        of the factor, along with the associated probability.\n",
        "        This function will be called whenever you print out this object, i.e.\n",
        "        a_prob = Factor(...)\n",
        "        print(a_prob)\n",
        "        '''\n",
        "        table = []\n",
        "        outcomeSpaces = [self.outcomeSpace[var] for var in self.domain]\n",
        "        for key in product(*outcomeSpaces):\n",
        "            row = list(key)\n",
        "            row.append(self[key])\n",
        "            table.append(row)\n",
        "        header = list(self.domain) + ['Pr']\n",
        "        return tabulate(table, headers=header, tablefmt='fancy_grid') + '\\n'\n",
        "\n",
        "\n",
        "# Reinitialize these objects using the final version of the class \n",
        "s_prob = Factor(('S',), outcomeSpace)\n",
        "s_prob['summer'] = 0.5\n",
        "s_prob['winter'] = 0.5\n",
        "\n",
        "t_prob = Factor(('S','T'), outcomeSpace)\n",
        "t_prob['summer','hot']  = 0.7\n",
        "t_prob['summer','cold'] = 0.3\n",
        "t_prob['winter','hot']  = 0.3\n",
        "t_prob['winter','cold'] = 0.7\n",
        "\n",
        "w_prob = Factor(('S','T','W'), outcomeSpace)\n",
        "w_prob['summer','hot','sun']   = 0.86\n",
        "w_prob['summer','hot','rain']  = 0.14\n",
        "w_prob['summer','cold','sun']  = 0.67\n",
        "w_prob['summer','cold','rain'] = 0.33\n",
        "w_prob['winter','hot','sun']   = 0.67\n",
        "w_prob['winter','hot','rain']  = 0.33\n",
        "w_prob['winter','cold','sun']  = 0.43\n",
        "w_prob['winter','cold','rain'] = 0.57"
      ],
      "execution_count": null,
      "outputs": []
    },
    {
      "cell_type": "markdown",
      "metadata": {
        "id": "EkoT7kQUxCLW"
      },
      "source": [
        "We have reached the end of this tutorial. Now we have all the tools we need to start making inference on Graphical Models. Also, you can use this code to check the results of your calculations in the theory part of this tutorial. For instance, in **Question 6**, we asked for the joint probability table $P(T,S,W)$. We can calculate this with a single line of python code."
      ]
    },
    {
      "cell_type": "code",
      "metadata": {
        "id": "ozjAJ2f9xCLW",
        "outputId": "68c6de5b-7cca-464b-e754-af98b7ba3acc"
      },
      "source": [
        "print(t_prob.join(s_prob).join(w_prob))"
      ],
      "execution_count": null,
      "outputs": [
        {
          "name": "stdout",
          "output_type": "stream",
          "text": [
            "╒════════╤══════╤══════╤════════╕\n",
            "│ S      │ T    │ W    │     Pr │\n",
            "╞════════╪══════╪══════╪════════╡\n",
            "│ summer │ hot  │ sun  │ 0.301  │\n",
            "├────────┼──────┼──────┼────────┤\n",
            "│ summer │ hot  │ rain │ 0.049  │\n",
            "├────────┼──────┼──────┼────────┤\n",
            "│ summer │ cold │ sun  │ 0.1005 │\n",
            "├────────┼──────┼──────┼────────┤\n",
            "│ summer │ cold │ rain │ 0.0495 │\n",
            "├────────┼──────┼──────┼────────┤\n",
            "│ winter │ hot  │ sun  │ 0.1005 │\n",
            "├────────┼──────┼──────┼────────┤\n",
            "│ winter │ hot  │ rain │ 0.0495 │\n",
            "├────────┼──────┼──────┼────────┤\n",
            "│ winter │ cold │ sun  │ 0.1505 │\n",
            "├────────┼──────┼──────┼────────┤\n",
            "│ winter │ cold │ rain │ 0.1995 │\n",
            "╘════════╧══════╧══════╧════════╛\n",
            "\n"
          ]
        }
      ]
    },
    {
      "cell_type": "markdown",
      "metadata": {
        "id": "9S5kTBihxCLX"
      },
      "source": [
        "Since we overrode the * operater using the `__mul__` function above, we can also do:"
      ]
    },
    {
      "cell_type": "code",
      "metadata": {
        "id": "3RMyLjwdxCLX",
        "outputId": "ae10e85d-d92b-4837-d860-8a332459acd4"
      },
      "source": [
        "print(t_prob*s_prob*w_prob)"
      ],
      "execution_count": null,
      "outputs": [
        {
          "name": "stdout",
          "output_type": "stream",
          "text": [
            "╒════════╤══════╤══════╤════════╕\n",
            "│ S      │ T    │ W    │     Pr │\n",
            "╞════════╪══════╪══════╪════════╡\n",
            "│ summer │ hot  │ sun  │ 0.301  │\n",
            "├────────┼──────┼──────┼────────┤\n",
            "│ summer │ hot  │ rain │ 0.049  │\n",
            "├────────┼──────┼──────┼────────┤\n",
            "│ summer │ cold │ sun  │ 0.1005 │\n",
            "├────────┼──────┼──────┼────────┤\n",
            "│ summer │ cold │ rain │ 0.0495 │\n",
            "├────────┼──────┼──────┼────────┤\n",
            "│ winter │ hot  │ sun  │ 0.1005 │\n",
            "├────────┼──────┼──────┼────────┤\n",
            "│ winter │ hot  │ rain │ 0.0495 │\n",
            "├────────┼──────┼──────┼────────┤\n",
            "│ winter │ cold │ sun  │ 0.1505 │\n",
            "├────────┼──────┼──────┼────────┤\n",
            "│ winter │ cold │ rain │ 0.1995 │\n",
            "╘════════╧══════╧══════╧════════╛\n",
            "\n"
          ]
        }
      ]
    },
    {
      "cell_type": "markdown",
      "metadata": {
        "id": "CGXqO_U-xCLY"
      },
      "source": [
        "## Final Task\n",
        "\n",
        "Create a python file called `DiscreteFactors.py` containing the `Factor` class, and save it to your computer. It will be used in future tutorials."
      ]
    },
    {
      "cell_type": "code",
      "metadata": {
        "id": "-8e0IYFXxCLY"
      },
      "source": [
        ""
      ],
      "execution_count": null,
      "outputs": []
    }
  ]
}