{
  "nbformat": 4,
  "nbformat_minor": 2,
  "metadata": {
    "interpreter": {
      "hash": "6714646c7badaf138256cae83466294356a604d5a9644f8ff87d802670eeaa68"
    },
    "kernelspec": {
      "name": "python3",
      "display_name": "Python 3.7.10 64-bit ('vision': conda)"
    },
    "language_info": {
      "codemirror_mode": {
        "name": "ipython",
        "version": 3
      },
      "file_extension": ".py",
      "mimetype": "text/x-python",
      "name": "python",
      "nbconvert_exporter": "python",
      "pygments_lexer": "ipython3",
      "version": "3.7.10"
    },
    "toc": {
      "colors": {
        "hover_highlight": "#DAA520",
        "navigate_num": "#000000",
        "navigate_text": "#333333",
        "running_highlight": "#FF0000",
        "selected_highlight": "#FFD700",
        "sidebar_border": "#EEEEEE",
        "wrapper_background": "#FFFFFF"
      },
      "moveMenuLeft": true,
      "nav_menu": {
        "height": "198px",
        "width": "252px"
      },
      "navigate_menu": true,
      "number_sections": true,
      "sideBar": true,
      "threshold": 4,
      "toc_cell": false,
      "toc_position": {
        "height": "625px",
        "left": "0px",
        "right": "1067.67px",
        "top": "107px",
        "width": "212px"
      },
      "toc_section_display": "block",
      "toc_window_display": true,
      "widenNotebook": false
    },
    "colab": {
      "name": "COMP9418_W01_Graph_Representation_Traversal_MST_Solutions.ipynb",
      "provenance": []
    }
  },
  "cells": [
    {
      "cell_type": "markdown",
      "source": [
        "[![Open In Colab](https://colab.research.google.com/assets/colab-badge.svg)](https://colab.research.google.com/github/UNSW-COMP9418/Week01/blob/main/COMP9418_W01_Graph_Representation_Traversal_MST.ipynb)\n",
        "\n",
        "# Graph Representation, Traversal and MST\n",
        "\n",
        "**COMP9418-21T3, W01 Tutorial**\n",
        "\n",
        "- Instructor: Gustavo Batista\n",
        "- School of Computer Science and Engineering, UNSW Sydney\n",
        "- Notebook designed by Gustavo Batista and Jeremy Gillen\n",
        "- Last Update 18th August 2021"
      ],
      "metadata": {
        "id": "OkixZDkDZuq_"
      }
    },
    {
      "cell_type": "markdown",
      "source": [
        "In this week's tutorial, we will review some concepts an algorithms for graph representation, traversal and Minimum Spanning Trees (MST) that will be useful during the course.\n",
        "\n",
        "## Technical prerequisites\n",
        "\n",
        "We will use Jupyter Notebooks in the practical part of the tutorials. There are three main ways to run these notebooks:\n",
        "\n",
        "1. *Google Colab*. The links available in WebCMS will open the course notebooks in [Google Colab](https://colab.research.google.com/). Google Colab has all the packages necessary to run these notebooks, so no installation is required. **This is our prefered approach**.\n",
        "\n",
        "2. *CSE VLAB*. We have installed the necessary packages in the CSE computers. You have to copy the notebook to your CSE account in VLAB to execute them. There are two possibilities to access VLAB. The most recommended is installing a [VNC software](https://taggi.cse.unsw.edu.au/FAQ/Really_quick_guide_to_VLAB/) in your computer. Alternatively, you can access these computers through a web interface using [CSE VLAB Gateway](https://vlabgateway.cse.unsw.edu.au/).\n",
        "\n",
        "3. *Your computer*. If you do not have Jupyter installed in your computer, we recommend installing [Anaconda](https://www.anaconda.com/distribution). Anaconda conveniently installs Python, the Jupyter Notebook, and other commonly used packages for scientific computing and data science. To render a graphical visualization of some graphs in this notebook, you also need to [install Graphviz](http://www.graphviz.org/download). If you have conda installed in your computer, you can try the command ```conda install python-graphviz``` directly. From our experience, Graphviz is a little troublesome to install in some systems. For instance, ```conda install python-graphviz``` often does not work on Linux systems and we did not have any success using ```pip3 install graphviz``` on most systems, so do *not* use ```pip3```.\n",
        "\n",
        "Once we have done all that, we import Graphviz, and heapq modules for later use."
      ],
      "metadata": {
        "id": "dxWNMTjZZurD"
      }
    },
    {
      "cell_type": "code",
      "execution_count": 1,
      "source": [
        "# Visualise our graph\r\n",
        "import graphviz\r\n",
        "# Priority queue for Prim algorithm\r\n",
        "import heapq as pq"
      ],
      "outputs": [],
      "metadata": {
        "scrolled": true,
        "id": "YrrEb-efZurE"
      }
    },
    {
      "cell_type": "markdown",
      "source": [
        "## Representing graphs\n",
        "\n",
        "We will not use any particular library for representing graphs in Python. Instead, we will represent a graph structure as a dictionary whose keys are the nodes of the graph. For each key, the corresponding value is a list. The list contains the nodes that are directly connected to this node.\n",
        "\n",
        "For instance, the following graph:\n",
        "\n",
        "![Graph example](img/example_graph.png \"Graph example\")\n",
        "\n",
        "can be represented as\n",
        "\n",
        "```\n",
        "graph = {\n",
        "    0: [2],\n",
        "    1: [0],\n",
        "    2: [1],\n",
        "    3: [1, 2],\n",
        "}\n",
        "```\n",
        "\n",
        "This representation is an adjacency list. If you'd like to read more about this style of graphs, there is more\n",
        "[information on the python website](https://www.python.org/doc/essays/graphs/)."
      ],
      "metadata": {
        "id": "Ad3Z_GYMZurF"
      }
    },
    {
      "cell_type": "markdown",
      "source": [
        "### Exercise\n",
        "\n",
        "Now, it is your turn. Represent the following directed graph using the suggested adjacency list representation.\n",
        "\n",
        "![Graph exercise](img/exercise_graph.png \"Graph exercise\")"
      ],
      "metadata": {
        "id": "Bvu1X2BpZurG"
      }
    },
    {
      "cell_type": "code",
      "execution_count": 2,
      "source": [
        "graph = {\r\n",
        "    0: [],\r\n",
        "    1: [],\r\n",
        "    2: [],\r\n",
        "    3: [],\r\n",
        "    4: [],\r\n",
        "    5: [],\r\n",
        "}"
      ],
      "outputs": [],
      "metadata": {
        "id": "tlrOCwvXZurG"
      }
    },
    {
      "cell_type": "code",
      "execution_count": 3,
      "source": [
        "#Answer\r\n",
        "\r\n",
        "graph = {\r\n",
        "    0: [3],\r\n",
        "    1: [0, 4],\r\n",
        "    2: [1, 4],\r\n",
        "    3: [1],\r\n",
        "    4: [3],\r\n",
        "    5: [4, 2],\r\n",
        "}"
      ],
      "outputs": [],
      "metadata": {
        "id": "ET9Lkji7ZurH"
      }
    },
    {
      "cell_type": "markdown",
      "source": [
        "## Graphviz\n",
        "\n",
        "We can use the Graphviz library to inspect our graphs visually. \n",
        "\n",
        "The following code will convert your digraph to a Graphviz object and render it."
      ],
      "metadata": {
        "id": "_1rO16jPZurH"
      }
    },
    {
      "cell_type": "code",
      "execution_count": 4,
      "source": [
        "dot = graphviz.Digraph(engine=\"neato\", comment='Direct graph example')\r\n",
        "dot.attr(overlap=\"false\", splines=\"true\")\r\n",
        "\r\n",
        "# List of positions for each node\r\n",
        "# We use node positions to replicate the previous figure\r\n",
        "# This can be removed if the nodes do not need to be presented in a specific order\r\n",
        "pos = {\r\n",
        "    0: '0,1!',\r\n",
        "    1: '1,1!',\r\n",
        "    2: '2,1!',\r\n",
        "    3: '0,0!',\r\n",
        "    4: '1,0!',\r\n",
        "    5: '2,0!',\r\n",
        "}\r\n",
        "\r\n",
        "for v in graph.keys():\r\n",
        "    dot.node(str(v), pos=pos[v])\r\n",
        "    # dot.node(str(v))              # Use this line instead of the previous one to position the nodes in random order\r\n",
        "\r\n",
        "for v in graph.keys():\r\n",
        "    for w in graph[v]:\r\n",
        "        dot.edge(str(v), str(w))\r\n",
        "\r\n",
        "dot"
      ],
      "outputs": [
        {
          "output_type": "execute_result",
          "data": {
            "image/svg+xml": "<?xml version=\"1.0\" encoding=\"UTF-8\" standalone=\"no\"?>\r\n<!DOCTYPE svg PUBLIC \"-//W3C//DTD SVG 1.1//EN\"\r\n \"http://www.w3.org/Graphics/SVG/1.1/DTD/svg11.dtd\">\r\n<!-- Generated by graphviz version 2.38.0 (20140413.2041)\r\n -->\r\n<!-- Title: %3 Pages: 1 -->\r\n<svg width=\"186pt\" height=\"106pt\"\r\n viewBox=\"0.00 0.00 186.01 106.01\" xmlns=\"http://www.w3.org/2000/svg\" xmlns:xlink=\"http://www.w3.org/1999/xlink\">\r\n<g id=\"graph0\" class=\"graph\" transform=\"scale(1 1) rotate(0) translate(93.0062 53.0031)\">\r\n<title>%3</title>\r\n<polygon fill=\"white\" stroke=\"none\" points=\"-93.0062,53.0031 -93.0062,-53.0031 93.0062,-53.0031 93.0062,53.0031 -93.0062,53.0031\"/>\r\n<!-- 0 -->\r\n<g id=\"node1\" class=\"node\"><title>0</title>\r\n<ellipse fill=\"none\" stroke=\"black\" cx=\"-62.0062\" cy=\"-31.0031\" rx=\"27\" ry=\"18\"/>\r\n<text text-anchor=\"middle\" x=\"-62.0062\" y=\"-27.3031\" font-family=\"Times New Roman,serif\" font-size=\"14.00\">0</text>\r\n</g>\r\n<!-- 3 -->\r\n<g id=\"node4\" class=\"node\"><title>3</title>\r\n<ellipse fill=\"none\" stroke=\"black\" cx=\"-62.0062\" cy=\"31.0031\" rx=\"27\" ry=\"18\"/>\r\n<text text-anchor=\"middle\" x=\"-62.0062\" y=\"34.7031\" font-family=\"Times New Roman,serif\" font-size=\"14.00\">3</text>\r\n</g>\r\n<!-- 0&#45;&gt;3 -->\r\n<g id=\"edge1\" class=\"edge\"><title>0&#45;&gt;3</title>\r\n<path fill=\"none\" stroke=\"black\" d=\"M-62.0062,-12.7346C-62.0062,-7.98337 -62.0062,-2.74924 -62.0062,2.39634\"/>\r\n<polygon fill=\"black\" stroke=\"black\" points=\"-58.5061,2.6509 -62.0062,12.6509 -65.5061,2.65084 -58.5061,2.6509\"/>\r\n</g>\r\n<!-- 1 -->\r\n<g id=\"node2\" class=\"node\"><title>1</title>\r\n<ellipse fill=\"none\" stroke=\"black\" cx=\"0\" cy=\"-31.0031\" rx=\"27\" ry=\"18\"/>\r\n<text text-anchor=\"middle\" x=\"0\" y=\"-27.3031\" font-family=\"Times New Roman,serif\" font-size=\"14.00\">1</text>\r\n</g>\r\n<!-- 1&#45;&gt;0 -->\r\n<g id=\"edge2\" class=\"edge\"><title>1&#45;&gt;0</title>\r\n<path fill=\"none\" stroke=\"black\" d=\"M-27.0164,-31.0031C-27.1796,-31.0031 -27.343,-31.0031 -27.5064,-31.0031\"/>\r\n<polygon fill=\"black\" stroke=\"black\" points=\"-24.8883,-27.5032 -34.8883,-31.0031 -24.8884,-34.5032 -24.8883,-27.5032\"/>\r\n</g>\r\n<!-- 4 -->\r\n<g id=\"node5\" class=\"node\"><title>4</title>\r\n<ellipse fill=\"none\" stroke=\"black\" cx=\"0\" cy=\"31.0031\" rx=\"27\" ry=\"18\"/>\r\n<text text-anchor=\"middle\" x=\"0\" y=\"34.7031\" font-family=\"Times New Roman,serif\" font-size=\"14.00\">4</text>\r\n</g>\r\n<!-- 1&#45;&gt;4 -->\r\n<g id=\"edge3\" class=\"edge\"><title>1&#45;&gt;4</title>\r\n<path fill=\"none\" stroke=\"black\" d=\"M0,-12.7346C0,-7.98337 0,-2.74924 0,2.39634\"/>\r\n<polygon fill=\"black\" stroke=\"black\" points=\"3.5001,2.6509 0,12.6509 -3.4999,2.65084 3.5001,2.6509\"/>\r\n</g>\r\n<!-- 2 -->\r\n<g id=\"node3\" class=\"node\"><title>2</title>\r\n<ellipse fill=\"none\" stroke=\"black\" cx=\"62.0062\" cy=\"-31.0031\" rx=\"27\" ry=\"18\"/>\r\n<text text-anchor=\"middle\" x=\"62.0062\" y=\"-27.3031\" font-family=\"Times New Roman,serif\" font-size=\"14.00\">2</text>\r\n</g>\r\n<!-- 2&#45;&gt;1 -->\r\n<g id=\"edge4\" class=\"edge\"><title>2&#45;&gt;1</title>\r\n<path fill=\"none\" stroke=\"black\" d=\"M34.9898,-31.0031C34.8266,-31.0031 34.6632,-31.0031 34.4998,-31.0031\"/>\r\n<polygon fill=\"black\" stroke=\"black\" points=\"37.1179,-27.5032 27.1179,-31.0031 37.1178,-34.5032 37.1179,-27.5032\"/>\r\n</g>\r\n<!-- 2&#45;&gt;4 -->\r\n<g id=\"edge5\" class=\"edge\"><title>2&#45;&gt;4</title>\r\n<path fill=\"none\" stroke=\"black\" d=\"M46.9962,-15.9931C39.642,-8.63888 30.6344,0.36872 22.4798,8.52335\"/>\r\n<polygon fill=\"black\" stroke=\"black\" points=\"24.8485,11.1044 15.3025,15.7006 19.8987,6.15461 24.8485,11.1044\"/>\r\n</g>\r\n<!-- 3&#45;&gt;1 -->\r\n<g id=\"edge6\" class=\"edge\"><title>3&#45;&gt;1</title>\r\n<path fill=\"none\" stroke=\"black\" d=\"M-46.9962,15.9931C-39.642,8.63888 -30.6344,-0.36872 -22.4798,-8.52335\"/>\r\n<polygon fill=\"black\" stroke=\"black\" points=\"-24.8485,-11.1044 -15.3025,-15.7006 -19.8987,-6.15461 -24.8485,-11.1044\"/>\r\n</g>\r\n<!-- 4&#45;&gt;3 -->\r\n<g id=\"edge7\" class=\"edge\"><title>4&#45;&gt;3</title>\r\n<path fill=\"none\" stroke=\"black\" d=\"M-27.0164,31.0031C-27.1796,31.0031 -27.343,31.0031 -27.5064,31.0031\"/>\r\n<polygon fill=\"black\" stroke=\"black\" points=\"-24.8883,34.503 -34.8883,31.0031 -24.8884,27.503 -24.8883,34.503\"/>\r\n</g>\r\n<!-- 5 -->\r\n<g id=\"node6\" class=\"node\"><title>5</title>\r\n<ellipse fill=\"none\" stroke=\"black\" cx=\"62.0062\" cy=\"31.0031\" rx=\"27\" ry=\"18\"/>\r\n<text text-anchor=\"middle\" x=\"62.0062\" y=\"34.7031\" font-family=\"Times New Roman,serif\" font-size=\"14.00\">5</text>\r\n</g>\r\n<!-- 5&#45;&gt;2 -->\r\n<g id=\"edge9\" class=\"edge\"><title>5&#45;&gt;2</title>\r\n<path fill=\"none\" stroke=\"black\" d=\"M62.0062,12.7346C62.0062,7.98337 62.0062,2.74924 62.0062,-2.39634\"/>\r\n<polygon fill=\"black\" stroke=\"black\" points=\"58.5063,-2.65084 62.0062,-12.6509 65.5063,-2.6509 58.5063,-2.65084\"/>\r\n</g>\r\n<!-- 5&#45;&gt;4 -->\r\n<g id=\"edge8\" class=\"edge\"><title>5&#45;&gt;4</title>\r\n<path fill=\"none\" stroke=\"black\" d=\"M34.9898,31.0031C34.8266,31.0031 34.6632,31.0031 34.4998,31.0031\"/>\r\n<polygon fill=\"black\" stroke=\"black\" points=\"37.1179,34.503 27.1179,31.0031 37.1178,27.503 37.1179,34.503\"/>\r\n</g>\r\n</g>\r\n</svg>\r\n",
            "text/plain": [
              "<graphviz.dot.Digraph at 0x21a363a65c8>"
            ]
          },
          "metadata": {},
          "execution_count": 4
        }
      ],
      "metadata": {
        "id": "3xhPqt8NZurI"
      }
    },
    {
      "cell_type": "markdown",
      "source": [
        "## Graph class\n",
        "\n",
        "To keep our code clean and put all of the graph related functions in one place,\n",
        "we can wrap this graph data structure in a class."
      ],
      "metadata": {
        "id": "ZOzrsy8lZurJ"
      }
    },
    {
      "cell_type": "code",
      "execution_count": 5,
      "source": [
        "class Graph:\n",
        "    def __init__(self, adj_list=None):\n",
        "        self.adj_list = dict()\n",
        "        if adj_list is not None:\n",
        "            self.adj_list = adj_list.copy() # dict with graph's adjacency list\n",
        "        self.colour = dict()"
      ],
      "outputs": [],
      "metadata": {
        "id": "BykgymfTZurJ"
      }
    },
    {
      "cell_type": "code",
      "execution_count": 6,
      "source": [
        "class Graph(Graph):\n",
        "    def show(self, directed=True, positions=None):\n",
        "        \"\"\"\n",
        "        Prints a graphical visualisation of the graph usign GraphViz\n",
        "        arguments:\n",
        "            `directed`, True if the graph is directed, False if the graph is undirected\n",
        "            `pos: dictionary`, with nodes as keys and positions as values\n",
        "        return:\n",
        "            GraphViz object\n",
        "        \"\"\"\n",
        "        if directed:\n",
        "            dot = graphviz.Digraph(engine=\"neato\", comment='Directed graph')\n",
        "        else:\n",
        "            dot = graphviz.Graph(engine=\"neato\", comment='Undirected graph', strict=True)        \n",
        "        dot.attr(overlap=\"false\", splines=\"true\")\n",
        "        for v in self.adj_list:\n",
        "            if positions is not None:\n",
        "                dot.node(str(v), pos=positions[v])\n",
        "            else:\n",
        "                dot.node(str(v))\n",
        "        for v in self.adj_list:\n",
        "            for w in self.adj_list[v]:\n",
        "                dot.edge(str(v), str(w))\n",
        "\n",
        "        return dot"
      ],
      "outputs": [],
      "metadata": {
        "id": "1bi__Ob1ZurJ"
      }
    },
    {
      "cell_type": "code",
      "execution_count": 7,
      "source": [
        "G = Graph(graph)\n",
        "G.show(positions=pos)"
      ],
      "outputs": [
        {
          "output_type": "execute_result",
          "data": {
            "image/svg+xml": "<?xml version=\"1.0\" encoding=\"UTF-8\" standalone=\"no\"?>\r\n<!DOCTYPE svg PUBLIC \"-//W3C//DTD SVG 1.1//EN\"\r\n \"http://www.w3.org/Graphics/SVG/1.1/DTD/svg11.dtd\">\r\n<!-- Generated by graphviz version 2.38.0 (20140413.2041)\r\n -->\r\n<!-- Title: %3 Pages: 1 -->\r\n<svg width=\"186pt\" height=\"106pt\"\r\n viewBox=\"0.00 0.00 186.01 106.01\" xmlns=\"http://www.w3.org/2000/svg\" xmlns:xlink=\"http://www.w3.org/1999/xlink\">\r\n<g id=\"graph0\" class=\"graph\" transform=\"scale(1 1) rotate(0) translate(93.0062 53.0031)\">\r\n<title>%3</title>\r\n<polygon fill=\"white\" stroke=\"none\" points=\"-93.0062,53.0031 -93.0062,-53.0031 93.0062,-53.0031 93.0062,53.0031 -93.0062,53.0031\"/>\r\n<!-- 0 -->\r\n<g id=\"node1\" class=\"node\"><title>0</title>\r\n<ellipse fill=\"none\" stroke=\"black\" cx=\"-62.0062\" cy=\"-31.0031\" rx=\"27\" ry=\"18\"/>\r\n<text text-anchor=\"middle\" x=\"-62.0062\" y=\"-27.3031\" font-family=\"Times New Roman,serif\" font-size=\"14.00\">0</text>\r\n</g>\r\n<!-- 3 -->\r\n<g id=\"node4\" class=\"node\"><title>3</title>\r\n<ellipse fill=\"none\" stroke=\"black\" cx=\"-62.0062\" cy=\"31.0031\" rx=\"27\" ry=\"18\"/>\r\n<text text-anchor=\"middle\" x=\"-62.0062\" y=\"34.7031\" font-family=\"Times New Roman,serif\" font-size=\"14.00\">3</text>\r\n</g>\r\n<!-- 0&#45;&gt;3 -->\r\n<g id=\"edge1\" class=\"edge\"><title>0&#45;&gt;3</title>\r\n<path fill=\"none\" stroke=\"black\" d=\"M-62.0062,-12.7346C-62.0062,-7.98337 -62.0062,-2.74924 -62.0062,2.39634\"/>\r\n<polygon fill=\"black\" stroke=\"black\" points=\"-58.5061,2.6509 -62.0062,12.6509 -65.5061,2.65084 -58.5061,2.6509\"/>\r\n</g>\r\n<!-- 1 -->\r\n<g id=\"node2\" class=\"node\"><title>1</title>\r\n<ellipse fill=\"none\" stroke=\"black\" cx=\"0\" cy=\"-31.0031\" rx=\"27\" ry=\"18\"/>\r\n<text text-anchor=\"middle\" x=\"0\" y=\"-27.3031\" font-family=\"Times New Roman,serif\" font-size=\"14.00\">1</text>\r\n</g>\r\n<!-- 1&#45;&gt;0 -->\r\n<g id=\"edge2\" class=\"edge\"><title>1&#45;&gt;0</title>\r\n<path fill=\"none\" stroke=\"black\" d=\"M-27.0164,-31.0031C-27.1796,-31.0031 -27.343,-31.0031 -27.5064,-31.0031\"/>\r\n<polygon fill=\"black\" stroke=\"black\" points=\"-24.8883,-27.5032 -34.8883,-31.0031 -24.8884,-34.5032 -24.8883,-27.5032\"/>\r\n</g>\r\n<!-- 4 -->\r\n<g id=\"node5\" class=\"node\"><title>4</title>\r\n<ellipse fill=\"none\" stroke=\"black\" cx=\"0\" cy=\"31.0031\" rx=\"27\" ry=\"18\"/>\r\n<text text-anchor=\"middle\" x=\"0\" y=\"34.7031\" font-family=\"Times New Roman,serif\" font-size=\"14.00\">4</text>\r\n</g>\r\n<!-- 1&#45;&gt;4 -->\r\n<g id=\"edge3\" class=\"edge\"><title>1&#45;&gt;4</title>\r\n<path fill=\"none\" stroke=\"black\" d=\"M0,-12.7346C0,-7.98337 0,-2.74924 0,2.39634\"/>\r\n<polygon fill=\"black\" stroke=\"black\" points=\"3.5001,2.6509 0,12.6509 -3.4999,2.65084 3.5001,2.6509\"/>\r\n</g>\r\n<!-- 2 -->\r\n<g id=\"node3\" class=\"node\"><title>2</title>\r\n<ellipse fill=\"none\" stroke=\"black\" cx=\"62.0062\" cy=\"-31.0031\" rx=\"27\" ry=\"18\"/>\r\n<text text-anchor=\"middle\" x=\"62.0062\" y=\"-27.3031\" font-family=\"Times New Roman,serif\" font-size=\"14.00\">2</text>\r\n</g>\r\n<!-- 2&#45;&gt;1 -->\r\n<g id=\"edge4\" class=\"edge\"><title>2&#45;&gt;1</title>\r\n<path fill=\"none\" stroke=\"black\" d=\"M34.9898,-31.0031C34.8266,-31.0031 34.6632,-31.0031 34.4998,-31.0031\"/>\r\n<polygon fill=\"black\" stroke=\"black\" points=\"37.1179,-27.5032 27.1179,-31.0031 37.1178,-34.5032 37.1179,-27.5032\"/>\r\n</g>\r\n<!-- 2&#45;&gt;4 -->\r\n<g id=\"edge5\" class=\"edge\"><title>2&#45;&gt;4</title>\r\n<path fill=\"none\" stroke=\"black\" d=\"M46.9962,-15.9931C39.642,-8.63888 30.6344,0.36872 22.4798,8.52335\"/>\r\n<polygon fill=\"black\" stroke=\"black\" points=\"24.8485,11.1044 15.3025,15.7006 19.8987,6.15461 24.8485,11.1044\"/>\r\n</g>\r\n<!-- 3&#45;&gt;1 -->\r\n<g id=\"edge6\" class=\"edge\"><title>3&#45;&gt;1</title>\r\n<path fill=\"none\" stroke=\"black\" d=\"M-46.9962,15.9931C-39.642,8.63888 -30.6344,-0.36872 -22.4798,-8.52335\"/>\r\n<polygon fill=\"black\" stroke=\"black\" points=\"-24.8485,-11.1044 -15.3025,-15.7006 -19.8987,-6.15461 -24.8485,-11.1044\"/>\r\n</g>\r\n<!-- 4&#45;&gt;3 -->\r\n<g id=\"edge7\" class=\"edge\"><title>4&#45;&gt;3</title>\r\n<path fill=\"none\" stroke=\"black\" d=\"M-27.0164,31.0031C-27.1796,31.0031 -27.343,31.0031 -27.5064,31.0031\"/>\r\n<polygon fill=\"black\" stroke=\"black\" points=\"-24.8883,34.503 -34.8883,31.0031 -24.8884,27.503 -24.8883,34.503\"/>\r\n</g>\r\n<!-- 5 -->\r\n<g id=\"node6\" class=\"node\"><title>5</title>\r\n<ellipse fill=\"none\" stroke=\"black\" cx=\"62.0062\" cy=\"31.0031\" rx=\"27\" ry=\"18\"/>\r\n<text text-anchor=\"middle\" x=\"62.0062\" y=\"34.7031\" font-family=\"Times New Roman,serif\" font-size=\"14.00\">5</text>\r\n</g>\r\n<!-- 5&#45;&gt;2 -->\r\n<g id=\"edge9\" class=\"edge\"><title>5&#45;&gt;2</title>\r\n<path fill=\"none\" stroke=\"black\" d=\"M62.0062,12.7346C62.0062,7.98337 62.0062,2.74924 62.0062,-2.39634\"/>\r\n<polygon fill=\"black\" stroke=\"black\" points=\"58.5063,-2.65084 62.0062,-12.6509 65.5063,-2.6509 58.5063,-2.65084\"/>\r\n</g>\r\n<!-- 5&#45;&gt;4 -->\r\n<g id=\"edge8\" class=\"edge\"><title>5&#45;&gt;4</title>\r\n<path fill=\"none\" stroke=\"black\" d=\"M34.9898,31.0031C34.8266,31.0031 34.6632,31.0031 34.4998,31.0031\"/>\r\n<polygon fill=\"black\" stroke=\"black\" points=\"37.1179,34.503 27.1179,31.0031 37.1178,27.503 37.1179,34.503\"/>\r\n</g>\r\n</g>\r\n</svg>\r\n",
            "text/plain": [
              "<graphviz.dot.Digraph at 0x21a34484488>"
            ]
          },
          "metadata": {},
          "execution_count": 7
        }
      ],
      "metadata": {
        "id": "-QMSlFZSZurK"
      }
    },
    {
      "cell_type": "markdown",
      "source": [
        "## Depth-first search\n",
        "\n",
        "Let's implement the DFS search. We will provide the code for you. Later on, you will extend it to implement other algorithms. We will use a colouring scheme for nodes. \n",
        "\n",
        "Initially, all nodes are \"white\" indicating they are not processed yet. When we first visit a node, we recolour it as \"grey\". Finally, the node becomes \"black\" when we have processed all its outgoing edges, and we are ready to backtrack to the previous node."
      ],
      "metadata": {
        "id": "LuJCn2I6ZurK"
      }
    },
    {
      "cell_type": "code",
      "execution_count": 8,
      "source": [
        "class Graph(Graph):\n",
        "    def _dfs_r(self, v): # This is the main DFS recursive function\n",
        "        \"\"\"\n",
        "        argument \n",
        "        `v`, next vertex to be visited\n",
        "        `colour`, dictionary with the colour of each node\n",
        "        \"\"\"\n",
        "        print('Visiting: ', v)\n",
        "        self.colour[v] = 'grey' # Visited vertices are coloured 'grey'\n",
        "        for w in self.adj_list[v]: # Let's visit all outgoing edges from v\n",
        "            if self.colour[w] == 'white': # To avoid loops, we check if the next vertex hasn't been visited yet\n",
        "                self._dfs_r(w)\n",
        "        self.colour[v] = 'black' # When we finish the for loop, we know we have visited all nodes from v. It is time to turn it 'black'\n",
        "\n",
        "    def dfs(self, start): # This is an auxiliary DFS function to create and initialize the colour dictionary\n",
        "        \"\"\"\n",
        "        argument \n",
        "        `start`, starting vertex\n",
        "        \"\"\"    \n",
        "        self.colour = {node: 'white' for node in self.adj_list.keys()} # Create a dictionary with keys as node numbers and values equal to 'white'\n",
        "        self._dfs_r(start)\n",
        "        return self.colour # We can return colour dictionary. It is useful for some operations, such as detecting connected components"
      ],
      "outputs": [],
      "metadata": {
        "id": "HfoWEElyZurK"
      }
    },
    {
      "cell_type": "markdown",
      "source": [
        "We can now test your graph representation. If you represented the graph correctly, a DFS starting at node 0 should visit all vertices but nodes 2 and 5. Notice, there is no path between node 0 and nodes 2 and 5."
      ],
      "metadata": {
        "id": "JPAWslfTZurL"
      }
    },
    {
      "cell_type": "code",
      "execution_count": 9,
      "source": [
        "G = Graph(graph)\n",
        "G.dfs(0)"
      ],
      "outputs": [
        {
          "output_type": "stream",
          "name": "stdout",
          "text": [
            "Visiting:  0\n",
            "Visiting:  3\n",
            "Visiting:  1\n",
            "Visiting:  4\n"
          ]
        },
        {
          "output_type": "execute_result",
          "data": {
            "text/plain": [
              "{0: 'black', 1: 'black', 2: 'white', 3: 'black', 4: 'black', 5: 'white'}"
            ]
          },
          "metadata": {},
          "execution_count": 9
        }
      ],
      "metadata": {
        "id": "nUuCe_3PZurL"
      }
    },
    {
      "cell_type": "markdown",
      "source": [
        "A modification of the algorithm can make sure it searches all nodes, even if they are disconnected from other nodes. The idea is to re-start the recursive DFS search for each white node until all nodes become black."
      ],
      "metadata": {
        "id": "RxxesGX4ZurL"
      }
    },
    {
      "cell_type": "code",
      "execution_count": 10,
      "source": [
        "class Graph(Graph):\n",
        "    def dfs_all(self): # This is an auxiliary DFS function to create and initialize the colour dictionary\n",
        "        \"\"\"\n",
        "        argument \n",
        "        `start`, starting vertex\n",
        "        \"\"\"    \n",
        "        self.colour = {node: 'white' for node in self.adj_list.keys()} # Create a dictionary with keys as node numbers and values equal to 'white'\n",
        "        for start in self.colour.keys():\n",
        "            if self.colour[start] == 'white':\n",
        "                self._dfs_r(start)"
      ],
      "outputs": [],
      "metadata": {
        "id": "QWrwo1IMZurL"
      }
    },
    {
      "cell_type": "code",
      "execution_count": 11,
      "source": [
        "G = Graph(graph)\n",
        "G.dfs_all()"
      ],
      "outputs": [
        {
          "output_type": "stream",
          "name": "stdout",
          "text": [
            "Visiting:  0\n",
            "Visiting:  3\n",
            "Visiting:  1\n",
            "Visiting:  4\n",
            "Visiting:  2\n",
            "Visiting:  5\n"
          ]
        }
      ],
      "metadata": {
        "id": "muZii9j9ZurM"
      }
    },
    {
      "cell_type": "markdown",
      "source": [
        "## Finding Cycles in Directed Graphs\n",
        "\n",
        "Our second task is to determine if a graph has cycles. During a DFS, a cycle can be found by testing if we have reached a grey node. Usually, we stop when we first observe a cycle. Therefore, we need to modify the DFS procedure to return a boolean.\n",
        "\n",
        "### Exercise\n",
        "\n",
        "Now, it is your turn, modify the code bellow to detect cycles in directed graphs."
      ],
      "metadata": {
        "id": "1Qj7BqaVZurM"
      }
    },
    {
      "cell_type": "code",
      "execution_count": 12,
      "source": [
        "class Graph(Graph):\n",
        "    # This is the main recursive function\n",
        "    def _find_cycle_r(self, v):\n",
        "        \"\"\"\n",
        "        argument \n",
        "        `v`, next vertex to be visited\n",
        "        \"\"\"      \n",
        "        print('Visiting: ', v)\n",
        "        \n",
        "        # insert your code here\n",
        "        # print a debug message such as\n",
        "        # print(v, w, 'Cycle detected')\n",
        "        # when you detect a cycle. \n",
        "\n",
        "        return False\n",
        "\n",
        "    # This is an auxiliary function to create and initialize the colour dictionary    \n",
        "    def find_cycle(self):\n",
        "        \"\"\"\n",
        "        argument \n",
        "        `v`, starting vertex\n",
        "        \"\"\"        \n",
        "        self.colour = dict([(node, 'white') for node in self.adj_list.keys()])\n",
        "        for start in self.colour.keys():\n",
        "            if self.colour[start] == 'white':\n",
        "                if self._find_cycle_r(start):\n",
        "                    return True\n",
        "                else:\n",
        "                    return self._find_cycle_r(start)\n",
        "\n",
        "#######################################\n",
        "# Test code\n",
        "#######################################\n",
        "test_graph1 = {\n",
        "    0: [1],\n",
        "    1: [2],\n",
        "    2: [3],\n",
        "    3: [4],\n",
        "    4: [5],\n",
        "    5: [0],\n",
        "}\n",
        "\n",
        "test_graph2 = {\n",
        "    0: [1,4],\n",
        "    1: [2],\n",
        "    2: [4],\n",
        "    3: [],\n",
        "    4: [5],\n",
        "    5: [3],\n",
        "}\n",
        "\n",
        "print ('Test graph 1')\n",
        "G1 = Graph(test_graph1)\n",
        "G1.find_cycle()\n",
        "print ('Test graph 2')\n",
        "G2 = Graph(test_graph2)\n",
        "G2.find_cycle()"
      ],
      "outputs": [
        {
          "output_type": "stream",
          "name": "stdout",
          "text": [
            "Test graph 1\n",
            "Visiting:  0\n",
            "Visiting:  0\n",
            "Test graph 2\n",
            "Visiting:  0\n",
            "Visiting:  0\n"
          ]
        },
        {
          "output_type": "execute_result",
          "data": {
            "text/plain": [
              "False"
            ]
          },
          "metadata": {},
          "execution_count": 12
        }
      ],
      "metadata": {
        "id": "e_VWk5lIZurM"
      }
    },
    {
      "cell_type": "code",
      "execution_count": 13,
      "source": [
        "#Answer\n",
        "\n",
        "class Graph(Graph):\n",
        "    # This is the main recursive function\n",
        "    def _find_cycle_r(self, v):\n",
        "        \"\"\"\n",
        "        argument \n",
        "        `v`, next vertex to be visited\n",
        "        \"\"\"      \n",
        "        print('Visiting: ', v)\n",
        "        self.colour[v] = 'grey'\n",
        "        for w in self.adj_list[v]:\n",
        "            if self.colour[w] == 'white':\n",
        "                if self._find_cycle_r(w):\n",
        "                    return True\n",
        "            else:\n",
        "                if self.colour[w] == 'grey':\n",
        "                    print(v, w, 'Cycle detected')\n",
        "                    return True\n",
        "        self.colour[v] = 'black'\n",
        "        return False\n",
        "\n",
        "    # This is an auxiliary function to create and initialize the colour dictionary    \n",
        "    def find_cycle(self):\n",
        "        \"\"\"\n",
        "        argument \n",
        "        `v`, starting vertex\n",
        "        \"\"\"        \n",
        "        self.colour = dict([(node, 'white') for node in self.adj_list.keys()])\n",
        "        for start in self.colour.keys():\n",
        "            if self.colour[start] == 'white':\n",
        "                if self._find_cycle_r(start):\n",
        "                    return True\n",
        "                else:\n",
        "                    return self._find_cycle_r(start)\n",
        "\n",
        "#######################################\n",
        "# Test code\n",
        "#######################################\n",
        "test_graph1 = {\n",
        "    0: [1],\n",
        "    1: [2],\n",
        "    2: [3],\n",
        "    3: [4],\n",
        "    4: [5],\n",
        "    5: [0],\n",
        "}\n",
        "\n",
        "test_graph2 = {\n",
        "    0: [1,4],\n",
        "    1: [2],\n",
        "    2: [4],\n",
        "    3: [],\n",
        "    4: [5],\n",
        "    5: [3],\n",
        "}\n",
        "\n",
        "print ('Test graph 1')\n",
        "G1 = Graph(test_graph1)\n",
        "G1.find_cycle()\n",
        "print ('Test graph 2')\n",
        "G2 = Graph(test_graph2)\n",
        "G2.find_cycle()"
      ],
      "outputs": [
        {
          "output_type": "stream",
          "name": "stdout",
          "text": [
            "Test graph 1\n",
            "Visiting:  0\n",
            "Visiting:  1\n",
            "Visiting:  2\n",
            "Visiting:  3\n",
            "Visiting:  4\n",
            "Visiting:  5\n",
            "5 0 Cycle detected\n",
            "Test graph 2\n",
            "Visiting:  0\n",
            "Visiting:  1\n",
            "Visiting:  2\n",
            "Visiting:  4\n",
            "Visiting:  5\n",
            "Visiting:  3\n",
            "Visiting:  0\n"
          ]
        },
        {
          "output_type": "execute_result",
          "data": {
            "text/plain": [
              "False"
            ]
          },
          "metadata": {},
          "execution_count": 13
        }
      ],
      "metadata": {
        "id": "HrcDMDYBZurM"
      }
    },
    {
      "cell_type": "markdown",
      "source": [
        "If your implementation is correct and you included a message when the cycle is detected, then you should see the following output:\n",
        "\n",
        "```\n",
        "Test graph 1\n",
        "Visiting:  0\n",
        "Visiting:  1\n",
        "Visiting:  2\n",
        "Visiting:  3\n",
        "Visiting:  4\n",
        "Visiting:  5\n",
        "5 0 Cycle detected\n",
        "Test graph 2\n",
        "Visiting:  0\n",
        "Visiting:  1\n",
        "Visiting:  2\n",
        "Visiting:  4\n",
        "Visiting:  5\n",
        "Visiting:  3\n",
        "Visiting:  0\n",
        "False\n",
        "```"
      ],
      "metadata": {
        "id": "YzrXbAfOZurN"
      }
    },
    {
      "cell_type": "markdown",
      "source": [
        "We can now test your implementation in the exercise graph."
      ],
      "metadata": {
        "id": "V6E0cLkYZurN"
      }
    },
    {
      "cell_type": "code",
      "execution_count": 14,
      "source": [
        "G = Graph(graph)\n",
        "G.find_cycle()"
      ],
      "outputs": [
        {
          "output_type": "stream",
          "name": "stdout",
          "text": [
            "Visiting:  0\n",
            "Visiting:  3\n",
            "Visiting:  1\n",
            "1 0 Cycle detected\n"
          ]
        },
        {
          "output_type": "execute_result",
          "data": {
            "text/plain": [
              "True"
            ]
          },
          "metadata": {},
          "execution_count": 14
        }
      ],
      "metadata": {
        "id": "G_kUDkkcZurN"
      }
    },
    {
      "cell_type": "markdown",
      "source": [
        "It should show one of the following cycles: 0-3-1 or 1-4-2, depending on the order you entered the node numbers in the adjacency list."
      ],
      "metadata": {
        "id": "oKsyWlIjZurN"
      }
    },
    {
      "cell_type": "markdown",
      "source": [
        "# Topological Sort\n",
        "\n",
        "The topological sort can be obtained by merely inserting the nodes into a stack when they become black. We use the stack to reverse the order of the nodes when printing the result. By doing so, the edges are directed from left to right.\n",
        "\n",
        "## Exercise\n",
        "\n",
        "Let's implement the topological sort. It is an almost trivial modification of your DFS procedure. We have started the code for you creating a stack to store the sorted nodes."
      ],
      "metadata": {
        "id": "l_Jjai9aZurO"
      }
    },
    {
      "cell_type": "code",
      "execution_count": 15,
      "source": [
        "class Graph(Graph):\n",
        "    # This is the recursive function that visits the nodes according to depth-first search and appends the black nodes \n",
        "    # to the end of a `stack` list.\n",
        "    def _topological_sort_r(self, v):\n",
        "        \"\"\"\n",
        "        argument \n",
        "        `v`, current vertex\n",
        "        \"\"\"\n",
        "        \n",
        "        # TODO: Fill in this function\n",
        "        ...\n",
        "        \n",
        "        \n",
        "    # This is main function that prepares for the recursive function. It first colours all nodes as 'white' and call the\n",
        "    # recursive function for an arbitrary node. When the recursive function returns, if we have any remaining 'white'\n",
        "    # nodes, we call the recursive function again for these nodes.\n",
        "    def topological_sort(self):\n",
        "        \"\"\"\n",
        "        argument \n",
        "        `G`, an adjacency list representation of a graph\n",
        "        return a list with the topological order of the graph G\n",
        "        \"\"\"\n",
        "        # We start with an empty stack\n",
        "        self.stack = []\n",
        "        # Colour is dictionary that associates node keys to colours. The colours are 'white', 'grey' and 'black'.\n",
        "        self.colour = {node: 'white' for node in self.adj_list.keys()}\n",
        "        # We call the recursive function to visit a first node. When the function returns, if there are any white \n",
        "        # nodes remaining, we call the function again for these white nodes\n",
        "        for start in self.adj_list.keys():\n",
        "            # If the node is 'white' we call the recursive function to vists the nodes connected to it in DFS order\n",
        "            if self.colour[start] == 'white':\n",
        "                # This is a call to topologicalSort_r\n",
        "                self._topological_sort_r(start)\n",
        "        # We need to reverse the list, we use a little trick with list slice\n",
        "        return self.stack[::-1]\n",
        "\n",
        "\n",
        "#######################################\n",
        "# Test code\n",
        "#######################################\n",
        "        \n",
        "test_graph2 = {\n",
        "    0: [1,4],\n",
        "    1: [2],\n",
        "    2: [4],\n",
        "    3: [],\n",
        "    4: [5],\n",
        "    5: [3],    \n",
        "}\n",
        "\n",
        "G2 = Graph(test_graph2)\n",
        "print(\"Topological sort:\")\n",
        "print(G2.topological_sort())"
      ],
      "outputs": [
        {
          "output_type": "stream",
          "name": "stdout",
          "text": [
            "Topological sort:\n",
            "[]\n"
          ]
        }
      ],
      "metadata": {
        "id": "9znHOW-MZurO"
      }
    },
    {
      "cell_type": "code",
      "execution_count": 16,
      "source": [
        "#Answer\n",
        "\n",
        "class Graph(Graph):\n",
        "    # This is the recursive function that visits the nodes according to depth-first search and appends the black nodes \n",
        "    # to the end of a `stack` list.\n",
        "    def _topological_sort_r(self, v):\n",
        "        \"\"\"\n",
        "        argument \n",
        "        `v`, current vertex\n",
        "        \"\"\"\n",
        "        # Nodes are colored 'white', 'grey' and 'black'. When we first visit a node, we color ir as `grey`.\n",
        "        self.colour[v] = 'grey'                                                                    # 1 line\n",
        "        # Let's look at all nodes that are adjacent to node v\n",
        "        for w in self.adj_list[v]:\n",
        "            # If the node color is 'white', it was never visited, so we call this function recursivelly to visit node w\n",
        "            if self.colour[w] == 'white':\n",
        "                # This is the recursive call to topologicalSort_r\n",
        "                self._topological_sort_r(w)                                        # 1 line\n",
        "        # All adjacent nodes have been visited recursively. Now it is time to color the node as 'black'        \n",
        "        self.colour[v] = 'black'\n",
        "        # Black nodes are appended to the `stack` list.\n",
        "        self.stack.append(v)\n",
        "\n",
        "    # This is main function that prepares for the recursive function. It first colours all nodes as 'white' and call the\n",
        "    # recursive function for an arbitrary node. When the recursive function returns, if we have any remaining 'white'\n",
        "    # nodes, we call the recursive function again for these nodes.\n",
        "    def topological_sort(self):\n",
        "        \"\"\"\n",
        "        argument \n",
        "        `G`, an adjacency list representation of a graph\n",
        "        return a list with the topological order of the graph G\n",
        "        \"\"\"\n",
        "        # We start with an empty stack\n",
        "        self.stack = []\n",
        "        # Colour is dictionary that associates node keys to colours. The colours are 'white', 'grey' and 'black'.\n",
        "        self.colour = {node: 'white' for node in self.adj_list.keys()}\n",
        "        # We call the recursive function to visit a first node. When the function returns, if there are any white \n",
        "        # nodes remaining, we call the function again for these white nodes\n",
        "        for start in self.adj_list.keys():\n",
        "            # If the node is 'white' we call the recursive function to vists the nodes connected to it in DFS order\n",
        "            if self.colour[start] == 'white':\n",
        "                # This is a call to topologicalSort_r\n",
        "                self._topological_sort_r(start)\n",
        "        # We need to reverse the list, we use a little trick with list slice\n",
        "        return self.stack[::-1]\n",
        "\n",
        "\n",
        "#######################################\n",
        "# Test code\n",
        "#######################################\n",
        "        \n",
        "test_graph2 = {\n",
        "    0: [1,4],\n",
        "    1: [2],\n",
        "    2: [4],\n",
        "    3: [],\n",
        "    4: [5],\n",
        "    5: [3],    \n",
        "}\n",
        "\n",
        "G2 = Graph(test_graph2)\n",
        "print(\"Topological sort:\")\n",
        "print(G2.topological_sort())"
      ],
      "outputs": [
        {
          "output_type": "stream",
          "name": "stdout",
          "text": [
            "Topological sort:\n",
            "[0, 1, 2, 4, 5, 3]\n"
          ]
        }
      ],
      "metadata": {
        "id": "8v5_ROJAZurO"
      }
    },
    {
      "cell_type": "markdown",
      "source": [
        "If your implementation is correct, then you should see the following output:\n",
        "\n",
        "```\n",
        "Topological sort: \n",
        "[0, 1, 2, 4, 5, 3]\n",
        "```"
      ],
      "metadata": {
        "id": "BSBalV4iZurO"
      }
    },
    {
      "cell_type": "markdown",
      "source": [
        "Now, let's execute your code. First, we need a new DAG, since our example has cycles and the topological ordering only makes sense for acyclic graphs."
      ],
      "metadata": {
        "id": "WWsxPUGXZurP"
      }
    },
    {
      "cell_type": "code",
      "execution_count": 17,
      "source": [
        "graph = {\n",
        "    0: [1, 4],\n",
        "    1: [2, 4],\n",
        "    2: [5],\n",
        "    3: [0, 4],\n",
        "    4: [5],\n",
        "    5: [],\n",
        "}\n",
        "\n",
        "G = Graph(graph)\n",
        "G.topological_sort()"
      ],
      "outputs": [
        {
          "output_type": "execute_result",
          "data": {
            "text/plain": [
              "[3, 0, 1, 4, 2, 5]"
            ]
          },
          "metadata": {},
          "execution_count": 17
        }
      ],
      "metadata": {
        "id": "3YT-hllKZurP"
      }
    },
    {
      "cell_type": "markdown",
      "source": [
        "Let's visualise the test graph again, just to remember its topology."
      ],
      "metadata": {
        "id": "r2aLR3fAZurP"
      }
    },
    {
      "cell_type": "code",
      "execution_count": 18,
      "source": [
        "G.show(positions=pos)"
      ],
      "outputs": [
        {
          "output_type": "execute_result",
          "data": {
            "image/svg+xml": "<?xml version=\"1.0\" encoding=\"UTF-8\" standalone=\"no\"?>\r\n<!DOCTYPE svg PUBLIC \"-//W3C//DTD SVG 1.1//EN\"\r\n \"http://www.w3.org/Graphics/SVG/1.1/DTD/svg11.dtd\">\r\n<!-- Generated by graphviz version 2.38.0 (20140413.2041)\r\n -->\r\n<!-- Title: %3 Pages: 1 -->\r\n<svg width=\"186pt\" height=\"106pt\"\r\n viewBox=\"0.00 0.00 186.01 106.01\" xmlns=\"http://www.w3.org/2000/svg\" xmlns:xlink=\"http://www.w3.org/1999/xlink\">\r\n<g id=\"graph0\" class=\"graph\" transform=\"scale(1 1) rotate(0) translate(93.0062 53.0031)\">\r\n<title>%3</title>\r\n<polygon fill=\"white\" stroke=\"none\" points=\"-93.0062,53.0031 -93.0062,-53.0031 93.0062,-53.0031 93.0062,53.0031 -93.0062,53.0031\"/>\r\n<!-- 0 -->\r\n<g id=\"node1\" class=\"node\"><title>0</title>\r\n<ellipse fill=\"none\" stroke=\"black\" cx=\"-62.0062\" cy=\"-31.0031\" rx=\"27\" ry=\"18\"/>\r\n<text text-anchor=\"middle\" x=\"-62.0062\" y=\"-27.3031\" font-family=\"Times New Roman,serif\" font-size=\"14.00\">0</text>\r\n</g>\r\n<!-- 1 -->\r\n<g id=\"node2\" class=\"node\"><title>1</title>\r\n<ellipse fill=\"none\" stroke=\"black\" cx=\"0\" cy=\"-31.0031\" rx=\"27\" ry=\"18\"/>\r\n<text text-anchor=\"middle\" x=\"0\" y=\"-27.3031\" font-family=\"Times New Roman,serif\" font-size=\"14.00\">1</text>\r\n</g>\r\n<!-- 0&#45;&gt;1 -->\r\n<g id=\"edge1\" class=\"edge\"><title>0&#45;&gt;1</title>\r\n<path fill=\"none\" stroke=\"black\" d=\"M-34.9898,-31.0031C-34.8266,-31.0031 -34.6632,-31.0031 -34.4998,-31.0031\"/>\r\n<polygon fill=\"black\" stroke=\"black\" points=\"-37.1178,-34.5032 -27.1179,-31.0031 -37.1179,-27.5032 -37.1178,-34.5032\"/>\r\n</g>\r\n<!-- 4 -->\r\n<g id=\"node5\" class=\"node\"><title>4</title>\r\n<ellipse fill=\"none\" stroke=\"black\" cx=\"0\" cy=\"31.0031\" rx=\"27\" ry=\"18\"/>\r\n<text text-anchor=\"middle\" x=\"0\" y=\"34.7031\" font-family=\"Times New Roman,serif\" font-size=\"14.00\">4</text>\r\n</g>\r\n<!-- 0&#45;&gt;4 -->\r\n<g id=\"edge2\" class=\"edge\"><title>0&#45;&gt;4</title>\r\n<path fill=\"none\" stroke=\"black\" d=\"M-46.9962,-15.9931C-39.642,-8.63888 -30.6344,0.36872 -22.4798,8.52335\"/>\r\n<polygon fill=\"black\" stroke=\"black\" points=\"-19.8987,6.15461 -15.3025,15.7006 -24.8485,11.1044 -19.8987,6.15461\"/>\r\n</g>\r\n<!-- 2 -->\r\n<g id=\"node3\" class=\"node\"><title>2</title>\r\n<ellipse fill=\"none\" stroke=\"black\" cx=\"62.0062\" cy=\"-31.0031\" rx=\"27\" ry=\"18\"/>\r\n<text text-anchor=\"middle\" x=\"62.0062\" y=\"-27.3031\" font-family=\"Times New Roman,serif\" font-size=\"14.00\">2</text>\r\n</g>\r\n<!-- 1&#45;&gt;2 -->\r\n<g id=\"edge3\" class=\"edge\"><title>1&#45;&gt;2</title>\r\n<path fill=\"none\" stroke=\"black\" d=\"M27.0164,-31.0031C27.1796,-31.0031 27.343,-31.0031 27.5064,-31.0031\"/>\r\n<polygon fill=\"black\" stroke=\"black\" points=\"24.8884,-34.5032 34.8883,-31.0031 24.8883,-27.5032 24.8884,-34.5032\"/>\r\n</g>\r\n<!-- 1&#45;&gt;4 -->\r\n<g id=\"edge4\" class=\"edge\"><title>1&#45;&gt;4</title>\r\n<path fill=\"none\" stroke=\"black\" d=\"M0,-12.7346C0,-7.98337 0,-2.74924 0,2.39634\"/>\r\n<polygon fill=\"black\" stroke=\"black\" points=\"3.5001,2.6509 0,12.6509 -3.4999,2.65084 3.5001,2.6509\"/>\r\n</g>\r\n<!-- 5 -->\r\n<g id=\"node6\" class=\"node\"><title>5</title>\r\n<ellipse fill=\"none\" stroke=\"black\" cx=\"62.0062\" cy=\"31.0031\" rx=\"27\" ry=\"18\"/>\r\n<text text-anchor=\"middle\" x=\"62.0062\" y=\"34.7031\" font-family=\"Times New Roman,serif\" font-size=\"14.00\">5</text>\r\n</g>\r\n<!-- 2&#45;&gt;5 -->\r\n<g id=\"edge5\" class=\"edge\"><title>2&#45;&gt;5</title>\r\n<path fill=\"none\" stroke=\"black\" d=\"M62.0062,-12.7346C62.0062,-7.98337 62.0062,-2.74924 62.0062,2.39634\"/>\r\n<polygon fill=\"black\" stroke=\"black\" points=\"65.5063,2.6509 62.0062,12.6509 58.5063,2.65084 65.5063,2.6509\"/>\r\n</g>\r\n<!-- 3 -->\r\n<g id=\"node4\" class=\"node\"><title>3</title>\r\n<ellipse fill=\"none\" stroke=\"black\" cx=\"-62.0062\" cy=\"31.0031\" rx=\"27\" ry=\"18\"/>\r\n<text text-anchor=\"middle\" x=\"-62.0062\" y=\"34.7031\" font-family=\"Times New Roman,serif\" font-size=\"14.00\">3</text>\r\n</g>\r\n<!-- 3&#45;&gt;0 -->\r\n<g id=\"edge6\" class=\"edge\"><title>3&#45;&gt;0</title>\r\n<path fill=\"none\" stroke=\"black\" d=\"M-62.0062,12.7346C-62.0062,7.98337 -62.0062,2.74924 -62.0062,-2.39634\"/>\r\n<polygon fill=\"black\" stroke=\"black\" points=\"-65.5061,-2.65084 -62.0062,-12.6509 -58.5061,-2.6509 -65.5061,-2.65084\"/>\r\n</g>\r\n<!-- 3&#45;&gt;4 -->\r\n<g id=\"edge7\" class=\"edge\"><title>3&#45;&gt;4</title>\r\n<path fill=\"none\" stroke=\"black\" d=\"M-34.9898,31.0031C-34.8266,31.0031 -34.6632,31.0031 -34.4998,31.0031\"/>\r\n<polygon fill=\"black\" stroke=\"black\" points=\"-37.1178,27.503 -27.1179,31.0031 -37.1179,34.503 -37.1178,27.503\"/>\r\n</g>\r\n<!-- 4&#45;&gt;5 -->\r\n<g id=\"edge8\" class=\"edge\"><title>4&#45;&gt;5</title>\r\n<path fill=\"none\" stroke=\"black\" d=\"M27.0164,31.0031C27.1796,31.0031 27.343,31.0031 27.5064,31.0031\"/>\r\n<polygon fill=\"black\" stroke=\"black\" points=\"24.8884,27.503 34.8883,31.0031 24.8883,34.503 24.8884,27.503\"/>\r\n</g>\r\n</g>\r\n</svg>\r\n",
            "text/plain": [
              "<graphviz.dot.Digraph at 0x21a35a7c808>"
            ]
          },
          "metadata": {},
          "execution_count": 18
        }
      ],
      "metadata": {
        "scrolled": false,
        "id": "6azTo3IDZurP"
      }
    },
    {
      "cell_type": "markdown",
      "source": [
        "We can use graphViz to visualize the topological sort output graphically to confirm our code is correct. "
      ],
      "metadata": {
        "id": "mwltnm4nZurP"
      }
    },
    {
      "cell_type": "code",
      "execution_count": 19,
      "source": [
        "# We use the neato engine since it allow to position the nodes\n",
        "dot = graphviz.Digraph(engine=\"neato\", comment='Topological sort')\n",
        "# This line will avoid the edges to cross over the nodes\n",
        "dot.attr(overlap=\"false\", splines=\"true\")\n",
        "\n",
        "s = G.topological_sort()\n",
        "\n",
        "# Create nodes in sequence positions determined by the stack s\n",
        "for i, v in enumerate(s, 1):\n",
        "    dot.node(str(v), pos=str(i)+',0!')\n",
        "\n",
        "# Create edges\n",
        "for v in s:\n",
        "    for w in graph[v]:\n",
        "        dot.edge(str(v), str(w))\n",
        "\n",
        "dot"
      ],
      "outputs": [
        {
          "output_type": "execute_result",
          "data": {
            "image/svg+xml": "<?xml version=\"1.0\" encoding=\"UTF-8\" standalone=\"no\"?>\r\n<!DOCTYPE svg PUBLIC \"-//W3C//DTD SVG 1.1//EN\"\r\n \"http://www.w3.org/Graphics/SVG/1.1/DTD/svg11.dtd\">\r\n<!-- Generated by graphviz version 2.38.0 (20140413.2041)\r\n -->\r\n<!-- Title: %3 Pages: 1 -->\r\n<svg width=\"372pt\" height=\"51pt\"\r\n viewBox=\"0.00 0.00 372.03 51.07\" xmlns=\"http://www.w3.org/2000/svg\" xmlns:xlink=\"http://www.w3.org/1999/xlink\">\r\n<g id=\"graph0\" class=\"graph\" transform=\"scale(1 1) rotate(0) translate(186.016 23.661)\">\r\n<title>%3</title>\r\n<polygon fill=\"white\" stroke=\"none\" points=\"-186.016,27.412 -186.016,-23.661 186.016,-23.661 186.016,27.412 -186.016,27.412\"/>\r\n<!-- 3 -->\r\n<g id=\"node1\" class=\"node\"><title>3</title>\r\n<ellipse fill=\"none\" stroke=\"black\" cx=\"-155.016\" cy=\"-0\" rx=\"27\" ry=\"18\"/>\r\n<text text-anchor=\"middle\" x=\"-155.016\" y=\"3.7\" font-family=\"Times New Roman,serif\" font-size=\"14.00\">3</text>\r\n</g>\r\n<!-- 0 -->\r\n<g id=\"node2\" class=\"node\"><title>0</title>\r\n<ellipse fill=\"none\" stroke=\"black\" cx=\"-93.0093\" cy=\"-0\" rx=\"27\" ry=\"18\"/>\r\n<text text-anchor=\"middle\" x=\"-93.0093\" y=\"3.7\" font-family=\"Times New Roman,serif\" font-size=\"14.00\">0</text>\r\n</g>\r\n<!-- 3&#45;&gt;0 -->\r\n<g id=\"edge1\" class=\"edge\"><title>3&#45;&gt;0</title>\r\n<path fill=\"none\" stroke=\"black\" d=\"M-127.999,-0C-127.836,-0 -127.673,-0 -127.509,-0\"/>\r\n<polygon fill=\"black\" stroke=\"black\" points=\"-130.127,-3.50014 -120.127,-0 -130.127,3.49986 -130.127,-3.50014\"/>\r\n</g>\r\n<!-- 4 -->\r\n<g id=\"node4\" class=\"node\"><title>4</title>\r\n<ellipse fill=\"none\" stroke=\"black\" cx=\"31.0031\" cy=\"-0\" rx=\"27\" ry=\"18\"/>\r\n<text text-anchor=\"middle\" x=\"31.0031\" y=\"3.7\" font-family=\"Times New Roman,serif\" font-size=\"14.00\">4</text>\r\n</g>\r\n<!-- 3&#45;&gt;4 -->\r\n<g id=\"edge2\" class=\"edge\"><title>3&#45;&gt;4</title>\r\n<path fill=\"none\" stroke=\"black\" d=\"M-130.71,8.30802C-124.959,10.2118 -118.836,12.1886 -113.118,13.9372 -104.173,16.6726 -102.115,18.3296 -92.8481,19.5997 -65.5917,23.3353 -58.1937,23.412 -30.9478,19.6 -21.2666,18.2454 -11.041,15.5621 -1.74901,12.6048\"/>\r\n<polygon fill=\"black\" stroke=\"black\" points=\"-2.69676,9.23053 7.89753,9.33813 -0.451522,15.8607 -2.69676,9.23053\"/>\r\n</g>\r\n<!-- 1 -->\r\n<g id=\"node3\" class=\"node\"><title>1</title>\r\n<ellipse fill=\"none\" stroke=\"black\" cx=\"-31.0031\" cy=\"-0\" rx=\"27\" ry=\"18\"/>\r\n<text text-anchor=\"middle\" x=\"-31.0031\" y=\"3.7\" font-family=\"Times New Roman,serif\" font-size=\"14.00\">1</text>\r\n</g>\r\n<!-- 0&#45;&gt;1 -->\r\n<g id=\"edge3\" class=\"edge\"><title>0&#45;&gt;1</title>\r\n<path fill=\"none\" stroke=\"black\" d=\"M-65.9929,-0C-65.8297,-0 -65.6663,-0 -65.5029,-0\"/>\r\n<polygon fill=\"black\" stroke=\"black\" points=\"-68.1209,-3.50014 -58.121,-0 -68.121,3.49986 -68.1209,-3.50014\"/>\r\n</g>\r\n<!-- 0&#45;&gt;4 -->\r\n<g id=\"edge4\" class=\"edge\"><title>0&#45;&gt;4</title>\r\n<path fill=\"none\" stroke=\"black\" d=\"M-70.8831,-10.5867C-59.2947,-15.2006 -44.7082,-19.5804 -31.0584,-19.6 -20.9113,-19.6145 -10.246,-17.2069 -0.67493,-14.0747\"/>\r\n<polygon fill=\"black\" stroke=\"black\" points=\"0.631775,-17.3239 8.83553,-10.6195 -1.75857,-10.7446 0.631775,-17.3239\"/>\r\n</g>\r\n<!-- 1&#45;&gt;4 -->\r\n<g id=\"edge6\" class=\"edge\"><title>1&#45;&gt;4</title>\r\n<path fill=\"none\" stroke=\"black\" d=\"M-3.98665,-0C-3.82348,-0 -3.66015,-0 -3.49669,-0\"/>\r\n<polygon fill=\"black\" stroke=\"black\" points=\"-6.11475,-3.50014 3.88521,-0 -6.11484,3.49986 -6.11475,-3.50014\"/>\r\n</g>\r\n<!-- 2 -->\r\n<g id=\"node5\" class=\"node\"><title>2</title>\r\n<ellipse fill=\"none\" stroke=\"black\" cx=\"93.0093\" cy=\"-0\" rx=\"27\" ry=\"18\"/>\r\n<text text-anchor=\"middle\" x=\"93.0093\" y=\"3.7\" font-family=\"Times New Roman,serif\" font-size=\"14.00\">2</text>\r\n</g>\r\n<!-- 1&#45;&gt;2 -->\r\n<g id=\"edge5\" class=\"edge\"><title>1&#45;&gt;2</title>\r\n<path fill=\"none\" stroke=\"black\" d=\"M-8.94246,-10.5345C2.61226,-15.1345 17.1575,-19.5175 30.7718,-19.5994 41.029,-19.661 51.8163,-17.2271 61.4756,-14.0553\"/>\r\n<polygon fill=\"black\" stroke=\"black\" points=\"62.8695,-17.2725 71.0638,-10.5565 60.4699,-10.6966 62.8695,-17.2725\"/>\r\n</g>\r\n<!-- 5 -->\r\n<g id=\"node6\" class=\"node\"><title>5</title>\r\n<ellipse fill=\"none\" stroke=\"black\" cx=\"155.016\" cy=\"-0\" rx=\"27\" ry=\"18\"/>\r\n<text text-anchor=\"middle\" x=\"155.016\" y=\"3.7\" font-family=\"Times New Roman,serif\" font-size=\"14.00\">5</text>\r\n</g>\r\n<!-- 4&#45;&gt;5 -->\r\n<g id=\"edge7\" class=\"edge\"><title>4&#45;&gt;5</title>\r\n<path fill=\"none\" stroke=\"black\" d=\"M53.0876,-10.5535C64.6545,-15.1585 79.2148,-19.5404 92.842,-19.5997 103.09,-19.6442 113.866,-17.2053 123.516,-14.0341\"/>\r\n<polygon fill=\"black\" stroke=\"black\" points=\"124.9,-17.2546 133.094,-10.5377 122.5,-10.679 124.9,-17.2546\"/>\r\n</g>\r\n<!-- 2&#45;&gt;5 -->\r\n<g id=\"edge8\" class=\"edge\"><title>2&#45;&gt;5</title>\r\n<path fill=\"none\" stroke=\"black\" d=\"M120.026,-0C120.189,-0 120.352,-0 120.516,-0\"/>\r\n<polygon fill=\"black\" stroke=\"black\" points=\"117.898,-3.50014 127.898,-0 117.898,3.49986 117.898,-3.50014\"/>\r\n</g>\r\n</g>\r\n</svg>\r\n",
            "text/plain": [
              "<graphviz.dot.Digraph at 0x21a363ceb48>"
            ]
          },
          "metadata": {},
          "execution_count": 19
        }
      ],
      "metadata": {
        "id": "J7L1P7gGZurP"
      }
    },
    {
      "cell_type": "markdown",
      "source": [
        "# Transpose Graph\n",
        "\n",
        "Transposition is an operation over a directed graph $G$ that results in another directed graph on the same set of vertices with all of the edges reversed. The following figure illustrates this process, with a graph $G$ on the left side and its transpose $G^T$ on the right side:\n",
        "\n",
        "![Transpose graph](img/Transpose_graph.png \"Transpose Graph\")\n",
        "\n",
        "\n",
        "## Exercise\n",
        "\n",
        "Implement the transpose operation over our graph representation. Take a graph as input and produce its transpose as output."
      ],
      "metadata": {
        "id": "MOu4DcK5ZurP"
      }
    },
    {
      "cell_type": "code",
      "execution_count": 20,
      "source": [
        "class Graph(Graph):\n",
        "    def transpose(self):\n",
        "        \"\"\"\n",
        "        argument \n",
        "        `G`, an adjacency list representation of a graph\n",
        "        \"\"\"      \n",
        "        gt = dict((v, []) for v in self.adj_list)\n",
        "        # TODO\n",
        "        ...\n",
        "        return Graph(gt)"
      ],
      "outputs": [],
      "metadata": {
        "id": "bPZM6gk3ZurQ"
      }
    },
    {
      "cell_type": "code",
      "execution_count": 21,
      "source": [
        "# Answer\n",
        "\n",
        "class Graph(Graph):\n",
        "    def transpose(self):\n",
        "        \"\"\"\n",
        "        argument \n",
        "        `G`, an adjacency list representation of a graph\n",
        "        \"\"\"      \n",
        "        gt = dict((v, []) for v in self.adj_list)\n",
        "        for v in self.adj_list:\n",
        "            for w in self.adj_list[v]:\n",
        "                gt[w].append(v)\n",
        "        return Graph(gt)"
      ],
      "outputs": [],
      "metadata": {
        "id": "oyv6X4DyZurQ"
      }
    },
    {
      "cell_type": "markdown",
      "source": [
        "Let's write some code for testing. First, we define the same test graph as the figure above. We will call our transpose_graph routine and use the Graphviz library to plot the transposed graph. We have done the code for you below. You can compare the output with the figure above to check if your code is correct."
      ],
      "metadata": {
        "id": "2CTgAY4BZurR"
      }
    },
    {
      "cell_type": "code",
      "execution_count": 22,
      "source": [
        "#######################################\n",
        "# Test code\n",
        "#######################################\n",
        "\n",
        "test_graph = {\n",
        "    0: [3],\n",
        "    1: [0, 4],\n",
        "    2: [1, 4],\n",
        "    3: [1],\n",
        "    4: [3, 5],\n",
        "    5: [2],\n",
        "}\n",
        "\n",
        "pos = {\n",
        "    0: '0,1!',\n",
        "    1: '1,1!',\n",
        "    2: '2,1!',\n",
        "    3: '0,0!',\n",
        "    4: '1,0!',\n",
        "    5: '2,0!',\n",
        "}\n",
        "\n",
        "G = Graph(test_graph)\n",
        "GT = G.transpose()\n",
        "GT.show(positions=pos)"
      ],
      "outputs": [
        {
          "output_type": "execute_result",
          "data": {
            "image/svg+xml": "<?xml version=\"1.0\" encoding=\"UTF-8\" standalone=\"no\"?>\r\n<!DOCTYPE svg PUBLIC \"-//W3C//DTD SVG 1.1//EN\"\r\n \"http://www.w3.org/Graphics/SVG/1.1/DTD/svg11.dtd\">\r\n<!-- Generated by graphviz version 2.38.0 (20140413.2041)\r\n -->\r\n<!-- Title: %3 Pages: 1 -->\r\n<svg width=\"186pt\" height=\"106pt\"\r\n viewBox=\"0.00 0.00 186.01 106.01\" xmlns=\"http://www.w3.org/2000/svg\" xmlns:xlink=\"http://www.w3.org/1999/xlink\">\r\n<g id=\"graph0\" class=\"graph\" transform=\"scale(1 1) rotate(0) translate(93.0062 53.0031)\">\r\n<title>%3</title>\r\n<polygon fill=\"white\" stroke=\"none\" points=\"-93.0062,53.0031 -93.0062,-53.0031 93.0062,-53.0031 93.0062,53.0031 -93.0062,53.0031\"/>\r\n<!-- 0 -->\r\n<g id=\"node1\" class=\"node\"><title>0</title>\r\n<ellipse fill=\"none\" stroke=\"black\" cx=\"-62.0062\" cy=\"-31.0031\" rx=\"27\" ry=\"18\"/>\r\n<text text-anchor=\"middle\" x=\"-62.0062\" y=\"-27.3031\" font-family=\"Times New Roman,serif\" font-size=\"14.00\">0</text>\r\n</g>\r\n<!-- 1 -->\r\n<g id=\"node2\" class=\"node\"><title>1</title>\r\n<ellipse fill=\"none\" stroke=\"black\" cx=\"0\" cy=\"-31.0031\" rx=\"27\" ry=\"18\"/>\r\n<text text-anchor=\"middle\" x=\"0\" y=\"-27.3031\" font-family=\"Times New Roman,serif\" font-size=\"14.00\">1</text>\r\n</g>\r\n<!-- 0&#45;&gt;1 -->\r\n<g id=\"edge1\" class=\"edge\"><title>0&#45;&gt;1</title>\r\n<path fill=\"none\" stroke=\"black\" d=\"M-34.9898,-31.0031C-34.8266,-31.0031 -34.6632,-31.0031 -34.4998,-31.0031\"/>\r\n<polygon fill=\"black\" stroke=\"black\" points=\"-37.1178,-34.5032 -27.1179,-31.0031 -37.1179,-27.5032 -37.1178,-34.5032\"/>\r\n</g>\r\n<!-- 2 -->\r\n<g id=\"node3\" class=\"node\"><title>2</title>\r\n<ellipse fill=\"none\" stroke=\"black\" cx=\"62.0062\" cy=\"-31.0031\" rx=\"27\" ry=\"18\"/>\r\n<text text-anchor=\"middle\" x=\"62.0062\" y=\"-27.3031\" font-family=\"Times New Roman,serif\" font-size=\"14.00\">2</text>\r\n</g>\r\n<!-- 1&#45;&gt;2 -->\r\n<g id=\"edge2\" class=\"edge\"><title>1&#45;&gt;2</title>\r\n<path fill=\"none\" stroke=\"black\" d=\"M27.0164,-31.0031C27.1796,-31.0031 27.343,-31.0031 27.5064,-31.0031\"/>\r\n<polygon fill=\"black\" stroke=\"black\" points=\"24.8884,-34.5032 34.8883,-31.0031 24.8883,-27.5032 24.8884,-34.5032\"/>\r\n</g>\r\n<!-- 3 -->\r\n<g id=\"node4\" class=\"node\"><title>3</title>\r\n<ellipse fill=\"none\" stroke=\"black\" cx=\"-62.0062\" cy=\"31.0031\" rx=\"27\" ry=\"18\"/>\r\n<text text-anchor=\"middle\" x=\"-62.0062\" y=\"34.7031\" font-family=\"Times New Roman,serif\" font-size=\"14.00\">3</text>\r\n</g>\r\n<!-- 1&#45;&gt;3 -->\r\n<g id=\"edge3\" class=\"edge\"><title>1&#45;&gt;3</title>\r\n<path fill=\"none\" stroke=\"black\" d=\"M-15.01,-15.9931C-22.3642,-8.63888 -31.3718,0.36872 -39.5264,8.52335\"/>\r\n<polygon fill=\"black\" stroke=\"black\" points=\"-37.1577,11.1044 -46.7037,15.7006 -42.1075,6.15461 -37.1577,11.1044\"/>\r\n</g>\r\n<!-- 5 -->\r\n<g id=\"node6\" class=\"node\"><title>5</title>\r\n<ellipse fill=\"none\" stroke=\"black\" cx=\"62.0062\" cy=\"31.0031\" rx=\"27\" ry=\"18\"/>\r\n<text text-anchor=\"middle\" x=\"62.0062\" y=\"34.7031\" font-family=\"Times New Roman,serif\" font-size=\"14.00\">5</text>\r\n</g>\r\n<!-- 2&#45;&gt;5 -->\r\n<g id=\"edge4\" class=\"edge\"><title>2&#45;&gt;5</title>\r\n<path fill=\"none\" stroke=\"black\" d=\"M62.0062,-12.7346C62.0062,-7.98337 62.0062,-2.74924 62.0062,2.39634\"/>\r\n<polygon fill=\"black\" stroke=\"black\" points=\"65.5063,2.6509 62.0062,12.6509 58.5063,2.65084 65.5063,2.6509\"/>\r\n</g>\r\n<!-- 3&#45;&gt;0 -->\r\n<g id=\"edge5\" class=\"edge\"><title>3&#45;&gt;0</title>\r\n<path fill=\"none\" stroke=\"black\" d=\"M-62.0062,12.7346C-62.0062,7.98337 -62.0062,2.74924 -62.0062,-2.39634\"/>\r\n<polygon fill=\"black\" stroke=\"black\" points=\"-65.5061,-2.65084 -62.0062,-12.6509 -58.5061,-2.6509 -65.5061,-2.65084\"/>\r\n</g>\r\n<!-- 4 -->\r\n<g id=\"node5\" class=\"node\"><title>4</title>\r\n<ellipse fill=\"none\" stroke=\"black\" cx=\"0\" cy=\"31.0031\" rx=\"27\" ry=\"18\"/>\r\n<text text-anchor=\"middle\" x=\"0\" y=\"34.7031\" font-family=\"Times New Roman,serif\" font-size=\"14.00\">4</text>\r\n</g>\r\n<!-- 3&#45;&gt;4 -->\r\n<g id=\"edge6\" class=\"edge\"><title>3&#45;&gt;4</title>\r\n<path fill=\"none\" stroke=\"black\" d=\"M-34.9898,31.0031C-34.8266,31.0031 -34.6632,31.0031 -34.4998,31.0031\"/>\r\n<polygon fill=\"black\" stroke=\"black\" points=\"-37.1178,27.503 -27.1179,31.0031 -37.1179,34.503 -37.1178,27.503\"/>\r\n</g>\r\n<!-- 4&#45;&gt;1 -->\r\n<g id=\"edge7\" class=\"edge\"><title>4&#45;&gt;1</title>\r\n<path fill=\"none\" stroke=\"black\" d=\"M0,12.7346C0,7.98337 0,2.74924 0,-2.39634\"/>\r\n<polygon fill=\"black\" stroke=\"black\" points=\"-3.4999,-2.65084 0,-12.6509 3.5001,-2.6509 -3.4999,-2.65084\"/>\r\n</g>\r\n<!-- 4&#45;&gt;2 -->\r\n<g id=\"edge8\" class=\"edge\"><title>4&#45;&gt;2</title>\r\n<path fill=\"none\" stroke=\"black\" d=\"M15.01,15.9931C22.3642,8.63888 31.3718,-0.36872 39.5264,-8.52335\"/>\r\n<polygon fill=\"black\" stroke=\"black\" points=\"37.1577,-11.1044 46.7037,-15.7006 42.1075,-6.15461 37.1577,-11.1044\"/>\r\n</g>\r\n<!-- 5&#45;&gt;4 -->\r\n<g id=\"edge9\" class=\"edge\"><title>5&#45;&gt;4</title>\r\n<path fill=\"none\" stroke=\"black\" d=\"M34.9898,31.0031C34.8266,31.0031 34.6632,31.0031 34.4998,31.0031\"/>\r\n<polygon fill=\"black\" stroke=\"black\" points=\"37.1179,34.503 27.1179,31.0031 37.1178,27.503 37.1179,34.503\"/>\r\n</g>\r\n</g>\r\n</svg>\r\n",
            "text/plain": [
              "<graphviz.dot.Digraph at 0x21a363bbfc8>"
            ]
          },
          "metadata": {},
          "execution_count": 22
        }
      ],
      "metadata": {
        "id": "pAZcOWl7ZurR"
      }
    },
    {
      "cell_type": "markdown",
      "source": [
        "# Minimum Spanning Trees\n",
        "\n",
        "Minimum spanning tree (MST) is an operation on weighted undirected graphs. We receive a graph $G=(V,E)$ and we should return the spanning tree of $G$ that has a minimum cost.\n",
        "\n",
        "A spanning tree is a graph with the same set of vertices $V$ of $G$, but with potentially fewer edges. A spanning tree is a graph with no cycles. If $G$ has $n$ edges, its spanning tree must have $n-1$ edges.\n",
        "\n",
        "The minimum spanning tree is the spanning tree whose sum of edge weights is the smallest among all spanning trees.\n",
        "\n",
        "The next figure shows a weighted undirect graph is its corresponding MST.\n",
        "\n",
        "![MST](img/spanning_tree.png \"MST\")"
      ],
      "metadata": {
        "id": "BH7RA80uZurR"
      }
    },
    {
      "cell_type": "markdown",
      "source": [
        "Let's start by augmenting our graph representation to allow weighted edges, and adding methods to allow us to easily add nodes and edges to the graph. For later convenience, we will also add functions to remove nodes, iterate over all nodes, and get the children of a node. "
      ],
      "metadata": {
        "id": "q1mwJcYRZurR"
      }
    },
    {
      "cell_type": "code",
      "execution_count": 23,
      "source": [
        "class Graph(Graph):\n",
        "    def __init__(self, adj_list=None):\n",
        "        self.adj_list = dict()\n",
        "        if adj_list is not None:\n",
        "            self.adj_list = adj_list.copy() # dict with graph's adjacency list\n",
        "        self.colour = dict()\n",
        "        self.edge_weights = dict() # maps a tuple (node1, node2) to a number\n",
        "\n",
        "    def __len__(self):\n",
        "        '''\n",
        "        return the number of nodes in the graph\n",
        "        '''\n",
        "        return len(self.adj_list.keys())\n",
        "\n",
        "    def __iter__(self):\n",
        "        '''\n",
        "        Let a user iterate over the nodes of the graph, like:\n",
        "        for node in graph:\n",
        "            print(node)\n",
        "        '''\n",
        "        return iter(self.adj_list.keys())\n",
        "    \n",
        "    def children(self, node):\n",
        "        '''\n",
        "        Return a list of children of a node\n",
        "        '''\n",
        "        return self.adj_list[node]\n",
        "\n",
        "    def add_node(self, name):\n",
        "        '''\n",
        "        This method adds a node to the graph.\n",
        "        '''\n",
        "        if name not in self.adj_list:\n",
        "            self.adj_list[name] = []\n",
        "\n",
        "    def remove_node(self, name):\n",
        "        '''\n",
        "        This method removes a node, and any edges to or from the node\n",
        "        '''\n",
        "        for node in self.adj_list.keys():\n",
        "            if name in self.adj_list[node]:\n",
        "                self.adj_list[node].remove(name)\n",
        "        del self.adj_list[name]\n",
        "\n",
        "    def add_edge(self, node1, node2, weight=1, directed=True):\n",
        "        '''\n",
        "        This function adds an edge. If directed is false, it adds an edge in both directions\n",
        "        '''\n",
        "        # in case they don't already exist, add these nodes to the graph\n",
        "        self.add_node(node1)\n",
        "        self.add_node(node2)\n",
        "        \n",
        "        self.adj_list[node1].append(node2)\n",
        "        self.edge_weights[(node1,node2)] = weight\n",
        "        \n",
        "        if not directed:\n",
        "            self.adj_list[node2].append(node1)\n",
        "            self.edge_weights[(node2,node1)] = weight\n",
        "\n",
        "# Reinitialise graph G\n",
        "G = Graph(graph)\n",
        "\n",
        "### Example usage\n",
        "print(f\"The number of nodes in the graph is {len(G)}\")\n",
        "\n",
        "print(\"List of all nodes in the graph:\")\n",
        "for node in G:\n",
        "    print(node)\n",
        "    \n",
        "# check if 0 is a child of 1\n",
        "if 0 in G.children(1):\n",
        "    print(\"0 is child of 1\")\n",
        "else:\n",
        "    print(\"0 is not child of 1\")\n",
        "\n",
        "print(f\"Children of 1 are {G.children(1)}\")\n"
      ],
      "outputs": [
        {
          "output_type": "stream",
          "name": "stdout",
          "text": [
            "The number of nodes in the graph is 6\n",
            "List of all nodes in the graph:\n",
            "0\n",
            "1\n",
            "2\n",
            "3\n",
            "4\n",
            "5\n",
            "0 is not child of 1\n",
            "Children of 1 are [2, 4]\n"
          ]
        }
      ],
      "metadata": {
        "id": "BUtp_IAfZurR"
      }
    },
    {
      "cell_type": "markdown",
      "source": [
        "\n",
        "## Exercise\n",
        "\n",
        "Represent the graph on the left side of the previous figure using the proposed augmented representation. We have started and completed the first row."
      ],
      "metadata": {
        "id": "gbznnemFZurS"
      }
    },
    {
      "cell_type": "code",
      "execution_count": 24,
      "source": [
        "g = Graph()\n",
        "g.add_edge(0,2,weight=4,directed=False)\n",
        "g.add_edge(0,1,weight=24,directed=False)\n",
        "g.add_edge(2,3,weight=6,directed=False)\n",
        "g.add_edge(2,6,weight=16,directed=False)\n",
        "g.add_edge(3,6,weight=8,directed=False)\n",
        "g.add_edge(3,5,weight=5,directed=False)\n",
        "g.add_edge(3,1,weight=23,directed=False)\n",
        "# TODO: add the rest of the edges\n",
        "...\n",
        "\n",
        "#######################################\n",
        "# Test code\n",
        "#######################################\n",
        "pos = {\n",
        "    0: '1,3!',\n",
        "    1: '4,3!',\n",
        "    2: '0,2!',\n",
        "    3: '1,1!',\n",
        "    4: '3,1!',\n",
        "    5: '2,1!',\n",
        "    6: '0,0!',\n",
        "    7: '4,0!',    \n",
        "}\n",
        "g.show(directed=False, positions=pos)"
      ],
      "outputs": [
        {
          "output_type": "execute_result",
          "data": {
            "image/svg+xml": "<?xml version=\"1.0\" encoding=\"UTF-8\" standalone=\"no\"?>\r\n<!DOCTYPE svg PUBLIC \"-//W3C//DTD SVG 1.1//EN\"\r\n \"http://www.w3.org/Graphics/SVG/1.1/DTD/svg11.dtd\">\r\n<!-- Generated by graphviz version 2.38.0 (20140413.2041)\r\n -->\r\n<!-- Title: %3 Pages: 1 -->\r\n<svg width=\"310pt\" height=\"230pt\"\r\n viewBox=\"0.00 0.00 310.02 230.02\" xmlns=\"http://www.w3.org/2000/svg\" xmlns:xlink=\"http://www.w3.org/1999/xlink\">\r\n<g id=\"graph0\" class=\"graph\" transform=\"scale(1 1) rotate(0) translate(113.675 104.675)\">\r\n<title>%3</title>\r\n<polygon fill=\"white\" stroke=\"none\" points=\"-113.675,125.344 -113.675,-104.675 196.35,-104.675 196.35,125.344 -113.675,125.344\"/>\r\n<!-- 0 -->\r\n<g id=\"node1\" class=\"node\"><title>0</title>\r\n<ellipse fill=\"none\" stroke=\"black\" cx=\"-20.6687\" cy=\"-82.6749\" rx=\"27\" ry=\"18\"/>\r\n<text text-anchor=\"middle\" x=\"-20.6687\" y=\"-78.9749\" font-family=\"Times New Roman,serif\" font-size=\"14.00\">0</text>\r\n</g>\r\n<!-- 2 -->\r\n<g id=\"node2\" class=\"node\"><title>2</title>\r\n<ellipse fill=\"none\" stroke=\"black\" cx=\"-82.6749\" cy=\"-20.6687\" rx=\"27\" ry=\"18\"/>\r\n<text text-anchor=\"middle\" x=\"-82.6749\" y=\"-16.9687\" font-family=\"Times New Roman,serif\" font-size=\"14.00\">2</text>\r\n</g>\r\n<!-- 0&#45;&#45;2 -->\r\n<g id=\"edge1\" class=\"edge\"><title>0&#45;&#45;2</title>\r\n<path fill=\"none\" stroke=\"black\" d=\"M-35.6787,-67.665C-45.2843,-58.0594 -57.7103,-45.6333 -67.3724,-35.9712\"/>\r\n</g>\r\n<!-- 1 -->\r\n<g id=\"node3\" class=\"node\"><title>1</title>\r\n<ellipse fill=\"none\" stroke=\"black\" cx=\"165.35\" cy=\"-82.6749\" rx=\"27\" ry=\"18\"/>\r\n<text text-anchor=\"middle\" x=\"165.35\" y=\"-78.9749\" font-family=\"Times New Roman,serif\" font-size=\"14.00\">1</text>\r\n</g>\r\n<!-- 0&#45;&#45;1 -->\r\n<g id=\"edge2\" class=\"edge\"><title>0&#45;&#45;1</title>\r\n<path fill=\"none\" stroke=\"black\" d=\"M6.37997,-82.6749C41.6478,-82.6749 102.985,-82.6749 138.269,-82.6749\"/>\r\n</g>\r\n<!-- 3 -->\r\n<g id=\"node4\" class=\"node\"><title>3</title>\r\n<ellipse fill=\"none\" stroke=\"black\" cx=\"-20.6687\" cy=\"41.3375\" rx=\"27\" ry=\"18\"/>\r\n<text text-anchor=\"middle\" x=\"-20.6687\" y=\"45.0375\" font-family=\"Times New Roman,serif\" font-size=\"14.00\">3</text>\r\n</g>\r\n<!-- 2&#45;&#45;3 -->\r\n<g id=\"edge3\" class=\"edge\"><title>2&#45;&#45;3</title>\r\n<path fill=\"none\" stroke=\"black\" d=\"M-67.665,-5.65876C-58.0594,3.94679 -45.6333,16.3729 -35.9712,26.035\"/>\r\n</g>\r\n<!-- 6 -->\r\n<g id=\"node5\" class=\"node\"><title>6</title>\r\n<ellipse fill=\"none\" stroke=\"black\" cx=\"-82.6749\" cy=\"103.344\" rx=\"27\" ry=\"18\"/>\r\n<text text-anchor=\"middle\" x=\"-82.6749\" y=\"107.044\" font-family=\"Times New Roman,serif\" font-size=\"14.00\">6</text>\r\n</g>\r\n<!-- 2&#45;&#45;6 -->\r\n<g id=\"edge4\" class=\"edge\"><title>2&#45;&#45;6</title>\r\n<path fill=\"none\" stroke=\"black\" d=\"M-82.6749,-2.63627C-82.6749,20.8756 -82.6749,61.7668 -82.6749,85.2894\"/>\r\n</g>\r\n<!-- 1&#45;&#45;3 -->\r\n<g id=\"edge5\" class=\"edge\"><title>1&#45;&#45;3</title>\r\n<path fill=\"none\" stroke=\"black\" d=\"M146.143,-69.8705C110.405,-46.0449 34.0926,4.82993 -1.56659,28.6027\"/>\r\n</g>\r\n<!-- 3&#45;&#45;6 -->\r\n<g id=\"edge6\" class=\"edge\"><title>3&#45;&#45;6</title>\r\n<path fill=\"none\" stroke=\"black\" d=\"M-35.6787,56.3474C-45.2843,65.953 -57.7103,78.3791 -67.3724,88.0412\"/>\r\n</g>\r\n<!-- 5 -->\r\n<g id=\"node6\" class=\"node\"><title>5</title>\r\n<ellipse fill=\"none\" stroke=\"black\" cx=\"41.3375\" cy=\"41.3375\" rx=\"27\" ry=\"18\"/>\r\n<text text-anchor=\"middle\" x=\"41.3375\" y=\"45.0375\" font-family=\"Times New Roman,serif\" font-size=\"14.00\">5</text>\r\n</g>\r\n<!-- 3&#45;&#45;5 -->\r\n<g id=\"edge7\" class=\"edge\"><title>3&#45;&#45;5</title>\r\n<path fill=\"none\" stroke=\"black\" d=\"M6.34771,41.3375C8.95855,41.3375 11.6078,41.3375 14.2196,41.3375\"/>\r\n</g>\r\n</g>\r\n</svg>\r\n",
            "text/plain": [
              "<graphviz.dot.Graph at 0x21a363ded48>"
            ]
          },
          "metadata": {},
          "execution_count": 24
        }
      ],
      "metadata": {
        "id": "To2LxiuCZurS"
      }
    },
    {
      "cell_type": "code",
      "execution_count": 25,
      "source": [
        "# Answer\n",
        "\n",
        "g = Graph()\n",
        "g.add_edge(0,2,weight=4,directed=False)\n",
        "g.add_edge(0,1,weight=24,directed=False)\n",
        "g.add_edge(2,3,weight=6,directed=False)\n",
        "g.add_edge(2,6,weight=16,directed=False)\n",
        "g.add_edge(3,6,weight=8,directed=False)\n",
        "g.add_edge(3,5,weight=5,directed=False)\n",
        "g.add_edge(3,1,weight=23,directed=False)\n",
        "g.add_edge(6,5,weight=10,directed=False)\n",
        "g.add_edge(6,7,weight=21,directed=False)\n",
        "g.add_edge(5,1,weight=18,directed=False)\n",
        "g.add_edge(5,4,weight=11,directed=False)\n",
        "g.add_edge(5,7,weight=14,directed=False)\n",
        "g.add_edge(4,1,weight=9,directed=False)\n",
        "g.add_edge(4,7,weight=7,directed=False)\n",
        "\n",
        "#######################################\n",
        "# Test code\n",
        "#######################################\n",
        "pos = {\n",
        "    0: '1,3!',\n",
        "    1: '4,3!',\n",
        "    2: '0,2!',\n",
        "    3: '1,1!',\n",
        "    4: '3,1!',\n",
        "    5: '2,1!',\n",
        "    6: '0,0!',\n",
        "    7: '4,0!',    \n",
        "}\n",
        "g.show(directed=False, positions=pos)"
      ],
      "outputs": [
        {
          "output_type": "execute_result",
          "data": {
            "image/svg+xml": "<?xml version=\"1.0\" encoding=\"UTF-8\" standalone=\"no\"?>\r\n<!DOCTYPE svg PUBLIC \"-//W3C//DTD SVG 1.1//EN\"\r\n \"http://www.w3.org/Graphics/SVG/1.1/DTD/svg11.dtd\">\r\n<!-- Generated by graphviz version 2.38.0 (20140413.2041)\r\n -->\r\n<!-- Title: %3 Pages: 1 -->\r\n<svg width=\"310pt\" height=\"230pt\"\r\n viewBox=\"0.00 0.00 310.02 230.02\" xmlns=\"http://www.w3.org/2000/svg\" xmlns:xlink=\"http://www.w3.org/1999/xlink\">\r\n<g id=\"graph0\" class=\"graph\" transform=\"scale(1 1) rotate(0) translate(147.262 122.76)\">\r\n<title>%3</title>\r\n<polygon fill=\"white\" stroke=\"none\" points=\"-147.262,107.259 -147.262,-122.76 162.763,-122.76 162.763,107.259 -147.262,107.259\"/>\r\n<!-- 0 -->\r\n<g id=\"node1\" class=\"node\"><title>0</title>\r\n<ellipse fill=\"none\" stroke=\"black\" cx=\"-54.2554\" cy=\"-100.76\" rx=\"27\" ry=\"18\"/>\r\n<text text-anchor=\"middle\" x=\"-54.2554\" y=\"-97.0601\" font-family=\"Times New Roman,serif\" font-size=\"14.00\">0</text>\r\n</g>\r\n<!-- 2 -->\r\n<g id=\"node2\" class=\"node\"><title>2</title>\r\n<ellipse fill=\"none\" stroke=\"black\" cx=\"-116.262\" cy=\"-38.7539\" rx=\"27\" ry=\"18\"/>\r\n<text text-anchor=\"middle\" x=\"-116.262\" y=\"-35.0539\" font-family=\"Times New Roman,serif\" font-size=\"14.00\">2</text>\r\n</g>\r\n<!-- 0&#45;&#45;2 -->\r\n<g id=\"edge1\" class=\"edge\"><title>0&#45;&#45;2</title>\r\n<path fill=\"none\" stroke=\"black\" d=\"M-69.2654,-85.7501C-78.8709,-76.1446 -91.297,-63.7185 -100.959,-54.0564\"/>\r\n</g>\r\n<!-- 1 -->\r\n<g id=\"node3\" class=\"node\"><title>1</title>\r\n<ellipse fill=\"none\" stroke=\"black\" cx=\"131.763\" cy=\"-100.76\" rx=\"27\" ry=\"18\"/>\r\n<text text-anchor=\"middle\" x=\"131.763\" y=\"-97.0601\" font-family=\"Times New Roman,serif\" font-size=\"14.00\">1</text>\r\n</g>\r\n<!-- 0&#45;&#45;1 -->\r\n<g id=\"edge2\" class=\"edge\"><title>0&#45;&#45;1</title>\r\n<path fill=\"none\" stroke=\"black\" d=\"M-27.2067,-100.76C8.06112,-100.76 69.3979,-100.76 104.682,-100.76\"/>\r\n</g>\r\n<!-- 3 -->\r\n<g id=\"node4\" class=\"node\"><title>3</title>\r\n<ellipse fill=\"none\" stroke=\"black\" cx=\"-54.2554\" cy=\"23.2523\" rx=\"27\" ry=\"18\"/>\r\n<text text-anchor=\"middle\" x=\"-54.2554\" y=\"26.9523\" font-family=\"Times New Roman,serif\" font-size=\"14.00\">3</text>\r\n</g>\r\n<!-- 2&#45;&#45;3 -->\r\n<g id=\"edge3\" class=\"edge\"><title>2&#45;&#45;3</title>\r\n<path fill=\"none\" stroke=\"black\" d=\"M-101.252,-23.7439C-91.6461,-14.1384 -79.22,-1.71226 -69.5579,7.94982\"/>\r\n</g>\r\n<!-- 6 -->\r\n<g id=\"node5\" class=\"node\"><title>6</title>\r\n<ellipse fill=\"none\" stroke=\"black\" cx=\"-116.262\" cy=\"85.2585\" rx=\"27\" ry=\"18\"/>\r\n<text text-anchor=\"middle\" x=\"-116.262\" y=\"88.9585\" font-family=\"Times New Roman,serif\" font-size=\"14.00\">6</text>\r\n</g>\r\n<!-- 2&#45;&#45;6 -->\r\n<g id=\"edge4\" class=\"edge\"><title>2&#45;&#45;6</title>\r\n<path fill=\"none\" stroke=\"black\" d=\"M-116.262,-20.7214C-116.262,2.79049 -116.262,43.6817 -116.262,67.2043\"/>\r\n</g>\r\n<!-- 1&#45;&#45;3 -->\r\n<g id=\"edge5\" class=\"edge\"><title>1&#45;&#45;3</title>\r\n<path fill=\"none\" stroke=\"black\" d=\"M112.557,-87.9557C76.8181,-64.1301 0.505873,-13.2552 -35.1533,10.5176\"/>\r\n</g>\r\n<!-- 5 -->\r\n<g id=\"node6\" class=\"node\"><title>5</title>\r\n<ellipse fill=\"none\" stroke=\"black\" cx=\"7.75077\" cy=\"23.2523\" rx=\"27\" ry=\"18\"/>\r\n<text text-anchor=\"middle\" x=\"7.75077\" y=\"26.9523\" font-family=\"Times New Roman,serif\" font-size=\"14.00\">5</text>\r\n</g>\r\n<!-- 1&#45;&#45;5 -->\r\n<g id=\"edge6\" class=\"edge\"><title>1&#45;&#45;5</title>\r\n<path fill=\"none\" stroke=\"black\" d=\"M116.557,-85.5537C92.7555,-61.7524 46.9592,-15.9561 23.0815,7.92159\"/>\r\n</g>\r\n<!-- 4 -->\r\n<g id=\"node8\" class=\"node\"><title>4</title>\r\n<ellipse fill=\"none\" stroke=\"black\" cx=\"69.757\" cy=\"23.2523\" rx=\"27\" ry=\"18\"/>\r\n<text text-anchor=\"middle\" x=\"69.757\" y=\"26.9523\" font-family=\"Times New Roman,serif\" font-size=\"14.00\">4</text>\r\n</g>\r\n<!-- 1&#45;&#45;4 -->\r\n<g id=\"edge7\" class=\"edge\"><title>1&#45;&#45;4</title>\r\n<path fill=\"none\" stroke=\"black\" d=\"M123.141,-83.5167C111.295,-59.8238 90.1133,-17.4603 78.3054,6.15538\"/>\r\n</g>\r\n<!-- 3&#45;&#45;6 -->\r\n<g id=\"edge8\" class=\"edge\"><title>3&#45;&#45;6</title>\r\n<path fill=\"none\" stroke=\"black\" d=\"M-69.2654,38.2623C-78.8709,47.8678 -91.297,60.2939 -100.959,69.956\"/>\r\n</g>\r\n<!-- 3&#45;&#45;5 -->\r\n<g id=\"edge9\" class=\"edge\"><title>3&#45;&#45;5</title>\r\n<path fill=\"none\" stroke=\"black\" d=\"M-27.239,23.2523C-24.6281,23.2523 -21.9789,23.2523 -19.3671,23.2523\"/>\r\n</g>\r\n<!-- 6&#45;&#45;5 -->\r\n<g id=\"edge10\" class=\"edge\"><title>6&#45;&#45;5</title>\r\n<path fill=\"none\" stroke=\"black\" d=\"M-94.6603,74.4579C-72.0375,63.1464 -36.7048,45.4801 -14.0191,34.1373\"/>\r\n</g>\r\n<!-- 7 -->\r\n<g id=\"node7\" class=\"node\"><title>7</title>\r\n<ellipse fill=\"none\" stroke=\"black\" cx=\"131.763\" cy=\"85.2585\" rx=\"27\" ry=\"18\"/>\r\n<text text-anchor=\"middle\" x=\"131.763\" y=\"88.9585\" font-family=\"Times New Roman,serif\" font-size=\"14.00\">7</text>\r\n</g>\r\n<!-- 6&#45;&#45;7 -->\r\n<g id=\"edge11\" class=\"edge\"><title>6&#45;&#45;7</title>\r\n<path fill=\"none\" stroke=\"black\" d=\"M-89.2465,85.2585C-41.6623,85.2585 56.5766,85.2585 104.404,85.2585\"/>\r\n</g>\r\n<!-- 5&#45;&#45;7 -->\r\n<g id=\"edge13\" class=\"edge\"><title>5&#45;&#45;7</title>\r\n<path fill=\"none\" stroke=\"black\" d=\"M29.3521,34.053C51.9749,45.3644 87.3076,63.0307 109.993,74.3736\"/>\r\n</g>\r\n<!-- 5&#45;&#45;4 -->\r\n<g id=\"edge12\" class=\"edge\"><title>5&#45;&#45;4</title>\r\n<path fill=\"none\" stroke=\"black\" d=\"M34.7672,23.2523C37.3781,23.2523 40.0273,23.2523 42.6391,23.2523\"/>\r\n</g>\r\n<!-- 7&#45;&#45;4 -->\r\n<g id=\"edge14\" class=\"edge\"><title>7&#45;&#45;4</title>\r\n<path fill=\"none\" stroke=\"black\" d=\"M116.753,70.2486C107.148,60.643 94.7216,48.2169 85.0595,38.5548\"/>\r\n</g>\r\n</g>\r\n</svg>\r\n",
            "text/plain": [
              "<graphviz.dot.Graph at 0x21a363a4988>"
            ]
          },
          "metadata": {},
          "execution_count": 25
        }
      ],
      "metadata": {
        "id": "ezufqdPdZurS"
      }
    },
    {
      "cell_type": "markdown",
      "source": [
        "## Exercise\n",
        "\n",
        "Now, let's implement the Prim algorithm. The general idea is to start the search from a node `s`. Initially, only nodes directly connected to `s` are considered. We use a priority queue to sort these nodes according to the edge weight. The priority queue is implementated with a binary heap data structure using Python's [heapq](https://docs.python.org/3/library/heapq.html) module. The node `u` with the smallest cost connecting to `s` is removed from the priority queue and inserted into the MST. The search expands to include the vertices that directly connect to `u`. These nodes are inserted into the priority queue, and the procedure repeats according to the following algorithm:\n",
        "\n",
        "![Prim](img/Prim.png \"MST\")\n",
        "\n",
        "Notice that `S` maintains the nodes currently in the MST. It is crucial to avoid inserting the same node twice since it would create a cycle. \n",
        "\n",
        "We have created a stub for you. You need to complete the gaps where there is an ellipsis."
      ],
      "metadata": {
        "id": "zGh-4P-eZurS"
      }
    },
    {
      "cell_type": "code",
      "execution_count": 26,
      "source": [
        "class Graph(Graph):\n",
        "    def prim(self, start):\n",
        "        \"\"\"\n",
        "        argument \n",
        "        `start`, start vertex\n",
        "        \"\"\"      \n",
        "        # Intialise set 'visited' with vertex s\n",
        "        visited = ...\n",
        "        # Initialise priority queue Q with an empty list\n",
        "        Q = ...\n",
        "        # Initilise list tree with empty Graph object. This object will have the MST at the end of the execution\n",
        "        tree = ...\n",
        "        # Initialise the priority queue Q with outgoing edges from s\n",
        "        for e in self.adj_list[start]:\n",
        "            # There is a trick here. Python prioriy queues accept tuples but the first entry of the tuple must be the priority value\n",
        "            pq.heappush(Q, ...)\n",
        "        while len(Q) > 0:\n",
        "            # Remove element from Q with the smallest weight\n",
        "            weight, v, u = pq.heappop(Q)\n",
        "            # If the node is already in 'visited' we cannot include it in the MST since it would create a cycle\n",
        "            if u not in visited:\n",
        "                # Let's grow the MST by inserting the vertex in visited\n",
        "                ...\n",
        "                # Also we insert the edge in tree\n",
        "                ...\n",
        "                # We iterate over all outgoing edges of u\n",
        "                for e in self.adj_list[u]:\n",
        "                    # We are interested in edges that connect to vertices not in 'visited' and with smaller weight than known values stored in a\n",
        "                    if e not in visited:\n",
        "                        # Edge e is of interest, let's store in the priority queue for future analysis\n",
        "                        pq.heappush(Q, ...)        \n",
        "        return tree\n",
        "        \n",
        "#######################################\n",
        "# Test code\n",
        "#######################################\n",
        "g = Graph()\n",
        "g.add_edge(0,2,weight=4,directed=False)\n",
        "g.add_edge(0,1,weight=24,directed=False)\n",
        "g.add_edge(2,3,weight=6,directed=False)\n",
        "g.add_edge(2,6,weight=16,directed=False)\n",
        "g.add_edge(3,6,weight=8,directed=False)\n",
        "g.add_edge(3,5,weight=5,directed=False)\n",
        "g.add_edge(3,1,weight=23,directed=False)\n",
        "# TODO: copy the rest of the edges from above\n",
        "...\n",
        "\n",
        "tree = g.prim(0)\n",
        "print(tree.edge_weights)\n",
        "tree.show()"
      ],
      "outputs": [
        {
          "output_type": "error",
          "ename": "TypeError",
          "evalue": "heap argument must be a list",
          "traceback": [
            "\u001b[1;31m---------------------------------------------------------------------------\u001b[0m",
            "\u001b[1;31mTypeError\u001b[0m                                 Traceback (most recent call last)",
            "\u001b[1;32m<ipython-input-26-05f7398a30a3>\u001b[0m in \u001b[0;36m<module>\u001b[1;34m\u001b[0m\n\u001b[0;32m     46\u001b[0m \u001b[1;33m...\u001b[0m\u001b[1;33m\u001b[0m\u001b[1;33m\u001b[0m\u001b[0m\n\u001b[0;32m     47\u001b[0m \u001b[1;33m\u001b[0m\u001b[0m\n\u001b[1;32m---> 48\u001b[1;33m \u001b[0mtree\u001b[0m \u001b[1;33m=\u001b[0m \u001b[0mg\u001b[0m\u001b[1;33m.\u001b[0m\u001b[0mprim\u001b[0m\u001b[1;33m(\u001b[0m\u001b[1;36m0\u001b[0m\u001b[1;33m)\u001b[0m\u001b[1;33m\u001b[0m\u001b[1;33m\u001b[0m\u001b[0m\n\u001b[0m\u001b[0;32m     49\u001b[0m \u001b[0mprint\u001b[0m\u001b[1;33m(\u001b[0m\u001b[0mtree\u001b[0m\u001b[1;33m.\u001b[0m\u001b[0medge_weights\u001b[0m\u001b[1;33m)\u001b[0m\u001b[1;33m\u001b[0m\u001b[1;33m\u001b[0m\u001b[0m\n\u001b[0;32m     50\u001b[0m \u001b[0mtree\u001b[0m\u001b[1;33m.\u001b[0m\u001b[0mshow\u001b[0m\u001b[1;33m(\u001b[0m\u001b[1;33m)\u001b[0m\u001b[1;33m\u001b[0m\u001b[1;33m\u001b[0m\u001b[0m\n",
            "\u001b[1;32m<ipython-input-26-05f7398a30a3>\u001b[0m in \u001b[0;36mprim\u001b[1;34m(self, start)\u001b[0m\n\u001b[0;32m     14\u001b[0m         \u001b[1;32mfor\u001b[0m \u001b[0me\u001b[0m \u001b[1;32min\u001b[0m \u001b[0mself\u001b[0m\u001b[1;33m.\u001b[0m\u001b[0madj_list\u001b[0m\u001b[1;33m[\u001b[0m\u001b[0mstart\u001b[0m\u001b[1;33m]\u001b[0m\u001b[1;33m:\u001b[0m\u001b[1;33m\u001b[0m\u001b[1;33m\u001b[0m\u001b[0m\n\u001b[0;32m     15\u001b[0m             \u001b[1;31m# There is a trick here. Python prioriy queues accept tuples but the first entry of the tuple must be the priority value\u001b[0m\u001b[1;33m\u001b[0m\u001b[1;33m\u001b[0m\u001b[1;33m\u001b[0m\u001b[0m\n\u001b[1;32m---> 16\u001b[1;33m             \u001b[0mpq\u001b[0m\u001b[1;33m.\u001b[0m\u001b[0mheappush\u001b[0m\u001b[1;33m(\u001b[0m\u001b[0mQ\u001b[0m\u001b[1;33m,\u001b[0m \u001b[1;33m...\u001b[0m\u001b[1;33m)\u001b[0m\u001b[1;33m\u001b[0m\u001b[1;33m\u001b[0m\u001b[0m\n\u001b[0m\u001b[0;32m     17\u001b[0m         \u001b[1;32mwhile\u001b[0m \u001b[0mlen\u001b[0m\u001b[1;33m(\u001b[0m\u001b[0mQ\u001b[0m\u001b[1;33m)\u001b[0m \u001b[1;33m>\u001b[0m \u001b[1;36m0\u001b[0m\u001b[1;33m:\u001b[0m\u001b[1;33m\u001b[0m\u001b[1;33m\u001b[0m\u001b[0m\n\u001b[0;32m     18\u001b[0m             \u001b[1;31m# Remove element from Q with the smallest weight\u001b[0m\u001b[1;33m\u001b[0m\u001b[1;33m\u001b[0m\u001b[1;33m\u001b[0m\u001b[0m\n",
            "\u001b[1;31mTypeError\u001b[0m: heap argument must be a list"
          ]
        }
      ],
      "metadata": {
        "id": "LirLwc49ZurS"
      }
    },
    {
      "cell_type": "code",
      "execution_count": null,
      "source": [
        "# Answer\n",
        "\n",
        "class Graph(Graph):\n",
        "    def prim(self, start):\n",
        "        \"\"\"\n",
        "        argument \n",
        "        `start`, start vertex\n",
        "        \"\"\"      \n",
        "        # Intialise set 'visited' with vertex s\n",
        "        visited = {start}\n",
        "        # Initialise priority queue Q with an empty list\n",
        "        Q = []\n",
        "        # Initilise list tree with empty Graph object. This object will have the MST at the end of the execution\n",
        "        tree = Graph()\n",
        "        # Initilise the priority queue Q with outgoing edges from s\n",
        "        for e in self.adj_list[start]:\n",
        "            # There is a trick here. Python prioriy queues accept tuples but the first entry of the tuple must be the priority value\n",
        "            pq.heappush(Q, (self.edge_weights[(start,e)], start, e))\n",
        "        while len(Q) > 0:\n",
        "            # Remove element from Q with the smallest weight\n",
        "            weight, v, u = pq.heappop(Q)\n",
        "            # If the node is already in 'visited' we cannot include it in the MST since it would create a cycle\n",
        "            if u not in visited:\n",
        "                # Let's grow the MST by inserting the vertex in visited\n",
        "                visited.add(u)\n",
        "                # Also we insert the edge in tree, use v, u, cost order\n",
        "                tree.add_edge(v, u, weight=weight)\n",
        "                # We iterate over all outgoing edges of u[1] (or \"v\" according to the algorithm)\n",
        "                for e in self.adj_list[u]:\n",
        "                    # We are interested in edges that connect to vertices not in 'visited' and with smaller weight than known values stored in a\n",
        "                    if e not in visited:\n",
        "                        # Edge e is of interest, let's store in the priority queue for future analysis\n",
        "                        pq.heappush(Q, (self.edge_weights[(u,e)], u, e))        \n",
        "        return tree\n",
        "        \n",
        "#######################################\n",
        "# Test code\n",
        "#######################################\n",
        "\n",
        "g = Graph()\n",
        "g.add_edge(0,2,weight=4,directed=False)\n",
        "g.add_edge(0,1,weight=24,directed=False)\n",
        "g.add_edge(2,3,weight=6,directed=False)\n",
        "g.add_edge(2,6,weight=16,directed=False)\n",
        "g.add_edge(3,6,weight=8,directed=False)\n",
        "g.add_edge(3,5,weight=5,directed=False)\n",
        "g.add_edge(3,1,weight=23,directed=False)\n",
        "g.add_edge(6,5,weight=10,directed=False)\n",
        "g.add_edge(6,7,weight=21,directed=False)\n",
        "g.add_edge(5,1,weight=18,directed=False)\n",
        "g.add_edge(5,4,weight=11,directed=False)\n",
        "g.add_edge(5,7,weight=14,directed=False)\n",
        "g.add_edge(4,1,weight=9,directed=False)\n",
        "g.add_edge(4,7,weight=7,directed=False)\n",
        "\n",
        "pos = {\n",
        "    0: '1,3!',\n",
        "    1: '4,3!',\n",
        "    2: '0,2!',\n",
        "    3: '1,1!',\n",
        "    4: '3,1!',\n",
        "    5: '2,1!',\n",
        "    6: '0,0!',\n",
        "    7: '4,0!',    \n",
        "}\n",
        "tree = g.prim(0)\n",
        "print(tree.edge_weights)\n",
        "tree.show(directed=False, positions=pos)"
      ],
      "outputs": [],
      "metadata": {
        "id": "y6d1Oy29ZurT"
      }
    },
    {
      "cell_type": "markdown",
      "source": [
        "If your algorithm is correct, you should see the following output:\n",
        "```\n",
        "{(0, 2): 4, (2, 3): 6, (3, 5): 5, (3, 6): 8, (5, 4): 11, (4, 7): 7, (4, 1): 9}\n",
        "```\n",
        "\n",
        "You can compare it to the figure to confirm it is correct."
      ],
      "metadata": {
        "id": "6_y4tA7fZurT"
      }
    },
    {
      "cell_type": "markdown",
      "source": [
        "## Final Task\n",
        "\n",
        "Create a python file called Graph.py containing the Graph class we implemented above. This will be used in future tutorials."
      ],
      "metadata": {
        "id": "pn9daCyHZurT"
      }
    },
    {
      "cell_type": "markdown",
      "source": [
        "# Extensions\n",
        "\n",
        "We could implement some additional functions such as:\n",
        "1. Use the graph transpose routine to implement the Kosaraju's algorithm as we discussed in the theory part of this tutorial. \n",
        "\n",
        "2. Change the Prim algorithm to find the *Maximal* Spanning Tree. Such implementation could be achieved by replacing the min-heap by a max-heap.\n",
        "\n",
        "That is all for today. Next week we will develop some code to store and manipulate probability tables."
      ],
      "metadata": {
        "id": "piR1Ta_KZurT"
      }
    },
    {
      "cell_type": "markdown",
      "source": [
        "# The full Graph class (for reference)"
      ],
      "metadata": {
        "id": "FG49KIEpZurT"
      }
    },
    {
      "cell_type": "code",
      "execution_count": null,
      "source": [
        "# Visualise our graph\n",
        "import graphviz\n",
        "# Priority queue for Prim algorithm\n",
        "import heapq as pq\n",
        "\n",
        "\n",
        "class Graph():\n",
        "    def __init__(self, adj_list=None):\n",
        "        \"\"\"\n",
        "        Initialises a graph object\n",
        "        arguments:\n",
        "            `adj_list`, dictionary with nodes as keys and lists of adjacent nodes as value\n",
        "        return:\n",
        "            nothing\n",
        "        \"\"\"\n",
        "        self.adj_list = dict()\n",
        "        if adj_list is not None:\n",
        "            self.adj_list = adj_list.copy() # dict with graph's adjacency list\n",
        "        self.colour = dict()\n",
        "        self.edge_weights = dict() # maps a tuple (node1, node2) to a number\n",
        "\n",
        "    def __len__(self):\n",
        "        '''\n",
        "        return the number of nodes in the graph\n",
        "        '''\n",
        "        return len(self.adj_list.keys())\n",
        "\n",
        "    def __iter__(self):\n",
        "        '''\n",
        "        Let a user iterate over the nodes of the graph, like:\n",
        "        for node in graph:\n",
        "            ... # do something\n",
        "        '''\n",
        "        return iter(self.adj_list.keys())\n",
        "    \n",
        "    def children(self, node):\n",
        "        '''\n",
        "        Return a list of children of a node\n",
        "        '''\n",
        "        return self.adj_list[node]\n",
        "\n",
        "    def add_node(self, name):\n",
        "        '''\n",
        "        This method adds a node to the graph.\n",
        "        '''\n",
        "        if name not in self.adj_list:\n",
        "            self.adj_list[name] = []\n",
        "\n",
        "    def remove_node(self, name):\n",
        "        '''\n",
        "        This method removes a node, and any edges to or from the node\n",
        "        '''\n",
        "        for node in self.adj_list.keys():\n",
        "            if name in self.adj_list[node]:\n",
        "                self.adj_list[node].remove(name)\n",
        "        del self.adj_list[name]\n",
        "    \n",
        "            \n",
        "    def add_edge(self, node1, node2, weight=1, directed=True):\n",
        "        '''\n",
        "        This function adds an edge. If directed is false, it adds an edge in both directions\n",
        "        '''\n",
        "        # in case they don't already exist, add these nodes to the graph\n",
        "        self.add_node(node1)\n",
        "        self.add_node(node2)\n",
        "        \n",
        "        self.adj_list[node1].append(node2)\n",
        "        self.edge_weights[(node1,node2)] = weight\n",
        "        \n",
        "        if not directed:\n",
        "            self.adj_list[node2].append(node1)\n",
        "            self.edge_weights[(node2,node1)] = weight\n",
        "        \n",
        "    def show(self, directed=True, positions=None):\n",
        "        \"\"\"\n",
        "        Prints a graphical visualisation of the graph usign GraphViz\n",
        "        arguments:\n",
        "            `directed`, True if the graph is directed, False if the graph is undirected\n",
        "            `pos: dictionary`, with nodes as keys and positions as values\n",
        "        return:\n",
        "            GraphViz object\n",
        "        \"\"\"\n",
        "        if directed:\n",
        "            dot = graphviz.Digraph(engine=\"neato\", comment='Directed graph')\n",
        "        else:\n",
        "            dot = graphviz.Graph(engine=\"neato\", comment='Undirected graph')        \n",
        "        dot.attr(overlap=\"false\", splines=\"true\")\n",
        "        for v in self.adj_list:\n",
        "            if positions is not None:\n",
        "                dot.node(str(v), pos=positions[v])\n",
        "            else:\n",
        "                dot.node(str(v))\n",
        "        for v in self.adj_list:\n",
        "            for w in self.adj_list[v]:\n",
        "                dot.edge(str(v), str(w))\n",
        "\n",
        "        return dot\n",
        "    \n",
        "    def _dfs_r(self, v): # This is the main DFS recursive function\n",
        "        \"\"\"\n",
        "        argument \n",
        "        `v`, next vertex to be visited\n",
        "        `colour`, dictionary with the colour of each node\n",
        "        \"\"\"\n",
        "        print('Visiting: ', v)\n",
        "        self.colour[v] = 'grey' # Visited vertices are coloured 'grey'\n",
        "        for w in self.adj_list[v]: # Let's visit all outgoing edges from v\n",
        "            if self.colour[w] == 'white': # To avoid loops, we check if the next vertex hasn't been visited yet\n",
        "                self._dfs_r(w)\n",
        "        self.colour[v] = 'black' # When we finish the for loop, we know we have visited all nodes from v. It is time to turn it 'black'\n",
        "\n",
        "    def dfs(self, start): # This is an auxiliary DFS function to create and initialize the colour dictionary\n",
        "        \"\"\"\n",
        "        argument \n",
        "        `start`, starting vertex\n",
        "        \"\"\"    \n",
        "        self.colour = {node: 'white' for node in self.adj_list.keys()} # Create a dictionary with keys as node numbers and values equal to 'white'\n",
        "        self._dfs_r(start)\n",
        "        return self.colour # We can return colour dictionary. It is useful for some operations, such as detecting connected components\n",
        "    \n",
        "    def dfs_all(self, start):\n",
        "        \"\"\"\n",
        "        Traverse the graph in DFS order. This function keep calling dfs_r while there are white vetices\n",
        "        arguments: \n",
        "            `start`, starting vertex\n",
        "        return:\n",
        "            nothing, but self.colour is modified\n",
        "        \"\"\"    \n",
        "        self.colour = {node: 'white' for node in self.adj_list.keys()} # Create a dictionary with keys as node numbers and values equal to 'white'\n",
        "        for start in self.colour.keys():\n",
        "            if self.colour[start] == 'white':\n",
        "                self.dfs_recursive(start)        \n",
        "\n",
        "    def _find_cycle_r(self, v):\n",
        "        \"\"\"\n",
        "        Detect a cycle in the graph. This is the main recursive function based on DFS\n",
        "        arguments:\n",
        "            `v`, next vertex to be visited\n",
        "        return:\n",
        "            True if cycle is found. Otherwise, False\n",
        "        \"\"\"      \n",
        "        print('Visiting: ', v)\n",
        "        self.colour[v] = 'grey'\n",
        "        for w in self.adj_list[v]:\n",
        "            if self.colour[w] == 'white':\n",
        "                if self._find_cycle_r(w):\n",
        "                    return True\n",
        "            else:\n",
        "                if self.colour[w] == 'grey':\n",
        "                    print(v, w, 'Cycle detected')\n",
        "                    return True\n",
        "        self.colour[v] = 'black'\n",
        "        return False\n",
        "\n",
        "    def find_cycle(self, start):\n",
        "        \"\"\"\n",
        "        Detect a cycle in the graph. This is the entry function that calls find_cycle_r\n",
        "        arguments:\n",
        "            `v`, starting vertex\n",
        "        return:\n",
        "            True if cycle is found. Otherwise, False\n",
        "        \"\"\"        \n",
        "        self.colour = dict([(node, 'white') for node in self.adj_list.keys()])\n",
        "        for start in self.colour.keys():\n",
        "            if self.colour[start] == 'white':\n",
        "                if self._find_cycle_r(start):\n",
        "                    return True\n",
        "                else:\n",
        "                    return self.find_cycle_r(start)\n",
        "\n",
        "    def _topological_sort_r(self, v):\n",
        "        \"\"\"\n",
        "        Create a list with a topological ordering of the graph nodes. This is the main recursive function based on DFS\n",
        "        arguments:\n",
        "            `v`, current vertex\n",
        "        return:\n",
        "            nothing, but modifies self.stack\n",
        "        \"\"\"\n",
        "        self.colour[v] = 'grey'\n",
        "        for w in self.adj_list[v]:\n",
        "            if self.colour[w] == 'white':\n",
        "                self._topological_sort_r(w)\n",
        "        self.colour[v] = 'black'\n",
        "        self.stack.append(v)\n",
        "\n",
        "    def topological_sort(self):\n",
        "        \"\"\"\n",
        "        Create a list with a topological ordering of the graph nodes. This is the entry function that calls topological_sort_r\n",
        "        arguments:\n",
        "            None\n",
        "        return:\n",
        "            a list with the topological order of the graph G\n",
        "        \"\"\"\n",
        "        self.stack = []\n",
        "        self.colour = {node: 'white' for node in self.adj_list.keys()}\n",
        "        for start in self.adj_list.keys():\n",
        "            if self.colour[start] == 'white':\n",
        "                self._topological_sort_r(start)\n",
        "        return self.stack[::-1]\n",
        "\n",
        "    def transpose(self):\n",
        "        \"\"\"\n",
        "        Transposes the graph creating a new graph\n",
        "        arguments:\n",
        "            None\n",
        "        return:\n",
        "            a graph object with the transposition of this object\n",
        "        \"\"\"      \n",
        "        gt = dict((v, []) for v in self.adj_list)\n",
        "        for v in self.adj_list:\n",
        "            for w in self.adj_list[v]:\n",
        "                gt[w].append(v)\n",
        "        return Graph(gt)\n",
        "\n",
        "    def prim(self, start):\n",
        "        \"\"\"\n",
        "        argument \n",
        "        `start`, start vertex\n",
        "        \"\"\"      \n",
        "        visited = {start}\n",
        "        Q = []\n",
        "        tree = Graph()\n",
        "        for e in self.adj_list[start]:\n",
        "            pq.heappush(Q, (self.edge_weights[(start,e)], start, e))\n",
        "        while len(Q) > 0:\n",
        "            weight, v, u = pq.heappop(Q)\n",
        "            if u not in visited:\n",
        "                visited.add(u)\n",
        "                tree.add_edge(v, u, weight=weight)\n",
        "                for e in self.adj_list[u]:\n",
        "                    if e not in visited:\n",
        "                        pq.heappush(Q, (self.edge_weights[(u,e)], u, e))        \n",
        "        return tree"
      ],
      "outputs": [],
      "metadata": {
        "id": "xGP4KohsZurT"
      }
    }
  ]
}