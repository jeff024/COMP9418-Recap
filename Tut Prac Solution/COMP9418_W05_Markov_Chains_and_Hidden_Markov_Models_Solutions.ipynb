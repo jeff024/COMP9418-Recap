{
  "cells": [
    {
      "cell_type": "markdown",
      "metadata": {
        "id": "8oNu66o0c1Yf"
      },
      "source": [
        "# Markov Chains and Hidden Markov Models\n",
        "\n",
        "**COMP9418-20T3, W05 Tutorial**\n",
        "\n",
        "- Instructor: Gustavo Batista\n",
        "- School of Computer Science and Engineering, UNSW Sydney \n",
        "- Notebook designed by Gustavo Batista and Jeremy Gillen"
      ]
    },
    {
      "cell_type": "markdown",
      "metadata": {
        "id": "oSAoYeCQc1Yj"
      },
      "source": [
        "In this week's tutorial, we will explore models that use the Markovian assumptions, in particular Markov chains and Hidden Markov Models. We will implement the forward and Viterbi algorithms and use them to gain intuition about the convergence of Markov chains, and the probabilitic queries these algorithms can answer. "
      ]
    },
    {
      "cell_type": "markdown",
      "metadata": {
        "id": "SNetABOjc1Yj"
      },
      "source": [
        "## Technical prerequisites\n",
        "\n",
        "You will need certain packages installed to run this notebook.\n",
        "\n",
        "If you are using ``conda``'s default\n",
        "[full installation](https://conda.io/docs/install/full.html),\n",
        "these requirements should all be satisfied already.\n",
        "\n",
        "If you are using ``virtualenv`` or other native package management,\n",
        "you may need to run these commands:\n",
        "\n",
        "```python\n",
        "pip3 install numpy matplotlib\n",
        "```\n",
        "\n",
        "To render a visualization of some graphical models, you also need to install Graphviz [download page](http://www.graphviz.org/download). We have already used this library in Tutorial 1, thus, you should have it installed. If you do not have it and use the conda installation, then use the command ```conda install python-graphviz```."
      ]
    },
    {
      "cell_type": "markdown",
      "metadata": {
        "id": "ck1ZG2U7c1Yk"
      },
      "source": [
        "Once we have done all that, we\n",
        "import some useful modules for later use."
      ]
    },
    {
      "cell_type": "code",
      "execution_count": 1,
      "metadata": {
        "id": "TJTQ455mc1Yl"
      },
      "outputs": [],
      "source": [
        "# Necessary libraries\n",
        "import numpy as np\n",
        "import matplotlib.pyplot as plt\n",
        "\n",
        "from graphviz import Digraph\n",
        "# combinatorics\n",
        "from itertools import product, combinations\n",
        "\n",
        "from DiscreteFactors import Factor\n",
        "from Graph import Graph \n",
        "from BayesNet import BayesNet "
      ]
    },
    {
      "cell_type": "markdown",
      "metadata": {
        "id": "2_7d0o6Qc1Ym"
      },
      "source": [
        "## Markov Chains\n",
        "\n",
        "Let's start implementing the mini-forward algorithm for Markov chains. We will use this algorithm to calculate the probability of a sequence of events as well as testing the convergence of some chains.\n",
        "\n",
        "Remember from the course slides that a Markov chain (as well as the Hidden Markov Model) is a Dynamic Bayesian Network (DBN). It means that this network \"grows\", i.e., we can add nodes as we iterate over time or space. We need to specify a notation to indicate time passage. Similarly to the slides, we use $t-1$ and $t$ appended to the variables names to designate the previous time and present time.\n",
        "\n",
        "We can use the example from the slides to introduce the notation and write the first transition tables.\n",
        "\n",
        "![](https://github.com/UNSW-COMP9418/Week05/blob/main/img/weather.png?raw=1)"
      ]
    },
    {
      "cell_type": "markdown",
      "metadata": {
        "id": "0vPFNfm3c1Yn"
      },
      "source": [
        "To define a Markov chain, we need to set the outcomeSpace as well as initial state and the transition probabilities. We will write the first two and let the third one as an exercise."
      ]
    },
    {
      "cell_type": "code",
      "execution_count": 2,
      "metadata": {
        "id": "0_n0ltRGc1Yn"
      },
      "outputs": [],
      "source": [
        "# possible outcomes, by variable\n",
        "outcomeSpace = {\n",
        "    'Weather':('sun','rain'),    \n",
        "    'Weather_next':('sun','rain'),\n",
        "}\n",
        "\n",
        "# The start state, in this case let's assume we start in a sunny day\n",
        "weatherStart = Factor(('Weather',), outcomeSpace)\n",
        "weatherStart['sun'] = 1.0\n",
        "weatherStart['rain'] = 0.0"
      ]
    },
    {
      "cell_type": "markdown",
      "metadata": {
        "id": "wHTDGm2Ac1Yo"
      },
      "source": [
        "### Exercise\n",
        "\n",
        "Now, it is your turn. Define the transition probability table according to the figure above. We have created an initial table for you."
      ]
    },
    {
      "cell_type": "code",
      "execution_count": 3,
      "metadata": {
        "id": "mY0cbaHTc1Yq"
      },
      "outputs": [],
      "source": [
        "# Answer\n",
        "\n",
        "weatherTransition = Factor(('Weather', 'Weather_next'), outcomeSpace)\n",
        "weatherTransition['sun', 'sun'] = 0.9\n",
        "weatherTransition['sun', 'rain'] = 0.1\n",
        "weatherTransition['rain', 'sun'] = 0.3\n",
        "weatherTransition['rain', 'rain'] = 0.7"
      ]
    },
    {
      "cell_type": "markdown",
      "metadata": {
        "id": "sWTJDNBuc1Yq"
      },
      "source": [
        "We can double-check our work with the `graphviz` library. The source code bellow draws a state transition graph based on the `weatherTransition` table that you just defined. Compare the `graphviz` plot with the slide figure to confirm your state transition probabilities are correct."
      ]
    },
    {
      "cell_type": "code",
      "execution_count": 4,
      "metadata": {
        "id": "P09tdJXUc1Yq",
        "outputId": "ad7f6d09-c67c-4570-be4c-cae220d75f0c"
      },
      "outputs": [
        {
          "data": {
            "image/svg+xml": "<?xml version=\"1.0\" encoding=\"UTF-8\" standalone=\"no\"?>\r\n<!DOCTYPE svg PUBLIC \"-//W3C//DTD SVG 1.1//EN\"\r\n \"http://www.w3.org/Graphics/SVG/1.1/DTD/svg11.dtd\">\r\n<!-- Generated by graphviz version 2.38.0 (20140413.2041)\r\n -->\r\n<!-- Title: %3 Pages: 1 -->\r\n<svg width=\"142pt\" height=\"88pt\"\r\n viewBox=\"0.00 0.00 142.00 88.00\" xmlns=\"http://www.w3.org/2000/svg\" xmlns:xlink=\"http://www.w3.org/1999/xlink\">\r\n<g id=\"graph0\" class=\"graph\" transform=\"scale(1 1) rotate(0) translate(53.0022 44.0022)\">\r\n<title>%3</title>\r\n<polygon fill=\"white\" stroke=\"none\" points=\"-53.0022,44.0022 -53.0022,-44.0022 89.0022,-44.0022 89.0022,44.0022 -53.0022,44.0022\"/>\r\n<!-- sun -->\r\n<g id=\"node1\" class=\"node\"><title>sun</title>\r\n<ellipse fill=\"none\" stroke=\"black\" cx=\"22.0022\" cy=\"-22.0022\" rx=\"27\" ry=\"18\"/>\r\n<text text-anchor=\"middle\" x=\"22.0022\" y=\"-18.3022\" font-family=\"Times New Roman,serif\" font-size=\"14.00\">sun</text>\r\n</g>\r\n<!-- sun&#45;&gt;sun -->\r\n<g id=\"edge1\" class=\"edge\"><title>sun&#45;&gt;sun</title>\r\n<path fill=\"none\" stroke=\"black\" d=\"M47.4457,-28.6929C58.03,-29.1543 67.0022,-26.9241 67.0022,-22.0022 67.0022,-18.7722 63.1382,-16.7014 57.4903,-15.7898\"/>\r\n<polygon fill=\"black\" stroke=\"black\" points=\"57.6009,-12.2912 47.4457,-15.3115 57.2678,-19.2833 57.6009,-12.2912\"/>\r\n<text text-anchor=\"middle\" x=\"76.0022\" y=\"-18.3022\" font-family=\"Times New Roman,serif\" font-size=\"14.00\">0.9</text>\r\n</g>\r\n<!-- rain -->\r\n<g id=\"node2\" class=\"node\"><title>rain</title>\r\n<ellipse fill=\"none\" stroke=\"black\" cx=\"-22.0022\" cy=\"22.0022\" rx=\"27\" ry=\"18\"/>\r\n<text text-anchor=\"middle\" x=\"-22.0022\" y=\"25.7022\" font-family=\"Times New Roman,serif\" font-size=\"14.00\">rain</text>\r\n</g>\r\n<!-- sun&#45;&gt;rain -->\r\n<g id=\"edge2\" class=\"edge\"><title>sun&#45;&gt;rain</title>\r\n<path fill=\"none\" stroke=\"black\" d=\"M13.4329,-4.64201C11.3065,-2.10359 8.93184,0.51449 6.44309,3.078\"/>\r\n<polygon fill=\"black\" stroke=\"black\" points=\"8.39907,6.05359 -1.23116,10.4706 3.54269,1.01216 8.39907,6.05359\"/>\r\n<text text-anchor=\"middle\" x=\"18.938\" y=\"10.418\" font-family=\"Times New Roman,serif\" font-size=\"14.00\">0.1</text>\r\n</g>\r\n<!-- rain&#45;&gt;sun -->\r\n<g id=\"edge3\" class=\"edge\"><title>rain&#45;&gt;sun</title>\r\n<path fill=\"none\" stroke=\"black\" d=\"M-13.4329,4.64201C-11.3065,2.10359 -8.93184,-0.51449 -6.44309,-3.078\"/>\r\n<polygon fill=\"black\" stroke=\"black\" points=\"-8.39907,-6.05359 1.23116,-10.4706 -3.54269,-1.01216 -8.39907,-6.05359\"/>\r\n<text text-anchor=\"middle\" x=\"-18.938\" y=\"-3.01799\" font-family=\"Times New Roman,serif\" font-size=\"14.00\">0.3</text>\r\n</g>\r\n<!-- rain&#45;&gt;rain -->\r\n<g id=\"edge4\" class=\"edge\"><title>rain&#45;&gt;rain</title>\r\n<path fill=\"none\" stroke=\"black\" d=\"M3.44128,15.3115C14.0256,14.8501 22.9978,17.0803 22.9978,22.0022 22.9978,25.2322 19.1338,27.303 13.4859,28.2146\"/>\r\n<polygon fill=\"black\" stroke=\"black\" points=\"13.5965,31.7132 3.44128,28.6929 13.2634,24.7211 13.5965,31.7132\"/>\r\n<text text-anchor=\"middle\" x=\"31.9978\" y=\"25.7022\" font-family=\"Times New Roman,serif\" font-size=\"14.00\">0.7</text>\r\n</g>\r\n</g>\r\n</svg>\r\n",
            "text/plain": [
              "<graphviz.dot.Digraph at 0x227c2515508>"
            ]
          },
          "execution_count": 4,
          "metadata": {},
          "output_type": "execute_result"
        }
      ],
      "source": [
        "dot = Digraph(engine=\"neato\", comment='Weather Markov chain')\n",
        "dot.attr(overlap=\"false\", splines=\"false\")\n",
        "\n",
        "pos = {\n",
        "    'sun': '1,1!',\n",
        "    'rain': '0,0!',    \n",
        "}\n",
        "\n",
        "for v in outcomeSpace['Weather']:\n",
        "    dot.node(v, pos=pos[v])\n",
        "\n",
        "for v in outcomeSpace['Weather']:\n",
        "    for w in outcomeSpace['Weather']:\n",
        "        dot.edge(v, w, str(weatherTransition[v,w]))\n",
        "\n",
        "dot"
      ]
    },
    {
      "cell_type": "markdown",
      "metadata": {
        "id": "BfnDjvZSc1Yr"
      },
      "source": [
        "We can now implement the mini-forward algoritm for Markov chains. Remember from the slides that the update rule for the forward simulation is the following:\n",
        "\n",
        "$P(x_t) = \\sum_{x_{t-1}}P(x_t | x_{t-1})P(x_{t-1})$\n",
        "\n",
        "- $P(x_{t-1})$ is the previous state probability table.\n",
        "\n",
        "- $P(x_t | x_{t-1})$ is the transition probability table such as the one you defined in the previous exercise.\n",
        "\n",
        "- $P(x_t)$ is the current state probability table.\n",
        "\n",
        "From this equation, it is clear we need two basic operations. One is the multiplication of factors (probability tables) that we implemented in a previous tutorial as a `joint` operation. The second one summing one variable out that we implemented as a `marginalize` operation."
      ]
    },
    {
      "cell_type": "markdown",
      "metadata": {
        "id": "Nt9XUM_Oc1Yr"
      },
      "source": [
        "### Exercise\n",
        "\n",
        "Let's implement the mini-Forward algorithm for Markov chains. We start with the online version that makes a single update (one time step). We use the online version to implement the batch one that runs multiple time steps."
      ]
    },
    {
      "cell_type": "code",
      "execution_count": 5,
      "metadata": {
        "id": "YonjH12lc1Ys",
        "outputId": "e427d38b-499a-4020-e64c-ebf087234377"
      },
      "outputs": [
        {
          "name": "stdout",
          "output_type": "stream",
          "text": [
            "╒═══════════╤══════╕\n",
            "│ Weather   │   Pr │\n",
            "╞═══════════╪══════╡\n",
            "│ sun       │  0.9 │\n",
            "├───────────┼──────┤\n",
            "│ rain      │  0.1 │\n",
            "╘═══════════╧══════╛\n",
            "\n"
          ]
        }
      ],
      "source": [
        "# Answer\n",
        "\n",
        "class MarkovModel():\n",
        "    def __init__(self, start_state, transition, variable_remap):\n",
        "        '''\n",
        "        Takes 3 arguments:\n",
        "        - start_state: a factor representing the start state. E.g. domain might be ('A', 'B', 'C')\n",
        "        - transition: a factor that represents the transition probs. E.g. P('A_next', 'B_next', 'C_next' | 'A', 'B', 'C')\n",
        "        - variable_remap: a dictionary that maps new variable names to old variable names,\n",
        "                          to reset the state after transition. E.g. {'A_next':'A', 'B_next':'B', 'C_next':'C'}\n",
        "        '''\n",
        "        self.state = start_state\n",
        "        self.transition = transition\n",
        "        self.remap = variable_remap\n",
        "\n",
        "    def forward(self):\n",
        "        # get state vars (to be marginalized later)\n",
        "        state_vars = self.state.domain\n",
        "        # join with transition factor\n",
        "        f = self.state*self.transition\n",
        "        # marginalize out old state vars, leaving only new state vars\n",
        "        for var in state_vars:\n",
        "            f = f.marginalize(var)\n",
        "        # remap variables to their original names\n",
        "        f.domain = tuple(self.remap[var] for var in f.domain)\n",
        "        self.state = f\n",
        "        return self.state\n",
        "\n",
        "\n",
        "##################\n",
        "# Test code\n",
        "\n",
        "variable_remap = {\n",
        "    \"Weather_next\": \"Weather\"\n",
        "}\n",
        "mm = MarkovModel(weatherStart, weatherTransition, variable_remap)\n",
        "\n",
        "print(mm.forward())"
      ]
    },
    {
      "cell_type": "markdown",
      "metadata": {
        "id": "5JGOz-rac1Ys"
      },
      "source": [
        "If your implementation is correct, you should have the following output:\n",
        "\n",
        "```\n",
        "╒═══════════╤══════╕\n",
        "│ Weather   │   Pr │\n",
        "╞═══════════╪══════╡\n",
        "│ sun       │  0.9 │\n",
        "├───────────┼──────┤\n",
        "│ rain      │  0.1 │\n",
        "╘═══════════╧══════╛\n",
        "```"
      ]
    },
    {
      "cell_type": "markdown",
      "metadata": {
        "id": "RxnxhcHVc1Yt"
      },
      "source": [
        "We can use the mini-forward online implementation to make a simple batch extension that calls the online subroutine a fixed number of times.\n",
        "\n",
        "### Exercise\n",
        "\n",
        "Implement the batch version of the mini-forward algorithm for Markov chains"
      ]
    },
    {
      "cell_type": "code",
      "execution_count": 6,
      "metadata": {
        "id": "mhUumNI1c1Yt",
        "outputId": "9dd5ba89-87b6-4020-e15f-18e438940b5a"
      },
      "outputs": [
        {
          "name": "stdout",
          "output_type": "stream",
          "text": [
            "╒═══════════╤══════╕\n",
            "│ Weather   │   Pr │\n",
            "╞═══════════╪══════╡\n",
            "│ sun       │  0.9 │\n",
            "├───────────┼──────┤\n",
            "│ rain      │  0.1 │\n",
            "╘═══════════╧══════╛\n",
            "\n",
            "╒═══════════╤══════╕\n",
            "│ Weather   │   Pr │\n",
            "╞═══════════╪══════╡\n",
            "│ sun       │ 0.84 │\n",
            "├───────────┼──────┤\n",
            "│ rain      │ 0.16 │\n",
            "╘═══════════╧══════╛\n",
            "\n",
            "╒═══════════╤═══════╕\n",
            "│ Weather   │    Pr │\n",
            "╞═══════════╪═══════╡\n",
            "│ sun       │ 0.804 │\n",
            "├───────────┼───────┤\n",
            "│ rain      │ 0.196 │\n",
            "╘═══════════╧═══════╛\n",
            "\n"
          ]
        }
      ],
      "source": [
        "# Answer\n",
        "\n",
        "class MarkovModel(MarkovModel):\n",
        "    def forwardBatch(self, n):\n",
        "        ''' Do `n` steps, and return history list of states '''\n",
        "        history = []\n",
        "        for i in range(n):\n",
        "            state = self.forward()\n",
        "            history.append(state)\n",
        "        return history\n",
        "\n",
        "\n",
        "##################\n",
        "# Test code\n",
        "\n",
        "variable_remap = {\n",
        "    \"Weather_next\": \"Weather\"\n",
        "}\n",
        "mm = MarkovModel(weatherStart, weatherTransition, variable_remap)\n",
        "\n",
        "history = mm.forwardBatch(3)\n",
        "for factor in history:\n",
        "    print(factor)"
      ]
    },
    {
      "cell_type": "markdown",
      "metadata": {
        "id": "mTjAv4TIc1Yt"
      },
      "source": [
        "If you implemented your code correctly, you should see the following output:\n",
        "\n",
        "```\n",
        "╒═══════════╤══════╕\n",
        "│ Weather   │   Pr │\n",
        "╞═══════════╪══════╡\n",
        "│ sun       │  0.9 │\n",
        "├───────────┼──────┤\n",
        "│ rain      │  0.1 │\n",
        "╘═══════════╧══════╛\n",
        "\n",
        "╒═══════════╤══════╕\n",
        "│ Weather   │   Pr │\n",
        "╞═══════════╪══════╡\n",
        "│ sun       │ 0.84 │\n",
        "├───────────┼──────┤\n",
        "│ rain      │ 0.16 │\n",
        "╘═══════════╧══════╛\n",
        "\n",
        "╒═══════════╤═══════╕\n",
        "│ Weather   │    Pr │\n",
        "╞═══════════╪═══════╡\n",
        "│ sun       │ 0.804 │\n",
        "├───────────┼───────┤\n",
        "│ rain      │ 0.196 │\n",
        "╘═══════════╧═══════╛\n",
        "\n",
        "```"
      ]
    },
    {
      "cell_type": "markdown",
      "metadata": {
        "id": "G20c60sSc1Yu"
      },
      "source": [
        "We will now test the convergence of some Markov chains. Remember from the lectures that chains were classified according to two properties:\n",
        "\n",
        "1. Reducibility. An irreducible (or regular) chain has the property that every state is reachable from every state. Therefore the chain has a single stationary distribution. A reducible chain has not such property and, therefore, can have multiple stationary distributions. The general idea is that, if a chain has, say, two disconnected sets of states **A** and **B** and we start in a state $a \\in \\textbf{A}$, then we will never reach a state in **B**. In this case, the stationary distribution will depend on the transition probabilities of the states in **A**. The same occurs if we start in a state $b \\in \\textbf{B}$.\n",
        "\n",
        "2. Periodicity. An irreducible chain is not guaranteed to convergence. To ensure convergence, we need an additional property: aperiodicity. An aperiodic chain avoids alternating forever between states without ever settling in a stationary distribution. A practical issue in that, although irreducible aperiodic chains are guaranteed to converge to a single stationary distribution, the convergence can be very slow, depending on the transition probabilities."
      ]
    },
    {
      "cell_type": "markdown",
      "metadata": {
        "id": "-G6XcTZCc1Yu"
      },
      "source": [
        "### Exercise\n",
        "\n",
        "Let's implement an additional method `forwardUntilConvergence` that runs until convergence or a maximum number of iterations. We will establish convergence when the error between two consecutive state probability distributions is smaller than a threshold.\n",
        "\n",
        "Let's start with the implementation of `forwardUntilConvergence`. We implemented a helper function `factorError` that computes the absolute error between two factors. The error can be throught of as a measure of distance between two factors."
      ]
    },
    {
      "cell_type": "code",
      "execution_count": 7,
      "metadata": {
        "id": "gp961DEHc1Yv",
        "outputId": "08b2c6e2-4c5f-4ac3-c86e-e46724421c1f"
      },
      "outputs": [
        {
          "name": "stdout",
          "output_type": "stream",
          "text": [
            "╒═══════════╤══════════╕\n",
            "│ Weather   │       Pr │\n",
            "╞═══════════╪══════════╡\n",
            "│ sun       │ 0.750001 │\n",
            "├───────────┼──────────┤\n",
            "│ rain      │ 0.249999 │\n",
            "╘═══════════╧══════════╛\n",
            "\n"
          ]
        },
        {
          "data": {
            "image/png": "[encoded data removed]",
            "text/plain": [
              "<Figure size 432x288 with 1 Axes>"
            ]
          },
          "metadata": {
            "needs_background": "light"
          },
          "output_type": "display_data"
        }
      ],
      "source": [
        "# Answer\n",
        "\n",
        "def factorError(f1, f2):\n",
        "    \"\"\"\n",
        "    argument \n",
        "    `f1`, factor with the current state probability distribution in the chain.\n",
        "    `f2`, factor with the previous state probability distribution in the chain.\n",
        "    \n",
        "    Returns absolute error between f1 and f2. \n",
        "    \"\"\"\n",
        "    assert f1.domain == f2.domain\n",
        "    return np.sum(np.abs(f1.table - f2.table))\n",
        "\n",
        "class MarkovModel(MarkovModel):\n",
        "    def forwardUntilConvergence(self, max_iters=1000, eps=0.000001):\n",
        "        '''\n",
        "        Arguments:\n",
        "        `n`, maximum number of time updates.\n",
        "        `eps`, error threshold to determine convergence.\n",
        "        Returns:\n",
        "        A history of error values\n",
        "        A factor that represents the current state of the chain after n time steps or the convergence error is less than eps.\n",
        "        '''\n",
        "        errors = []\n",
        "        prevState = self.state\n",
        "        for i in range(max_iters):\n",
        "            newState = self.forward()\n",
        "            error = factorError(prevState, newState)\n",
        "            if error < eps:\n",
        "                break\n",
        "            errors.append(error)\n",
        "            prevState = newState\n",
        "        return errors, newState\n",
        "\n",
        "##################\n",
        "# Test code\n",
        "        \n",
        "variable_remap = {\n",
        "    \"Weather_next\": \"Weather\"\n",
        "}\n",
        "mm = MarkovModel(weatherStart, weatherTransition, variable_remap)\n",
        "errors, state = mm.forwardUntilConvergence()\n",
        "print(state)\n",
        "plt.plot(errors, 'ro')\n",
        "plt.show()\n"
      ]
    },
    {
      "cell_type": "markdown",
      "metadata": {
        "id": "BW9zi4eRc1Yv"
      },
      "source": [
        "If you implemented your code correctly, you should see an output like this:\n",
        "\n",
        "```\n",
        "╒═══════════╤══════════╕\n",
        "│ Weather   │       Pr │\n",
        "╞═══════════╪══════════╡\n",
        "│ sun       │ 0.750001 │\n",
        "├───────────┼──────────┤\n",
        "│ rain      │ 0.249999 │\n",
        "╘═══════════╧══════════╛\n",
        "```\n",
        "\n",
        "### Exercise\n",
        "\n",
        "Now, we can test the convergence of some Markov chains of the previous tutorial. \n",
        "\n",
        "The first one has the following transition matrix:\n",
        "\n",
        "$\\begin{bmatrix}\n",
        "0 & 1 & 0 & 0 \\\\\n",
        "1/2 & 0 & 1/2 & 0 \\\\\n",
        "0 & 1/2 & 0 & 1/2 \\\\\n",
        "0 & 0 & 1 & 0 \\\\\n",
        "\\end{bmatrix}$\n",
        "    \n",
        "This chain is irreducible since we can reach any state from any state. However, it is periodic since if we start from state 1 in time 1, we reach states 1 and 3 at odd times and 2 and 4 at even times. Its stationary distribution is $(1/6, 2/6, 2/6, 1/6)$.\n",
        "\n",
        "Use the implemented function to confirm that this chain does not converge. Use the next cell to define the necessary variables and call the `forwardUntilConvergence` function."
      ]
    },
    {
      "cell_type": "code",
      "execution_count": 8,
      "metadata": {
        "id": "h0NXgI_-c1Yw",
        "outputId": "12bf5816-fbd8-4368-d2d8-2cd19b3b2cd3"
      },
      "outputs": [
        {
          "name": "stdout",
          "output_type": "stream",
          "text": [
            "╒═════╤══════════╕\n",
            "│   R │       Pr │\n",
            "╞═════╪══════════╡\n",
            "│   0 │ 0.333333 │\n",
            "├─────┼──────────┤\n",
            "│   1 │ 0        │\n",
            "├─────┼──────────┤\n",
            "│   2 │ 0.666667 │\n",
            "├─────┼──────────┤\n",
            "│   3 │ 0        │\n",
            "╘═════╧══════════╛\n",
            "\n"
          ]
        },
        {
          "data": {
            "image/png": "[encoded data removed]",
            "text/plain": [
              "<Figure size 432x288 with 1 Axes>"
            ]
          },
          "metadata": {
            "needs_background": "light"
          },
          "output_type": "display_data"
        }
      ],
      "source": [
        "# Answer\n",
        "\n",
        "outcomeSpace_c1 = {\n",
        "    'R':(0,1,2,3),\n",
        "    'R_next':(0,1,2,3),\n",
        "}\n",
        "\n",
        "t = Factor(('R', 'R_next'), outcomeSpace_c1)\n",
        "t[0, 0] = 0.0\n",
        "t[0, 1] = 1.0\n",
        "t[0, 2] = 0.0\n",
        "t[0, 3] = 0.0\n",
        "t[1, 0] = 0.5\n",
        "t[1, 1] = 0.0\n",
        "t[1, 2] = 0.5\n",
        "t[1, 3] = 0.0\n",
        "t[2, 0] = 0.0\n",
        "t[2, 1] = 0.5\n",
        "t[2, 2] = 0.0\n",
        "t[2, 3] = 0.5\n",
        "t[3, 0] = 0.0\n",
        "t[3, 1] = 0.0\n",
        "t[3, 2] = 1.0\n",
        "t[3, 3] = 0.0\n",
        "\n",
        "s = Factor(('R',), outcomeSpace_c1)\n",
        "s[0] = 1.0\n",
        "s[1] = 0.0\n",
        "s[2] = 0.0\n",
        "s[3] = 0.0\n",
        "\n",
        "\n",
        "##################\n",
        "# Test code\n",
        "\n",
        "variable_remap = {\n",
        "    \"R_next\": \"R\"\n",
        "}\n",
        "mm = MarkovModel(s, t, variable_remap)\n",
        "errors, state = mm.forwardUntilConvergence()\n",
        "print(state)\n",
        "plt.plot(errors, 'ro')\n",
        "plt.show()"
      ]
    },
    {
      "cell_type": "markdown",
      "metadata": {
        "id": "g59_XIQ8c1Yy"
      },
      "source": [
        "The second one has the following transition matrix:\n",
        "\n",
        "$\\begin{bmatrix}\n",
        "1/2 & 1/2 & 0 & 0 \\\\\n",
        "1/2 & 0 & 1/2 & 0 \\\\\n",
        "0 & 1/2 & 0 & 1/2 \\\\\n",
        "0 & 0 & 0 & 1 \\\\\n",
        "\\end{bmatrix}$\n",
        "    \n",
        "This chain is reducible since state 4 is absorbing (once entered, cannot be left) and aperiodic. Its stationary distribution is $(0, 0, 0, 1)$.\n",
        "\n",
        "Use the implemented function to verify this chain convergence. Use the next cell to define the necessary variables and call `forwardUntilConvergence` function."
      ]
    },
    {
      "cell_type": "code",
      "execution_count": 9,
      "metadata": {
        "id": "p8oOs2TBc1Yy",
        "outputId": "daae4998-d211-4b7b-affc-352c75ec6979"
      },
      "outputs": [
        {
          "name": "stdout",
          "output_type": "stream",
          "text": [
            "╒═════╤═════════════╕\n",
            "│   R │          Pr │\n",
            "╞═════╪═════════════╡\n",
            "│   0 │ 1.99564e-06 │\n",
            "├─────┼─────────────┤\n",
            "│   1 │ 1.60038e-06 │\n",
            "├─────┼─────────────┤\n",
            "│   2 │ 8.88141e-07 │\n",
            "├─────┼─────────────┤\n",
            "│   3 │ 0.999996    │\n",
            "╘═════╧═════════════╛\n",
            "\n"
          ]
        },
        {
          "data": {
            "image/png": "[encoded data removed]",
            "text/plain": [
              "<Figure size 432x288 with 1 Axes>"
            ]
          },
          "metadata": {
            "needs_background": "light"
          },
          "output_type": "display_data"
        }
      ],
      "source": [
        "# Answer\n",
        "\n",
        "outcomeSpace_c2 = {\n",
        "    'R':(0,1,2,3),\n",
        "    'R_next':(0,1,2,3),\n",
        "}\n",
        "\n",
        "t = Factor(('R', 'R_next'), outcomeSpace_c2)\n",
        "# We can set the values in the factor in a different way by directly setting the table\n",
        "# This is quicker, but you have to be careful that the domain is in the right order\n",
        "t.table = np.array(\n",
        "    [\n",
        "     [.5, .5, 0, 0],\n",
        "     [.5, 0, .5, 0],\n",
        "     [0, .5, 0, .5],\n",
        "     [0, 0, 0, 1]\n",
        "    ]\n",
        ")\n",
        "\n",
        "s = Factor(('R',), outcomeSpace_c2)\n",
        "s.table = np.array(\n",
        "    [1,0,0,0]\n",
        ")\n",
        "\n",
        "##################\n",
        "# Test code\n",
        "\n",
        "variable_remap = {\n",
        "    \"R_next\": \"R\"\n",
        "}\n",
        "mm = MarkovModel(s, t, variable_remap)\n",
        "errors, state = mm.forwardUntilConvergence()\n",
        "print(state)\n",
        "plt.plot(errors, 'ro')\n",
        "plt.show()"
      ]
    },
    {
      "cell_type": "markdown",
      "metadata": {
        "id": "X7WwXia1c1Yz"
      },
      "source": [
        "The third one has the following transition matrix:\n",
        "\n",
        "$\\begin{bmatrix}\n",
        "1/2 & 1/2 & 0 & 0 \\\\\n",
        "1/2 & 1/2 & 0 & 0 \\\\\n",
        "0 & 0 & 1/2 & 1/2 \\\\\n",
        "0 & 0 & 1/2 & 1/2 \\\\\n",
        "\\end{bmatrix}$\n",
        "    \n",
        "This chain is reducible since we cannot reach states {3,4} from states {1,2} and vice-versa and aperiodic. It has two stationary distributions: $(1/2, 1/2, 0, 0)$ and $(0, 0, 1/2, 1/2)$.\n",
        "\n",
        "Use the implemented function to verify this chain convergence. Use the next cell to define the necessary variables and call `forwardUntilConvergence` function."
      ]
    },
    {
      "cell_type": "code",
      "execution_count": 10,
      "metadata": {
        "id": "UNUcppYgc1Yz",
        "outputId": "2b484506-838f-42c3-dbcc-9ab409f95fa3"
      },
      "outputs": [
        {
          "name": "stdout",
          "output_type": "stream",
          "text": [
            "╒═════╤══════╕\n",
            "│   R │   Pr │\n",
            "╞═════╪══════╡\n",
            "│   0 │  0.5 │\n",
            "├─────┼──────┤\n",
            "│   1 │  0.5 │\n",
            "├─────┼──────┤\n",
            "│   2 │  0   │\n",
            "├─────┼──────┤\n",
            "│   3 │  0   │\n",
            "╘═════╧══════╛\n",
            "\n"
          ]
        },
        {
          "data": {
            "image/png": "[encoded data removed]",
            "text/plain": [
              "<Figure size 432x288 with 1 Axes>"
            ]
          },
          "metadata": {
            "needs_background": "light"
          },
          "output_type": "display_data"
        }
      ],
      "source": [
        "# Answer\n",
        "\n",
        "outcomeSpace_c3 = {\n",
        "    'R':(0,1,2,3),\n",
        "    'R_next':(0,1,2,3),\n",
        "}\n",
        "\n",
        "t = Factor(('R', 'R_next'), outcomeSpace_c3)\n",
        "t.table = np.array(\n",
        "    [[.5, .5, 0, 0],\n",
        "     [.5, .5, 0, 0],\n",
        "     [0, 0, .5, .5],\n",
        "     [0, 0, .5, .5]]\n",
        ")\n",
        "\n",
        "s = Factor(('R',), outcomeSpace_c3)\n",
        "s.table = np.array(\n",
        "    [1,0,0,0]\n",
        ")\n",
        "\n",
        "##################\n",
        "# Test code\n",
        "\n",
        "variable_remap = {\n",
        "    \"R_next\": \"R\"\n",
        "}\n",
        "mm = MarkovModel(s, t, variable_remap)\n",
        "errors, state = mm.forwardUntilConvergence()\n",
        "print(state)\n",
        "plt.plot(errors, 'ro')\n",
        "plt.show()"
      ]
    },
    {
      "cell_type": "markdown",
      "metadata": {
        "id": "6AOyZeeyc1Y0"
      },
      "source": [
        "Finally, we have a chain in the form:\n",
        "\n",
        "$\\begin{bmatrix}\n",
        "1-e & e \\\\\n",
        "e & 1-e \\\\\n",
        "\\end{bmatrix}$\n",
        "    \n",
        "This chain is irreducible and aperiodic, but its convergence can be very slow for small values of $e$. It has one stationary distribution: $(1/2, 1/2)$.\n",
        "\n",
        "Use the implemented function to verify the chain convergence. Change the value of $e$. Use the next cell to define the necessary variables and call `forwardUntilConvergence` function."
      ]
    },
    {
      "cell_type": "code",
      "execution_count": 11,
      "metadata": {
        "id": "ijngp60Ac1Y1",
        "outputId": "bb572e7e-6ca3-4c16-9762-7738820e525b"
      },
      "outputs": [
        {
          "name": "stdout",
          "output_type": "stream",
          "text": [
            "╒═════╤═══════════╕\n",
            "│   R │        Pr │\n",
            "╞═════╪═══════════╡\n",
            "│   0 │ 0.909357  │\n",
            "├─────┼───────────┤\n",
            "│   1 │ 0.0906428 │\n",
            "╘═════╧═══════════╛\n",
            "\n"
          ]
        },
        {
          "data": {
            "image/png": "[encoded data removed]",
            "text/plain": [
              "<Figure size 432x288 with 1 Axes>"
            ]
          },
          "metadata": {
            "needs_background": "light"
          },
          "output_type": "display_data"
        }
      ],
      "source": [
        "# Answer\n",
        "\n",
        "e = 0.0001\n",
        "\n",
        "outcomeSpace_c4 = {\n",
        "    'R':(0,1),\n",
        "    'R_next':(0,1),\n",
        "}\n",
        "\n",
        "t = Factor(('R', 'R_next'), outcomeSpace_c4)\n",
        "t.table = np.array(\n",
        "    [[1-e, e],\n",
        "     [e, 1-e]]\n",
        ")\n",
        "\n",
        "s = Factor(('R',), outcomeSpace_c4)\n",
        "s.table = np.array(\n",
        "    [1,0]\n",
        ")\n",
        "\n",
        "##################\n",
        "# Test code\n",
        "\n",
        "variable_remap = {\n",
        "    \"R_next\": \"R\"\n",
        "}\n",
        "mm = MarkovModel(s, t, variable_remap)\n",
        "errors, state = mm.forwardUntilConvergence()\n",
        "print(state)\n",
        "plt.plot(errors, 'ro')\n",
        "plt.show()"
      ]
    },
    {
      "cell_type": "markdown",
      "metadata": {
        "id": "gG2xoVQOc1Y1"
      },
      "source": [
        "\n",
        "# PageRank algorithm\n",
        "\n",
        "The PageRank algorithm is the original algorithm used by Google 1.0. It can be interpreted as a direct application of Markov chains. \n",
        "\n",
        "PageRank models the web as a state graph: pages are states and hyperlinks are transitions. The transition probabilities as set as follows:\n",
        "\n",
        "Imagine you are surfing the web. \n",
        "* With 85% probability, you will jump to the next website by randomly selecting from the links on that page. \n",
        "* With 15% probability, you will jump randomly to any random page on the graph. \n",
        "* If you are at a page with no links, you will always jump to a random page on the graph.\n",
        "\n",
        "Using these transition probabilities, the PageRank algorithm estimates the stationary distribution over webpages, and uses the probabilities of this distribution as an estimate of the \"popularity\" of every webpage.\n",
        "\n",
        "The following figure from [Wikipedia](https://en.wikipedia.org/wiki/PageRank) illustrates the final probabilities (in percentages) of PageRank for a small graph.\n",
        "\n",
        "![](https://github.com/UNSW-COMP9418/Week05/blob/main/img/page_rank.png?raw=1)"
      ]
    },
    {
      "cell_type": "markdown",
      "metadata": {
        "id": "mHpg7t_oc1Y1"
      },
      "source": [
        "Let's use the mini-forward algorithm to implement the PageRank algorithm. We will use this figure to compare our results. We start by defining this graph. We will do it for you."
      ]
    },
    {
      "cell_type": "code",
      "execution_count": 12,
      "metadata": {
        "id": "r1COkTeZc1Y1"
      },
      "outputs": [],
      "source": [
        "# alpha sets the weight portion reserved for regular edges\n",
        "alpha = .85\n",
        "\n",
        "outcomePageRank = {\n",
        "    \"P\":('A','B','C','D','E','F','G','H','I','J','K'),\n",
        "    \"P_next\":('A','B','C','D','E','F','G','H','I','J','K'),\n",
        "}\n",
        "\n",
        "page_graph = Graph({\n",
        "    \"A\" : [],\n",
        "    'B' : ['C'],\n",
        "    'C' : ['B'],\n",
        "    'D' : ['B','A'],\n",
        "    'E' : ['B','D','F'],\n",
        "    'F' : ['B','E'],\n",
        "    'G' : ['B','E'],\n",
        "    'H' : ['B','E'],\n",
        "    'I' : ['B','E'],\n",
        "    'J' : ['E'],\n",
        "    'K' : ['E'],\n",
        "})"
      ]
    },
    {
      "cell_type": "markdown",
      "metadata": {
        "id": "YyVlb5mVc1Y1"
      },
      "source": [
        "## Exercise\n",
        "\n",
        "Fill in the function below to create a transition table according to the rules above. "
      ]
    },
    {
      "cell_type": "code",
      "execution_count": 13,
      "metadata": {
        "id": "KYg8RbgFc1Y2",
        "outputId": "354bf387-8fba-48f4-a5de-e3ce65a74297"
      },
      "outputs": [
        {
          "name": "stdout",
          "output_type": "stream",
          "text": [
            "╒═════╤══════════╤═══════════╕\n",
            "│ P   │ P_next   │        Pr │\n",
            "╞═════╪══════════╪═══════════╡\n",
            "│ A   │ A        │ 0.0909091 │\n",
            "├─────┼──────────┼───────────┤\n",
            "│ A   │ B        │ 0.0909091 │\n",
            "├─────┼──────────┼───────────┤\n",
            "│ A   │ C        │ 0.0909091 │\n",
            "├─────┼──────────┼───────────┤\n",
            "│ A   │ D        │ 0.0909091 │\n",
            "├─────┼──────────┼───────────┤\n",
            "│ A   │ E        │ 0.0909091 │\n",
            "├─────┼──────────┼───────────┤\n",
            "│ A   │ F        │ 0.0909091 │\n",
            "├─────┼──────────┼───────────┤\n",
            "│ A   │ G        │ 0.0909091 │\n",
            "├─────┼──────────┼───────────┤\n",
            "│ A   │ H        │ 0.0909091 │\n",
            "├─────┼──────────┼───────────┤\n",
            "│ A   │ I        │ 0.0909091 │\n",
            "├─────┼──────────┼───────────┤\n",
            "│ A   │ J        │ 0.0909091 │\n",
            "├─────┼──────────┼───────────┤\n",
            "│ A   │ K        │ 0.0909091 │\n",
            "├─────┼──────────┼───────────┤\n",
            "│ B   │ A        │ 0.0136364 │\n",
            "├─────┼──────────┼───────────┤\n",
            "│ B   │ B        │ 0.0136364 │\n",
            "├─────┼──────────┼───────────┤\n",
            "│ B   │ C        │ 0.863636  │\n",
            "├─────┼──────────┼───────────┤\n",
            "│ B   │ D        │ 0.0136364 │\n",
            "├─────┼──────────┼───────────┤\n",
            "│ B   │ E        │ 0.0136364 │\n",
            "├─────┼──────────┼───────────┤\n",
            "│ B   │ F        │ 0.0136364 │\n",
            "├─────┼──────────┼───────────┤\n",
            "│ B   │ G        │ 0.0136364 │\n",
            "├─────┼──────────┼───────────┤\n",
            "│ B   │ H        │ 0.0136364 │\n",
            "├─────┼──────────┼───────────┤\n",
            "│ B   │ I        │ 0.0136364 │\n",
            "├─────┼──────────┼───────────┤\n",
            "│ B   │ J        │ 0.0136364 │\n",
            "├─────┼──────────┼───────────┤\n",
            "│ B   │ K        │ 0.0136364 │\n",
            "├─────┼──────────┼───────────┤\n",
            "│ C   │ A        │ 0.0136364 │\n",
            "├─────┼──────────┼───────────┤\n",
            "│ C   │ B        │ 0.863636  │\n",
            "├─────┼──────────┼───────────┤\n",
            "│ C   │ C        │ 0.0136364 │\n",
            "├─────┼──────────┼───────────┤\n",
            "│ C   │ D        │ 0.0136364 │\n",
            "├─────┼──────────┼───────────┤\n",
            "│ C   │ E        │ 0.0136364 │\n",
            "├─────┼──────────┼───────────┤\n",
            "│ C   │ F        │ 0.0136364 │\n",
            "├─────┼──────────┼───────────┤\n",
            "│ C   │ G        │ 0.0136364 │\n",
            "├─────┼──────────┼───────────┤\n",
            "│ C   │ H        │ 0.0136364 │\n",
            "├─────┼──────────┼───────────┤\n",
            "│ C   │ I        │ 0.0136364 │\n",
            "├─────┼──────────┼───────────┤\n",
            "│ C   │ J        │ 0.0136364 │\n",
            "├─────┼──────────┼───────────┤\n",
            "│ C   │ K        │ 0.0136364 │\n",
            "├─────┼──────────┼───────────┤\n",
            "│ D   │ A        │ 0.438636  │\n",
            "├─────┼──────────┼───────────┤\n",
            "│ D   │ B        │ 0.438636  │\n",
            "├─────┼──────────┼───────────┤\n",
            "│ D   │ C        │ 0.0136364 │\n",
            "├─────┼──────────┼───────────┤\n",
            "│ D   │ D        │ 0.0136364 │\n",
            "├─────┼──────────┼───────────┤\n",
            "│ D   │ E        │ 0.0136364 │\n",
            "├─────┼──────────┼───────────┤\n",
            "│ D   │ F        │ 0.0136364 │\n",
            "├─────┼──────────┼───────────┤\n",
            "│ D   │ G        │ 0.0136364 │\n",
            "├─────┼──────────┼───────────┤\n",
            "│ D   │ H        │ 0.0136364 │\n",
            "├─────┼──────────┼───────────┤\n",
            "│ D   │ I        │ 0.0136364 │\n",
            "├─────┼──────────┼───────────┤\n",
            "│ D   │ J        │ 0.0136364 │\n",
            "├─────┼──────────┼───────────┤\n",
            "│ D   │ K        │ 0.0136364 │\n",
            "├─────┼──────────┼───────────┤\n",
            "│ E   │ A        │ 0.0136364 │\n",
            "├─────┼──────────┼───────────┤\n",
            "│ E   │ B        │ 0.29697   │\n",
            "├─────┼──────────┼───────────┤\n",
            "│ E   │ C        │ 0.0136364 │\n",
            "├─────┼──────────┼───────────┤\n",
            "│ E   │ D        │ 0.29697   │\n",
            "├─────┼──────────┼───────────┤\n",
            "│ E   │ E        │ 0.0136364 │\n",
            "├─────┼──────────┼───────────┤\n",
            "│ E   │ F        │ 0.29697   │\n",
            "├─────┼──────────┼───────────┤\n",
            "│ E   │ G        │ 0.0136364 │\n",
            "├─────┼──────────┼───────────┤\n",
            "│ E   │ H        │ 0.0136364 │\n",
            "├─────┼──────────┼───────────┤\n",
            "│ E   │ I        │ 0.0136364 │\n",
            "├─────┼──────────┼───────────┤\n",
            "│ E   │ J        │ 0.0136364 │\n",
            "├─────┼──────────┼───────────┤\n",
            "│ E   │ K        │ 0.0136364 │\n",
            "├─────┼──────────┼───────────┤\n",
            "│ F   │ A        │ 0.0136364 │\n",
            "├─────┼──────────┼───────────┤\n",
            "│ F   │ B        │ 0.438636  │\n",
            "├─────┼──────────┼───────────┤\n",
            "│ F   │ C        │ 0.0136364 │\n",
            "├─────┼──────────┼───────────┤\n",
            "│ F   │ D        │ 0.0136364 │\n",
            "├─────┼──────────┼───────────┤\n",
            "│ F   │ E        │ 0.438636  │\n",
            "├─────┼──────────┼───────────┤\n",
            "│ F   │ F        │ 0.0136364 │\n",
            "├─────┼──────────┼───────────┤\n",
            "│ F   │ G        │ 0.0136364 │\n",
            "├─────┼──────────┼───────────┤\n",
            "│ F   │ H        │ 0.0136364 │\n",
            "├─────┼──────────┼───────────┤\n",
            "│ F   │ I        │ 0.0136364 │\n",
            "├─────┼──────────┼───────────┤\n",
            "│ F   │ J        │ 0.0136364 │\n",
            "├─────┼──────────┼───────────┤\n",
            "│ F   │ K        │ 0.0136364 │\n",
            "├─────┼──────────┼───────────┤\n",
            "│ G   │ A        │ 0.0136364 │\n",
            "├─────┼──────────┼───────────┤\n",
            "│ G   │ B        │ 0.438636  │\n",
            "├─────┼──────────┼───────────┤\n",
            "│ G   │ C        │ 0.0136364 │\n",
            "├─────┼──────────┼───────────┤\n",
            "│ G   │ D        │ 0.0136364 │\n",
            "├─────┼──────────┼───────────┤\n",
            "│ G   │ E        │ 0.438636  │\n",
            "├─────┼──────────┼───────────┤\n",
            "│ G   │ F        │ 0.0136364 │\n",
            "├─────┼──────────┼───────────┤\n",
            "│ G   │ G        │ 0.0136364 │\n",
            "├─────┼──────────┼───────────┤\n",
            "│ G   │ H        │ 0.0136364 │\n",
            "├─────┼──────────┼───────────┤\n",
            "│ G   │ I        │ 0.0136364 │\n",
            "├─────┼──────────┼───────────┤\n",
            "│ G   │ J        │ 0.0136364 │\n",
            "├─────┼──────────┼───────────┤\n",
            "│ G   │ K        │ 0.0136364 │\n",
            "├─────┼──────────┼───────────┤\n",
            "│ H   │ A        │ 0.0136364 │\n",
            "├─────┼──────────┼───────────┤\n",
            "│ H   │ B        │ 0.438636  │\n",
            "├─────┼──────────┼───────────┤\n",
            "│ H   │ C        │ 0.0136364 │\n",
            "├─────┼──────────┼───────────┤\n",
            "│ H   │ D        │ 0.0136364 │\n",
            "├─────┼──────────┼───────────┤\n",
            "│ H   │ E        │ 0.438636  │\n",
            "├─────┼──────────┼───────────┤\n",
            "│ H   │ F        │ 0.0136364 │\n",
            "├─────┼──────────┼───────────┤\n",
            "│ H   │ G        │ 0.0136364 │\n",
            "├─────┼──────────┼───────────┤\n",
            "│ H   │ H        │ 0.0136364 │\n",
            "├─────┼──────────┼───────────┤\n",
            "│ H   │ I        │ 0.0136364 │\n",
            "├─────┼──────────┼───────────┤\n",
            "│ H   │ J        │ 0.0136364 │\n",
            "├─────┼──────────┼───────────┤\n",
            "│ H   │ K        │ 0.0136364 │\n",
            "├─────┼──────────┼───────────┤\n",
            "│ I   │ A        │ 0.0136364 │\n",
            "├─────┼──────────┼───────────┤\n",
            "│ I   │ B        │ 0.438636  │\n",
            "├─────┼──────────┼───────────┤\n",
            "│ I   │ C        │ 0.0136364 │\n",
            "├─────┼──────────┼───────────┤\n",
            "│ I   │ D        │ 0.0136364 │\n",
            "├─────┼──────────┼───────────┤\n",
            "│ I   │ E        │ 0.438636  │\n",
            "├─────┼──────────┼───────────┤\n",
            "│ I   │ F        │ 0.0136364 │\n",
            "├─────┼──────────┼───────────┤\n",
            "│ I   │ G        │ 0.0136364 │\n",
            "├─────┼──────────┼───────────┤\n",
            "│ I   │ H        │ 0.0136364 │\n",
            "├─────┼──────────┼───────────┤\n",
            "│ I   │ I        │ 0.0136364 │\n",
            "├─────┼──────────┼───────────┤\n",
            "│ I   │ J        │ 0.0136364 │\n",
            "├─────┼──────────┼───────────┤\n",
            "│ I   │ K        │ 0.0136364 │\n",
            "├─────┼──────────┼───────────┤\n",
            "│ J   │ A        │ 0.0136364 │\n",
            "├─────┼──────────┼───────────┤\n",
            "│ J   │ B        │ 0.0136364 │\n",
            "├─────┼──────────┼───────────┤\n",
            "│ J   │ C        │ 0.0136364 │\n",
            "├─────┼──────────┼───────────┤\n",
            "│ J   │ D        │ 0.0136364 │\n",
            "├─────┼──────────┼───────────┤\n",
            "│ J   │ E        │ 0.863636  │\n",
            "├─────┼──────────┼───────────┤\n",
            "│ J   │ F        │ 0.0136364 │\n",
            "├─────┼──────────┼───────────┤\n",
            "│ J   │ G        │ 0.0136364 │\n",
            "├─────┼──────────┼───────────┤\n",
            "│ J   │ H        │ 0.0136364 │\n",
            "├─────┼──────────┼───────────┤\n",
            "│ J   │ I        │ 0.0136364 │\n",
            "├─────┼──────────┼───────────┤\n",
            "│ J   │ J        │ 0.0136364 │\n",
            "├─────┼──────────┼───────────┤\n",
            "│ J   │ K        │ 0.0136364 │\n",
            "├─────┼──────────┼───────────┤\n",
            "│ K   │ A        │ 0.0136364 │\n",
            "├─────┼──────────┼───────────┤\n",
            "│ K   │ B        │ 0.0136364 │\n",
            "├─────┼──────────┼───────────┤\n",
            "│ K   │ C        │ 0.0136364 │\n",
            "├─────┼──────────┼───────────┤\n",
            "│ K   │ D        │ 0.0136364 │\n",
            "├─────┼──────────┼───────────┤\n",
            "│ K   │ E        │ 0.863636  │\n",
            "├─────┼──────────┼───────────┤\n",
            "│ K   │ F        │ 0.0136364 │\n",
            "├─────┼──────────┼───────────┤\n",
            "│ K   │ G        │ 0.0136364 │\n",
            "├─────┼──────────┼───────────┤\n",
            "│ K   │ H        │ 0.0136364 │\n",
            "├─────┼──────────┼───────────┤\n",
            "│ K   │ I        │ 0.0136364 │\n",
            "├─────┼──────────┼───────────┤\n",
            "│ K   │ J        │ 0.0136364 │\n",
            "├─────┼──────────┼───────────┤\n",
            "│ K   │ K        │ 0.0136364 │\n",
            "╘═════╧══════════╧═══════════╛\n",
            "\n"
          ]
        }
      ],
      "source": [
        "# Answer\n",
        "\n",
        "def createTransitionTable(graph, outcomePageRank, alpha=0.85):\n",
        "    N = len(graph)\n",
        "    phantomTransition = Factor(('P', 'P_next'), outcomePageRank)\n",
        "    \n",
        "    # for every pair of nodes in the graph\n",
        "    for u in outcomePageRank['P']:\n",
        "        for v in outcomePageRank['P_next']:\n",
        "            # find the number of outgoing links\n",
        "            out_degree = len(graph.children(u))\n",
        "            if out_degree == 0:\n",
        "                # starting at a node 'u' with no neighbors, what's the probability of jumping to v?\n",
        "                prob_v_given_u = 1/N\n",
        "            else:\n",
        "                if v in graph.children(u):\n",
        "                    # starting at 'u', the probability of jumping to a connected node 'v'. \n",
        "                    # (Make sure you take into account the 15% possibility of randomly jumping to any node)\n",
        "                    prob_v_given_u = alpha/out_degree + (1-alpha)/N\n",
        "                else:\n",
        "                    # starting at 'u', the probability of jumping to a random node 'v'\n",
        "                    prob_v_given_u = (1-alpha)/N\n",
        "            phantomTransition[u,v] = prob_v_given_u\n",
        "    return phantomTransition\n",
        "            \n",
        "pageRankTransition = createTransitionTable(page_graph, outcomePageRank)\n",
        "print(pageRankTransition)"
      ]
    },
    {
      "cell_type": "markdown",
      "metadata": {
        "id": "PGgTAIyEc1Y2"
      },
      "source": [
        "Let's use ``GraphViz`` again to plot this graph and ensure we have designed it correctly. Note that we will not print all $11^2$ conditional probabilities, only the ones that correspond to following a link in the above graph. For a node with one outgoing edge, that edge should have a probability of $0.85 + 0.15\\times(1/11) \\approx 0.864 $, which is the sum of the probability of following the link $85$% and the probability of randomly choosing the connected node $15\\%\\times(1/11)$."
      ]
    },
    {
      "cell_type": "code",
      "execution_count": 14,
      "metadata": {
        "id": "Dbm7a_mQc1Y2",
        "outputId": "ce70304f-77c5-4bb5-e2e3-9c73e06e4d05",
        "scrolled": true
      },
      "outputs": [
        {
          "data": {
            "image/svg+xml": "<?xml version=\"1.0\" encoding=\"UTF-8\" standalone=\"no\"?>\r\n<!DOCTYPE svg PUBLIC \"-//W3C//DTD SVG 1.1//EN\"\r\n \"http://www.w3.org/Graphics/SVG/1.1/DTD/svg11.dtd\">\r\n<!-- Generated by graphviz version 2.38.0 (20140413.2041)\r\n -->\r\n<!-- Title: %3 Pages: 1 -->\r\n<svg width=\"314pt\" height=\"171pt\"\r\n viewBox=\"0.00 0.00 314.02 170.91\" xmlns=\"http://www.w3.org/2000/svg\" xmlns:xlink=\"http://www.w3.org/1999/xlink\">\r\n<g id=\"graph0\" class=\"graph\" transform=\"scale(1 1) rotate(0) translate(164.649 98.18)\">\r\n<title>%3</title>\r\n<polygon fill=\"white\" stroke=\"none\" points=\"-164.649,72.7324 -164.649,-98.18 149.375,-98.18 149.375,72.7324 -164.649,72.7324\"/>\r\n<!-- A -->\r\n<g id=\"node1\" class=\"node\"><title>A</title>\r\n<ellipse fill=\"none\" stroke=\"black\" cx=\"-129.649\" cy=\"-73.2801\" rx=\"27\" ry=\"18\"/>\r\n<text text-anchor=\"middle\" x=\"-129.649\" y=\"-69.5801\" font-family=\"Times New Roman,serif\" font-size=\"14.00\">A</text>\r\n</g>\r\n<!-- B -->\r\n<g id=\"node2\" class=\"node\"><title>B</title>\r\n<ellipse fill=\"none\" stroke=\"black\" cx=\"-5.63693\" cy=\"-73.2801\" rx=\"27\" ry=\"18\"/>\r\n<text text-anchor=\"middle\" x=\"-5.63693\" y=\"-69.5801\" font-family=\"Times New Roman,serif\" font-size=\"14.00\">B</text>\r\n</g>\r\n<!-- C -->\r\n<g id=\"node3\" class=\"node\"><title>C</title>\r\n<ellipse fill=\"none\" stroke=\"black\" cx=\"118.375\" cy=\"-73.2801\" rx=\"27\" ry=\"18\"/>\r\n<text text-anchor=\"middle\" x=\"118.375\" y=\"-69.5801\" font-family=\"Times New Roman,serif\" font-size=\"14.00\">C</text>\r\n</g>\r\n<!-- B&#45;&gt;C -->\r\n<g id=\"edge1\" class=\"edge\"><title>B&#45;&gt;C</title>\r\n<path fill=\"none\" stroke=\"black\" d=\"M20.0585,-78.8728C37.9794,-80.1727 62.1483,-80.3775 82.0381,-79.4872\"/>\r\n<polygon fill=\"black\" stroke=\"black\" points=\"82.5025,-82.9665 92.2863,-78.9011 82.1027,-75.9779 82.5025,-82.9665\"/>\r\n<text text-anchor=\"middle\" x=\"66.5483\" y=\"-82.98\" font-family=\"Times New Roman,serif\" font-size=\"14.00\">0.864</text>\r\n</g>\r\n<!-- C&#45;&gt;B -->\r\n<g id=\"edge2\" class=\"edge\"><title>C&#45;&gt;B</title>\r\n<path fill=\"none\" stroke=\"black\" d=\"M92.68,-67.6873C74.7591,-66.3874 50.5902,-66.1826 30.7005,-67.0729\"/>\r\n<polygon fill=\"black\" stroke=\"black\" points=\"30.2361,-63.5936 20.4523,-67.659 30.6358,-70.5822 30.2361,-63.5936\"/>\r\n<text text-anchor=\"middle\" x=\"46.1903\" y=\"-56.1801\" font-family=\"Times New Roman,serif\" font-size=\"14.00\">0.864</text>\r\n</g>\r\n<!-- D -->\r\n<g id=\"node4\" class=\"node\"><title>D</title>\r\n<ellipse fill=\"none\" stroke=\"black\" cx=\"-129.649\" cy=\"-11.2739\" rx=\"27\" ry=\"18\"/>\r\n<text text-anchor=\"middle\" x=\"-129.649\" y=\"-7.57386\" font-family=\"Times New Roman,serif\" font-size=\"14.00\">D</text>\r\n</g>\r\n<!-- D&#45;&gt;A -->\r\n<g id=\"edge4\" class=\"edge\"><title>D&#45;&gt;A</title>\r\n<path fill=\"none\" stroke=\"black\" d=\"M-129.649,-29.5424C-129.649,-34.2936 -129.649,-39.5277 -129.649,-44.6733\"/>\r\n<polygon fill=\"black\" stroke=\"black\" points=\"-133.149,-44.9278 -129.649,-54.9278 -126.149,-44.9279 -133.149,-44.9278\"/>\r\n<text text-anchor=\"middle\" x=\"-145.149\" y=\"-40.9078\" font-family=\"Times New Roman,serif\" font-size=\"14.00\">0.439</text>\r\n</g>\r\n<!-- D&#45;&gt;B -->\r\n<g id=\"edge3\" class=\"edge\"><title>D&#45;&gt;B</title>\r\n<path fill=\"none\" stroke=\"black\" d=\"M-108.048,-22.0745C-88.253,-31.972 -58.7271,-46.735 -36.4572,-57.8699\"/>\r\n<polygon fill=\"black\" stroke=\"black\" points=\"-37.9163,-61.0534 -27.4068,-62.3951 -34.7858,-54.7924 -37.9163,-61.0534\"/>\r\n<text text-anchor=\"middle\" x=\"-87.7526\" y=\"-43.7722\" font-family=\"Times New Roman,serif\" font-size=\"14.00\">0.439</text>\r\n</g>\r\n<!-- E -->\r\n<g id=\"node5\" class=\"node\"><title>E</title>\r\n<ellipse fill=\"none\" stroke=\"black\" cx=\"56.3693\" cy=\"-11.2739\" rx=\"27\" ry=\"18\"/>\r\n<text text-anchor=\"middle\" x=\"56.3693\" y=\"-7.57386\" font-family=\"Times New Roman,serif\" font-size=\"14.00\">E</text>\r\n</g>\r\n<!-- E&#45;&gt;B -->\r\n<g id=\"edge5\" class=\"edge\"><title>E&#45;&gt;B</title>\r\n<path fill=\"none\" stroke=\"black\" d=\"M41.3593,-26.2838C34.0051,-33.6381 24.9975,-42.6457 16.8428,-50.8003\"/>\r\n<polygon fill=\"black\" stroke=\"black\" points=\"14.2618,-48.4316 9.66558,-57.9775 19.2116,-53.3813 14.2618,-48.4316\"/>\r\n<text text-anchor=\"middle\" x=\"13.6011\" y=\"-42.3421\" font-family=\"Times New Roman,serif\" font-size=\"14.00\">0.297</text>\r\n</g>\r\n<!-- E&#45;&gt;D -->\r\n<g id=\"edge6\" class=\"edge\"><title>E&#45;&gt;D</title>\r\n<path fill=\"none\" stroke=\"black\" d=\"M29.3206,-11.2739C-2.77867,-11.2739 -56.473,-11.2739 -92.4648,-11.2739\"/>\r\n<polygon fill=\"black\" stroke=\"black\" points=\"-92.568,-7.77396 -102.568,-11.2739 -92.568,-14.774 -92.568,-7.77396\"/>\r\n<text text-anchor=\"middle\" x=\"-47.0721\" y=\"-15.0739\" font-family=\"Times New Roman,serif\" font-size=\"14.00\">0.297</text>\r\n</g>\r\n<!-- F -->\r\n<g id=\"node6\" class=\"node\"><title>F</title>\r\n<ellipse fill=\"none\" stroke=\"black\" cx=\"118.375\" cy=\"-11.2739\" rx=\"27\" ry=\"18\"/>\r\n<text text-anchor=\"middle\" x=\"118.375\" y=\"-7.57386\" font-family=\"Times New Roman,serif\" font-size=\"14.00\">F</text>\r\n</g>\r\n<!-- E&#45;&gt;F -->\r\n<g id=\"edge7\" class=\"edge\"><title>E&#45;&gt;F</title>\r\n<path fill=\"none\" stroke=\"black\" d=\"M81.5896,-17.9184C81.9416,-17.9314 82.2947,-17.9431 82.6486,-17.9537\"/>\r\n<polygon fill=\"black\" stroke=\"black\" points=\"82.9861,-21.4529 92.9763,-17.9249 82.9665,-14.4529 82.9861,-21.4529\"/>\r\n<text text-anchor=\"middle\" x=\"82.1191\" y=\"-6.73606\" font-family=\"Times New Roman,serif\" font-size=\"14.00\">0.297</text>\r\n</g>\r\n<!-- F&#45;&gt;B -->\r\n<g id=\"edge8\" class=\"edge\"><title>F&#45;&gt;B</title>\r\n<path fill=\"none\" stroke=\"black\" d=\"M96.7742,-22.0745C76.9792,-31.972 47.4533,-46.735 25.1834,-57.8699\"/>\r\n<polygon fill=\"black\" stroke=\"black\" points=\"23.512,-54.7924 16.1329,-62.3951 26.6425,-61.0534 23.512,-54.7924\"/>\r\n<text text-anchor=\"middle\" x=\"76.4788\" y=\"-43.7722\" font-family=\"Times New Roman,serif\" font-size=\"14.00\">0.439</text>\r\n</g>\r\n<!-- F&#45;&gt;E -->\r\n<g id=\"edge9\" class=\"edge\"><title>F&#45;&gt;E</title>\r\n<path fill=\"none\" stroke=\"black\" d=\"M93.1552,-4.62932C92.8031,-4.61635 92.4501,-4.60457 92.0961,-4.59399\"/>\r\n<polygon fill=\"black\" stroke=\"black\" points=\"91.7586,-1.09482 81.7685,-4.62284 91.7783,-8.09479 91.7586,-1.09482\"/>\r\n<text text-anchor=\"middle\" x=\"84.8757\" y=\"6.58834\" font-family=\"Times New Roman,serif\" font-size=\"14.00\">0.439</text>\r\n</g>\r\n<!-- G -->\r\n<g id=\"node7\" class=\"node\"><title>G</title>\r\n<ellipse fill=\"none\" stroke=\"black\" cx=\"-129.649\" cy=\"50.7324\" rx=\"27\" ry=\"18\"/>\r\n<text text-anchor=\"middle\" x=\"-129.649\" y=\"54.4324\" font-family=\"Times New Roman,serif\" font-size=\"14.00\">G</text>\r\n</g>\r\n<!-- G&#45;&gt;B -->\r\n<g id=\"edge10\" class=\"edge\"><title>G&#45;&gt;B</title>\r\n<path fill=\"none\" stroke=\"black\" d=\"M-114.443,35.526C-92.873,13.956 -53.2389,-25.6781 -28.225,-50.692\"/>\r\n<polygon fill=\"black\" stroke=\"black\" points=\"-30.5136,-53.3531 -20.9677,-57.9493 -25.5639,-48.4033 -30.5136,-53.3531\"/>\r\n<text text-anchor=\"middle\" x=\"-86.834\" y=\"-11.383\" font-family=\"Times New Roman,serif\" font-size=\"14.00\">0.439</text>\r\n</g>\r\n<!-- G&#45;&gt;E -->\r\n<g id=\"edge11\" class=\"edge\"><title>G&#45;&gt;E</title>\r\n<path fill=\"none\" stroke=\"black\" d=\"M-105.331,42.6261C-72.744,31.7639 -14.7404,12.4294 22.2173,0.110124\"/>\r\n<polygon fill=\"black\" stroke=\"black\" points=\"21.451,-3.32369 32.0446,-3.16564 23.6646,3.3171 21.451,-3.32369\"/>\r\n<text text-anchor=\"middle\" x=\"-57.0567\" y=\"17.5681\" font-family=\"Times New Roman,serif\" font-size=\"14.00\">0.439</text>\r\n</g>\r\n<!-- H -->\r\n<g id=\"node8\" class=\"node\"><title>H</title>\r\n<ellipse fill=\"none\" stroke=\"black\" cx=\"-67.6431\" cy=\"50.7324\" rx=\"27\" ry=\"18\"/>\r\n<text text-anchor=\"middle\" x=\"-67.6431\" y=\"54.4324\" font-family=\"Times New Roman,serif\" font-size=\"14.00\">H</text>\r\n</g>\r\n<!-- H&#45;&gt;B -->\r\n<g id=\"edge12\" class=\"edge\"><title>H&#45;&gt;B</title>\r\n<path fill=\"none\" stroke=\"black\" d=\"M-59.0214,33.489C-48.5632,12.5725 -30.8295,-22.8949 -18.6927,-47.1686\"/>\r\n<polygon fill=\"black\" stroke=\"black\" points=\"-21.7881,-48.8041 -14.1854,-56.1831 -15.5271,-45.6736 -21.7881,-48.8041\"/>\r\n<text text-anchor=\"middle\" x=\"-23.3571\" y=\"4.3602\" font-family=\"Times New Roman,serif\" font-size=\"14.00\">0.439</text>\r\n</g>\r\n<!-- H&#45;&gt;E -->\r\n<g id=\"edge13\" class=\"edge\"><title>H&#45;&gt;E</title>\r\n<path fill=\"none\" stroke=\"black\" d=\"M-46.0418,39.9317C-26.2468,30.0342 3.2791,15.2712 25.549,4.1363\"/>\r\n<polygon fill=\"black\" stroke=\"black\" points=\"24.0899,0.95277 34.5994,-0.388922 27.2204,7.21377 24.0899,0.95277\"/>\r\n<text text-anchor=\"middle\" x=\"5.25357\" y=\"18.234\" font-family=\"Times New Roman,serif\" font-size=\"14.00\">0.439</text>\r\n</g>\r\n<!-- I -->\r\n<g id=\"node9\" class=\"node\"><title>I</title>\r\n<ellipse fill=\"none\" stroke=\"black\" cx=\"-5.63693\" cy=\"50.7324\" rx=\"27\" ry=\"18\"/>\r\n<text text-anchor=\"middle\" x=\"-5.63693\" y=\"54.4324\" font-family=\"Times New Roman,serif\" font-size=\"14.00\">I</text>\r\n</g>\r\n<!-- I&#45;&gt;B -->\r\n<g id=\"edge14\" class=\"edge\"><title>I&#45;&gt;B</title>\r\n<path fill=\"none\" stroke=\"black\" d=\"M-5.63693,32.6999C-5.63693,12.3107 -5.63693,-21.148 -5.63693,-45.0158\"/>\r\n<polygon fill=\"black\" stroke=\"black\" points=\"-9.13683,-45.2258 -5.63693,-55.2258 -2.13683,-45.2259 -9.13683,-45.2258\"/>\r\n<text text-anchor=\"middle\" x=\"9.86307\" y=\"-9.95798\" font-family=\"Times New Roman,serif\" font-size=\"14.00\">0.439</text>\r\n</g>\r\n<!-- I&#45;&gt;E -->\r\n<g id=\"edge15\" class=\"edge\"><title>I&#45;&gt;E</title>\r\n<path fill=\"none\" stroke=\"black\" d=\"M9.37305,35.7224C16.7273,28.3681 25.7349,19.3605 33.8895,11.2059\"/>\r\n<polygon fill=\"black\" stroke=\"black\" points=\"31.5208,8.62487 41.0668,4.02865 36.4706,13.5746 31.5208,8.62487\"/>\r\n<text text-anchor=\"middle\" x=\"37.1313\" y=\"19.6641\" font-family=\"Times New Roman,serif\" font-size=\"14.00\">0.439</text>\r\n</g>\r\n<!-- J -->\r\n<g id=\"node10\" class=\"node\"><title>J</title>\r\n<ellipse fill=\"none\" stroke=\"black\" cx=\"56.3693\" cy=\"50.7324\" rx=\"27\" ry=\"18\"/>\r\n<text text-anchor=\"middle\" x=\"56.3693\" y=\"54.4324\" font-family=\"Times New Roman,serif\" font-size=\"14.00\">J</text>\r\n</g>\r\n<!-- J&#45;&gt;E -->\r\n<g id=\"edge16\" class=\"edge\"><title>J&#45;&gt;E</title>\r\n<path fill=\"none\" stroke=\"black\" d=\"M56.3693,32.4638C56.3693,27.7126 56.3693,22.4785 56.3693,17.3329\"/>\r\n<polygon fill=\"black\" stroke=\"black\" points=\"52.8694,17.0784 56.3693,7.07838 59.8694,17.0783 52.8694,17.0784\"/>\r\n<text text-anchor=\"middle\" x=\"71.8693\" y=\"21.0984\" font-family=\"Times New Roman,serif\" font-size=\"14.00\">0.864</text>\r\n</g>\r\n<!-- K -->\r\n<g id=\"node11\" class=\"node\"><title>K</title>\r\n<ellipse fill=\"none\" stroke=\"black\" cx=\"118.375\" cy=\"50.7324\" rx=\"27\" ry=\"18\"/>\r\n<text text-anchor=\"middle\" x=\"118.375\" y=\"54.4324\" font-family=\"Times New Roman,serif\" font-size=\"14.00\">K</text>\r\n</g>\r\n<!-- K&#45;&gt;E -->\r\n<g id=\"edge17\" class=\"edge\"><title>K&#45;&gt;E</title>\r\n<path fill=\"none\" stroke=\"black\" d=\"M103.366,35.7224C96.0113,28.3681 87.0037,19.3605 78.849,11.2059\"/>\r\n<polygon fill=\"black\" stroke=\"black\" points=\"76.268,13.5746 71.6718,4.02865 81.2178,8.62487 76.268,13.5746\"/>\r\n<text text-anchor=\"middle\" x=\"106.607\" y=\"19.6641\" font-family=\"Times New Roman,serif\" font-size=\"14.00\">0.864</text>\r\n</g>\r\n</g>\r\n</svg>\r\n",
            "text/plain": [
              "<graphviz.dot.Digraph at 0x227c27c45c8>"
            ]
          },
          "execution_count": 14,
          "metadata": {},
          "output_type": "execute_result"
        }
      ],
      "source": [
        "dot = Digraph(engine=\"neato\", comment='PageRank Markov chain')\n",
        "dot.attr(overlap=\"false\", splines=\"false\", strict=\"true\")\n",
        "\n",
        "pos = {\n",
        "    'A': '0,2!',\n",
        "    'B': '2,2!',\n",
        "    'C': '4,2!',\n",
        "    'D': '0,1!',\n",
        "    'E': '3,1!',\n",
        "    'F': '4,1!',\n",
        "    'G': '0,0!',\n",
        "    'H': '1,0!',\n",
        "    'I': '2,0!',\n",
        "    'J': '3,0!',\n",
        "    'K': '4,0!',\n",
        "}\n",
        "\n",
        "for v in page_graph:\n",
        "    dot.node(v, pos=pos[v])\n",
        "\n",
        "for v in page_graph:\n",
        "    for w in page_graph.children(v):\n",
        "        dot.edge(v, w, str(round(pageRankTransition[v,w],3)))\n",
        "\n",
        "dot"
      ]
    },
    {
      "cell_type": "markdown",
      "metadata": {
        "id": "lrMMR9yJc1Y3"
      },
      "source": [
        "### Running PageRank"
      ]
    },
    {
      "cell_type": "code",
      "execution_count": 15,
      "metadata": {
        "id": "Ocx2IMQyc1Y3",
        "outputId": "4145992c-77dd-4ac3-eef0-cf6ab2cbb6c1"
      },
      "outputs": [
        {
          "name": "stdout",
          "output_type": "stream",
          "text": [
            "╒═════╤═══════════╕\n",
            "│ P   │        Pr │\n",
            "╞═════╪═══════════╡\n",
            "│ A   │ 0.0327815 │\n",
            "├─────┼───────────┤\n",
            "│ B   │ 0.384401  │\n",
            "├─────┼───────────┤\n",
            "│ C   │ 0.34291   │\n",
            "├─────┼───────────┤\n",
            "│ D   │ 0.0390871 │\n",
            "├─────┼───────────┤\n",
            "│ E   │ 0.0808857 │\n",
            "├─────┼───────────┤\n",
            "│ F   │ 0.0390871 │\n",
            "├─────┼───────────┤\n",
            "│ G   │ 0.0161695 │\n",
            "├─────┼───────────┤\n",
            "│ H   │ 0.0161695 │\n",
            "├─────┼───────────┤\n",
            "│ I   │ 0.0161695 │\n",
            "├─────┼───────────┤\n",
            "│ J   │ 0.0161695 │\n",
            "├─────┼───────────┤\n",
            "│ K   │ 0.0161695 │\n",
            "╘═════╧═══════════╛\n",
            "\n"
          ]
        },
        {
          "data": {
            "image/png": "[encoded data removed]",
            "text/plain": [
              "<Figure size 432x288 with 1 Axes>"
            ]
          },
          "metadata": {
            "needs_background": "light"
          },
          "output_type": "display_data"
        }
      ],
      "source": [
        "variable_remap = {\n",
        "    \"P_next\": \"P\"\n",
        "}\n",
        "\n",
        "# We set all states with equal initial probabilities\n",
        "startPageRank = Factor(('P',), outcomePageRank)\n",
        "startPageRank['A'] = 1/11\n",
        "startPageRank['B'] = 1/11\n",
        "startPageRank['C'] = 1/11\n",
        "startPageRank['D'] = 1/11\n",
        "startPageRank['E'] = 1/11\n",
        "startPageRank['F'] = 1/11\n",
        "startPageRank['G'] = 1/11\n",
        "startPageRank['H'] = 1/11\n",
        "startPageRank['I'] = 1/11\n",
        "startPageRank['J'] = 1/11\n",
        "startPageRank['K'] = 1/11\n",
        "\n",
        "pageRankTransition = createTransitionTable(page_graph, outcomePageRank)\n",
        "\n",
        "mm = MarkovModel(startPageRank, pageRankTransition, variable_remap)\n",
        "errors, page_rank = mm.forwardUntilConvergence()\n",
        "print(page_rank)\n",
        "plt.plot(errors, 'ro')\n",
        "plt.show()"
      ]
    },
    {
      "cell_type": "markdown",
      "metadata": {
        "id": "ocw0KNl8c1Y3"
      },
      "source": [
        "We can use ``GraphViz`` to visualise the results of the PageRank algorithm implementation. The next cell tries to mimic the Wikipedia figure."
      ]
    },
    {
      "cell_type": "code",
      "execution_count": 16,
      "metadata": {
        "id": "exphW-Qcc1Y3",
        "outputId": "92dc486b-3f87-4409-ec89-31ca073c359e"
      },
      "outputs": [
        {
          "data": {
            "image/svg+xml": "<?xml version=\"1.0\" encoding=\"UTF-8\" standalone=\"no\"?>\r\n<!DOCTYPE svg PUBLIC \"-//W3C//DTD SVG 1.1//EN\"\r\n \"http://www.w3.org/Graphics/SVG/1.1/DTD/svg11.dtd\">\r\n<!-- Generated by graphviz version 2.38.0 (20140413.2041)\r\n -->\r\n<!-- Title: %3 Pages: 1 -->\r\n<svg width=\"312pt\" height=\"186pt\"\r\n viewBox=\"0.00 0.00 312.02 185.75\" xmlns=\"http://www.w3.org/2000/svg\" xmlns:xlink=\"http://www.w3.org/1999/xlink\">\r\n<g id=\"graph0\" class=\"graph\" transform=\"scale(1 1) rotate(0) translate(160.649 104.15)\">\r\n<title>%3</title>\r\n<polygon fill=\"white\" stroke=\"none\" points=\"-160.649,81.6024 -160.649,-104.15 151.367,-104.15 151.367,81.6024 -160.649,81.6024\"/>\r\n<!-- A -->\r\n<g id=\"node1\" class=\"node\"><title>A</title>\r\n<ellipse fill=\"none\" stroke=\"black\" cx=\"-129.649\" cy=\"-73.2801\" rx=\"27\" ry=\"26.7407\"/>\r\n<text text-anchor=\"middle\" x=\"-129.649\" y=\"-77.0801\" font-family=\"Times New Roman,serif\" font-size=\"14.00\">A</text>\r\n<text text-anchor=\"middle\" x=\"-129.649\" y=\"-62.0801\" font-family=\"Times New Roman,serif\" font-size=\"14.00\">3.3</text>\r\n</g>\r\n<!-- B -->\r\n<g id=\"node2\" class=\"node\"><title>B</title>\r\n<ellipse fill=\"none\" stroke=\"black\" cx=\"-5.63693\" cy=\"-73.2801\" rx=\"28.9828\" ry=\"26.7407\"/>\r\n<text text-anchor=\"middle\" x=\"-5.63693\" y=\"-77.0801\" font-family=\"Times New Roman,serif\" font-size=\"14.00\">B</text>\r\n<text text-anchor=\"middle\" x=\"-5.63693\" y=\"-62.0801\" font-family=\"Times New Roman,serif\" font-size=\"14.00\">38.4</text>\r\n</g>\r\n<!-- C -->\r\n<g id=\"node3\" class=\"node\"><title>C</title>\r\n<ellipse fill=\"none\" stroke=\"black\" cx=\"118.375\" cy=\"-73.2801\" rx=\"28.9828\" ry=\"26.7407\"/>\r\n<text text-anchor=\"middle\" x=\"118.375\" y=\"-77.0801\" font-family=\"Times New Roman,serif\" font-size=\"14.00\">C</text>\r\n<text text-anchor=\"middle\" x=\"118.375\" y=\"-62.0801\" font-family=\"Times New Roman,serif\" font-size=\"14.00\">34.3</text>\r\n</g>\r\n<!-- B&#45;&gt;C -->\r\n<g id=\"edge1\" class=\"edge\"><title>B&#45;&gt;C</title>\r\n<path fill=\"none\" stroke=\"black\" d=\"M22.814,-79.061C39.75,-80.1485 61.4652,-80.3207 79.9144,-79.5775\"/>\r\n<polygon fill=\"black\" stroke=\"black\" points=\"80.2513,-83.0648 90.0569,-79.0524 79.8893,-76.0742 80.2513,-83.0648\"/>\r\n</g>\r\n<!-- C&#45;&gt;B -->\r\n<g id=\"edge2\" class=\"edge\"><title>C&#45;&gt;B</title>\r\n<path fill=\"none\" stroke=\"black\" d=\"M89.9245,-67.4992C72.9886,-66.4116 51.2734,-66.2394 32.8242,-66.9826\"/>\r\n<polygon fill=\"black\" stroke=\"black\" points=\"32.4873,-63.4953 22.6816,-67.5077 32.8492,-70.4859 32.4873,-63.4953\"/>\r\n</g>\r\n<!-- D -->\r\n<g id=\"node4\" class=\"node\"><title>D</title>\r\n<ellipse fill=\"none\" stroke=\"black\" cx=\"-129.649\" cy=\"-11.2739\" rx=\"27\" ry=\"26.7407\"/>\r\n<text text-anchor=\"middle\" x=\"-129.649\" y=\"-15.0739\" font-family=\"Times New Roman,serif\" font-size=\"14.00\">D</text>\r\n<text text-anchor=\"middle\" x=\"-129.649\" y=\"-0.0738562\" font-family=\"Times New Roman,serif\" font-size=\"14.00\">3.9</text>\r\n</g>\r\n<!-- D&#45;&gt;A -->\r\n<g id=\"edge4\" class=\"edge\"><title>D&#45;&gt;A</title>\r\n<path fill=\"none\" stroke=\"black\" d=\"M-129.649,-38.2903C-129.649,-38.4535 -129.649,-38.6168 -129.649,-38.7803\"/>\r\n<polygon fill=\"black\" stroke=\"black\" points=\"-133.149,-36.1621 -129.649,-46.1622 -126.149,-36.1622 -133.149,-36.1621\"/>\r\n</g>\r\n<!-- D&#45;&gt;B -->\r\n<g id=\"edge3\" class=\"edge\"><title>D&#45;&gt;B</title>\r\n<path fill=\"none\" stroke=\"black\" d=\"M-105.444,-23.3765C-86.9839,-32.6066 -61.2954,-45.4508 -40.6031,-55.797\"/>\r\n<polygon fill=\"black\" stroke=\"black\" points=\"-42.0008,-59.0112 -31.4913,-60.3529 -38.8703,-52.7502 -42.0008,-59.0112\"/>\r\n</g>\r\n<!-- E -->\r\n<g id=\"node5\" class=\"node\"><title>E</title>\r\n<ellipse fill=\"none\" stroke=\"black\" cx=\"56.3693\" cy=\"-11.2739\" rx=\"27\" ry=\"26.7407\"/>\r\n<text text-anchor=\"middle\" x=\"56.3693\" y=\"-15.0739\" font-family=\"Times New Roman,serif\" font-size=\"14.00\">E</text>\r\n<text text-anchor=\"middle\" x=\"56.3693\" y=\"-0.0738562\" font-family=\"Times New Roman,serif\" font-size=\"14.00\">8.1</text>\r\n</g>\r\n<!-- E&#45;&gt;B -->\r\n<g id=\"edge5\" class=\"edge\"><title>E&#45;&gt;B</title>\r\n<path fill=\"none\" stroke=\"black\" d=\"M37.09,-30.5531C32.2173,-35.4258 26.8915,-40.7516 21.7044,-45.9388\"/>\r\n<polygon fill=\"black\" stroke=\"black\" points=\"18.869,-43.8244 14.2728,-53.3703 23.8188,-48.7741 18.869,-43.8244\"/>\r\n</g>\r\n<!-- E&#45;&gt;D -->\r\n<g id=\"edge6\" class=\"edge\"><title>E&#45;&gt;D</title>\r\n<path fill=\"none\" stroke=\"black\" d=\"M29.3206,-11.2739C-2.77867,-11.2739 -56.473,-11.2739 -92.4648,-11.2739\"/>\r\n<polygon fill=\"black\" stroke=\"black\" points=\"-92.568,-7.77396 -102.568,-11.2739 -92.568,-14.774 -92.568,-7.77396\"/>\r\n</g>\r\n<!-- F -->\r\n<g id=\"node6\" class=\"node\"><title>F</title>\r\n<ellipse fill=\"none\" stroke=\"black\" cx=\"118.375\" cy=\"-11.2739\" rx=\"27\" ry=\"26.7407\"/>\r\n<text text-anchor=\"middle\" x=\"118.375\" y=\"-15.0739\" font-family=\"Times New Roman,serif\" font-size=\"14.00\">F</text>\r\n<text text-anchor=\"middle\" x=\"118.375\" y=\"-0.0738562\" font-family=\"Times New Roman,serif\" font-size=\"14.00\">3.9</text>\r\n</g>\r\n<!-- E&#45;&gt;F -->\r\n<g id=\"edge7\" class=\"edge\"><title>E&#45;&gt;F</title>\r\n<path fill=\"none\" stroke=\"black\" d=\"M82.6655,-17.9542C82.7604,-17.9571 82.8553,-17.9598 82.9504,-17.9625\"/>\r\n<polygon fill=\"black\" stroke=\"black\" points=\"81.8409,-21.4627 91.8404,-17.9612 81.8398,-14.4627 81.8409,-21.4627\"/>\r\n</g>\r\n<!-- F&#45;&gt;B -->\r\n<g id=\"edge8\" class=\"edge\"><title>F&#45;&gt;B</title>\r\n<path fill=\"none\" stroke=\"black\" d=\"M94.1702,-23.3765C75.7101,-32.6066 50.0216,-45.4508 29.3292,-55.797\"/>\r\n<polygon fill=\"black\" stroke=\"black\" points=\"27.5964,-52.7502 20.2174,-60.3529 30.727,-59.0112 27.5964,-52.7502\"/>\r\n</g>\r\n<!-- F&#45;&gt;E -->\r\n<g id=\"edge9\" class=\"edge\"><title>F&#45;&gt;E</title>\r\n<path fill=\"none\" stroke=\"black\" d=\"M92.0793,-4.59348C91.9844,-4.59066 91.8894,-4.58791 91.7944,-4.58526\"/>\r\n<polygon fill=\"black\" stroke=\"black\" points=\"92.9038,-1.08499 82.9044,-4.58655 92.9049,-8.08499 92.9038,-1.08499\"/>\r\n</g>\r\n<!-- G -->\r\n<g id=\"node7\" class=\"node\"><title>G</title>\r\n<ellipse fill=\"none\" stroke=\"black\" cx=\"-129.649\" cy=\"50.7324\" rx=\"27\" ry=\"26.7407\"/>\r\n<text text-anchor=\"middle\" x=\"-129.649\" y=\"46.9324\" font-family=\"Times New Roman,serif\" font-size=\"14.00\">G</text>\r\n<text text-anchor=\"middle\" x=\"-129.649\" y=\"61.9324\" font-family=\"Times New Roman,serif\" font-size=\"14.00\">1.6</text>\r\n</g>\r\n<!-- G&#45;&gt;B -->\r\n<g id=\"edge10\" class=\"edge\"><title>G&#45;&gt;B</title>\r\n<path fill=\"none\" stroke=\"black\" d=\"M-110.544,31.6272C-89.6997,10.7827 -56.1682,-22.7488 -32.6385,-46.2785\"/>\r\n<polygon fill=\"black\" stroke=\"black\" points=\"-34.9251,-48.9416 -25.3792,-53.5378 -29.9754,-43.9919 -34.9251,-48.9416\"/>\r\n</g>\r\n<!-- G&#45;&gt;E -->\r\n<g id=\"edge11\" class=\"edge\"><title>G&#45;&gt;E</title>\r\n<path fill=\"none\" stroke=\"black\" d=\"M-103.784,42.1107C-71.299,31.2822 -15.4147,12.6541 21.0038,0.514639\"/>\r\n<polygon fill=\"black\" stroke=\"black\" points=\"20.1302,-2.88343 30.7239,-2.72538 22.3438,3.75735 20.1302,-2.88343\"/>\r\n</g>\r\n<!-- H -->\r\n<g id=\"node8\" class=\"node\"><title>H</title>\r\n<ellipse fill=\"none\" stroke=\"black\" cx=\"-67.6431\" cy=\"50.7324\" rx=\"27\" ry=\"26.7407\"/>\r\n<text text-anchor=\"middle\" x=\"-67.6431\" y=\"46.9324\" font-family=\"Times New Roman,serif\" font-size=\"14.00\">H</text>\r\n<text text-anchor=\"middle\" x=\"-67.6431\" y=\"61.9324\" font-family=\"Times New Roman,serif\" font-size=\"14.00\">1.6</text>\r\n</g>\r\n<!-- H&#45;&gt;B -->\r\n<g id=\"edge12\" class=\"edge\"><title>H&#45;&gt;B</title>\r\n<path fill=\"none\" stroke=\"black\" d=\"M-55.5405,26.5271C-46.1271,7.7002 -32.9544,-18.6452 -22.5064,-39.5412\"/>\r\n<polygon fill=\"black\" stroke=\"black\" points=\"-25.5236,-41.333 -17.9209,-48.7121 -19.2626,-38.2025 -25.5236,-41.333\"/>\r\n</g>\r\n<!-- H&#45;&gt;E -->\r\n<g id=\"edge13\" class=\"edge\"><title>H&#45;&gt;E</title>\r\n<path fill=\"none\" stroke=\"black\" d=\"M-43.4379,38.6297C-24.4887,29.1551 2.07684,15.8724 23.0368,5.39239\"/>\r\n<polygon fill=\"black\" stroke=\"black\" points=\"21.7155,2.13993 32.2251,0.798237 24.8461,8.40093 21.7155,2.13993\"/>\r\n</g>\r\n<!-- I -->\r\n<g id=\"node9\" class=\"node\"><title>I</title>\r\n<ellipse fill=\"none\" stroke=\"black\" cx=\"-5.63693\" cy=\"50.7324\" rx=\"27\" ry=\"26.7407\"/>\r\n<text text-anchor=\"middle\" x=\"-5.63693\" y=\"46.9324\" font-family=\"Times New Roman,serif\" font-size=\"14.00\">I</text>\r\n<text text-anchor=\"middle\" x=\"-5.63693\" y=\"61.9324\" font-family=\"Times New Roman,serif\" font-size=\"14.00\">1.6</text>\r\n</g>\r\n<!-- I&#45;&gt;B -->\r\n<g id=\"edge14\" class=\"edge\"><title>I&#45;&gt;B</title>\r\n<path fill=\"none\" stroke=\"black\" d=\"M-5.63693,23.8235C-5.63693,6.39284 -5.63693,-16.5552 -5.63693,-35.7661\"/>\r\n<polygon fill=\"black\" stroke=\"black\" points=\"-9.13683,-35.9954 -5.63693,-45.9955 -2.13683,-35.9955 -9.13683,-35.9954\"/>\r\n</g>\r\n<!-- I&#45;&gt;E -->\r\n<g id=\"edge15\" class=\"edge\"><title>I&#45;&gt;E</title>\r\n<path fill=\"none\" stroke=\"black\" d=\"M13.6423,31.4531C18.8239,26.2715 24.5178,20.5776 30.0125,15.0829\"/>\r\n<polygon fill=\"black\" stroke=\"black\" points=\"27.7689,12.3767 37.3149,7.7805 32.7187,17.3265 27.7689,12.3767\"/>\r\n</g>\r\n<!-- J -->\r\n<g id=\"node10\" class=\"node\"><title>J</title>\r\n<ellipse fill=\"none\" stroke=\"black\" cx=\"56.3693\" cy=\"50.7324\" rx=\"27\" ry=\"26.7407\"/>\r\n<text text-anchor=\"middle\" x=\"56.3693\" y=\"46.9324\" font-family=\"Times New Roman,serif\" font-size=\"14.00\">J</text>\r\n<text text-anchor=\"middle\" x=\"56.3693\" y=\"61.9324\" font-family=\"Times New Roman,serif\" font-size=\"14.00\">1.6</text>\r\n</g>\r\n<!-- J&#45;&gt;E -->\r\n<g id=\"edge16\" class=\"edge\"><title>J&#45;&gt;E</title>\r\n<path fill=\"none\" stroke=\"black\" d=\"M56.3693,23.7159C56.3693,23.5527 56.3693,23.3894 56.3693,23.2259\"/>\r\n<polygon fill=\"black\" stroke=\"black\" points=\"52.8694,25.8441 56.3693,15.844 59.8694,25.844 52.8694,25.8441\"/>\r\n</g>\r\n<!-- K -->\r\n<g id=\"node11\" class=\"node\"><title>K</title>\r\n<ellipse fill=\"none\" stroke=\"black\" cx=\"118.375\" cy=\"50.7324\" rx=\"27\" ry=\"26.7407\"/>\r\n<text text-anchor=\"middle\" x=\"118.375\" y=\"46.9324\" font-family=\"Times New Roman,serif\" font-size=\"14.00\">K</text>\r\n<text text-anchor=\"middle\" x=\"118.375\" y=\"61.9324\" font-family=\"Times New Roman,serif\" font-size=\"14.00\">1.6</text>\r\n</g>\r\n<!-- K&#45;&gt;E -->\r\n<g id=\"edge17\" class=\"edge\"><title>K&#45;&gt;E</title>\r\n<path fill=\"none\" stroke=\"black\" d=\"M99.0962,31.4531C93.9147,26.2715 88.2208,20.5776 82.7261,15.0829\"/>\r\n<polygon fill=\"black\" stroke=\"black\" points=\"80.0198,17.3265 75.4236,7.7805 84.9696,12.3767 80.0198,17.3265\"/>\r\n</g>\r\n</g>\r\n</svg>\r\n",
            "text/plain": [
              "<graphviz.dot.Digraph at 0x227c25b9588>"
            ]
          },
          "execution_count": 16,
          "metadata": {},
          "output_type": "execute_result"
        }
      ],
      "source": [
        "dot = Digraph(engine=\"neato\", comment='PageRank Markov chain')\n",
        "dot.attr(overlap=\"false\", splines=\"false\", strict=\"true\")\n",
        "\n",
        "pos = {\n",
        "    'A': '0,2!',\n",
        "    'B': '2,2!',\n",
        "    'C': '4,2!',\n",
        "    'D': '0,1!',\n",
        "    'E': '3,1!',\n",
        "    'F': '4,1!',\n",
        "    'G': '0,0!',\n",
        "    'H': '1,0!',\n",
        "    'I': '2,0!',\n",
        "    'J': '3,0!',\n",
        "    'K': '4,0!',\n",
        "}\n",
        "\n",
        "for v in page_graph:\n",
        "    dot.node(v, pos=pos[v], label=v+'\\n'+str(round(page_rank[v]*100,1)))\n",
        "\n",
        "for v in page_graph:\n",
        "    for w in page_graph.children(v):\n",
        "        dot.edge(v, w)\n",
        "\n",
        "dot"
      ]
    },
    {
      "cell_type": "markdown",
      "metadata": {
        "id": "NDexAMHic1Y3"
      },
      "source": [
        "![](https://github.com/UNSW-COMP9418/Week05/blob/main/img/page_rank.png?raw=1)"
      ]
    },
    {
      "cell_type": "markdown",
      "metadata": {
        "id": "cL33iciqc1Y4"
      },
      "source": [
        "## Hidden Markov Models (HMMs)\n",
        "\n",
        "We now turn our attention to HMMs. These are popular dynamic Bayesian Networks. We will implement the forward and Viterbi algorithms and verify how these algorithms provide answers to the questions on the theory part of this tutorial.\n",
        "\n",
        "We start with the forward algorithm. According to the lecture slides, the forward algorithm for HMMs has the following form:\n",
        "\n",
        "1. The transition step is similar to Markov chains. In this step, we have a passage of time and the distribution moves towards the stationary distribution.\n",
        "\n",
        "    $P(x_t|e_{1:t-1}) = \\sum_{x_{t-1}}P(x_{t-1}|e_{1:t-1})P(x_t|x_{t-1})$\n",
        "\n",
        "    where, $P(x_t|e_{1:t-1})$ is the current state before observing the evidence $e_t$. $P(x_{t-1}|e_{1:t-1})$ is the previous state and $P(x_t|x_{t-1})$ is the transition probability.\n",
        "\n",
        "\n",
        "2. The emission step has the following form:\n",
        "\n",
        "    $P(x_t|e_{1:t}) \\propto P(x_t|e_{1:t-1})P(e_t|x_t)$\n",
        "\n",
        "    where, $P(x_t|e_{1:t-1})$ is the current state after observing the evidence $e_t$. $P(x_t|e_{1:t-1})$ is the current state before observing de evidence (obtained in the previous step) and $P(e_t|x_t)$ is the emission probability.\n",
        "\n",
        "\n",
        "The symbol $\\propto$ means that the emission step requires a normalization. The normalization is necessary because we are omitting the denominator in the emission update. The denominator is the probability of the evidence, which we frequently do not have readily available. Although we can compute such quantity, the normalization is usually easier to calculate.\n",
        "\n",
        "### Exercise\n",
        "\n",
        "Let's implement the forward algorithm for HMMs. "
      ]
    },
    {
      "cell_type": "markdown",
      "metadata": {
        "id": "TZWzajeNc1Y4"
      },
      "source": [
        "To make this function more flexible, we will allow the user to pass an empty emission value. This means that no evidence was observed in this step. Also, the renormalization will be optional, so we will keep it commented for now."
      ]
    },
    {
      "cell_type": "code",
      "execution_count": 17,
      "metadata": {
        "id": "LCC9az41c1Y4"
      },
      "outputs": [],
      "source": [
        "# Answer\n",
        "\n",
        "class HiddenMarkovModel():\n",
        "    def __init__(self, start_state, transition, emission, variable_remap):\n",
        "        '''\n",
        "        Takes 3 arguments:\n",
        "        - start_state: a factor representing the start state. E.g. domain might be ('A', 'B', 'C')\n",
        "        - transition: a factor that represents the transition probs. E.g. P('A_next', 'B_next', 'C_next' | 'A', 'B', 'C')\n",
        "        - emission: emission probabilities. E.g. P('O' | 'A', 'B', 'C')\n",
        "        - variable_remap: a dictionary that maps new variable names to old variable names,\n",
        "                            to reset the state after transition. E.g. {'A_next':'A', 'B_next':'B', 'C_next':'C'}\n",
        "        '''\n",
        "        self.state = start_state\n",
        "        self.transition = transition\n",
        "        self.emission = emission\n",
        "        self.remap = variable_remap\n",
        "\n",
        "        self.history = []\n",
        "        self.prev_history = []\n",
        "\n",
        "    def forward(self, **emission_evi):\n",
        "        # get state vars (to be marginalized later)\n",
        "        state_vars = self.state.domain\n",
        "\n",
        "        # join with transition factor\n",
        "        f = self.state*self.transition\n",
        "\n",
        "        # marginalize out old state vars, leaving only new state vars\n",
        "        for var in state_vars:\n",
        "            f = f.marginalize(var)\n",
        "\n",
        "        # remap variables to their original names\n",
        "        f.domain = tuple(self.remap[var] for var in f.domain)\n",
        "        self.state = f\n",
        "\n",
        "        # set emission evidence\n",
        "        emissionFactor = self.emission.evidence(**emission_evi)\n",
        "\n",
        "        # join with state factor\n",
        "        f = self.state*emissionFactor\n",
        "\n",
        "        # marginalize out emission vars\n",
        "        for var in f.domain:\n",
        "            if var not in state_vars:\n",
        "                f = f.marginalize(var)\n",
        "        self.state = f\n",
        "\n",
        "        # normalize state (keep commented out for now)\n",
        "        # self.state = self.state.normalize()\n",
        "\n",
        "        return self.state"
      ]
    },
    {
      "cell_type": "markdown",
      "metadata": {
        "id": "HEqA3Lftc1Y4"
      },
      "source": [
        "Let's use the weather example from the lecture to test our implementation. In this example, a graduate student tries to figure out the current weather state by observing this advisor carrying an umbrella.\n",
        "\n",
        "These are the transition and emission probabilities:"
      ]
    },
    {
      "cell_type": "code",
      "execution_count": 18,
      "metadata": {
        "id": "Z4qb1sGic1Y4",
        "outputId": "d0135c78-7cf5-4d45-ca2e-39c8e7d959d6"
      },
      "outputs": [
        {
          "name": "stdout",
          "output_type": "stream",
          "text": [
            "╒═══════════╤══════╕\n",
            "│ Weather   │   Pr │\n",
            "╞═══════════╪══════╡\n",
            "│ sun       │ 0.1  │\n",
            "├───────────┼──────┤\n",
            "│ rain      │ 0.45 │\n",
            "╘═══════════╧══════╛\n",
            "\n",
            "╒═══════════╤══════╕\n",
            "│ Weather   │   Pr │\n",
            "╞═══════════╪══════╡\n",
            "│ sun       │  0.5 │\n",
            "├───────────┼──────┤\n",
            "│ rain      │  0.5 │\n",
            "╘═══════════╧══════╛\n",
            "\n"
          ]
        }
      ],
      "source": [
        "##################\n",
        "# Test code\n",
        "\n",
        "from collections import OrderedDict as odict\n",
        "\n",
        "# possible outcomes, by variable\n",
        "outcomeSpace = {\n",
        "    'Weather':('sun','rain'),\n",
        "    'Weather_next':('sun','rain'),\n",
        "    'Umbrella': ('umbrella', 'no_umbrella'),\n",
        "}\n",
        "\n",
        "weatherStart = Factor(('Weather',), outcomeSpace)\n",
        "weatherStart['sun'] = 0.5\n",
        "weatherStart['rain'] = 0.5\n",
        "weatherTransition = Factor(('Weather', 'Weather_next'), outcomeSpace)\n",
        "weatherTransition['sun', 'sun'] = 0.7\n",
        "weatherTransition['sun', 'rain'] = 0.3\n",
        "weatherTransition['rain', 'sun'] = 0.3\n",
        "weatherTransition['rain', 'rain'] = 0.7\n",
        "weatherEmission = Factor(('Weather', 'Umbrella'), outcomeSpace)\n",
        "weatherEmission['sun', 'umbrella'] = 0.2\n",
        "weatherEmission['sun', 'no_umbrella'] = 0.8\n",
        "weatherEmission['rain', 'umbrella'] = 0.9\n",
        "weatherEmission['rain', 'no_umbrella'] = 0.1\n",
        "\n",
        "variable_remap = {\n",
        "    'Weather_next': 'Weather'\n",
        "}\n",
        "\n",
        "hmm = HiddenMarkovModel(weatherStart, weatherTransition, weatherEmission, variable_remap)\n",
        "print(hmm.forward(Umbrella='umbrella'))\n",
        "\n",
        "hmm = HiddenMarkovModel(weatherStart, weatherTransition, weatherEmission, variable_remap)\n",
        "print(hmm.forward())"
      ]
    },
    {
      "cell_type": "markdown",
      "metadata": {
        "id": "kSUTaKKTc1Y5"
      },
      "source": [
        "If you implemented your code correctly, you should see an output like this:\n",
        "\n",
        "```\n",
        "╒═══════════╤══════╕\n",
        "│ Weather   │   Pr │\n",
        "╞═══════════╪══════╡\n",
        "│ sun       │ 0.1  │\n",
        "├───────────┼──────┤\n",
        "│ rain      │ 0.45 │\n",
        "╘═══════════╧══════╛\n",
        "\n",
        "╒═══════════╤══════╕\n",
        "│ Weather   │   Pr │\n",
        "╞═══════════╪══════╡\n",
        "│ sun       │  0.5 │\n",
        "├───────────┼──────┤\n",
        "│ rain      │  0.5 │\n",
        "╘═══════════╧══════╛\n",
        "```"
      ]
    },
    {
      "cell_type": "markdown",
      "metadata": {
        "id": "lklJSs40c1Y6"
      },
      "source": [
        "### Exercise\n",
        "\n",
        "Let's now implement the batch version of the forward algorithm. The batch version takes as input a sequence of `n` observations and outputs an array of length `n` with the state distribution at each time step.\n",
        "\n",
        "We have created a stub for you. You should pass as argument a list of evidence observations. Call the online version of the algorithm as many times as you have items in the emissionEviList."
      ]
    },
    {
      "cell_type": "code",
      "execution_count": 19,
      "metadata": {
        "id": "S_C2L_bLc1Y6"
      },
      "outputs": [],
      "source": [
        "# Answer\n",
        "\n",
        "class HiddenMarkovModel(HiddenMarkovModel):\n",
        "    def forwardBatch(self, n, **emission_evi):\n",
        "        '''\n",
        "        emission_evi: A dictionary of lists, each list containing the evidence list for a variable. \n",
        "                         Use `None` if no evidence for that timestep\n",
        "        '''\n",
        "        history = []\n",
        "        for i in range(n):\n",
        "            # select evidence for this timestep\n",
        "            evi_dict = dict([(key, value[i]) for key, value in emission_evi.items() if value[i] is not None])\n",
        "            \n",
        "            # take a step forward\n",
        "            state = self.forward(**evi_dict)\n",
        "            history.append(state)\n",
        "        return history"
      ]
    },
    {
      "cell_type": "code",
      "execution_count": 20,
      "metadata": {
        "id": "Q6qlQlq1c1Y6",
        "outputId": "fbe0855a-e0cc-44a2-a0ed-1c41cdf2f319"
      },
      "outputs": [
        {
          "name": "stdout",
          "output_type": "stream",
          "text": [
            "Time:  0\n",
            "╒═══════════╤══════╕\n",
            "│ Weather   │   Pr │\n",
            "╞═══════════╪══════╡\n",
            "│ sun       │ 0.1  │\n",
            "├───────────┼──────┤\n",
            "│ rain      │ 0.45 │\n",
            "╘═══════════╧══════╛\n",
            "\n",
            "\n",
            "Time:  1\n",
            "╒═══════════╤════════╕\n",
            "│ Weather   │     Pr │\n",
            "╞═══════════╪════════╡\n",
            "│ sun       │ 0.041  │\n",
            "├───────────┼────────┤\n",
            "│ rain      │ 0.3105 │\n",
            "╘═══════════╧════════╛\n",
            "\n",
            "\n"
          ]
        }
      ],
      "source": [
        "hmm = HiddenMarkovModel(weatherStart, weatherTransition, weatherEmission, variable_remap)\n",
        "timeLine = hmm.forwardBatch(2, Umbrella=['umbrella', 'umbrella'])\n",
        "for t in range(len(timeLine)):\n",
        "    print(\"Time: \", t)\n",
        "    print(timeLine[t])\n",
        "    print()"
      ]
    },
    {
      "cell_type": "markdown",
      "metadata": {
        "id": "2u_rIFUxc1Y7"
      },
      "source": [
        "If your implementation is correct. You should see an output like this one:\n",
        "\n",
        "```\n",
        "Time:  0\n",
        "╒═══════════╤══════╕\n",
        "│ Weather   │   Pr │\n",
        "╞═══════════╪══════╡\n",
        "│ sun       │ 0.1  │\n",
        "├───────────┼──────┤\n",
        "│ rain      │ 0.45 │\n",
        "╘═══════════╧══════╛\n",
        "\n",
        "\n",
        "Time:  1\n",
        "╒═══════════╤════════╕\n",
        "│ Weather   │     Pr │\n",
        "╞═══════════╪════════╡\n",
        "│ sun       │ 0.041  │\n",
        "├───────────┼────────┤\n",
        "│ rain      │ 0.3105 │\n",
        "╘═══════════╧════════╛\n",
        "\n",
        "```"
      ]
    },
    {
      "cell_type": "markdown",
      "metadata": {
        "id": "USNzmOltc1Y7"
      },
      "source": [
        "Now, let's implement the Viterbi algorithm. The Viterbi algorithm provides answers to queries in the form of the most likely explanation (MLE). In other words, the output will be the most likely instantiation for each of the hidden states.\n",
        "\n",
        "According to the course slides, the Viterbi algorithm has the following equations:\n",
        "\n",
        "$m_t[x_t] = P(e_t|x_t) max_{x_{t-1}}P(x_t|x_{t-1})m_{t-1}[x_{t-1}]$\n",
        "\n",
        "where, \n",
        "\n",
        "- $m_t[x_t]$ is the MLE for time $t$.\n",
        "- $P(e_t|x_t)$ is the emission probability.\n",
        "- $P(x_t|x_{t-1})$ is the transition probability.\n",
        "- $m_{t-1}[x_{t-1}]$ is the MLE for time $t-1$."
      ]
    },
    {
      "cell_type": "markdown",
      "metadata": {
        "id": "KtJLnNMJc1Y7"
      },
      "source": [
        "### Exercise\n",
        "\n",
        "To implement the Viterbi algorithm, we will need an intermediate operation `maximize`. Such an operation is similar to `marginalize` in the sense that it will eliminate one variable of a factor. However, instead of summing out this variable, we will compute the maximum among the entries.\n",
        "\n",
        "We have created a stub for you. You will need to complete a few gaps."
      ]
    },
    {
      "cell_type": "code",
      "execution_count": 21,
      "metadata": {
        "id": "5KHJw3vTc1Y7",
        "outputId": "3c20aa26-d69f-4ce6-d840-57a800a3f0ad"
      },
      "outputs": [
        {
          "name": "stdout",
          "output_type": "stream",
          "text": [
            "╒═══════════╤══════╕\n",
            "│ Weather   │   Pr │\n",
            "╞═══════════╪══════╡\n",
            "│ sun       │  0.8 │\n",
            "├───────────┼──────┤\n",
            "│ rain      │  0.9 │\n",
            "╘═══════════╧══════╛\n",
            "\n"
          ]
        }
      ],
      "source": [
        "# Answer\n",
        "import copy\n",
        "class Factor(Factor):\n",
        "    def maximize(self, var, return_prev=False):\n",
        "        '''\n",
        "        Usage: f.maximize('B'), where 'B' is a variable name.\n",
        "        This function removes a variable from the domain, and maximizes over that variable in the table\n",
        "        '''\n",
        "        \n",
        "        # create new domain\n",
        "        new_dom = list(self.domain)\n",
        "        new_dom.remove(var) \n",
        "        \n",
        "        # remove an axis of the table by summing it out\n",
        "        axis = self.domain.index(var)\n",
        "        new_table = np.max(self.table, axis=axis)\n",
        "        \n",
        "        outputFactor = self.__class__(tuple(new_dom),self.outcomeSpace, new_table)\n",
        "\n",
        "        if return_prev:\n",
        "            prev = np.argmax(self.table, axis=axis)\n",
        "            return outputFactor, prev\n",
        "        else:\n",
        "            return outputFactor\n",
        "\n",
        "\n",
        "################\n",
        "# Test code\n",
        "\n",
        "# re-initialize the factors so that it has access to the maximize function\n",
        "weatherStart = Factor(weatherStart.domain, weatherStart.outcomeSpace, weatherStart.table)\n",
        "weatherTransition = Factor(weatherTransition.domain, weatherTransition.outcomeSpace, weatherTransition.table)\n",
        "weatherEmission = Factor(weatherEmission.domain, weatherEmission.outcomeSpace, weatherEmission.table)\n",
        "\n",
        "print(weatherEmission.maximize('Umbrella'))"
      ]
    },
    {
      "cell_type": "markdown",
      "metadata": {
        "id": "WaTF5N1qc1Y7"
      },
      "source": [
        "If your implementation is correct, you should see the following output:\n",
        "\n",
        "```\n",
        "╒═══════════╤══════╕\n",
        "│ Weather   │   Pr │\n",
        "╞═══════════╪══════╡\n",
        "│ sun       │  0.8 │\n",
        "├───────────┼──────┤\n",
        "│ rain      │  0.9 │\n",
        "╘═══════════╧══════╛\n",
        "```"
      ]
    },
    {
      "cell_type": "markdown",
      "metadata": {
        "id": "C5OD5_PBc1Y8"
      },
      "source": [
        "### Exercise\n",
        "\n",
        "Now we are in the position to implement the Viterbi algorithm. We have started the implementation and left a few details for you to fill in. As before, we will code the online version first. The online version provides the output for a single time and evidence observation increment. The batch version is a simple extension of the online algorithm."
      ]
    },
    {
      "cell_type": "code",
      "execution_count": 22,
      "metadata": {
        "id": "sBA4qsFdc1Y8",
        "outputId": "646e32b5-5eec-4cb7-d0f3-0cb2c2265490"
      },
      "outputs": [
        {
          "name": "stdout",
          "output_type": "stream",
          "text": [
            "╒═══════════╤═══════╕\n",
            "│ Weather   │    Pr │\n",
            "╞═══════════╪═══════╡\n",
            "│ sun       │ 0.07  │\n",
            "├───────────┼───────┤\n",
            "│ rain      │ 0.315 │\n",
            "╘═══════════╧═══════╛\n",
            "\n"
          ]
        }
      ],
      "source": [
        "# Answer\n",
        "\n",
        "class HiddenMarkovModel(HiddenMarkovModel):\n",
        "    def viterbi(self, **emission_evi):\n",
        "        '''\n",
        "        This function is very similar to the forward algorithm. \n",
        "        For simplicity, we will assume that there is only one state variable, and one emission variable.\n",
        "        '''\n",
        "\n",
        "        # confirm that state and emission each have 1 variable \n",
        "        assert len(self.state.domain) == 1\n",
        "        assert len(self.emission.domain) == 2\n",
        "        assert len(self.transition.domain) == 2\n",
        "\n",
        "        # get state and evidence var names (to be marginalized and maximised out later)\n",
        "        state_var_name = self.state.domain[0]\n",
        "        emission_vars = [v for v in self.emission.domain if v not in self.state.domain]\n",
        "        emission_var_name = emission_vars[0]\n",
        "\n",
        "        # join with transition factor\n",
        "        f = self.state*self.transition\n",
        "\n",
        "        # maximize out old state vars, leaving only new state vars\n",
        "        f, prev = f.maximize(state_var_name, return_prev=True)\n",
        "        self.prev_history.append(prev)\n",
        "\n",
        "        # remap variables to their original names\n",
        "        f.domain = tuple(self.remap[var] for var in f.domain)\n",
        "        self.state = f\n",
        "\n",
        "        # set emission evidence\n",
        "        emissionFactor = self.emission.evidence(**emission_evi)\n",
        "\n",
        "        # join with state factor\n",
        "        f = self.state*emissionFactor\n",
        "\n",
        "        # marginalize out emission vars\n",
        "        f = f.marginalize(emission_var_name)\n",
        "        self.state = f\n",
        "\n",
        "        # normalize state (keep commented out for now)\n",
        "        # self.state = self.state.normalize()\n",
        "\n",
        "        self.history.append(self.state)\n",
        "\n",
        "        return self.state\n",
        "\n",
        "    def viterbiBatch(self, n,  **emission_evi):\n",
        "        '''\n",
        "        emission_evi: A dictionary of lists, each list containing the evidence list for a variable. \n",
        "                         Use `None` if no evidence for that timestep\n",
        "        '''\n",
        "        for i in range(n):\n",
        "            # select evidence for this timestep\n",
        "            evi_dict = dict([(key, value[i]) for key, value in emission_evi.items() if value[i] is not None])\n",
        "            self.viterbi(**evi_dict)\n",
        "        return self.history\n",
        "\n",
        "##################\n",
        "# Test code\n",
        "\n",
        "hmm = HiddenMarkovModel(weatherStart, weatherTransition, weatherEmission, variable_remap)\n",
        "print(hmm.viterbi(Umbrella='umbrella'))\n"
      ]
    },
    {
      "cell_type": "markdown",
      "metadata": {
        "id": "P-exptFmc1Y8"
      },
      "source": [
        "If your implementation is correct, you should see the following output:\n",
        "\n",
        "```\n",
        "╒═══════════╤═══════╕\n",
        "│ Weather   │    Pr │\n",
        "╞═══════════╪═══════╡\n",
        "│ sun       │ 0.07  │\n",
        "├───────────┼───────┤\n",
        "│ rain      │ 0.315 │\n",
        "╘═══════════╧═══════╛\n",
        "```\n",
        "\n",
        "Now, we can test the batch version of the Viterbi algorithm with a simple code that runs 2 iterations and prints the timeline."
      ]
    },
    {
      "cell_type": "code",
      "execution_count": 23,
      "metadata": {
        "id": "xrJyaJwic1Y8",
        "outputId": "f21e50a1-e635-4dea-ac4c-583dc5d77238",
        "scrolled": true
      },
      "outputs": [
        {
          "name": "stdout",
          "output_type": "stream",
          "text": [
            "Time:  0\n",
            "╒═══════════╤═══════╕\n",
            "│ Weather   │    Pr │\n",
            "╞═══════════╪═══════╡\n",
            "│ sun       │ 0.07  │\n",
            "├───────────┼───────┤\n",
            "│ rain      │ 0.315 │\n",
            "╘═══════════╧═══════╛\n",
            "\n",
            "Time:  1\n",
            "╒═══════════╤═════════╕\n",
            "│ Weather   │      Pr │\n",
            "╞═══════════╪═════════╡\n",
            "│ sun       │ 0.0189  │\n",
            "├───────────┼─────────┤\n",
            "│ rain      │ 0.19845 │\n",
            "╘═══════════╧═════════╛\n",
            "\n"
          ]
        }
      ],
      "source": [
        "hmm = HiddenMarkovModel(weatherStart, weatherTransition, weatherEmission, variable_remap)\n",
        "timeLine = hmm.viterbiBatch(2, Umbrella=['umbrella', 'umbrella'])\n",
        "for t in range(len(timeLine)):\n",
        "    print(\"Time: \", t)\n",
        "    print(timeLine[t])"
      ]
    },
    {
      "cell_type": "markdown",
      "metadata": {
        "id": "UGxASl3Qc1Y9"
      },
      "source": [
        "If your implementation is correct, you should see the following output:\n",
        "\n",
        "```\n",
        "Time:  0\n",
        "╒═══════════╤═══════╕\n",
        "│ Weather   │    Pr │\n",
        "╞═══════════╪═══════╡\n",
        "│ sun       │ 0.07  │\n",
        "├───────────┼───────┤\n",
        "│ rain      │ 0.315 │\n",
        "╘═══════════╧═══════╛\n",
        "\n",
        "Time:  1\n",
        "╒═══════════╤═════════╕\n",
        "│ Weather   │      Pr │\n",
        "╞═══════════╪═════════╡\n",
        "│ sun       │ 0.0189  │\n",
        "├───────────┼─────────┤\n",
        "│ rain      │ 0.19845 │\n",
        "╘═══════════╧═════════╛\n",
        "```\n",
        "\n",
        "Before we conclude with an exercise, here are some suggestions of ways to improve the source code of this tutorial:\n",
        "\n",
        "1. The forward algorithm typically does not normalize the intermediate results. You can make this step optional with a flag. This change can also be done to the Viterbi algorithm.\n",
        "\n",
        "2. If you do not normalize, the probabilities will assume small values due to the sequence of multiplications. In this case, operating with log-probabilities will decrease the chance of having underflows.\n",
        "\n",
        "3. For simplicity, we are assuming the update steps are composed by a transition followed by emission. But it is not always the case. It would be better if these steps can be inverted or, even better, implemented independently.\n",
        "\n",
        "## Finding the MPE Assignment\n",
        "\n",
        "As we discussed in the lecture, we can find the MPE assigment from the output computed by the Viterbi algorithm. Remember, that the correct assignment is obtained when we trace back the computations, starting with the last state and move towards the first state. There are two main approaches for finding the MPE assignment:\n",
        "\n",
        "1. Use an additional data structure to store pointers indicating the path of the highest probability.\n",
        "\n",
        "2. Use the output of the Viterbi algorithm and trace back the computations.\n",
        "\n",
        "In the next cell, we provide a function to find the MPE assignment using the output of the ``viterbi`` function. We will use the first method of finding the MPE assignment."
      ]
    },
    {
      "cell_type": "code",
      "execution_count": 24,
      "metadata": {
        "id": "sb7YPjC3c1Y9",
        "outputId": "e7d5a2ef-2949-4b25-f1eb-ec96d26f4db4"
      },
      "outputs": [
        {
          "name": "stdout",
          "output_type": "stream",
          "text": [
            "['rain', 'rain']\n"
          ]
        }
      ],
      "source": [
        "class HiddenMarkovModel(HiddenMarkovModel):\n",
        "    def traceBack(self):\n",
        "        '''\n",
        "        This function iterates backwards over the history to find the most \n",
        "        likely sequence of states.\n",
        "        For simplicity, this function assumes there is one state variable\n",
        "        '''\n",
        "        # get most likely outcome of final state\n",
        "        index = np.argmax(self.history[-1].table)\n",
        "        \n",
        "        # Go through \"prev_history\" in reverse\n",
        "        indexList = []\n",
        "        for prev in reversed(self.prev_history):\n",
        "            indexList.append(index)\n",
        "            index = prev[index]\n",
        "        indexList = reversed(indexList)\n",
        "\n",
        "        # translate the indicies into the outcomes they represent\n",
        "        mleList = []\n",
        "        stateVar = self.state.domain[0]\n",
        "        for idx in indexList:\n",
        "            mleList.append(self.state.outcomeSpace[stateVar][idx]) \n",
        "        return mleList\n",
        "\n",
        "####################\n",
        "## Test code\n",
        "\n",
        "hmm = HiddenMarkovModel(weatherStart, weatherTransition, weatherEmission, variable_remap)\n",
        "timeLine = hmm.viterbiBatch(2, Umbrella=['umbrella', 'umbrella'])\n",
        "mpe = hmm.traceBack()\n",
        "print(mpe)"
      ]
    },
    {
      "cell_type": "markdown",
      "metadata": {
        "id": "SPLV8Iuac1Y9"
      },
      "source": [
        "### Exercise\n",
        "\n",
        "You can use the implemented code to find the numerical answers to the questions of the theory part of this tutorial.\n",
        "\n",
        "### Question 1\n",
        "\n",
        "Lisa is given a fair coin $C_1$ and asked to flip it eight times in a row. Lisa also has a biased coin $C_2$ with probability 0.8 of landing heads. All we know is that Lisa flipped the fair coin initially but we believe that she intends to switch to the biased coin and that she tends to be 10% successful in performing the switch. Suppose that we observe the outcome of the eight coin flips and want to find out whether Lisa managed to perform a coin switch and when. What is the solution to this problem assuming that the flips came out as follows:\n",
        "\n",
        "    a. tails, tails, tails, heads, heads, heads, heads, heads\n",
        "    b. tails, tails, heads, heads, heads, heads, heads, heads"
      ]
    },
    {
      "cell_type": "code",
      "execution_count": 25,
      "metadata": {
        "id": "ogO4NDq2c1Y9",
        "outputId": "1a597293-d6ae-4838-8f5e-241f09465928"
      },
      "outputs": [
        {
          "name": "stdout",
          "output_type": "stream",
          "text": [
            "['fair', 'fair', 'fair', 'biased', 'biased', 'biased', 'biased', 'biased']\n",
            "╒════════╤══════╕\n",
            "│ C      │   Pr │\n",
            "╞════════╪══════╡\n",
            "│ fair   │ 0.45 │\n",
            "├────────┼──────┤\n",
            "│ biased │ 0.02 │\n",
            "╘════════╧══════╛\n",
            "\n",
            "╒════════╤════════╕\n",
            "│ C      │     Pr │\n",
            "╞════════╪════════╡\n",
            "│ fair   │ 0.2025 │\n",
            "├────────┼────────┤\n",
            "│ biased │ 0.009  │\n",
            "╘════════╧════════╛\n",
            "\n",
            "╒════════╤══════════╕\n",
            "│ C      │       Pr │\n",
            "╞════════╪══════════╡\n",
            "│ fair   │ 0.091125 │\n",
            "├────────┼──────────┤\n",
            "│ biased │ 0.00405  │\n",
            "╘════════╧══════════╛\n",
            "\n",
            "╒════════╤═══════════╕\n",
            "│ C      │        Pr │\n",
            "╞════════╪═══════════╡\n",
            "│ fair   │ 0.0410063 │\n",
            "├────────┼───────────┤\n",
            "│ biased │ 0.00729   │\n",
            "╘════════╧═══════════╛\n",
            "\n",
            "╒════════╤═══════════╕\n",
            "│ C      │        Pr │\n",
            "╞════════╪═══════════╡\n",
            "│ fair   │ 0.0184528 │\n",
            "├────────┼───────────┤\n",
            "│ biased │ 0.005832  │\n",
            "╘════════╧═══════════╛\n",
            "\n",
            "╒════════╤════════════╕\n",
            "│ C      │         Pr │\n",
            "╞════════╪════════════╡\n",
            "│ fair   │ 0.00830377 │\n",
            "├────────┼────────────┤\n",
            "│ biased │ 0.0046656  │\n",
            "╘════════╧════════════╛\n",
            "\n",
            "╒════════╤════════════╕\n",
            "│ C      │         Pr │\n",
            "╞════════╪════════════╡\n",
            "│ fair   │ 0.00373669 │\n",
            "├────────┼────────────┤\n",
            "│ biased │ 0.00373248 │\n",
            "╘════════╧════════════╛\n",
            "\n",
            "╒════════╤════════════╕\n",
            "│ C      │         Pr │\n",
            "╞════════╪════════════╡\n",
            "│ fair   │ 0.00168151 │\n",
            "├────────┼────────────┤\n",
            "│ biased │ 0.00298598 │\n",
            "╘════════╧════════════╛\n",
            "\n",
            "['fair', 'fair', 'biased', 'biased', 'biased', 'biased', 'biased', 'biased']\n",
            "╒════════╤══════╕\n",
            "│ C      │   Pr │\n",
            "╞════════╪══════╡\n",
            "│ fair   │ 0.45 │\n",
            "├────────┼──────┤\n",
            "│ biased │ 0.02 │\n",
            "╘════════╧══════╛\n",
            "\n",
            "╒════════╤════════╕\n",
            "│ C      │     Pr │\n",
            "╞════════╪════════╡\n",
            "│ fair   │ 0.2025 │\n",
            "├────────┼────────┤\n",
            "│ biased │ 0.009  │\n",
            "╘════════╧════════╛\n",
            "\n",
            "╒════════╤══════════╕\n",
            "│ C      │       Pr │\n",
            "╞════════╪══════════╡\n",
            "│ fair   │ 0.091125 │\n",
            "├────────┼──────────┤\n",
            "│ biased │ 0.0162   │\n",
            "╘════════╧══════════╛\n",
            "\n",
            "╒════════╤═══════════╕\n",
            "│ C      │        Pr │\n",
            "╞════════╪═══════════╡\n",
            "│ fair   │ 0.0410063 │\n",
            "├────────┼───────────┤\n",
            "│ biased │ 0.01296   │\n",
            "╘════════╧═══════════╛\n",
            "\n",
            "╒════════╤═══════════╕\n",
            "│ C      │        Pr │\n",
            "╞════════╪═══════════╡\n",
            "│ fair   │ 0.0184528 │\n",
            "├────────┼───────────┤\n",
            "│ biased │ 0.010368  │\n",
            "╘════════╧═══════════╛\n",
            "\n",
            "╒════════╤════════════╕\n",
            "│ C      │         Pr │\n",
            "╞════════╪════════════╡\n",
            "│ fair   │ 0.00830377 │\n",
            "├────────┼────────────┤\n",
            "│ biased │ 0.0082944  │\n",
            "╘════════╧════════════╛\n",
            "\n",
            "╒════════╤════════════╕\n",
            "│ C      │         Pr │\n",
            "╞════════╪════════════╡\n",
            "│ fair   │ 0.00373669 │\n",
            "├────────┼────────────┤\n",
            "│ biased │ 0.00663552 │\n",
            "╘════════╧════════════╛\n",
            "\n",
            "╒════════╤════════════╕\n",
            "│ C      │         Pr │\n",
            "╞════════╪════════════╡\n",
            "│ fair   │ 0.00168151 │\n",
            "├────────┼────────────┤\n",
            "│ biased │ 0.00530842 │\n",
            "╘════════╧════════════╛\n",
            "\n"
          ]
        }
      ],
      "source": [
        "# Answer\n",
        "\n",
        "outcomeSpaceLisa = {\n",
        "    \"C\":('fair','biased'),\n",
        "    \"C_next\":('fair','biased'),\n",
        "    \"U\":('heads', 'tails')\n",
        "}\n",
        "\n",
        "t = Factor(('C', 'C_next'), outcomeSpaceLisa)\n",
        "t['fair', 'fair'] = 0.9\n",
        "t['fair', 'biased'] = 0.1\n",
        "t['biased', 'fair'] = 0.0\n",
        "t['biased', 'biased'] = 1.0\n",
        "\n",
        "s = Factor(('C',), outcomeSpaceLisa)\n",
        "s['fair'] = 1.0\n",
        "s['biased'] = 0.0\n",
        "\n",
        "e = Factor(('C', 'U'), outcomeSpaceLisa)\n",
        "e['fair', 'heads'] = 0.5\n",
        "e['fair', 'tails'] = 0.5\n",
        "e['biased', 'heads'] = 0.8\n",
        "e['biased', 'tails'] = 0.2\n",
        "\n",
        "\n",
        "####################\n",
        "## Test code\n",
        "\n",
        "variable_remap = {'C_next': 'C'}\n",
        "hmm = HiddenMarkovModel(s, t, e, variable_remap)\n",
        "timeLine = hmm.viterbiBatch(8, U=('tails', 'tails', 'tails', 'heads', 'heads', 'heads', 'heads', 'heads'))\n",
        "mpe = hmm.traceBack()\n",
        "print(mpe)\n",
        "for factor in timeLine:\n",
        "    print(factor)\n",
        "\n",
        "variable_remap = {'C_next': 'C'}\n",
        "hmm = HiddenMarkovModel(s, t, e, variable_remap)\n",
        "timeLine = hmm.viterbiBatch(8, U=('tails', 'tails', 'heads', 'heads', 'heads', 'heads', 'heads', 'heads'))\n",
        "mpe = hmm.traceBack()\n",
        "print(mpe)\n",
        "for factor in timeLine:\n",
        "    print(factor)\n",
        "    "
      ]
    },
    {
      "cell_type": "markdown",
      "metadata": {
        "id": "RGVGY7dKc1Y-"
      },
      "source": [
        "### Question 2\n",
        "\n",
        "Consider a cow that may be infected with a disease that can possibly be detected by performing a milk test. The test is performed on five consecutive days, leading to five outcomes. We want to determine the state of the cow's infection over these days given the test outcomes. The prior probability of an infection on day one is 1/10,000; the test false positive rate is 5/1,000; and its false negative rate is 1/1,000. Moreover, the state of infection at a given day depends only on its state at the previous day. In particular, the probability of a new infection on a given day is 2/10,000, while the probability that an infection would persist to the next day os 7/10.\n",
        "\n",
        "What is the most likely state of the cow's infection over the five days given the following test outcomes:\n",
        "\n",
        "    a. positive, positive, negative, positive, positive\n",
        "    b. positive, negative, negative, positive, positive\n",
        "    c. positive, nagative, negative, negative, positive"
      ]
    },
    {
      "cell_type": "code",
      "execution_count": 26,
      "metadata": {
        "id": "LMfu4wJDc1Y-",
        "outputId": "9453f295-7d91-4168-acb0-db820c1620d4"
      },
      "outputs": [
        {
          "name": "stdout",
          "output_type": "stream",
          "text": [
            "['infected', 'infected', 'infected', 'infected', 'infected']\n",
            "['healthy', 'healthy', 'healthy', 'infected', 'infected']\n",
            "['healthy', 'healthy', 'healthy', 'healthy', 'healthy']\n"
          ]
        }
      ],
      "source": [
        "# Answer\n",
        "\n",
        "outcomeSpaceCow = {\n",
        "    \"Cow_next\":('healthy','infected'),\n",
        "    \"Cow\":('healthy','infected'),\n",
        "    \"Test\": ('positive', 'negative')\n",
        "}\n",
        "\n",
        "transitionCow = Factor(('Cow', 'Cow_next'), outcomeSpaceCow)\n",
        "transitionCow['healthy', 'healthy'] = 0.9998\n",
        "transitionCow['healthy', 'infected'] = 0.0002\n",
        "transitionCow['infected', 'healthy'] = 0.3\n",
        "transitionCow['infected', 'infected'] = 0.7\n",
        "\n",
        "startCow = Factor(('Cow',), outcomeSpaceCow)\n",
        "startCow['healthy'] = 0.9999\n",
        "startCow['infected'] = 0.0001\n",
        "\n",
        "evidenceCow = Factor(('Cow', 'Test'), outcomeSpaceCow)\n",
        "evidenceCow['healthy', 'positive'] = 0.005\n",
        "evidenceCow['healthy', 'negative'] = 0.995\n",
        "evidenceCow['infected', 'positive'] = 0.999\n",
        "evidenceCow['infected', 'negative'] = 0.001\n",
        "\n",
        "variable_remap = {'Cow_next': 'Cow'}\n",
        "hmm = HiddenMarkovModel(startCow, transitionCow, evidenceCow, variable_remap)\n",
        "timeLine = hmm.viterbiBatch(5, Test=('positive', 'positive', 'negative', 'positive', 'positive'))\n",
        "mpe = hmm.traceBack()\n",
        "print(mpe)\n",
        "\n",
        "hmm = HiddenMarkovModel(startCow, transitionCow, evidenceCow, variable_remap)\n",
        "timeLine = hmm.viterbiBatch(5, Test=('positive', 'negative', 'negative', 'positive', 'positive'))\n",
        "mpe = hmm.traceBack()\n",
        "print(mpe)\n",
        "\n",
        "hmm = HiddenMarkovModel(startCow, transitionCow, evidenceCow, variable_remap)\n",
        "timeLine = hmm.viterbiBatch(5, Test=('positive', 'negative', 'negative', 'negative', 'positive'))\n",
        "mpe = hmm.traceBack()\n",
        "print(mpe)\n"
      ]
    },
    {
      "cell_type": "markdown",
      "metadata": {
        "id": "DbZI8LNoc1Y-"
      },
      "source": [
        "## Final Task\n",
        "Add the `maximize` method to your DiscreteFactors.py file"
      ]
    }
  ],
  "metadata": {
    "colab": {
      "name": "COMP9418_W05_Markov_Chains_and_Hidden_Markov_Models_Solutions.ipynb",
      "provenance": []
    },
    "interpreter": {
      "hash": "6714646c7badaf138256cae83466294356a604d5a9644f8ff87d802670eeaa68"
    },
    "kernelspec": {
      "display_name": "Python 3.7.10 64-bit ('vision': conda)",
      "name": "python3"
    },
    "language_info": {
      "codemirror_mode": {
        "name": "ipython",
        "version": 3
      },
      "file_extension": ".py",
      "mimetype": "text/x-python",
      "name": "python",
      "nbconvert_exporter": "python",
      "pygments_lexer": "ipython3",
      "version": "3.7.10"
    },
    "toc": {
      "colors": {
        "hover_highlight": "#DAA520",
        "navigate_num": "#000000",
        "navigate_text": "#333333",
        "running_highlight": "#FF0000",
        "selected_highlight": "#FFD700",
        "sidebar_border": "#EEEEEE",
        "wrapper_background": "#FFFFFF"
      },
      "moveMenuLeft": true,
      "nav_menu": {
        "height": "198px",
        "width": "252px"
      },
      "navigate_menu": true,
      "number_sections": true,
      "sideBar": true,
      "threshold": 4,
      "toc_cell": false,
      "toc_section_display": "block",
      "toc_window_display": true,
      "widenNotebook": false
    }
  },
  "nbformat": 4,
  "nbformat_minor": 0
}
